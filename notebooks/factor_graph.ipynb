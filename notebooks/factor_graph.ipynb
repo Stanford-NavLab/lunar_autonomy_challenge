{
 "cells": [
  {
   "cell_type": "code",
   "execution_count": null,
   "metadata": {},
   "outputs": [],
   "source": [
    "import numpy as np\n",
    "import matplotlib.pyplot as plt\n",
    "import plotly.graph_objects as go\n",
    "import cv2 as cv\n",
    "from tqdm import tqdm\n",
    "import os\n",
    "import json\n",
    "\n",
    "from lac.utils.plotting import plot_path_3d, plot_3d_points\n",
    "from lac.utils.frames import invert_transform_mat\n",
    "\n",
    "%load_ext autoreload\n",
    "%autoreload 2"
   ]
  },
  {
   "cell_type": "code",
   "execution_count": null,
   "metadata": {},
   "outputs": [],
   "source": [
    "import symforce\n",
    "\n",
    "try:\n",
    "    symforce.set_epsilon_to_symbol()\n",
    "except symforce.AlreadyUsedEpsilon:\n",
    "    print(\"Already set symforce epsilon\")\n",
    "    pass\n",
    "import symforce.symbolic as sf\n",
    "\n",
    "from lac.localization.symforce_util import odometry_lander_relpose_fgo\n",
    "from lac.localization.imu_recovery import recover_rotation_exact, recover_translation"
   ]
  },
  {
   "cell_type": "code",
   "execution_count": null,
   "metadata": {},
   "outputs": [],
   "source": [
    "# data_path = \"../../output/imu_20hz/\" + \"data_log.json\"\n",
    "data_path = \"../../results/runs/map1_seed4_spiral_4.5_2.0_run2/data_log.json\"\n",
    "json_data = json.load(open(f\"{data_path}\"))\n",
    "\n",
    "poses = []\n",
    "imu_data = []\n",
    "\n",
    "for frame in json_data[\"frames\"]:\n",
    "    poses.append(np.array(frame[\"pose\"]))\n",
    "    imu_data.append(np.array(frame[\"imu\"]))\n",
    "\n",
    "imu_data = np.array(imu_data)\n",
    "initial_pose = np.array(json_data[\"initial_pose\"])\n",
    "lander_pose_rover = np.array(json_data[\"lander_pose_rover\"])\n",
    "lander_pose_world = initial_pose @ lander_pose_rover\n",
    "\n",
    "gt_translations = np.zeros((len(poses), 3))\n",
    "for i in range(len(poses)):\n",
    "    gt_translations[i] = poses[i][:3, 3]\n",
    "\n",
    "dt = 0.05\n",
    "times = np.arange(0, len(imu_data) * dt, dt)"
   ]
  },
  {
   "cell_type": "code",
   "execution_count": null,
   "metadata": {},
   "outputs": [],
   "source": [
    "R_prev = initial_pose[:3, :3]\n",
    "t_prev_prev = initial_pose[:3, 3]\n",
    "t_prev = initial_pose[:3, 3]"
   ]
  },
  {
   "cell_type": "markdown",
   "metadata": {},
   "source": [
    "Integrate IMU\n"
   ]
  },
  {
   "cell_type": "code",
   "execution_count": null,
   "metadata": {},
   "outputs": [],
   "source": [
    "imu_rotations = []\n",
    "imu_rotations.append(R_prev)\n",
    "\n",
    "imu_translations = []\n",
    "imu_translations.append(t_prev)\n",
    "\n",
    "for i in tqdm(range(1, len(poses))):\n",
    "    # Rotation recovery\n",
    "    omega = imu_data[i, 3:]\n",
    "    R_curr = recover_rotation_exact(R_prev, omega, dt)\n",
    "    imu_rotations.append(R_curr)\n",
    "    R_prev = R_curr\n",
    "\n",
    "    # Translation recovery\n",
    "    a = imu_data[i, :3]\n",
    "    t_curr = recover_translation(t_prev_prev, t_prev, R_curr, a, dt)\n",
    "    imu_translations.append(t_curr)\n",
    "    t_prev_prev = t_prev\n",
    "    t_prev = t_curr"
   ]
  },
  {
   "cell_type": "code",
   "execution_count": null,
   "metadata": {},
   "outputs": [],
   "source": [
    "delta_rotations = []\n",
    "delta_translations = []\n",
    "\n",
    "for i in range(1, len(poses)):\n",
    "    delta_rotations.append(imu_rotations[i] @ imu_rotations[i - 1].T)\n",
    "    delta_translations.append(imu_translations[i] - imu_translations[i - 1])"
   ]
  },
  {
   "cell_type": "code",
   "execution_count": null,
   "metadata": {},
   "outputs": [],
   "source": [
    "lander_position = lander_pose_world[:3, 3]\n",
    "\n",
    "# Lander range and bearing measurements\n",
    "lander_pose_measurements = []  # relative pose of lander in rover frame\n",
    "lander_range_measurements = []\n",
    "lander_los_measurements = []\n",
    "\n",
    "for i in range(len(poses)):\n",
    "    t_i = poses[i][:3, 3]\n",
    "    delta_t = t_i - lander_position\n",
    "    # TODO: add noise\n",
    "    lander_range_measurements.append(np.linalg.norm(delta_t))\n",
    "    lander_pose_measurements.append(invert_transform_mat(poses[i]) @ lander_pose_world)\n",
    "    lander_los_measurements.append(-delta_t / np.linalg.norm(delta_t))"
   ]
  },
  {
   "cell_type": "code",
   "execution_count": null,
   "metadata": {},
   "outputs": [],
   "source": [
    "ODOM_R_SIGMA = 0.1  # for rotations\n",
    "ODOM_T_SIGMA = 0.1  # for translations [m]\n",
    "ODOM_SIGMA = np.ones(6)\n",
    "ODOM_SIGMA[:3] *= ODOM_R_SIGMA\n",
    "ODOM_SIGMA[3:] *= ODOM_T_SIGMA\n",
    "\n",
    "LANDER_ANGLE_SIGMA = 0.0001  # [rad]\n",
    "\n",
    "LANDER_RELPOSE_SIGMA = 0.01 * np.ones(6)\n",
    "\n",
    "imu_rollout_poses = []\n",
    "imu_odometry = []\n",
    "for i in range(len(poses)):\n",
    "    pose = np.eye(4)\n",
    "    pose[:3, :3] = imu_rotations[i]\n",
    "    pose[:3, 3] = imu_translations[i]\n",
    "    imu_rollout_poses.append(pose)\n",
    "\n",
    "for i in range(len(poses) - 1):\n",
    "    imu_odom = np.eye(4)\n",
    "    imu_odom[:3, :3] = delta_rotations[i]\n",
    "    imu_odom[:3, 3] = delta_translations[i]\n",
    "    imu_odometry.append(imu_odom)\n",
    "\n",
    "gt_odometry = []\n",
    "for i in range(len(poses) - 1):\n",
    "    delta_pose = np.linalg.inv(poses[i]) @ poses[i + 1]\n",
    "    gt_odometry.append(delta_pose)"
   ]
  },
  {
   "cell_type": "code",
   "execution_count": null,
   "metadata": {},
   "outputs": [],
   "source": [
    "N_WINDOW = 40\n",
    "N_SHIFT = 10\n",
    "N = 10000\n",
    "\n",
    "\n",
    "def sliding_window_fgo():\n",
    "    init_poses = imu_rollout_poses[:N_WINDOW]\n",
    "    fgo_poses = [None] * N\n",
    "    k_max = (N - N_WINDOW) // N_SHIFT\n",
    "\n",
    "    for k in (pbar := tqdm(range(k_max))):\n",
    "        window = slice(N_SHIFT * k, N_SHIFT * k + N_WINDOW)\n",
    "        odometry = imu_odometry[window][:-1]\n",
    "        # odometry = gt_odometry[window][:-1]\n",
    "        lander_measurements = lander_pose_measurements[window]\n",
    "\n",
    "        opt_poses, result = odometry_lander_relpose_fgo(\n",
    "            init_poses,\n",
    "            lander_pose_world,\n",
    "            odometry,\n",
    "            lander_measurements,\n",
    "            ODOM_SIGMA,\n",
    "            LANDER_RELPOSE_SIGMA,\n",
    "            debug=False,\n",
    "        )\n",
    "        fgo_poses[N_SHIFT * k : N_SHIFT * (k + 1)] = opt_poses[:N_SHIFT]\n",
    "\n",
    "        init_poses[:-N_SHIFT] = opt_poses[N_SHIFT:]\n",
    "        if k != k_max - 1:\n",
    "            pose = opt_poses[-1]\n",
    "            for i in range(N_SHIFT):\n",
    "                init_poses[-N_SHIFT + i] = pose @ imu_odometry[window][-1]\n",
    "                pose = init_poses[-N_SHIFT + i]\n",
    "\n",
    "    return fgo_poses"
   ]
  },
  {
   "cell_type": "code",
   "execution_count": null,
   "metadata": {},
   "outputs": [],
   "source": [
    "fgo_poses = sliding_window_fgo()"
   ]
  },
  {
   "cell_type": "code",
   "execution_count": null,
   "metadata": {},
   "outputs": [],
   "source": [
    "# all poses not None in fgo_poses\n",
    "fgo_poses = [pose for pose in fgo_poses if pose is not None]\n",
    "N = len(fgo_poses)\n",
    "\n",
    "fgo_positions = []\n",
    "for pose in fgo_poses:\n",
    "    fgo_positions.append(pose[:3, 3])\n",
    "fgo_positions = np.array(fgo_positions)\n",
    "\n",
    "imu_positions = []\n",
    "for pose in imu_rollout_poses:\n",
    "    imu_positions.append(pose[:3, 3])\n",
    "imu_positions = np.array(imu_positions)\n",
    "\n",
    "print(\"RMSE: \", np.sqrt(np.mean((fgo_positions - gt_translations[:N]) ** 2)))\n",
    "\n",
    "fig = plot_path_3d(\n",
    "    fgo_positions[:, 0], fgo_positions[:, 1], fgo_positions[:, 2], color=\"orange\", name=\"Optimized\"\n",
    ")\n",
    "fig = plot_path_3d(\n",
    "    gt_translations[:N, 0],\n",
    "    gt_translations[:N, 1],\n",
    "    gt_translations[:N, 2],\n",
    "    fig=fig,\n",
    "    color=\"blue\",\n",
    "    name=\"Ground truth\",\n",
    ")\n",
    "fig = plot_path_3d(\n",
    "    imu_positions[:N, 0],\n",
    "    imu_positions[:N, 1],\n",
    "    imu_positions[:N, 2],\n",
    "    fig=fig,\n",
    "    color=\"green\",\n",
    "    name=\"IMU initialization\",\n",
    ")\n",
    "fig = plot_3d_points(\n",
    "    lander_position[None, :], fig=fig, color=\"red\", markersize=3, name=\"Lander Origin\"\n",
    ")\n",
    "fig.update_layout(height=700, width=1200, scene_aspectmode=\"data\")\n",
    "fig.show()"
   ]
  },
  {
   "cell_type": "code",
   "execution_count": null,
   "metadata": {},
   "outputs": [],
   "source": []
  }
 ],
 "metadata": {
  "kernelspec": {
   "display_name": "lac",
   "language": "python",
   "name": "python3"
  },
  "language_info": {
   "codemirror_mode": {
    "name": "ipython",
    "version": 3
   },
   "file_extension": ".py",
   "mimetype": "text/x-python",
   "name": "python",
   "nbconvert_exporter": "python",
   "pygments_lexer": "ipython3",
   "version": "3.10.16"
  }
 },
 "nbformat": 4,
 "nbformat_minor": 2
}
