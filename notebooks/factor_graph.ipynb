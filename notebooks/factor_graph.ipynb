{
 "cells": [
  {
   "cell_type": "code",
   "execution_count": null,
   "metadata": {},
   "outputs": [],
   "source": [
    "import numpy as np\n",
    "import matplotlib.pyplot as plt\n",
    "import plotly.graph_objects as go\n",
    "import cv2 as cv\n",
    "from tqdm import tqdm\n",
    "import os\n",
    "import json\n",
    "\n",
    "from lac.utils.plotting import plot_path_3d, plot_3d_points, plot_poses\n",
    "from lac.utils.frames import invert_transform_mat\n",
    "from lac.util import (\n",
    "    rmse,\n",
    "    get_positions_from_poses,\n",
    "    positions_rmse_from_poses,\n",
    "    rotations_rmse_from_poses,\n",
    ")\n",
    "\n",
    "%load_ext autoreload\n",
    "%autoreload 2"
   ]
  },
  {
   "cell_type": "code",
   "execution_count": null,
   "metadata": {},
   "outputs": [],
   "source": [
    "import symforce\n",
    "\n",
    "try:\n",
    "    symforce.set_epsilon_to_symbol()\n",
    "except symforce.AlreadyUsedEpsilon:\n",
    "    print(\"Already set symforce epsilon\")\n",
    "    pass\n",
    "import symforce.symbolic as sf\n",
    "\n",
    "from lac.localization.symforce_util import odometry_lander_relpose_fgo\n",
    "from lac.localization.imu_recovery import (\n",
    "    recover_rotation,\n",
    "    recover_rotation_exact,\n",
    "    recover_translation,\n",
    ")\n",
    "from lac.localization.fgo import FactorGraph"
   ]
  },
  {
   "cell_type": "markdown",
   "metadata": {},
   "source": [
    "# Symforce testing\n"
   ]
  },
  {
   "cell_type": "code",
   "execution_count": null,
   "metadata": {},
   "outputs": [],
   "source": [
    "import copy\n",
    "\n",
    "p = sf.Pose3()\n",
    "sf.Pose3(R=p.R, t=p.t)"
   ]
  },
  {
   "cell_type": "markdown",
   "metadata": {},
   "source": [
    "# Test FGO\n"
   ]
  },
  {
   "cell_type": "code",
   "execution_count": null,
   "metadata": {},
   "outputs": [],
   "source": [
    "# data_path = \"../../output/imu_20hz/\" + \"data_log.json\"\n",
    "data_path = \"../../results/runs/map1_seed4_spiral_4.5_2.0_run2/data_log.json\"\n",
    "json_data = json.load(open(f\"{data_path}\"))\n",
    "\n",
    "initial_pose = np.array(json_data[\"initial_pose\"])\n",
    "lander_pose_rover = np.array(json_data[\"lander_pose_rover\"])\n",
    "lander_pose_world = initial_pose @ lander_pose_rover\n",
    "\n",
    "poses = [initial_pose]\n",
    "imu_data = []\n",
    "for frame in json_data[\"frames\"]:\n",
    "    poses.append(np.array(frame[\"pose\"]))\n",
    "    imu_data.append(np.array(frame[\"imu\"]))\n",
    "imu_data = np.array(imu_data)\n",
    "\n",
    "gt_translations = np.zeros((len(poses), 3))\n",
    "for i in range(len(poses)):\n",
    "    gt_translations[i] = poses[i][:3, 3]\n",
    "\n",
    "dt = 0.05\n",
    "times = np.arange(0, len(imu_data) * dt, dt)"
   ]
  },
  {
   "cell_type": "code",
   "execution_count": null,
   "metadata": {},
   "outputs": [],
   "source": [
    "from lac.localization.imu_recovery import ImuEstimator\n",
    "\n",
    "imu_estimator = ImuEstimator(initial_pose)\n",
    "imu_recovery_poses = [initial_pose]\n",
    "imu_recovery_deltas = []\n",
    "gt_pose_deltas = []\n",
    "\n",
    "for i in tqdm(range(len(imu_data))):\n",
    "    imu_estimator.update(imu_data[i], exact=False)\n",
    "    imu_recovery_poses.append(imu_estimator.get_pose())\n",
    "    imu_recovery_deltas.append(imu_estimator.get_pose_delta())\n",
    "    gt_pose_deltas.append(poses[i + 1] @ invert_transform_mat(poses[i]))"
   ]
  },
  {
   "cell_type": "code",
   "execution_count": null,
   "metadata": {},
   "outputs": [],
   "source": [
    "imu_delta_integrated = []\n",
    "imu_delta_integrated.append(initial_pose)\n",
    "for i in range(len(imu_recovery_deltas)):\n",
    "    imu_delta_integrated.append(imu_delta_integrated[-1] @ imu_recovery_deltas[i])"
   ]
  },
  {
   "cell_type": "code",
   "execution_count": null,
   "metadata": {},
   "outputs": [],
   "source": [
    "N = -1\n",
    "fig = go.Figure()\n",
    "fig = plot_poses(poses[:N], fig=fig, no_axes=True, color=\"black\", name=\"Ground truth\")\n",
    "fig = plot_poses(imu_recovery_poses[:N], fig=fig, no_axes=True, color=\"blue\", name=\"IMU recovery\")\n",
    "fig = plot_poses(\n",
    "    imu_delta_integrated[:2000], fig=fig, no_axes=True, color=\"red\", name=\"IMU recovery integrated\"\n",
    ")\n",
    "fig.update_layout(height=700, width=1200, scene_aspectmode=\"data\")\n",
    "fig.show()"
   ]
  },
  {
   "cell_type": "markdown",
   "metadata": {},
   "source": [
    "Simulate lander measurements\n"
   ]
  },
  {
   "cell_type": "code",
   "execution_count": null,
   "metadata": {},
   "outputs": [],
   "source": [
    "lander_position = lander_pose_world[:3, 3]\n",
    "\n",
    "# Lander range and bearing measurements\n",
    "lander_pose_measurements = []  # relative pose of lander in rover frame\n",
    "lander_range_measurements = []\n",
    "lander_los_measurements = []\n",
    "\n",
    "for i in range(len(poses)):\n",
    "    t_i = poses[i][:3, 3]\n",
    "    delta_t = t_i - lander_position\n",
    "    # TODO: add noise\n",
    "    lander_range_measurements.append(np.linalg.norm(delta_t))\n",
    "    lander_pose_measurements.append(invert_transform_mat(poses[i]) @ lander_pose_world)\n",
    "    lander_los_measurements.append(-delta_t / np.linalg.norm(delta_t))"
   ]
  },
  {
   "cell_type": "code",
   "execution_count": null,
   "metadata": {},
   "outputs": [],
   "source": [
    "ODOM_R_SIGMA = 0.1  # for rotations\n",
    "ODOM_T_SIGMA = 0.1  # for translations [m]\n",
    "ODOM_SIGMA = np.ones(6)\n",
    "ODOM_SIGMA[:3] *= ODOM_R_SIGMA\n",
    "ODOM_SIGMA[3:] *= ODOM_T_SIGMA\n",
    "\n",
    "LANDER_ANGLE_SIGMA = 0.0001  # [rad]\n",
    "\n",
    "LANDER_RELPOSE_SIGMA = 0.01 * np.ones(6)"
   ]
  },
  {
   "cell_type": "code",
   "execution_count": null,
   "metadata": {},
   "outputs": [],
   "source": [
    "N_WINDOW = 40\n",
    "N_SHIFT = 10\n",
    "N = 10000\n",
    "\n",
    "\n",
    "def sliding_window_fgo():\n",
    "    init_poses = imu_recovery_poses[:N_WINDOW]\n",
    "    fgo_poses = [None] * N\n",
    "    k_max = (N - N_WINDOW) // N_SHIFT\n",
    "\n",
    "    for k in (pbar := tqdm(range(k_max))):\n",
    "        window = slice(N_SHIFT * k, N_SHIFT * k + N_WINDOW)\n",
    "        odometry = imu_recovery_deltas[window][:-1]\n",
    "        # odometry = gt_odometry[window][:-1]\n",
    "        lander_measurements = lander_pose_measurements[window]\n",
    "\n",
    "        opt_poses, result = odometry_lander_relpose_fgo(\n",
    "            init_poses,\n",
    "            lander_pose_world,\n",
    "            odometry,\n",
    "            lander_measurements,\n",
    "            ODOM_SIGMA,\n",
    "            LANDER_RELPOSE_SIGMA,\n",
    "            debug=False,\n",
    "        )\n",
    "        fgo_poses[N_SHIFT * k : N_SHIFT * (k + 1)] = opt_poses[:N_SHIFT]\n",
    "\n",
    "        init_poses[:-N_SHIFT] = opt_poses[N_SHIFT:]\n",
    "        if k != k_max - 1:\n",
    "            pose = opt_poses[-1]\n",
    "            for i in range(N_SHIFT):\n",
    "                init_poses[-N_SHIFT + i] = pose @ imu_recovery_deltas[window][-1]\n",
    "                pose = init_poses[-N_SHIFT + i]\n",
    "\n",
    "    return fgo_poses"
   ]
  },
  {
   "cell_type": "code",
   "execution_count": null,
   "metadata": {},
   "outputs": [],
   "source": [
    "fgo_poses = sliding_window_fgo()"
   ]
  },
  {
   "cell_type": "code",
   "execution_count": null,
   "metadata": {},
   "outputs": [],
   "source": [
    "# all poses not None in fgo_poses\n",
    "fgo_poses = [pose for pose in fgo_poses if pose is not None]\n",
    "N = len(fgo_poses)\n",
    "\n",
    "fig = go.Figure()\n",
    "fig = plot_poses(poses[:N], fig=fig, no_axes=True, color=\"black\", name=\"Ground truth\")\n",
    "fig = plot_poses(imu_recovery_poses[:N], fig=fig, no_axes=True, color=\"blue\", name=\"IMU recovery\")\n",
    "fig = plot_poses(fgo_poses[:N], fig=fig, no_axes=True, color=\"green\", name=\"FGO\")\n",
    "fig.update_layout(height=700, width=1200, scene_aspectmode=\"data\")\n",
    "fig.show()"
   ]
  },
  {
   "cell_type": "markdown",
   "metadata": {},
   "source": [
    "## FGO Class\n"
   ]
  },
  {
   "cell_type": "code",
   "execution_count": null,
   "metadata": {},
   "outputs": [],
   "source": [
    "factor_graph = FactorGraph(initial_pose, ODOM_SIGMA, LANDER_RELPOSE_SIGMA)"
   ]
  },
  {
   "cell_type": "code",
   "execution_count": null,
   "metadata": {},
   "outputs": [],
   "source": [
    "N = 1000\n",
    "UPDATE_RATE = 10\n",
    "\n",
    "for i in tqdm(range(1, N)):\n",
    "    factor_graph.add_pose(i)\n",
    "    factor_graph.add_odometry_factor(i, imu_recovery_deltas[i])\n",
    "    if i % UPDATE_RATE == 0:\n",
    "        fgo_poses, result = factor_graph.optimize(window=(i - UPDATE_RATE, i))\n",
    "# factor_graph.update(0, imu_odometry[0])"
   ]
  },
  {
   "cell_type": "code",
   "execution_count": null,
   "metadata": {},
   "outputs": [],
   "source": [
    "type(sf.Pose3())"
   ]
  },
  {
   "cell_type": "code",
   "execution_count": null,
   "metadata": {},
   "outputs": [],
   "source": [
    "from lac.localization.symforce_util import copy_pose"
   ]
  },
  {
   "cell_type": "code",
   "execution_count": null,
   "metadata": {},
   "outputs": [],
   "source": [
    "result.optimized_values[\"pose_0\"]."
   ]
  },
  {
   "cell_type": "code",
   "execution_count": null,
   "metadata": {},
   "outputs": [],
   "source": [
    "factor_graph.factors"
   ]
  },
  {
   "cell_type": "code",
   "execution_count": null,
   "metadata": {},
   "outputs": [],
   "source": [
    "type(result.optimized_values[\"pose_0\"])"
   ]
  },
  {
   "cell_type": "code",
   "execution_count": null,
   "metadata": {},
   "outputs": [],
   "source": [
    "from lac.localization.fgo import get_poses_from_values"
   ]
  },
  {
   "cell_type": "code",
   "execution_count": null,
   "metadata": {},
   "outputs": [],
   "source": [
    "fig = go.Figure()\n",
    "# fig = plot_poses(poses[:N], fig=fig, no_axes=True, color=\"black\", name=\"Ground truth\")\n",
    "# fig = plot_poses(imu_recovery_poses[:N], fig=fig, no_axes=True, color=\"blue\", name=\"IMU recovery\")\n",
    "fig = plot_poses(fgo_poses[:N], fig=fig, no_axes=True, color=\"green\", name=\"FGO\")\n",
    "fig.update_layout(height=700, width=1200, scene_aspectmode=\"data\")\n",
    "fig.show()"
   ]
  },
  {
   "cell_type": "code",
   "execution_count": null,
   "metadata": {},
   "outputs": [],
   "source": []
  }
 ],
 "metadata": {
  "kernelspec": {
   "display_name": "lac",
   "language": "python",
   "name": "python3"
  },
  "language_info": {
   "codemirror_mode": {
    "name": "ipython",
    "version": 3
   },
   "file_extension": ".py",
   "mimetype": "text/x-python",
   "name": "python",
   "nbconvert_exporter": "python",
   "pygments_lexer": "ipython3",
   "version": "3.10.16"
  }
 },
 "nbformat": 4,
 "nbformat_minor": 2
}
