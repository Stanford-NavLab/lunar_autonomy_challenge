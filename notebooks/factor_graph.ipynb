{
 "cells": [
  {
   "cell_type": "code",
   "execution_count": null,
   "metadata": {},
   "outputs": [],
   "source": [
    "import numpy as np\n",
    "import matplotlib.pyplot as plt\n",
    "import plotly.graph_objects as go\n",
    "import cv2 as cv\n",
    "from tqdm import tqdm\n",
    "import os\n",
    "import json\n",
    "\n",
    "from lac.utils.plotting import plot_path_3d, plot_3d_points, plot_poses\n",
    "from lac.utils.frames import invert_transform_mat\n",
    "from lac.util import (\n",
    "    rmse,\n",
    "    get_positions_from_poses,\n",
    "    positions_rmse_from_poses,\n",
    "    rotations_rmse_from_poses,\n",
    "    load_data,\n",
    ")\n",
    "\n",
    "%load_ext autoreload\n",
    "%autoreload 2"
   ]
  },
  {
   "cell_type": "code",
   "execution_count": null,
   "metadata": {},
   "outputs": [],
   "source": [
    "import symforce\n",
    "\n",
    "try:\n",
    "    symforce.set_epsilon_to_symbol()\n",
    "except symforce.AlreadyUsedEpsilon:\n",
    "    print(\"Already set symforce epsilon\")\n",
    "    pass\n",
    "import symforce.symbolic as sf\n",
    "\n",
    "from lac.localization.symforce_util import odometry_lander_relpose_fgo\n",
    "from lac.localization.imu_recovery import (\n",
    "    recover_rotation,\n",
    "    recover_rotation_exact,\n",
    "    recover_translation,\n",
    ")\n",
    "from lac.localization.fgo import FactorGraph"
   ]
  },
  {
   "cell_type": "markdown",
   "metadata": {},
   "source": [
    "# Symforce testing\n"
   ]
  },
  {
   "cell_type": "code",
   "execution_count": null,
   "metadata": {},
   "outputs": [],
   "source": [
    "import copy\n",
    "\n",
    "p = sf.Pose3()\n",
    "sf.Pose3(R=p.R, t=p.t)"
   ]
  },
  {
   "cell_type": "markdown",
   "metadata": {},
   "source": [
    "# Load data\n"
   ]
  },
  {
   "cell_type": "code",
   "execution_count": null,
   "metadata": {},
   "outputs": [],
   "source": [
    "# data_path = \"../../output/imu_20hz/\" + \"data_log.json\"\n",
    "data_path = \"../../output/LocalizationAgent_spiral_norocks\"\n",
    "initial_pose, lander_pose, poses, imu_data, cam_config = load_data(data_path)"
   ]
  },
  {
   "cell_type": "markdown",
   "metadata": {},
   "source": [
    "## Extract IMU Odometry\n"
   ]
  },
  {
   "cell_type": "code",
   "execution_count": null,
   "metadata": {},
   "outputs": [],
   "source": [
    "from lac.localization.imu_recovery import ImuEstimator\n",
    "\n",
    "imu_estimator = ImuEstimator(initial_pose)\n",
    "imu_recovery_poses = [initial_pose]\n",
    "imu_recovery_deltas = []\n",
    "gt_pose_deltas = []\n",
    "\n",
    "for i in tqdm(range(len(imu_data))):\n",
    "    imu_estimator.update(imu_data[i], exact=False)\n",
    "    imu_recovery_poses.append(imu_estimator.get_pose())\n",
    "    imu_recovery_deltas.append(imu_estimator.get_pose_delta())\n",
    "    gt_pose_deltas.append(poses[i + 1] @ invert_transform_mat(poses[i]))\n",
    "\n",
    "# TODO: replace this with more principled delta estimation (integration)"
   ]
  },
  {
   "cell_type": "code",
   "execution_count": null,
   "metadata": {},
   "outputs": [],
   "source": [
    "N = -1\n",
    "fig = go.Figure()\n",
    "fig = plot_poses(poses[:N], fig=fig, no_axes=True, color=\"black\", name=\"Ground truth\")\n",
    "fig = plot_poses(imu_recovery_poses[:N], fig=fig, no_axes=True, color=\"blue\", name=\"IMU recovery\")\n",
    "fig.update_layout(height=700, width=1200, scene_aspectmode=\"data\")\n",
    "fig.show()"
   ]
  },
  {
   "cell_type": "markdown",
   "metadata": {},
   "source": [
    "## Get fiducial measurements\n"
   ]
  },
  {
   "cell_type": "code",
   "execution_count": null,
   "metadata": {},
   "outputs": [],
   "source": [
    "from lac.perception.vision import FiducialLocalizer"
   ]
  },
  {
   "cell_type": "code",
   "execution_count": null,
   "metadata": {},
   "outputs": [],
   "source": [
    "fid_localizer = FiducialLocalizer()\n",
    "cameras = [\"FrontLeft\", \"Right\"]"
   ]
  },
  {
   "cell_type": "code",
   "execution_count": null,
   "metadata": {},
   "outputs": [],
   "source": [
    "cam = \"Right\"\n",
    "\n",
    "fiducial_pose_measurements = {}\n",
    "\n",
    "for cam in cameras:\n",
    "    cam_images_path = os.path.join(data_path, cam)\n",
    "    for img_path in tqdm(os.listdir(cam_images_path)):\n",
    "        i = int(img_path.split(\".\")[0])\n",
    "        img_gray = cv.imread(os.path.join(cam_images_path, img_path), cv.IMREAD_GRAYSCALE)\n",
    "        pose_measurements = fid_localizer.estimate_rover_pose(img_gray, cam, lander_pose)\n",
    "        if pose_measurements:\n",
    "            fiducial_pose_measurements[i] = pose_measurements"
   ]
  },
  {
   "cell_type": "code",
   "execution_count": null,
   "metadata": {},
   "outputs": [],
   "source": [
    "unordered_fiducial_pose_measurements = []\n",
    "\n",
    "for measurements in fiducial_pose_measurements.values():\n",
    "    unordered_fiducial_pose_measurements.extend(measurements)\n",
    "\n",
    "unordered_fiducial_position_measurements = get_positions_from_poses(\n",
    "    unordered_fiducial_pose_measurements\n",
    ")"
   ]
  },
  {
   "cell_type": "markdown",
   "metadata": {},
   "source": [
    "# FGO\n"
   ]
  },
  {
   "cell_type": "code",
   "execution_count": null,
   "metadata": {},
   "outputs": [],
   "source": [
    "ODOM_R_SIGMA = 0.001  # for rotations\n",
    "ODOM_T_SIGMA = 0.001  # for translations [m]\n",
    "ODOM_SIGMA = np.ones(6)\n",
    "ODOM_SIGMA[:3] *= ODOM_R_SIGMA\n",
    "ODOM_SIGMA[3:] *= ODOM_T_SIGMA\n",
    "\n",
    "FIDUCIAL_SIGMA = 0.01 * np.ones(6)"
   ]
  },
  {
   "cell_type": "code",
   "execution_count": null,
   "metadata": {},
   "outputs": [],
   "source": [
    "factor_graph = FactorGraph(ODOM_SIGMA, FIDUCIAL_SIGMA)"
   ]
  },
  {
   "cell_type": "markdown",
   "metadata": {},
   "source": [
    "Sliding window optimization\n"
   ]
  },
  {
   "cell_type": "code",
   "execution_count": null,
   "metadata": {},
   "outputs": [],
   "source": [
    "N = len(poses)\n",
    "UPDATE_RATE = 10\n",
    "WINDOW_SIZE = 10\n",
    "\n",
    "curr_pose = initial_pose\n",
    "factor_graph.add_pose(0, initial_pose)\n",
    "\n",
    "# i is step which is 0 for initial and starts at 1 for the first run_step call\n",
    "for i in tqdm(range(1, N)):\n",
    "    curr_pose = curr_pose @ imu_recovery_deltas[i - 1]\n",
    "    factor_graph.add_pose(i, curr_pose)\n",
    "    # factor_graph.add_odometry_factor(i, imu_recovery_deltas[i - 1])\n",
    "    if i - 1 in fiducial_pose_measurements:\n",
    "        # for meas in fiducial_pose_measurements[i]:\n",
    "        #     factor_graph.add_pose_measurement_factor(i, meas)\n",
    "        factor_graph.add_pose_measurement_factor(i, fiducial_pose_measurements[i - 1][0])\n",
    "\n",
    "    if i % UPDATE_RATE == 0:\n",
    "        result = factor_graph.optimize(window=(i - UPDATE_RATE, i))\n",
    "        curr_pose = factor_graph.get_pose(i)"
   ]
  },
  {
   "cell_type": "markdown",
   "metadata": {},
   "source": [
    "Optimize the whole graph\n"
   ]
  },
  {
   "cell_type": "code",
   "execution_count": null,
   "metadata": {},
   "outputs": [],
   "source": [
    "result = factor_graph.optimize(window=(0, len(poses) - 1))"
   ]
  },
  {
   "cell_type": "code",
   "execution_count": null,
   "metadata": {},
   "outputs": [],
   "source": [
    "fgo_poses = factor_graph.get_all_poses()"
   ]
  },
  {
   "cell_type": "code",
   "execution_count": null,
   "metadata": {},
   "outputs": [],
   "source": [
    "fig = go.Figure()\n",
    "fig = plot_poses(poses[:N], fig=fig, no_axes=True, color=\"black\", name=\"Ground truth\")\n",
    "fig = plot_poses(imu_recovery_poses[:N], fig=fig, no_axes=True, color=\"blue\", name=\"IMU recovery\")\n",
    "fig = plot_poses(fgo_poses[:N], fig=fig, no_axes=True, color=\"green\", name=\"FGO\")\n",
    "fig = plot_3d_points(\n",
    "    unordered_fiducial_position_measurements[:N],\n",
    "    fig=fig,\n",
    "    color=\"orange\",\n",
    "    name=\"Fiducial measurements\",\n",
    ")\n",
    "fig.update_layout(height=900, width=1600, scene_aspectmode=\"data\")\n",
    "fig.show()"
   ]
  },
  {
   "cell_type": "code",
   "execution_count": null,
   "metadata": {},
   "outputs": [],
   "source": [
    "fig.write_html(\"fgo_result.html\")"
   ]
  },
  {
   "cell_type": "markdown",
   "metadata": {},
   "source": [
    "# Simulated lander measurements\n"
   ]
  },
  {
   "cell_type": "code",
   "execution_count": null,
   "metadata": {},
   "outputs": [],
   "source": [
    "lander_position = lander_pose[:3, 3]\n",
    "\n",
    "# Lander range and bearing measurements\n",
    "lander_pose_measurements = []  # relative pose of lander in rover frame\n",
    "lander_range_measurements = []\n",
    "lander_los_measurements = []\n",
    "\n",
    "for i in range(len(poses)):\n",
    "    t_i = poses[i][:3, 3]\n",
    "    delta_t = t_i - lander_position\n",
    "    # TODO: add noise\n",
    "    lander_range_measurements.append(np.linalg.norm(delta_t))\n",
    "    lander_pose_measurements.append(invert_transform_mat(poses[i]) @ lander_pose)\n",
    "    lander_los_measurements.append(-delta_t / np.linalg.norm(delta_t))"
   ]
  },
  {
   "cell_type": "code",
   "execution_count": null,
   "metadata": {},
   "outputs": [],
   "source": [
    "N_WINDOW = 40\n",
    "N_SHIFT = 10\n",
    "N = 10000\n",
    "\n",
    "\n",
    "def sliding_window_fgo():\n",
    "    init_poses = imu_recovery_poses[:N_WINDOW]\n",
    "    fgo_poses = [None] * N\n",
    "    k_max = (N - N_WINDOW) // N_SHIFT\n",
    "\n",
    "    for k in (pbar := tqdm(range(k_max))):\n",
    "        window = slice(N_SHIFT * k, N_SHIFT * k + N_WINDOW)\n",
    "        odometry = imu_recovery_deltas[window][:-1]\n",
    "        # odometry = gt_odometry[window][:-1]\n",
    "        lander_measurements = lander_pose_measurements[window]\n",
    "\n",
    "        opt_poses, result = odometry_lander_relpose_fgo(\n",
    "            init_poses,\n",
    "            lander_pose,\n",
    "            odometry,\n",
    "            lander_measurements,\n",
    "            ODOM_SIGMA,\n",
    "            LANDER_RELPOSE_SIGMA,\n",
    "            debug=False,\n",
    "        )\n",
    "        fgo_poses[N_SHIFT * k : N_SHIFT * (k + 1)] = opt_poses[:N_SHIFT]\n",
    "\n",
    "        init_poses[:-N_SHIFT] = opt_poses[N_SHIFT:]\n",
    "        if k != k_max - 1:\n",
    "            pose = opt_poses[-1]\n",
    "            for i in range(N_SHIFT):\n",
    "                init_poses[-N_SHIFT + i] = pose @ imu_recovery_deltas[window][-1]\n",
    "                pose = init_poses[-N_SHIFT + i]\n",
    "\n",
    "    return fgo_poses"
   ]
  },
  {
   "cell_type": "code",
   "execution_count": null,
   "metadata": {},
   "outputs": [],
   "source": [
    "fgo_poses = sliding_window_fgo()"
   ]
  },
  {
   "cell_type": "code",
   "execution_count": null,
   "metadata": {},
   "outputs": [],
   "source": [
    "# all poses not None in fgo_poses\n",
    "fgo_poses = [pose for pose in fgo_poses if pose is not None]\n",
    "N = len(fgo_poses)\n",
    "\n",
    "fig = go.Figure()\n",
    "fig = plot_poses(poses[:N], fig=fig, no_axes=True, color=\"black\", name=\"Ground truth\")\n",
    "fig = plot_poses(imu_recovery_poses[:N], fig=fig, no_axes=True, color=\"blue\", name=\"IMU recovery\")\n",
    "fig = plot_poses(fgo_poses[:N], fig=fig, no_axes=True, color=\"green\", name=\"FGO\")\n",
    "fig.update_layout(height=700, width=1200, scene_aspectmode=\"data\")\n",
    "fig.show()"
   ]
  },
  {
   "cell_type": "code",
   "execution_count": null,
   "metadata": {},
   "outputs": [],
   "source": []
  }
 ],
 "metadata": {
  "kernelspec": {
   "display_name": "lac",
   "language": "python",
   "name": "python3"
  },
  "language_info": {
   "codemirror_mode": {
    "name": "ipython",
    "version": 3
   },
   "file_extension": ".py",
   "mimetype": "text/x-python",
   "name": "python",
   "nbconvert_exporter": "python",
   "pygments_lexer": "ipython3",
   "version": "3.10.15"
  }
 },
 "nbformat": 4,
 "nbformat_minor": 2
}
