{
 "cells": [
  {
   "cell_type": "code",
   "execution_count": null,
   "metadata": {},
   "outputs": [],
   "source": [
    "import numpy as np\n",
    "\n",
    "from lac.utils.camera import Camera\n",
    "from lac.utils.plotting import plot_surface, plot_poses, plot_3d_points\n",
    "\n",
    "%load_ext autoreload\n",
    "%autoreload 2"
   ]
  },
  {
   "cell_type": "code",
   "execution_count": null,
   "metadata": {},
   "outputs": [],
   "source": [
    "# Generate a set of z=f(x,y) points according to sin(x)*sin(y)\n",
    "n = 100\n",
    "x = np.linspace(0, 2 * np.pi, n)\n",
    "y = np.linspace(0, 2 * np.pi, n)\n",
    "X, Y = np.meshgrid(x, y)\n",
    "Z = np.cos(X) * np.cos(Y)\n",
    "color = Z\n",
    "grid = np.stack([X, Y, Z], axis=-1)\n",
    "\n",
    "plot_surface(grid)"
   ]
  },
  {
   "cell_type": "code",
   "execution_count": null,
   "metadata": {},
   "outputs": [],
   "source": [
    "camera_t = np.array([0, 3, 1])\n",
    "camera_R = np.array([[0, -1, 0], [0, 0, -1], [1, 0, 0]]).T\n",
    "camera_pose = np.eye(4)\n",
    "camera_pose[:3, :3] = camera_R\n",
    "camera_pose[:3, 3] = camera_t\n",
    "\n",
    "cam = Camera(camera_pose)\n",
    "\n",
    "camera_pose_inv = np.linalg.inv(camera_pose)"
   ]
  },
  {
   "cell_type": "code",
   "execution_count": null,
   "metadata": {},
   "outputs": [],
   "source": [
    "fig = plot_surface(grid)\n",
    "fig = plot_poses([camera_pose], fig=fig)\n",
    "fig.show()"
   ]
  },
  {
   "cell_type": "code",
   "execution_count": null,
   "metadata": {},
   "outputs": [],
   "source": [
    "from lac.params import CAMERA_INTRINSICS\n",
    "\n",
    "K = CAMERA_INTRINSICS"
   ]
  },
  {
   "cell_type": "code",
   "execution_count": null,
   "metadata": {},
   "outputs": [],
   "source": [
    "# Transform the grid to camera frame\n",
    "points = np.stack([X.flatten(), Y.flatten(), Z.flatten(), np.ones_like(X.flatten())], axis=-1)\n",
    "points_camera = points @ camera_pose_inv.T"
   ]
  },
  {
   "cell_type": "code",
   "execution_count": null,
   "metadata": {},
   "outputs": [],
   "source": [
    "points = np.stack([X.flatten(), Y.flatten(), Z.flatten()], axis=-1)\n",
    "points.shape"
   ]
  },
  {
   "cell_type": "code",
   "execution_count": null,
   "metadata": {},
   "outputs": [],
   "source": [
    "np.hstack((points, np.ones((points.shape[0], 1))))"
   ]
  },
  {
   "cell_type": "code",
   "execution_count": null,
   "metadata": {},
   "outputs": [],
   "source": [
    "points_camera = cam.project_world_points_to_camera(points)\n",
    "points_camera"
   ]
  },
  {
   "cell_type": "code",
   "execution_count": null,
   "metadata": {},
   "outputs": [],
   "source": [
    "fig = plot_3d_points(points_camera, color=color)\n",
    "fig = plot_poses([np.eye(4)], fig=fig)\n",
    "fig.show()"
   ]
  },
  {
   "cell_type": "code",
   "execution_count": null,
   "metadata": {},
   "outputs": [],
   "source": [
    "uvw = points_camera[:, :3] @ K.T\n",
    "uv = uvw[:, :2] / uvw[:, 2:]\n",
    "depths = uvw[:, 2]\n",
    "color = points_camera[:, 1]"
   ]
  },
  {
   "cell_type": "code",
   "execution_count": null,
   "metadata": {},
   "outputs": [],
   "source": [
    "import matplotlib.pyplot as plt\n",
    "\n",
    "plt.scatter(uv[:, 0], uv[:, 1], c=color, s=1, cmap=\"plasma\")\n",
    "# Set x and y limits\n",
    "plt.xlim(0, 1280)\n",
    "plt.ylim(0, 720)\n",
    "plt.gca().invert_yaxis()\n",
    "plt.show()"
   ]
  },
  {
   "cell_type": "code",
   "execution_count": null,
   "metadata": {},
   "outputs": [],
   "source": [
    "out_of_frame_idxs = np.logical_or(\n",
    "    np.logical_or(uv[:, 0] < 0, uv[:, 0] > 1280), np.logical_or(uv[:, 1] < 0, uv[:, 1] > 720)\n",
    ")\n",
    "out_of_frame_idxs = np.logical_or(out_of_frame_idxs, depths < 0)\n",
    "out_of_frame_idxs = np.logical_or(\n",
    "    out_of_frame_idxs, (~np.isfinite(uv[:, 0])) | (~np.isfinite(uv[:, 1]))\n",
    ")\n",
    "\n",
    "uv_inframe = uv[~out_of_frame_idxs]\n",
    "depths_inframe = depths[~out_of_frame_idxs]\n",
    "color_inframe = color[~out_of_frame_idxs]"
   ]
  },
  {
   "cell_type": "code",
   "execution_count": null,
   "metadata": {},
   "outputs": [],
   "source": [
    "uv_inframe, depths_inframe, color_inframe = cam.project_world_points_to_uv(points, color)"
   ]
  },
  {
   "cell_type": "code",
   "execution_count": null,
   "metadata": {},
   "outputs": [],
   "source": [
    "# Sort the points by depth\n",
    "sorted_indices = np.argsort(depths_inframe)\n",
    "uv_sorted = uv_inframe[sorted_indices]\n",
    "depths_sorted = depths_inframe[sorted_indices]\n",
    "color_sorted = color_inframe[sorted_indices]"
   ]
  },
  {
   "cell_type": "code",
   "execution_count": null,
   "metadata": {},
   "outputs": [],
   "source": [
    "c = plt.scatter(uv_sorted[:, 0][::-1], uv_sorted[:, 1][::-1], c=depths_sorted[::-1], cmap=\"plasma\")\n",
    "plt.colorbar(c)\n",
    "# Set x and y limits\n",
    "plt.xlim(0, 1280)\n",
    "plt.ylim(0, 720)\n",
    "plt.gca().invert_yaxis()\n",
    "plt.show()"
   ]
  },
  {
   "cell_type": "code",
   "execution_count": null,
   "metadata": {},
   "outputs": [],
   "source": [
    "blank_image = np.zeros((720, 1280)) * np.nan\n",
    "pixel_set = np.zeros_like(blank_image, dtype=bool)\n",
    "\n",
    "pt_size_u = 20\n",
    "pt_size_v = 2\n",
    "\n",
    "for idx in sorted_indices:\n",
    "    u, v = uv_inframe[idx]\n",
    "\n",
    "    if pixel_set[int(v), int(u)]:\n",
    "        continue\n",
    "    # Color a 5x5 patch around the point\n",
    "    for u_i in range(int(u - pt_size_u / 2), int(u + pt_size_u / 2)):\n",
    "        for v_j in range(int(v - pt_size_v / 2), 720):\n",
    "            if 0 <= u_i < 1280 and 0 <= v_j < 720:\n",
    "                if not pixel_set[v_j, u_i]:\n",
    "                    blank_image[int(v_j), int(u_i)] = color_inframe[idx]\n",
    "                    pixel_set[v_j, u_i] = True\n",
    "\n",
    "\n",
    "fig = plt.figure(figsize=(20, 10))\n",
    "c = plt.imshow(blank_image, cmap=\"plasma\")\n",
    "plt.scatter(uv_sorted[:, 0][::-1], uv_sorted[:, 1][::-1], c=\"black\", alpha=0.1, cmap=\"plasma\")\n",
    "plt.colorbar(c)\n",
    "plt.show()"
   ]
  },
  {
   "cell_type": "code",
   "execution_count": null,
   "metadata": {},
   "outputs": [],
   "source": []
  }
 ],
 "metadata": {
  "kernelspec": {
   "display_name": "lac-dev",
   "language": "python",
   "name": "python3"
  },
  "language_info": {
   "codemirror_mode": {
    "name": "ipython",
    "version": 3
   },
   "file_extension": ".py",
   "mimetype": "text/x-python",
   "name": "python",
   "nbconvert_exporter": "python",
   "pygments_lexer": "ipython3",
   "version": "3.10.16"
  }
 },
 "nbformat": 4,
 "nbformat_minor": 2
}
