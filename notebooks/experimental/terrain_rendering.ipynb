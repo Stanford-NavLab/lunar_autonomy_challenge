{
 "cells": [
  {
   "cell_type": "code",
   "execution_count": null,
   "metadata": {},
   "outputs": [],
   "source": [
    "import numpy as np\n",
    "import matplotlib.pyplot as plt\n",
    "import time\n",
    "\n",
    "from lac.utils.camera import Camera\n",
    "from lac.utils.plotting import plot_surface, plot_poses, plot_3d_points\n",
    "from lac.util import load_data\n",
    "\n",
    "%load_ext autoreload\n",
    "%autoreload 2"
   ]
  },
  {
   "cell_type": "code",
   "execution_count": null,
   "metadata": {},
   "outputs": [],
   "source": [
    "# Generate a set of z=f(x,y) points according to sin(x)*sin(y)\n",
    "n = 100\n",
    "x = np.linspace(0, 2 * np.pi, n)\n",
    "y = np.linspace(0, 2 * np.pi, n)\n",
    "X, Y = np.meshgrid(x, y)\n",
    "Z = np.cos(X) * np.cos(Y)\n",
    "color = Z.flatten()\n",
    "grid = np.stack([X, Y, Z], axis=-1)\n",
    "points = np.stack([X.flatten(), Y.flatten(), Z.flatten()], axis=-1)\n",
    "\n",
    "plot_surface(grid)"
   ]
  },
  {
   "cell_type": "code",
   "execution_count": null,
   "metadata": {},
   "outputs": [],
   "source": [
    "camera_t = np.array([0, 3, 1])\n",
    "camera_R = np.array([[0, -1, 0], [0, 0, -1], [1, 0, 0]]).T\n",
    "camera_pose = np.eye(4)\n",
    "camera_pose[:3, :3] = camera_R\n",
    "camera_pose[:3, 3] = camera_t\n",
    "\n",
    "cam = Camera(camera_pose)"
   ]
  },
  {
   "cell_type": "code",
   "execution_count": null,
   "metadata": {},
   "outputs": [],
   "source": [
    "fig = plot_surface(grid)\n",
    "fig = plot_poses([camera_pose], fig=fig)\n",
    "fig.show()"
   ]
  },
  {
   "cell_type": "code",
   "execution_count": null,
   "metadata": {},
   "outputs": [],
   "source": [
    "uv_inframe, depths_inframe, color_inframe = cam.project_world_points_to_uv(points, color)"
   ]
  },
  {
   "cell_type": "code",
   "execution_count": null,
   "metadata": {},
   "outputs": [],
   "source": [
    "# Sort the points by depth\n",
    "sorted_indices = np.argsort(depths_inframe)\n",
    "uv_sorted = uv_inframe[sorted_indices]\n",
    "depths_sorted = depths_inframe[sorted_indices]\n",
    "color_sorted = color_inframe[sorted_indices]"
   ]
  },
  {
   "cell_type": "code",
   "execution_count": null,
   "metadata": {},
   "outputs": [],
   "source": [
    "c = plt.scatter(uv_sorted[:, 0][::-1], uv_sorted[:, 1][::-1], c=depths_sorted[::-1], cmap=\"plasma\")\n",
    "plt.colorbar(c)\n",
    "# Set x and y limits\n",
    "plt.xlim(0, 1280)\n",
    "plt.ylim(0, 720)\n",
    "plt.gca().invert_yaxis()\n",
    "plt.show()"
   ]
  },
  {
   "cell_type": "code",
   "execution_count": null,
   "metadata": {},
   "outputs": [],
   "source": [
    "blank_image = np.zeros((720, 1280)) * np.nan\n",
    "pixel_set = np.zeros_like(blank_image, dtype=bool)\n",
    "\n",
    "pt_size_u = 20\n",
    "pt_size_v = 2\n",
    "\n",
    "start_time = time.perf_counter()\n",
    "for idx in sorted_indices:\n",
    "    u, v = uv_inframe[idx]\n",
    "\n",
    "    if pixel_set[int(v), int(u)]:\n",
    "        continue\n",
    "    # Color a 5x5 patch around the point\n",
    "    for u_i in range(int(u - pt_size_u / 2), int(u + pt_size_u / 2)):\n",
    "        for v_j in range(int(v - pt_size_v / 2), 720):\n",
    "            if 0 <= u_i < 1280 and 0 <= v_j < 720:\n",
    "                if not pixel_set[v_j, u_i]:\n",
    "                    blank_image[int(v_j), int(u_i)] = color_inframe[idx]\n",
    "                    pixel_set[v_j, u_i] = True\n",
    "print(\"Time taken:\", time.perf_counter() - start_time)\n",
    "\n",
    "\n",
    "fig = plt.figure(figsize=(20, 10))\n",
    "c = plt.imshow(blank_image, cmap=\"plasma\")\n",
    "plt.scatter(uv_sorted[:, 0][::-1], uv_sorted[:, 1][::-1], c=\"black\", alpha=0.1, cmap=\"plasma\")\n",
    "plt.colorbar(c)\n",
    "plt.show()"
   ]
  },
  {
   "cell_type": "code",
   "execution_count": null,
   "metadata": {},
   "outputs": [],
   "source": [
    "uv, depths, colors = cam.project_world_points_to_uv(points, color)"
   ]
  },
  {
   "cell_type": "markdown",
   "metadata": {},
   "source": [
    "## Load map\n"
   ]
  },
  {
   "cell_type": "code",
   "execution_count": null,
   "metadata": {},
   "outputs": [],
   "source": [
    "from lac.mapping.mapper import interpolate_heights\n",
    "from lac.utils.frames import get_cam_pose_rover\n",
    "\n",
    "from scipy.interpolate import griddata"
   ]
  },
  {
   "cell_type": "code",
   "execution_count": null,
   "metadata": {},
   "outputs": [],
   "source": [
    "map = np.load(\"../../../data/heightmaps/qualifying/Moon_Map_01_preset_0.dat\", allow_pickle=True)\n",
    "X_map, Y_map, Z_map = map[..., 0], map[..., 1], map[..., 2]\n",
    "map_points = np.stack([X_map.flatten(), Y_map.flatten(), Z_map.flatten()], axis=-1)\n",
    "\n",
    "data_path = \"../../../output/LocalizationAgent/map1_preset0_4m_spiral\"\n",
    "initial_pose, lander_pose, poses, imu_data, cam_config = load_data(data_path)"
   ]
  },
  {
   "cell_type": "code",
   "execution_count": null,
   "metadata": {},
   "outputs": [],
   "source": [
    "plot_surface(map)"
   ]
  },
  {
   "cell_type": "code",
   "execution_count": null,
   "metadata": {},
   "outputs": [],
   "source": [
    "plot_3d_points(map_points, color=Z_map.ravel())"
   ]
  },
  {
   "cell_type": "code",
   "execution_count": null,
   "metadata": {},
   "outputs": [],
   "source": [
    "B = 4.425\n",
    "INTERP_RES = 0.05\n",
    "x_interp = np.arange(-B, B, INTERP_RES)\n",
    "y_interp = np.arange(-B, B, INTERP_RES)\n",
    "X_interp, Y_interp = np.meshgrid(x_interp, y_interp)\n",
    "\n",
    "# Interpolate with griddata\n",
    "Z_interp = griddata(\n",
    "    (X_map.ravel(), Y_map.ravel()),\n",
    "    Z_map.ravel(),\n",
    "    (X_interp.ravel(), Y_interp.ravel()),\n",
    "    method=\"linear\",\n",
    ")\n",
    "Z_interp = Z_interp.reshape(X_interp.shape)"
   ]
  },
  {
   "cell_type": "code",
   "execution_count": null,
   "metadata": {},
   "outputs": [],
   "source": [
    "map_interp = np.stack([X_interp, Y_interp, Z_interp], axis=-1)\n",
    "map_interp_points = np.stack([X_interp.ravel(), Y_interp.ravel(), Z_interp.ravel()], axis=-1)\n",
    "plot_surface(map_interp)"
   ]
  },
  {
   "cell_type": "code",
   "execution_count": null,
   "metadata": {},
   "outputs": [],
   "source": [
    "plot_3d_points(map_interp_points, color=Z_interp.ravel())"
   ]
  },
  {
   "cell_type": "code",
   "execution_count": null,
   "metadata": {},
   "outputs": [],
   "source": [
    "from lac.utils.frames import CAMERA_TO_OPENCV_PASSIVE"
   ]
  },
  {
   "cell_type": "code",
   "execution_count": null,
   "metadata": {},
   "outputs": [],
   "source": [
    "rover_pose = poses[6500]\n",
    "camera_pose = get_cam_pose_rover(\"FrontLeft\")\n",
    "camera_pose[:3, :3] = CAMERA_TO_OPENCV_PASSIVE\n",
    "camera_pose = rover_pose @ camera_pose"
   ]
  },
  {
   "cell_type": "code",
   "execution_count": null,
   "metadata": {},
   "outputs": [],
   "source": [
    "# camera_t = np.array([0, 0, 1.8])\n",
    "# camera_R = np.array([[0, -1, 0], [0, 0, -1], [1, 0, 0]]).T\n",
    "# camera_pose = np.eye(4)\n",
    "# camera_pose[:3, :3] = camera_R\n",
    "# camera_pose[:3, 3] = camera_t\n",
    "\n",
    "cam = Camera(camera_pose)\n",
    "\n",
    "fig = plot_surface(map)\n",
    "fig = plot_poses([camera_pose, rover_pose], fig=fig)\n",
    "fig.show()"
   ]
  },
  {
   "cell_type": "code",
   "execution_count": null,
   "metadata": {},
   "outputs": [],
   "source": [
    "uv, depths, colors = cam.project_world_points_to_uv(map_interp_points, Z_interp.flatten())"
   ]
  },
  {
   "cell_type": "code",
   "execution_count": null,
   "metadata": {},
   "outputs": [],
   "source": [
    "# Sort the points by depth\n",
    "sorted_indices = np.argsort(depths)\n",
    "uv_sorted = uv[sorted_indices]\n",
    "depths_sorted = depths[sorted_indices]\n",
    "colors_sorted = colors[sorted_indices]"
   ]
  },
  {
   "cell_type": "code",
   "execution_count": null,
   "metadata": {},
   "outputs": [],
   "source": [
    "fig = plt.figure(figsize=(15, 7))\n",
    "# c = plt.scatter(uv_sorted[:, 0][::-1], uv_sorted[:, 1][::-1], c=depths_sorted[::-1], cmap=\"plasma\")\n",
    "c = plt.scatter(uv_sorted[:, 0][::-1], uv_sorted[:, 1][::-1], c=colors_sorted[::-1], cmap=\"plasma\")\n",
    "plt.colorbar(c)\n",
    "# Set x and y limits\n",
    "plt.xlim(0, 1280)\n",
    "plt.ylim(0, 720)\n",
    "plt.gca().invert_yaxis()\n",
    "plt.show()"
   ]
  },
  {
   "cell_type": "code",
   "execution_count": null,
   "metadata": {},
   "outputs": [],
   "source": [
    "from lac.params import FL_X\n",
    "\n",
    "blank_image = np.zeros((720, 1280)) * np.nan\n",
    "pixel_set = np.zeros_like(blank_image, dtype=bool)\n",
    "\n",
    "pt_size_u = 100\n",
    "pt_size_v = 2\n",
    "# CELL_WIDTH_M = 0.15\n",
    "CELL_WIDTH_M = INTERP_RES\n",
    "\n",
    "start_time = time.perf_counter()\n",
    "for idx in sorted_indices:\n",
    "    u, v = uv[idx]\n",
    "    depth = depths[idx]\n",
    "\n",
    "    if pixel_set[int(v), int(u)]:\n",
    "        continue\n",
    "    # Color a 5x5 patch around the point\n",
    "    pt_size_u = (CELL_WIDTH_M * FL_X) / depth\n",
    "    for u_i in range(int(u - pt_size_u / 2), int(u + pt_size_u / 2)):\n",
    "        for v_j in range(int(v - pt_size_v / 2), 720):\n",
    "            if 0 <= u_i < 1280 and 0 <= v_j < 720:\n",
    "                if not pixel_set[v_j, u_i]:\n",
    "                    blank_image[int(v_j), int(u_i)] = colors_sorted[idx]\n",
    "                    pixel_set[v_j, u_i] = True\n",
    "print(\"Time taken:\", time.perf_counter() - start_time)\n",
    "\n",
    "\n",
    "fig = plt.figure(figsize=(20, 10))\n",
    "c = plt.imshow(blank_image, cmap=\"plasma\")\n",
    "# plt.scatter(uv_sorted[:, 0][::-1], uv_sorted[:, 1][::-1], c=\"black\", alpha=0.1, cmap=\"plasma\")\n",
    "plt.colorbar(c)\n",
    "plt.show()"
   ]
  },
  {
   "cell_type": "code",
   "execution_count": null,
   "metadata": {},
   "outputs": [],
   "source": []
  }
 ],
 "metadata": {
  "kernelspec": {
   "display_name": "lac",
   "language": "python",
   "name": "python3"
  },
  "language_info": {
   "codemirror_mode": {
    "name": "ipython",
    "version": 3
   },
   "file_extension": ".py",
   "mimetype": "text/x-python",
   "name": "python",
   "nbconvert_exporter": "python",
   "pygments_lexer": "ipython3",
   "version": "3.10.16"
  }
 },
 "nbformat": 4,
 "nbformat_minor": 2
}
