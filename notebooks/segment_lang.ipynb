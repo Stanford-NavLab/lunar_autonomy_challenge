{
 "cells": [
  {
   "cell_type": "code",
   "execution_count": 1,
   "metadata": {},
   "outputs": [],
   "source": [
    "import os\n",
    "import shutil\n",
    "from tqdm import tqdm\n",
    "from pathlib import Path\n",
    "import matplotlib.pyplot as plt\n",
    "import numpy as np\n",
    "from PIL import Image\n",
    "import cv2\n",
    "from matplotlib.lines import Line2D"
   ]
  },
  {
   "cell_type": "code",
   "execution_count": 7,
   "metadata": {},
   "outputs": [],
   "source": [
    "data_path = os.path.expanduser(\"~/LunarAutonomyChallenge/output/data_collection_1\")\n",
    "\n",
    "i = 100\n",
    "image = Image.open(os.path.join(data_path, \"front_left\", f\"{i}.png\")).convert(\"RGB\")"
   ]
  },
  {
   "cell_type": "markdown",
   "metadata": {},
   "source": [
    "# Huggingface\n"
   ]
  },
  {
   "cell_type": "code",
   "execution_count": 8,
   "metadata": {},
   "outputs": [],
   "source": [
    "from transformers import pipeline"
   ]
  },
  {
   "cell_type": "code",
   "execution_count": null,
   "metadata": {},
   "outputs": [],
   "source": [
    "semantic_segmentation = pipeline(\n",
    "    \"image-segmentation\", \"nvidia/segformer-b1-finetuned-cityscapes-1024-1024\"\n",
    ")\n",
    "results = semantic_segmentation(image)\n",
    "results"
   ]
  },
  {
   "cell_type": "markdown",
   "metadata": {},
   "source": [
    "# Language Segment Anything\n",
    "\n",
    "https://github.com/luca-medeiros/lang-segment-anything\n"
   ]
  },
  {
   "cell_type": "code",
   "execution_count": 10,
   "metadata": {},
   "outputs": [],
   "source": [
    "from lang_sam import LangSAM"
   ]
  },
  {
   "cell_type": "code",
   "execution_count": 11,
   "metadata": {},
   "outputs": [],
   "source": [
    "model = LangSAM()"
   ]
  },
  {
   "cell_type": "code",
   "execution_count": null,
   "metadata": {},
   "outputs": [],
   "source": [
    "base_path = Path(\"/home/shared\")\n",
    "scene = \"data_collection_1\"\n",
    "camera = \"front_left\"\n",
    "scene_path = base_path / \"data_raw\" / \"LAC\" / scene\n",
    "images_rgb_path = scene_path / \"front_left\"\n",
    "images_sem_path = scene_path / \"front_left_semantic\"\n",
    "image_rgb_path = images_rgb_path / \"34.png\"\n",
    "image_sem_path = images_sem_path / \"34.png\"\n",
    "image_rgb = cv2.imread(image_rgb_path.as_posix())\n",
    "image_sem = cv2.imread(image_sem_path.as_posix())\n",
    "plt.imshow(image_rgb)\n",
    "plt.show()\n",
    "plt.imshow(image_sem)\n",
    "plt.show()"
   ]
  },
  {
   "cell_type": "code",
   "execution_count": null,
   "metadata": {},
   "outputs": [],
   "source": [
    "colors_unique = np.unique(np.vstack(image_sem), axis=0)\n",
    "print(repr(colors_unique))\n",
    "plt.imshow([colors_unique / 255.0])"
   ]
  },
  {
   "cell_type": "code",
   "execution_count": 14,
   "metadata": {},
   "outputs": [],
   "source": [
    "semantic_data = [\n",
    "    (\"Fiducials\", \"fiducials\", np.array([30, 170, 250])),\n",
    "    (\"Rocks\", \"rocks\", np.array([42, 59, 108])),\n",
    "    (\"Lander\", \"white vehicle\", np.array([160, 190, 110])),\n",
    "    (\"Shadow\", \"dark shadow\", np.array([150, 40, 60])),\n",
    "    (\"Sun\", \"sun\", np.array([255, 255, 0])),\n",
    "    (\"Ground\", \"ground\", np.array([81, 0, 81])),\n",
    "    (\"Sky\", \"sky\", np.array([0, 0, 0])),\n",
    "    (\"Unknown\", \"unknown\", np.array([255, 255, 255])),\n",
    "]\n",
    "prompt2color = {prompt: color for _, prompt, color in semantic_data}\n",
    "prompt2label = {prompt: label for label, prompt, _ in semantic_data}"
   ]
  },
  {
   "cell_type": "code",
   "execution_count": null,
   "metadata": {},
   "outputs": [],
   "source": [
    "prompt = \".\".join([prompt for label, prompt, color in semantic_data])\n",
    "image_pil = Image.fromarray(image_rgb.copy())\n",
    "results = model.predict([image_pil], [prompt])\n",
    "res = results[0]\n",
    "print(res[\"labels\"])"
   ]
  },
  {
   "cell_type": "code",
   "execution_count": null,
   "metadata": {},
   "outputs": [],
   "source": [
    "res[\"masks\"].shape"
   ]
  },
  {
   "cell_type": "code",
   "execution_count": null,
   "metadata": {},
   "outputs": [],
   "source": [
    "[prompt for prompt in res[\"labels\"]]"
   ]
  },
  {
   "cell_type": "code",
   "execution_count": null,
   "metadata": {},
   "outputs": [],
   "source": [
    "res_dict"
   ]
  },
  {
   "cell_type": "code",
   "execution_count": null,
   "metadata": {},
   "outputs": [],
   "source": [
    "plt.imshow(image_pil)\n",
    "\n",
    "image_proc = np.ones_like(image_rgb) * prompt2color[\"unknown\"] / 255\n",
    "\n",
    "unknown_mask = np.zeros(image_rgb.shape[:2], dtype=float)\n",
    "res_dict = {\n",
    "    prompt: [res[\"masks\"][i] for i in range(len(res[\"labels\"])) if res[\"labels\"][i] == prompt]\n",
    "    for prompt in prompt2color.keys()\n",
    "}\n",
    "\n",
    "for label, prompt, color in semantic_data[::-1]:\n",
    "    if label == \"Shadow\":\n",
    "        continue\n",
    "    for mask in res_dict[prompt]:\n",
    "        mask_rgb = np.zeros((*mask.shape, 4))  # RGBA format\n",
    "        mask_rgb[..., :3] = color / 255  # Assign RGB color\n",
    "        mask_rgb[..., 3] = mask * 0.8  # Alpha channel (transparency)\n",
    "        image_proc[mask.astype(bool)] = color / 255\n",
    "        unknown_mask += mask\n",
    "        plt.imshow(mask_rgb, interpolation=\"none\")\n",
    "\n",
    "unknown_rgb = np.zeros((*image_rgb.shape[:2], 4))  # RGBA format\n",
    "unknown_rgb[..., :3] = prompt2color[\"unknown\"] / 255  # Assign RGB color\n",
    "unknown_rgb[..., 3] = (unknown_mask == 0) * 0.8\n",
    "plt.imshow(unknown_rgb, interpolation=\"none\")\n",
    "\n",
    "legend_elements = [\n",
    "    Line2D(\n",
    "        [0],\n",
    "        [0],\n",
    "        marker=\"o\",\n",
    "        label=label,\n",
    "        markerfacecolor=color / 255,\n",
    "        markersize=10,\n",
    "        linestyle=\"None\",\n",
    "        markeredgewidth=0,\n",
    "    )\n",
    "    for label, _, color in semantic_data\n",
    "]\n",
    "\n",
    "\n",
    "plt.legend(handles=legend_elements, loc=\"upper left\", ncol=2)\n",
    "plt.show()\n",
    "\n",
    "plt.imshow(image_proc)\n",
    "plt.legend(handles=legend_elements, loc=\"upper left\", ncol=2)\n",
    "plt.show()\n",
    "\n",
    "plt.imshow(image_sem)\n",
    "plt.show()"
   ]
  },
  {
   "cell_type": "code",
   "execution_count": null,
   "metadata": {},
   "outputs": [],
   "source": [
    "np.unique(image_proc.reshape(-1, image_proc.shape[2]), axis=0) * 255"
   ]
  },
  {
   "cell_type": "code",
   "execution_count": null,
   "metadata": {},
   "outputs": [],
   "source": [
    "from scipy import ndimage\n",
    "\n",
    "\n",
    "def plot_semantic_labels(image):\n",
    "    plt.imshow(image)\n",
    "\n",
    "    unique_colors = np.unique(image.reshape(-1, image.shape[2]), axis=0)\n",
    "\n",
    "    # Process each unique color\n",
    "    for label, _, color in semantic_data:\n",
    "        # Create a binary mask for the current color\n",
    "        mask = np.all(image == color, axis=-1).astype(np.uint8)\n",
    "        mask |= np.all(image * 255 == color, axis=-1).astype(np.uint8)\n",
    "\n",
    "        # Find connected components\n",
    "        labeled_array, num_features = ndimage.label(mask)\n",
    "\n",
    "        # Compute centroids of the connected components\n",
    "        centroids = ndimage.center_of_mass(mask, labeled_array, range(1, num_features + 1))\n",
    "\n",
    "        # Plot centroids and label them with the color\n",
    "        if label not in (\"Unknown\"):\n",
    "            for centroid in centroids:\n",
    "                y, x = int(centroid[0]), int(centroid[1])  # Convert to integer\n",
    "                plt.text(\n",
    "                    x,\n",
    "                    y,\n",
    "                    label,\n",
    "                    color=\"white\",\n",
    "                    fontsize=6,\n",
    "                    bbox=dict(facecolor=\"black\", edgecolor=\"none\", alpha=0),\n",
    "                )\n",
    "\n",
    "    # Show the result\n",
    "    plt.show()\n",
    "\n",
    "\n",
    "plot_semantic_labels(image_sem)\n",
    "plot_semantic_labels(image_proc)"
   ]
  },
  {
   "cell_type": "code",
   "execution_count": null,
   "metadata": {},
   "outputs": [],
   "source": []
  }
 ],
 "metadata": {
  "kernelspec": {
   "display_name": "lac",
   "language": "python",
   "name": "python3"
  },
  "language_info": {
   "codemirror_mode": {
    "name": "ipython",
    "version": 3
   },
   "file_extension": ".py",
   "mimetype": "text/x-python",
   "name": "python",
   "nbconvert_exporter": "python",
   "pygments_lexer": "ipython3",
   "version": "3.10.16"
  }
 },
 "nbformat": 4,
 "nbformat_minor": 2
}
