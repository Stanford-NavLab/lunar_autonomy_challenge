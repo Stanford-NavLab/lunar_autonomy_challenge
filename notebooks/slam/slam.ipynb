{
 "cells": [
  {
   "cell_type": "markdown",
   "metadata": {},
   "source": [
    "# Visual SLAM\n",
    "\n",
    "1. Initialization: At first frame, initialize map with 3D points from stereo.\n",
    "2. Tracking:\n",
    "   - at frame i+1, match keypoints between i and i+1\n"
   ]
  },
  {
   "cell_type": "code",
   "execution_count": null,
   "metadata": {},
   "outputs": [],
   "source": [
    "import os\n",
    "import numpy as np\n",
    "import cv2\n",
    "from pathlib import Path\n",
    "import matplotlib.pyplot as plt\n",
    "from tqdm import tqdm\n",
    "import torch\n",
    "\n",
    "from lightglue import LightGlue, SuperPoint\n",
    "from lightglue.utils import rbd\n",
    "\n",
    "from lac.perception.vision import LightGlueMatcher\n",
    "from lac.perception.depth import project_pixel_to_rover\n",
    "from lac.utils.frames import apply_transform\n",
    "from lac.utils.plotting import plot_3d_points, plot_surface, plot_poses, plot_path_3d\n",
    "from lac.util import load_data, grayscale_to_3ch_tensor\n",
    "from lac.params import LAC_BASE_PATH, DT\n",
    "\n",
    "%load_ext autoreload\n",
    "%autoreload 2"
   ]
  },
  {
   "cell_type": "code",
   "execution_count": null,
   "metadata": {},
   "outputs": [],
   "source": [
    "data_path = Path(LAC_BASE_PATH) / \"output/DataCollectionAgent/map1_preset0_stereo_lights1.0\"\n",
    "initial_pose, lander_pose, poses, imu_data, cam_config = load_data(data_path)\n",
    "print(f\"Num poses: {len(poses)}\")\n",
    "\n",
    "map = np.load(\n",
    "    Path(LAC_BASE_PATH) / \"data/heightmaps/competition/Moon_Map_01_preset_0.dat\",\n",
    "    allow_pickle=True,\n",
    ")"
   ]
  },
  {
   "cell_type": "code",
   "execution_count": null,
   "metadata": {},
   "outputs": [],
   "source": [
    "LAST_FRAME = len(poses)\n",
    "\n",
    "left_imgs = {}\n",
    "right_imgs = {}\n",
    "\n",
    "for img_name in os.listdir(data_path / \"FrontLeft\"):\n",
    "    if int(img_name.split(\".\")[0]) > LAST_FRAME:\n",
    "        continue\n",
    "    left_imgs[int(img_name.split(\".\")[0])] = cv2.imread(\n",
    "        str(data_path / \"FrontLeft\" / img_name), cv2.IMREAD_GRAYSCALE\n",
    "    )\n",
    "\n",
    "for img_name in os.listdir(data_path / \"FrontRight\"):\n",
    "    if int(img_name.split(\".\")[0]) > LAST_FRAME:\n",
    "        continue\n",
    "    right_imgs[int(img_name.split(\".\")[0])] = cv2.imread(\n",
    "        str(data_path / \"FrontRight\" / img_name), cv2.IMREAD_GRAYSCALE\n",
    "    )\n",
    "\n",
    "assert len(left_imgs.keys()) == len(right_imgs.keys())\n",
    "img_idxs = sorted(left_imgs.keys())"
   ]
  },
  {
   "cell_type": "code",
   "execution_count": null,
   "metadata": {},
   "outputs": [],
   "source": [
    "fig = plot_surface(map)\n",
    "fig = plot_poses(poses[::20], fig=fig)\n",
    "fig.show()"
   ]
  },
  {
   "cell_type": "markdown",
   "metadata": {},
   "source": [
    "## Stereo (PnP) VO\n"
   ]
  },
  {
   "cell_type": "code",
   "execution_count": null,
   "metadata": {},
   "outputs": [],
   "source": [
    "from lac.localization.slam.visual_odometry import StereoVisualOdometry"
   ]
  },
  {
   "cell_type": "code",
   "execution_count": null,
   "metadata": {},
   "outputs": [],
   "source": [
    "svo = StereoVisualOdometry(cam_config)"
   ]
  },
  {
   "cell_type": "code",
   "execution_count": null,
   "metadata": {},
   "outputs": [],
   "source": [
    "start_idx = 80\n",
    "svo.initialize(poses[start_idx], left_imgs[start_idx], right_imgs[start_idx])"
   ]
  },
  {
   "cell_type": "code",
   "execution_count": null,
   "metadata": {},
   "outputs": [],
   "source": [
    "svo_poses = [poses[start_idx]]\n",
    "\n",
    "end_idx = img_idxs[-1]\n",
    "# end_idx = 2000\n",
    "\n",
    "for idx in tqdm(np.arange(start_idx + 2, end_idx, 2)):\n",
    "    svo.track(left_imgs[idx], right_imgs[idx])\n",
    "    svo_poses.append(svo.rover_pose)"
   ]
  },
  {
   "cell_type": "code",
   "execution_count": null,
   "metadata": {},
   "outputs": [],
   "source": [
    "fig = plot_poses(poses, no_axes=True, color=\"black\", name=\"Ground Truth\")\n",
    "fig = plot_poses(svo_poses, no_axes=True, fig=fig, color=\"red\", name=\"Stereo (PnP) VO\")\n",
    "fig.show()"
   ]
  },
  {
   "cell_type": "code",
   "execution_count": null,
   "metadata": {},
   "outputs": [],
   "source": [
    "len(svo_poses), len(poses)"
   ]
  },
  {
   "cell_type": "code",
   "execution_count": null,
   "metadata": {},
   "outputs": [],
   "source": [
    "fig.write_html(\"stereo_pnp_vo_full_spiral.html\")"
   ]
  },
  {
   "cell_type": "markdown",
   "metadata": {},
   "source": [
    "# SymForce\n"
   ]
  },
  {
   "cell_type": "code",
   "execution_count": null,
   "metadata": {},
   "outputs": [],
   "source": [
    "import time\n",
    "import symforce\n",
    "\n",
    "try:\n",
    "    symforce.set_epsilon_to_symbol()\n",
    "except symforce.AlreadyUsedEpsilon:\n",
    "    print(\"Already set symforce epsilon\")\n",
    "    pass\n",
    "\n",
    "from lac.localization.factor_graph import FactorGraph\n",
    "from lac.localization.slam.feature_tracker import FeatureTracker"
   ]
  },
  {
   "cell_type": "code",
   "execution_count": null,
   "metadata": {},
   "outputs": [],
   "source": [
    "tracker = FeatureTracker(cam_config)\n",
    "graph = FactorGraph()\n",
    "\n",
    "START_FRAME = 80\n",
    "# tracker.initialize(poses[START_FRAME], left_imgs[START_FRAME], right_imgs[START_FRAME])\n",
    "tracker.initialize(initial_pose, left_imgs[START_FRAME], right_imgs[START_FRAME])"
   ]
  },
  {
   "cell_type": "code",
   "execution_count": null,
   "metadata": {},
   "outputs": [],
   "source": [
    "N = 1000\n",
    "UPDATE_RATE = 10\n",
    "WINDOW_SIZE = 20\n",
    "\n",
    "curr_pose = initial_pose\n",
    "graph.add_pose(0, initial_pose)\n",
    "\n",
    "# i is step which is 0 for initial and starts at 1 for the first run_step call\n",
    "for i in tqdm(range(1, N)):\n",
    "    if i < START_FRAME:\n",
    "        graph.add_pose(i, poses[i])\n",
    "    else:\n",
    "        graph.add_pose(i, svo_poses[i - START_FRAME])\n",
    "\n",
    "    # Add IMU factors\n",
    "    if i > 1:\n",
    "        graph.add_accel_factor(i, imu_data[i - 1][:3])\n",
    "    graph.add_gyro_factor(i, imu_data[i - 1][3:])\n",
    "\n",
    "    # Add vision factors\n",
    "    if i % 2 == 0 and i > START_FRAME:\n",
    "        tracker.track(left_imgs[i])\n",
    "\n",
    "        for k in range(len(tracker.track_ids)):\n",
    "            graph.add_reprojection_factor(\n",
    "                i, tracker.prev_pts[k], tracker.world_points[k], tracker.track_ids[k]\n",
    "            )\n",
    "\n",
    "    # Sliding window optimization\n",
    "    # if i % UPDATE_RATE == 0:\n",
    "    #     result = graph.optimize(window=(i - UPDATE_RATE, i))\n",
    "    #     curr_pose = graph.get_pose(i)"
   ]
  },
  {
   "cell_type": "code",
   "execution_count": null,
   "metadata": {},
   "outputs": [],
   "source": [
    "# Batch optimization\n",
    "result = graph.optimize(verbose=True)\n",
    "fgo_poses = graph.get_all_poses()"
   ]
  },
  {
   "cell_type": "code",
   "execution_count": null,
   "metadata": {},
   "outputs": [],
   "source": [
    "fig = plot_poses(poses[:N], no_axes=True, color=\"black\", name=\"Ground truth\")\n",
    "fig = plot_poses(fgo_poses[:N], fig=fig, no_axes=True, color=\"green\", name=\"FGO\")\n",
    "fig.update_layout(height=900, width=1600, scene_aspectmode=\"data\")\n",
    "fig.show()"
   ]
  },
  {
   "cell_type": "markdown",
   "metadata": {},
   "source": [
    "# GTSAM\n"
   ]
  },
  {
   "cell_type": "code",
   "execution_count": null,
   "metadata": {},
   "outputs": [],
   "source": [
    "import gtsam\n",
    "from gtsam.symbol_shorthand import B, V, X, L\n",
    "\n",
    "from lac.localization.gtsam_factor_graph import GtsamFactorGraph"
   ]
  },
  {
   "cell_type": "markdown",
   "metadata": {},
   "source": [
    "## GTSAM IMU factors\n"
   ]
  },
  {
   "cell_type": "code",
   "execution_count": null,
   "metadata": {},
   "outputs": [],
   "source": [
    "from gtsam import imuBias, noiseModel, PriorFactorConstantBias"
   ]
  },
  {
   "cell_type": "code",
   "execution_count": null,
   "metadata": {},
   "outputs": [],
   "source": [
    "g = 1.622\n",
    "IMU_PARAMS = gtsam.PreintegrationParams.MakeSharedU(g)\n",
    "I = np.eye(3)\n",
    "IMU_PARAMS.setAccelerometerCovariance(I * 0.2)\n",
    "IMU_PARAMS.setGyroscopeCovariance(I * 0.2)\n",
    "IMU_PARAMS.setIntegrationCovariance(I * 0.2)"
   ]
  },
  {
   "cell_type": "code",
   "execution_count": null,
   "metadata": {},
   "outputs": [],
   "source": [
    "graph = gtsam.NonlinearFactorGraph()\n",
    "initial_estimate = gtsam.Values()\n",
    "\n",
    "pose_key = X(0)\n",
    "pose_noise = gtsam.noiseModel.Diagonal.Sigmas(0.5 * np.ones(6))\n",
    "pose_0 = gtsam.Pose3(poses[0])\n",
    "graph.push_back(gtsam.PriorFactorPose3(pose_key, pose_0, pose_noise))\n",
    "initial_estimate.insert(pose_key, pose_0)\n",
    "\n",
    "# IMU prior\n",
    "bias_key = B(0)\n",
    "# bias_noise = gtsam.noiseModel.Isotropic.Sigma(6, 0.01)\n",
    "# graph.push_back(gtsam.PriorFactorConstantBias(bias_key, gtsam.imuBias.ConstantBias(), bias_noise))\n",
    "# initial_estimate.insert(bias_key, gtsam.imuBias.ConstantBias())\n",
    "zero_bias = imuBias.ConstantBias(np.zeros(3), np.zeros(3))\n",
    "graph.add(PriorFactorConstantBias(bias_key, zero_bias, noiseModel.Constrained.All(6)))\n",
    "initial_estimate.insert(bias_key, zero_bias)\n",
    "\n",
    "velocity_key = V(0)\n",
    "velocity_noise = gtsam.noiseModel.Isotropic.Sigma(3, 0.2)\n",
    "velocity_0 = np.array([0.0, 0.0, 0])\n",
    "graph.push_back(gtsam.PriorFactorVector(velocity_key, velocity_0, velocity_noise))\n",
    "initial_estimate.insert(velocity_key, velocity_0)\n",
    "\n",
    "# Preintegrator\n",
    "accum = gtsam.PreintegratedImuMeasurements(IMU_PARAMS)\n",
    "\n",
    "n_frames = 1000\n",
    "\n",
    "for i in range(1, n_frames):\n",
    "    accum.integrateMeasurement(imu_data[i, :3], imu_data[i, 3:], DT)\n",
    "\n",
    "    pose_key += 1\n",
    "    DELTA = gtsam.Pose3(\n",
    "        gtsam.Rot3.Rodrigues(0, 0, 0.1 * np.random.randn()),\n",
    "        gtsam.Point3(0.5 * np.random.randn(), 0.5 * np.random.randn(), 0.5 * np.random.randn()),\n",
    "    )\n",
    "    # Initialize with noisy ground truth poses\n",
    "    # initial_estimate.insert(pose_key, gtsam.Pose3(poses[i]).compose(DELTA))\n",
    "    initial_estimate.insert(pose_key, gtsam.Pose3(poses[i]))\n",
    "\n",
    "    velocity_key += 1\n",
    "    initial_estimate.insert(velocity_key, np.array([0.0, 0.0, 0]))\n",
    "\n",
    "    graph.add(\n",
    "        gtsam.ImuFactor(pose_key - 1, velocity_key - 1, pose_key, velocity_key, bias_key, accum)\n",
    "    )\n",
    "\n",
    "    accum.resetIntegration()"
   ]
  },
  {
   "cell_type": "code",
   "execution_count": null,
   "metadata": {},
   "outputs": [],
   "source": [
    "params = gtsam.LevenbergMarquardtParams()\n",
    "# params.setMaxIterations(100)\n",
    "# params.setlambdaUpperBound(1.e+6)\n",
    "# params.setlambdaLowerBound(0.1)\n",
    "# params.setDiagonalDamping(1000)\n",
    "# params.setVerbosity('ERROR')\n",
    "# params.setVerbosityLM('SUMMARY')\n",
    "# params.setRelativeErrorTol(1.e-9)\n",
    "# params.setAbsoluteErrorTol(1.e-9)"
   ]
  },
  {
   "cell_type": "code",
   "execution_count": null,
   "metadata": {},
   "outputs": [],
   "source": [
    "optimizer = gtsam.LevenbergMarquardtOptimizer(graph, initial_estimate, params)\n",
    "# result = optimizer.optimize()\n",
    "for i in range(10):\n",
    "    print(f\"Iteration {i + 1}, Total Error: {graph.error(optimizer.values())}\")\n",
    "    optimizer.iterate()"
   ]
  },
  {
   "cell_type": "code",
   "execution_count": null,
   "metadata": {},
   "outputs": [],
   "source": [
    "est_traj = np.array([result.atPose3(X(k)).translation() for k in range(n_frames)])\n",
    "\n",
    "fig = plot_poses(poses[:n_frames], no_axes=True, color=\"black\", name=\"Ground Truth\")\n",
    "fig = plot_path_3d(est_traj, fig=fig, color=\"red\", name=\"GTSAM IMU\")\n",
    "fig.show()"
   ]
  },
  {
   "cell_type": "markdown",
   "metadata": {},
   "source": [
    "## GTSAM projection factors\n"
   ]
  },
  {
   "cell_type": "code",
   "execution_count": null,
   "metadata": {},
   "outputs": [],
   "source": [
    "import gtsam\n",
    "from gtsam.symbol_shorthand import B, V, X, L\n",
    "from gtsam import Cal3_S2, GenericProjectionFactorCal3_S2"
   ]
  },
  {
   "cell_type": "code",
   "execution_count": null,
   "metadata": {},
   "outputs": [],
   "source": [
    "from gtsam import Stere"
   ]
  },
  {
   "cell_type": "code",
   "execution_count": null,
   "metadata": {},
   "outputs": [],
   "source": [
    "g = 1.622\n",
    "IMU_PARAMS = gtsam.PreintegrationParams.MakeSharedU(g)\n",
    "I = np.eye(3)\n",
    "IMU_PARAMS.setAccelerometerCovariance(I * 0.2)\n",
    "IMU_PARAMS.setGyroscopeCovariance(I * 0.2)\n",
    "IMU_PARAMS.setIntegrationCovariance(I * 0.2)"
   ]
  },
  {
   "cell_type": "code",
   "execution_count": null,
   "metadata": {},
   "outputs": [],
   "source": [
    "graph = gtsam.NonlinearFactorGraph()\n",
    "initial_estimate = gtsam.Values()\n",
    "\n",
    "pose_key = X(0)\n",
    "pose_noise = gtsam.noiseModel.Diagonal.Sigmas(0.01 * np.ones(6))\n",
    "pose_0 = gtsam.Pose3(poses[0])\n",
    "graph.push_back(gtsam.PriorFactorPose3(pose_key, pose_0, pose_noise))\n",
    "initial_estimate.insert(pose_key, pose_0)\n",
    "\n",
    "velocity_key = V(0)\n",
    "velocity_noise = gtsam.noiseModel.Isotropic.Sigma(3, 0.1)\n",
    "velocity_0 = np.zeros(3)\n",
    "graph.push_back(gtsam.PriorFactorVector(velocity_key, velocity_0, velocity_noise))\n",
    "\n",
    "# Preintegrator\n",
    "accum = gtsam.PreintegratedImuMeasurements(IMU_PARAMS)\n",
    "\n",
    "n_frames = 100\n",
    "\n",
    "for i in range(0, n_frames):\n",
    "    accum.integrateMeasurement(imu_data[i, :3], imu_data[i, 3:], params.DT)\n",
    "    pose_key += 1\n",
    "    DELTA = gtsam.Pose3(\n",
    "        gtsam.Rot3.Rodrigues(0, 0, 0.1 * np.random.randn()),\n",
    "        gtsam.Point3(4 * np.random.randn(), 4 * np.random.randn(), 4 * np.random.randn()),\n",
    "    )"
   ]
  },
  {
   "cell_type": "code",
   "execution_count": null,
   "metadata": {},
   "outputs": [],
   "source": []
  }
 ],
 "metadata": {
  "kernelspec": {
   "display_name": "lac",
   "language": "python",
   "name": "python3"
  },
  "language_info": {
   "codemirror_mode": {
    "name": "ipython",
    "version": 3
   },
   "file_extension": ".py",
   "mimetype": "text/x-python",
   "name": "python",
   "nbconvert_exporter": "python",
   "pygments_lexer": "ipython3",
   "version": "3.10.16"
  }
 },
 "nbformat": 4,
 "nbformat_minor": 2
}
