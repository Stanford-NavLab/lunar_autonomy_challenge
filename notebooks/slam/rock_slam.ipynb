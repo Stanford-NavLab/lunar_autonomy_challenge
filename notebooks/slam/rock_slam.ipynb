{
 "cells": [
  {
   "cell_type": "code",
   "execution_count": null,
   "metadata": {},
   "outputs": [],
   "source": [
    "import numpy as np\n",
    "import cv2\n",
    "from tqdm import tqdm\n",
    "from pathlib import Path\n",
    "from gtsam.symbol_shorthand import X\n",
    "import matplotlib.pyplot as plt\n",
    "\n",
    "from lac.slam.feature_tracker import FeatureTracker\n",
    "from lac.perception.segmentation import UnetSegmentation\n",
    "from lac.utils.plotting import plot_poses, plot_surface, plot_3d_points\n",
    "from lac.util import load_data, load_stereo_images\n",
    "from lac.params import LAC_BASE_PATH\n",
    "\n",
    "%load_ext autoreload\n",
    "%autoreload 2"
   ]
  },
  {
   "cell_type": "code",
   "execution_count": null,
   "metadata": {},
   "outputs": [],
   "source": [
    "# Load the data logs\n",
    "data_path = Path(LAC_BASE_PATH) / \"output/DataCollectionAgent/stereo_lights1.0_map1_preset1\"\n",
    "initial_pose, lander_pose, poses, imu_data, cam_config = load_data(data_path)\n",
    "print(f\"Loaded {len(poses)} poses\")\n",
    "\n",
    "# Load the images\n",
    "left_imgs, right_imgs = load_stereo_images(data_path)\n",
    "\n",
    "# Load the ground truth map\n",
    "map = np.load(\n",
    "    Path(LAC_BASE_PATH) / \"data/heightmaps/competition/Moon_Map_01_preset_0.dat\",\n",
    "    allow_pickle=True,\n",
    ")"
   ]
  },
  {
   "cell_type": "code",
   "execution_count": null,
   "metadata": {},
   "outputs": [],
   "source": [
    "segmentation = UnetSegmentation()\n",
    "tracker = FeatureTracker(cam_config)"
   ]
  },
  {
   "cell_type": "markdown",
   "metadata": {},
   "source": [
    "Frontend:\n",
    "\n",
    "- Run both segmentation and feature extraction on left and right images\n",
    "- Triangulate feature matches. For keypoints labeled as rock, group them together\n",
    "\n",
    "Rock map:\n",
    "\n",
    "- Each rock has a set of world points with associated descriptors (these descriptors should probably also be associated with a viewing direction since the apperance of a rock can change with viewing direction)\n",
    "-\n",
    "\n",
    "Graph SLAM:\n",
    "\n",
    "- In the graph, we have a landmark for each rock corresponding to its centroid point\n",
    "- For each keyframe, we determine the observed pixel centroid of the rock based on segementation outputs, and use that to add reprojection factors\n"
   ]
  },
  {
   "cell_type": "code",
   "execution_count": null,
   "metadata": {},
   "outputs": [],
   "source": [
    "START_FRAME = 80"
   ]
  },
  {
   "cell_type": "code",
   "execution_count": null,
   "metadata": {},
   "outputs": [],
   "source": [
    "left_image = left_imgs[100]\n",
    "right_image = right_imgs[100]\n",
    "\n",
    "fig, ax = plt.subplots(1, 2, figsize=(18, 10))\n",
    "ax[0].imshow(left_image, cmap=\"gray\")\n",
    "ax[1].imshow(right_image, cmap=\"gray\")\n",
    "ax[0].axis(\"off\")\n",
    "ax[1].axis(\"off\")\n",
    "plt.subplots_adjust(wspace=0.03)\n",
    "plt.show()"
   ]
  },
  {
   "cell_type": "code",
   "execution_count": null,
   "metadata": {},
   "outputs": [],
   "source": [
    "from lac.utils.visualization import overlay_mask"
   ]
  },
  {
   "cell_type": "code",
   "execution_count": null,
   "metadata": {},
   "outputs": [],
   "source": [
    "left_masks, left_full_mask = segmentation.segment_rocks(left_image)\n",
    "right_masks, right_full_mask = segmentation.segment_rocks(right_image)\n",
    "\n",
    "left_seg_overlay = overlay_mask(left_image, left_full_mask, color=(1, 0, 0))\n",
    "right_seg_overlay = overlay_mask(right_image, right_full_mask, color=(1, 0, 0))\n",
    "\n",
    "fig, ax = plt.subplots(1, 2, figsize=(18, 10))\n",
    "ax[0].imshow(left_seg_overlay)\n",
    "ax[1].imshow(right_seg_overlay)\n",
    "ax[0].axis(\"off\")\n",
    "ax[1].axis(\"off\")\n",
    "plt.subplots_adjust(wspace=0.03)\n",
    "plt.show()"
   ]
  },
  {
   "cell_type": "code",
   "execution_count": null,
   "metadata": {},
   "outputs": [],
   "source": [
    "from lac.slam.feature_tracker import prune_features"
   ]
  },
  {
   "cell_type": "code",
   "execution_count": null,
   "metadata": {},
   "outputs": [],
   "source": [
    "left_feats, right_feats, matches, depths = tracker.process_stereo(left_image, right_image)\n",
    "\n",
    "left_matched_feats = prune_features(left_feats, matches[:, 0])\n",
    "left_matched_pts = left_matched_feats[\"keypoints\"][0].cpu().numpy()\n",
    "right_matched_feats = prune_features(right_feats, matches[:, 1])\n",
    "right_matched_pts = right_matched_feats[\"keypoints\"][0].cpu().numpy()"
   ]
  },
  {
   "cell_type": "code",
   "execution_count": null,
   "metadata": {},
   "outputs": [],
   "source": [
    "# Filter to points that are within segmentations\n",
    "\n",
    "# Dilate the masks\n",
    "kernel = np.ones((5, 5), np.uint8)\n",
    "left_full_mask_dilated = cv2.dilate(left_full_mask, kernel, iterations=1)\n",
    "right_full_mask_dilated = cv2.dilate(right_full_mask, kernel, iterations=1)\n",
    "\n",
    "rock_pt_idxs = []\n",
    "\n",
    "for i in range(len(left_matched_pts)):\n",
    "    x_left, y_left = left_matched_pts[i]\n",
    "    x_right, y_right = right_matched_pts[i]\n",
    "    if (\n",
    "        left_full_mask_dilated[int(y_left), int(x_left)]\n",
    "        and right_full_mask_dilated[int(y_right), int(x_right)]\n",
    "    ):\n",
    "        rock_pt_idxs.append(i)"
   ]
  },
  {
   "cell_type": "code",
   "execution_count": null,
   "metadata": {},
   "outputs": [],
   "source": [
    "left_rock_matched_pts = left_matched_pts[rock_pt_idxs]\n",
    "right_rock_matched_pts = right_matched_pts[rock_pt_idxs]"
   ]
  },
  {
   "cell_type": "code",
   "execution_count": null,
   "metadata": {},
   "outputs": [],
   "source": [
    "from lightglue import viz2d\n",
    "\n",
    "viz2d.plot_images([left_seg_overlay, right_seg_overlay])\n",
    "viz2d.plot_matches(left_rock_matched_pts, right_rock_matched_pts, color=\"lime\", lw=0.2)"
   ]
  },
  {
   "cell_type": "code",
   "execution_count": null,
   "metadata": {},
   "outputs": [],
   "source": []
  }
 ],
 "metadata": {
  "kernelspec": {
   "display_name": "lac",
   "language": "python",
   "name": "python3"
  },
  "language_info": {
   "codemirror_mode": {
    "name": "ipython",
    "version": 3
   },
   "file_extension": ".py",
   "mimetype": "text/x-python",
   "name": "python",
   "nbconvert_exporter": "python",
   "pygments_lexer": "ipython3",
   "version": "3.10.16"
  }
 },
 "nbformat": 4,
 "nbformat_minor": 2
}
