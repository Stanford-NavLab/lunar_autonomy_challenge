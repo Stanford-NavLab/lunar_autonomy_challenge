{
 "cells": [
  {
   "cell_type": "code",
   "execution_count": null,
   "metadata": {},
   "outputs": [],
   "source": [
    "%load_ext autoreload\n",
    "%autoreload 2"
   ]
  },
  {
   "cell_type": "markdown",
   "metadata": {},
   "source": [
    "# GTSAM SFM example\n",
    "\n",
    "https://github.com/borglab/gtsam/blob/develop/python/gtsam/examples/SFMExample.py\n"
   ]
  },
  {
   "cell_type": "code",
   "execution_count": null,
   "metadata": {},
   "outputs": [],
   "source": [
    "import gtsam\n",
    "import matplotlib.pyplot as plt\n",
    "import numpy as np\n",
    "from gtsam import symbol_shorthand\n",
    "\n",
    "L = symbol_shorthand.L\n",
    "X = symbol_shorthand.X\n",
    "\n",
    "from gtsam.examples import SFMdata\n",
    "from gtsam import (\n",
    "    Cal3_S2,\n",
    "    DoglegOptimizer,\n",
    "    GenericProjectionFactorCal3_S2,\n",
    "    Marginals,\n",
    "    NonlinearFactorGraph,\n",
    "    PinholeCameraCal3_S2,\n",
    "    Point3,\n",
    "    Pose3,\n",
    "    PriorFactorPoint3,\n",
    "    PriorFactorPose3,\n",
    "    Rot3,\n",
    "    Values,\n",
    ")\n",
    "from gtsam.utils import plot"
   ]
  },
  {
   "cell_type": "code",
   "execution_count": null,
   "metadata": {},
   "outputs": [],
   "source": [
    "# Define the camera calibration parameters\n",
    "K = Cal3_S2(50.0, 50.0, 0.0, 50.0, 50.0)\n",
    "\n",
    "# Define the camera observation noise model\n",
    "measurement_noise = gtsam.noiseModel.Isotropic.Sigma(2, 1.0)  # one pixel in u and v\n",
    "\n",
    "# Create the set of ground-truth landmarks\n",
    "points = SFMdata.createPoints()\n",
    "\n",
    "# Create the set of ground-truth poses\n",
    "poses = SFMdata.createPoses(K)\n",
    "\n",
    "# Create a factor graph\n",
    "graph = NonlinearFactorGraph()\n",
    "\n",
    "# Add a prior on pose x1. This indirectly specifies where the origin is.\n",
    "# 0.3 rad std on roll,pitch,yaw and 0.1m on x,y,z\n",
    "pose_noise = gtsam.noiseModel.Diagonal.Sigmas(np.array([0.3, 0.3, 0.3, 0.1, 0.1, 0.1]))\n",
    "factor = PriorFactorPose3(X(0), poses[0], pose_noise)\n",
    "graph.push_back(factor)\n",
    "\n",
    "# Simulated measurements from each camera pose, adding them to the factor graph\n",
    "for i, pose in enumerate(poses):\n",
    "    camera = PinholeCameraCal3_S2(pose, K)\n",
    "    for j, point in enumerate(points):\n",
    "        measurement = camera.project(point)\n",
    "        factor = GenericProjectionFactorCal3_S2(measurement, measurement_noise, X(i), L(j), K)\n",
    "        graph.push_back(factor)"
   ]
  },
  {
   "cell_type": "code",
   "execution_count": null,
   "metadata": {},
   "outputs": [],
   "source": [
    "measurement"
   ]
  },
  {
   "cell_type": "code",
   "execution_count": null,
   "metadata": {},
   "outputs": [],
   "source": [
    "# Because the structure-from-motion problem has a scale ambiguity, the problem is still under-constrained\n",
    "# Here we add a prior on the position of the first landmark. This fixes the scale by indicating the distance\n",
    "# between the first camera and the first landmark. All other landmark positions are interpreted using this scale.\n",
    "point_noise = gtsam.noiseModel.Isotropic.Sigma(3, 0.1)\n",
    "factor = PriorFactorPoint3(L(0), points[0], point_noise)\n",
    "graph.push_back(factor)\n",
    "graph.print(\"Factor Graph:\\n\")\n",
    "\n",
    "# Create the data structure to hold the initial estimate to the solution\n",
    "# Intentionally initialize the variables off from the ground truth\n",
    "initial_estimate = Values()\n",
    "for i, pose in enumerate(poses):\n",
    "    transformed_pose = pose.retract(0.1 * np.random.randn(6, 1))\n",
    "    initial_estimate.insert(X(i), transformed_pose)\n",
    "for j, point in enumerate(points):\n",
    "    transformed_point = point + 0.1 * np.random.randn(3)\n",
    "    initial_estimate.insert(L(j), transformed_point)\n",
    "initial_estimate.print(\"Initial Estimates:\\n\")"
   ]
  },
  {
   "cell_type": "code",
   "execution_count": null,
   "metadata": {},
   "outputs": [],
   "source": [
    "# Optimize the graph and print results\n",
    "params = gtsam.DoglegParams()\n",
    "params.setVerbosity(\"TERMINATION\")\n",
    "optimizer = DoglegOptimizer(graph, initial_estimate, params)\n",
    "print(\"Optimizing:\")\n",
    "result = optimizer.optimize()\n",
    "result.print(\"Final results:\\n\")\n",
    "print(\"initial error = {}\".format(graph.error(initial_estimate)))\n",
    "print(\"final error = {}\".format(graph.error(result)))\n",
    "\n",
    "marginals = Marginals(graph, result)\n",
    "plot.plot_3d_points(1, result, marginals=marginals)\n",
    "plot.plot_trajectory(1, result, marginals=marginals, scale=8)\n",
    "plot.set_axes_equal(1)\n",
    "plt.show()"
   ]
  },
  {
   "cell_type": "markdown",
   "metadata": {},
   "source": [
    "# Fixed lag smoother\n",
    "\n",
    "https://github.com/borglab/gtsam/blob/develop/python/gtsam/examples/FixedLagSmootherExample.py\n"
   ]
  },
  {
   "cell_type": "code",
   "execution_count": null,
   "metadata": {},
   "outputs": [],
   "source": [
    "import numpy as np\n",
    "\n",
    "import gtsam\n",
    "import gtsam_unstable"
   ]
  },
  {
   "cell_type": "code",
   "execution_count": null,
   "metadata": {},
   "outputs": [],
   "source": [
    "# Define a batch fixed lag smoother, which uses\n",
    "# Levenberg-Marquardt to perform the nonlinear optimization\n",
    "lag = 2.0\n",
    "smoother_batch = gtsam_unstable.BatchFixedLagSmoother(lag)\n",
    "\n",
    "# Create containers to store the factors and linearization points\n",
    "# that will be sent to the smoothers\n",
    "new_factors = gtsam.NonlinearFactorGraph()\n",
    "new_values = gtsam.Values()\n",
    "new_timestamps = gtsam_unstable.FixedLagSmootherKeyTimestampMap()\n",
    "\n",
    "# Create  a prior on the first pose, placing it at the origin\n",
    "prior_mean = gtsam.Pose2(0, 0, 0)\n",
    "prior_noise = gtsam.noiseModel.Diagonal.Sigmas(np.array([0.3, 0.3, 0.1]))\n",
    "X1 = 0\n",
    "new_factors.push_back(gtsam.PriorFactorPose2(X1, prior_mean, prior_noise))\n",
    "new_values.insert(X1, prior_mean)\n",
    "new_timestamps.insert((X1, 0.0))\n",
    "\n",
    "delta_time = 0.25\n",
    "time = 0.25"
   ]
  },
  {
   "cell_type": "code",
   "execution_count": null,
   "metadata": {},
   "outputs": [],
   "source": [
    "while time <= 3.0:\n",
    "    previous_key = int(1000 * (time - delta_time))\n",
    "    current_key = int(1000 * time)\n",
    "\n",
    "    # assign current key to the current timestamp\n",
    "    new_timestamps.insert((current_key, time))\n",
    "\n",
    "    # Add a guess for this pose to the new values\n",
    "    # Assume that the robot moves at 2 m/s. Position is time[s] * 2[m/s]\n",
    "    current_pose = gtsam.Pose2(time * 2, 0, 0)\n",
    "    new_values.insert(current_key, current_pose)\n",
    "\n",
    "    # Add odometry factors from two different sources with different error\n",
    "    # stats\n",
    "    odometry_measurement_1 = gtsam.Pose2(0.61, -0.08, 0.02)\n",
    "    odometry_noise_1 = gtsam.noiseModel.Diagonal.Sigmas(np.array([0.1, 0.1, 0.05]))\n",
    "    new_factors.push_back(gtsam.BetweenFactorPose2(previous_key, current_key, odometry_measurement_1, odometry_noise_1))\n",
    "\n",
    "    odometry_measurement_2 = gtsam.Pose2(0.47, 0.03, 0.01)\n",
    "    odometry_noise_2 = gtsam.noiseModel.Diagonal.Sigmas(np.array([0.05, 0.05, 0.05]))\n",
    "    new_factors.push_back(gtsam.BetweenFactorPose2(previous_key, current_key, odometry_measurement_2, odometry_noise_2))\n",
    "\n",
    "    # Update the smoothers with the new factors. In this case,\n",
    "    # one iteration must pass for Levenberg-Marquardt to accurately\n",
    "    # estimate\n",
    "    if time >= 0.50:\n",
    "        factors_to_remove = gtsam.KeyVector([1, 2, 3])  # dummy example\n",
    "        smoother_batch.update(new_factors, new_values, new_timestamps, factors_to_remove)\n",
    "        print(\"Timestamp = \" + str(time) + \", Key = \" + str(current_key))\n",
    "        print(smoother_batch.calculateEstimatePose2(current_key))\n",
    "\n",
    "        new_timestamps.clear()\n",
    "        new_values.clear()\n",
    "        new_factors.resize(0)\n",
    "\n",
    "    time += delta_time"
   ]
  },
  {
   "cell_type": "markdown",
   "metadata": {},
   "source": [
    "# Robust / GNC optimization\n"
   ]
  },
  {
   "cell_type": "code",
   "execution_count": null,
   "metadata": {},
   "outputs": [],
   "source": [
    "import gtsam"
   ]
  },
  {
   "cell_type": "code",
   "execution_count": null,
   "metadata": {},
   "outputs": [],
   "source": [
    "params = gtsam.GncLMParams()"
   ]
  },
  {
   "cell_type": "code",
   "execution_count": null,
   "metadata": {},
   "outputs": [],
   "source": [
    "measurement_noise = gtsam.noiseModel.Isotropic.Sigma(2, 1.0)\n",
    "huber_noise = gtsam.noiseModel.Robust(gtsam.noiseModel.mEstimator.Huber(1.5), measurement_noise)"
   ]
  },
  {
   "cell_type": "code",
   "execution_count": null,
   "metadata": {},
   "outputs": [],
   "source": [
    "optimizer = gtsam.GncLMOptimizer(graph, values, params)"
   ]
  },
  {
   "cell_type": "markdown",
   "metadata": {},
   "source": [
    "# Stereo VO\n",
    "\n",
    "- https://github.com/haidai/gtsam/blob/master/examples/StereoVOExample.cpp\n",
    "- https://github.com/haidai/gtsam/blob/master/examples/StereoVOExample_large.cpp\n"
   ]
  },
  {
   "cell_type": "code",
   "execution_count": null,
   "metadata": {},
   "outputs": [],
   "source": [
    "import gtsam\n",
    "import gtsam_unstable\n",
    "import numpy as np"
   ]
  },
  {
   "cell_type": "code",
   "execution_count": null,
   "metadata": {},
   "outputs": [],
   "source": [
    "gtsam.StereoCamera"
   ]
  },
  {
   "cell_type": "code",
   "execution_count": null,
   "metadata": {},
   "outputs": [],
   "source": [
    "# 1) Create a factor graph\n",
    "graph = gtsam.NonlinearFactorGraph()\n",
    "\n",
    "# 2) Stereo camera calibration (fx, fy, skew, cx, cy, baseline)\n",
    "fx, fy = 600, 600\n",
    "skew = 0.0\n",
    "cx, cy = 320, 240\n",
    "baseline = 0.2  # e.g. 20cm between left and right camera\n",
    "\n",
    "stereo_cal = gtsam.Cal3_S2Stereo(fx, fy, skew, cx, cy, baseline)\n",
    "\n",
    "# 3) Example stereo measurement: (uL, uR, v)\n",
    "#    Suppose in left image, x=250, right image x=230, y=200\n",
    "stereo_meas = gtsam.StereoPoint2(250.0, 230.0, 200.0)\n",
    "\n",
    "# 4) A noise model for the factor (3D measurement => dimension=3)\n",
    "stereo_noise = gtsam.noiseModel.Isotropic.Sigma(3, 1.0)\n",
    "\n",
    "# 5) Create keys for pose and landmark:\n",
    "pose_key = gtsam.symbol(\"x\", 0)  # e.g. x0\n",
    "point_key = gtsam.symbol(\"l\", 0)  # e.g. l0\n",
    "\n",
    "# 6) Add the stereo factor to the graph\n",
    "factor = gtsam.GenericStereoFactor3D(\n",
    "    stereo_meas,  # measured StereoPoint2\n",
    "    stereo_noise,  # noise model\n",
    "    pose_key,  # which Pose3 variable\n",
    "    point_key,  # which Point3 variable\n",
    "    stereo_cal,  # stereo calibration\n",
    ")\n",
    "graph.add(factor)\n",
    "\n",
    "# 7) Create initial guesses in a gtsam.Values\n",
    "initial_estimate = gtsam.Values()\n",
    "\n",
    "# For the pose, let's guess the camera is at origin with no rotation\n",
    "initial_estimate.insert(pose_key, gtsam.Pose3(gtsam.Rot3.Quaternion(1, 0, 0, 0), np.array([0, 0, 0])))\n",
    "\n",
    "# For the landmark, guess some 3D point in front of the camera\n",
    "initial_estimate.insert(point_key, np.array([1.0, 0.0, 5.0]))  # x,y,z\n",
    "\n",
    "# 8) Optimize\n",
    "optimizer = gtsam.LevenbergMarquardtOptimizer(graph, initial_estimate)\n",
    "result = optimizer.optimize()\n",
    "\n",
    "# 9) Print final estimates\n",
    "pose_est = result.atPose3(pose_key)\n",
    "point_est = result.atPoint3(point_key)\n",
    "\n",
    "print(\"Optimized pose:\\n\", pose_est)\n",
    "print(\"Optimized point:\", point_est)\n",
    "\n",
    "# 10) Inspect factor residual\n",
    "error = factor.error(result)\n",
    "unwhitened_res = factor.unwhitenedError(result)\n",
    "print(\"Final factor error:\", error)  # scalar cost\n",
    "print(\"Unwhitened residual:\", unwhitened_res)  # (duL, duR, dv)"
   ]
  },
  {
   "cell_type": "code",
   "execution_count": null,
   "metadata": {},
   "outputs": [],
   "source": [
    "gtsam.StereoCamera"
   ]
  },
  {
   "cell_type": "code",
   "execution_count": null,
   "metadata": {},
   "outputs": [],
   "source": [
    "# init(self: gtsam.gtsam.GenericStereoFactor3D,\n",
    "# measured: gtsam.gtsam.StereoPoint2,\n",
    "# noiseModel: gtsam.gtsam.noiseModel.Base,\n",
    "# poseKey: int,\n",
    "# landmarkKey: int,\n",
    "# K: gtsam.gtsam.Cal3_S2Stereo)\n",
    "gtsam.GenericStereoFactor3D()"
   ]
  },
  {
   "cell_type": "code",
   "execution_count": null,
   "metadata": {},
   "outputs": [],
   "source": [
    "gtsam.GeneralSFMFactor2Cal3_S2\n",
    "gtsam.GeneralSFMFactorCal3Bundler\n",
    "gtsam.GeneralSFMFactorCal3_S2"
   ]
  },
  {
   "cell_type": "markdown",
   "metadata": {},
   "source": [
    "# Custom factors\n",
    "\n",
    "https://github.com/borglab/gtsam/blob/develop/python/gtsam/examples/CustomFactorExample.py\n"
   ]
  },
  {
   "cell_type": "code",
   "execution_count": null,
   "metadata": {},
   "outputs": [],
   "source": []
  },
  {
   "cell_type": "markdown",
   "metadata": {},
   "source": [
    "# ISAM\n"
   ]
  },
  {
   "cell_type": "code",
   "execution_count": null,
   "metadata": {},
   "outputs": [],
   "source": [
    "import gtsam"
   ]
  },
  {
   "cell_type": "code",
   "execution_count": null,
   "metadata": {},
   "outputs": [],
   "source": [
    "graph = gtsam.NonlinearFactorGraph()\n",
    "initial_estimate = gtsam.Values()\n",
    "\n",
    "parameters = gtsam.ISAM2Params()\n",
    "parameters.setRelinearizeThreshold(0.1)\n",
    "parameters.relinearizeSkip = 1\n",
    "isam = gtsam.ISAM2(parameters)"
   ]
  },
  {
   "cell_type": "code",
   "execution_count": null,
   "metadata": {},
   "outputs": [],
   "source": []
  }
 ],
 "metadata": {
  "kernelspec": {
   "display_name": "lac",
   "language": "python",
   "name": "python3"
  },
  "language_info": {
   "codemirror_mode": {
    "name": "ipython",
    "version": 3
   },
   "file_extension": ".py",
   "mimetype": "text/x-python",
   "name": "python",
   "nbconvert_exporter": "python",
   "pygments_lexer": "ipython3",
   "version": "3.10.15"
  }
 },
 "nbformat": 4,
 "nbformat_minor": 2
}
