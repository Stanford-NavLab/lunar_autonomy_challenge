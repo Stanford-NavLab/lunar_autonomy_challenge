{
 "cells": [
  {
   "cell_type": "code",
   "execution_count": null,
   "metadata": {},
   "outputs": [],
   "source": [
    "%load_ext autoreload\n",
    "%autoreload 2"
   ]
  },
  {
   "cell_type": "markdown",
   "metadata": {},
   "source": [
    "# GTSAM SFM example\n"
   ]
  },
  {
   "cell_type": "code",
   "execution_count": null,
   "metadata": {},
   "outputs": [],
   "source": [
    "import gtsam\n",
    "import matplotlib.pyplot as plt\n",
    "import numpy as np\n",
    "from gtsam import symbol_shorthand\n",
    "\n",
    "L = symbol_shorthand.L\n",
    "X = symbol_shorthand.X\n",
    "\n",
    "from gtsam.examples import SFMdata\n",
    "from gtsam import (\n",
    "    Cal3_S2,\n",
    "    DoglegOptimizer,\n",
    "    GenericProjectionFactorCal3_S2,\n",
    "    Marginals,\n",
    "    NonlinearFactorGraph,\n",
    "    PinholeCameraCal3_S2,\n",
    "    Point3,\n",
    "    Pose3,\n",
    "    PriorFactorPoint3,\n",
    "    PriorFactorPose3,\n",
    "    Rot3,\n",
    "    Values,\n",
    ")\n",
    "from gtsam.utils import plot"
   ]
  },
  {
   "cell_type": "code",
   "execution_count": null,
   "metadata": {},
   "outputs": [],
   "source": [
    "# Define the camera calibration parameters\n",
    "K = Cal3_S2(50.0, 50.0, 0.0, 50.0, 50.0)\n",
    "\n",
    "# Define the camera observation noise model\n",
    "measurement_noise = gtsam.noiseModel.Isotropic.Sigma(2, 1.0)  # one pixel in u and v\n",
    "\n",
    "# Create the set of ground-truth landmarks\n",
    "points = SFMdata.createPoints()\n",
    "\n",
    "# Create the set of ground-truth poses\n",
    "poses = SFMdata.createPoses(K)\n",
    "\n",
    "# Create a factor graph\n",
    "graph = NonlinearFactorGraph()\n",
    "\n",
    "# Add a prior on pose x1. This indirectly specifies where the origin is.\n",
    "# 0.3 rad std on roll,pitch,yaw and 0.1m on x,y,z\n",
    "pose_noise = gtsam.noiseModel.Diagonal.Sigmas(np.array([0.3, 0.3, 0.3, 0.1, 0.1, 0.1]))\n",
    "factor = PriorFactorPose3(X(0), poses[0], pose_noise)\n",
    "graph.push_back(factor)\n",
    "\n",
    "# Simulated measurements from each camera pose, adding them to the factor graph\n",
    "for i, pose in enumerate(poses):\n",
    "    camera = PinholeCameraCal3_S2(pose, K)\n",
    "    for j, point in enumerate(points):\n",
    "        measurement = camera.project(point)\n",
    "        factor = GenericProjectionFactorCal3_S2(measurement, measurement_noise, X(i), L(j), K)\n",
    "        graph.push_back(factor)"
   ]
  },
  {
   "cell_type": "code",
   "execution_count": null,
   "metadata": {},
   "outputs": [],
   "source": [
    "measurement"
   ]
  },
  {
   "cell_type": "code",
   "execution_count": null,
   "metadata": {},
   "outputs": [],
   "source": [
    "# Because the structure-from-motion problem has a scale ambiguity, the problem is still under-constrained\n",
    "# Here we add a prior on the position of the first landmark. This fixes the scale by indicating the distance\n",
    "# between the first camera and the first landmark. All other landmark positions are interpreted using this scale.\n",
    "point_noise = gtsam.noiseModel.Isotropic.Sigma(3, 0.1)\n",
    "factor = PriorFactorPoint3(L(0), points[0], point_noise)\n",
    "graph.push_back(factor)\n",
    "graph.print(\"Factor Graph:\\n\")\n",
    "\n",
    "# Create the data structure to hold the initial estimate to the solution\n",
    "# Intentionally initialize the variables off from the ground truth\n",
    "initial_estimate = Values()\n",
    "for i, pose in enumerate(poses):\n",
    "    transformed_pose = pose.retract(0.1 * np.random.randn(6, 1))\n",
    "    initial_estimate.insert(X(i), transformed_pose)\n",
    "for j, point in enumerate(points):\n",
    "    transformed_point = point + 0.1 * np.random.randn(3)\n",
    "    initial_estimate.insert(L(j), transformed_point)\n",
    "initial_estimate.print(\"Initial Estimates:\\n\")"
   ]
  },
  {
   "cell_type": "code",
   "execution_count": null,
   "metadata": {},
   "outputs": [],
   "source": [
    "# Optimize the graph and print results\n",
    "params = gtsam.DoglegParams()\n",
    "params.setVerbosity(\"TERMINATION\")\n",
    "optimizer = DoglegOptimizer(graph, initial_estimate, params)\n",
    "print(\"Optimizing:\")\n",
    "result = optimizer.optimize()\n",
    "result.print(\"Final results:\\n\")\n",
    "print(\"initial error = {}\".format(graph.error(initial_estimate)))\n",
    "print(\"final error = {}\".format(graph.error(result)))\n",
    "\n",
    "marginals = Marginals(graph, result)\n",
    "plot.plot_3d_points(1, result, marginals=marginals)\n",
    "plot.plot_trajectory(1, result, marginals=marginals, scale=8)\n",
    "plot.set_axes_equal(1)\n",
    "plt.show()"
   ]
  },
  {
   "cell_type": "code",
   "execution_count": null,
   "metadata": {},
   "outputs": [],
   "source": []
  }
 ],
 "metadata": {
  "kernelspec": {
   "display_name": "lac",
   "language": "python",
   "name": "python3"
  },
  "language_info": {
   "codemirror_mode": {
    "name": "ipython",
    "version": 3
   },
   "file_extension": ".py",
   "mimetype": "text/x-python",
   "name": "python",
   "nbconvert_exporter": "python",
   "pygments_lexer": "ipython3",
   "version": "3.10.16"
  }
 },
 "nbformat": 4,
 "nbformat_minor": 2
}
