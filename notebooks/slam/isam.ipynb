{
 "cells": [
  {
   "cell_type": "code",
   "execution_count": null,
   "id": "0",
   "metadata": {},
   "outputs": [],
   "source": [
    "import numpy as np\n",
    "from tqdm import tqdm\n",
    "from pathlib import Path\n",
    "import gtsam\n",
    "from gtsam.symbol_shorthand import X, L\n",
    "import matplotlib.pyplot as plt\n",
    "import plotly.graph_objects as go\n",
    "\n",
    "from lac.slam.gtsam_factor_graph import GtsamFactorGraph\n",
    "from lac.slam.slam import SLAM, ROVER_T_CAM, K\n",
    "from lac.slam.visual_odometry import StereoVisualOdometry\n",
    "from lac.slam.feature_tracker import FeatureTracker\n",
    "from lac.utils.plotting import plot_poses, plot_surface, plot_3d_points, plot_path_3d\n",
    "from lac.utils.visualization import image_grid\n",
    "from lac.util import load_data, load_stereo_images, load_images\n",
    "\n",
    "%load_ext autoreload\n",
    "%autoreload 2"
   ]
  },
  {
   "cell_type": "code",
   "execution_count": null,
   "id": "1",
   "metadata": {},
   "outputs": [],
   "source": [
    "# Load the data logs\n",
    "data_path = \"/home/shared/data_raw/LAC/runs/full_spiral_map1_preset0\"\n",
    "initial_pose, lander_pose, poses, imu_data, cam_config = load_data(data_path)\n",
    "print(f\"Loaded {len(poses)} poses\")"
   ]
  },
  {
   "cell_type": "code",
   "execution_count": null,
   "id": "2",
   "metadata": {},
   "outputs": [],
   "source": [
    "left_imgs, right_imgs = load_stereo_images(data_path, start_frame=0, end_frame=10000)\n",
    "images = {\"FrontLeft\": left_imgs, \"FrontRight\": right_imgs}"
   ]
  },
  {
   "cell_type": "code",
   "execution_count": null,
   "id": "3",
   "metadata": {},
   "outputs": [],
   "source": [
    "from lac.utils.frames import get_cam_pose_rover, CAMERA_TO_OPENCV_PASSIVE\n",
    "\n",
    "rover_T_cam_FL = get_cam_pose_rover(\"FrontLeft\")\n",
    "rover_T_cam_FL[:3, :3] = rover_T_cam_FL[:3, :3] @ CAMERA_TO_OPENCV_PASSIVE\n",
    "ROVER_T_CAM_FRONT_LEFT = gtsam.Pose3(rover_T_cam_FL)\n",
    "rover_T_cam_FR = get_cam_pose_rover(\"FrontRight\")\n",
    "rover_T_cam_FR[:3, :3] = rover_T_cam_FR[:3, :3] @ CAMERA_TO_OPENCV_PASSIVE\n",
    "ROVER_T_CAM_FRONT_RIGHT = gtsam.Pose3(rover_T_cam_FR)\n",
    "\n",
    "pixel_noise = gtsam.noiseModel.Isotropic.Sigma(2, 2.0)\n",
    "huber = gtsam.noiseModel.mEstimator.Huber(k=1.345)\n",
    "robust_pixel_noise = gtsam.noiseModel.Robust.Create(huber, gtsam.noiseModel.Isotropic.Sigma(2, 1.0))"
   ]
  },
  {
   "cell_type": "markdown",
   "id": "4",
   "metadata": {},
   "source": [
    "# iSAM\n"
   ]
  },
  {
   "cell_type": "code",
   "execution_count": null,
   "id": "5",
   "metadata": {},
   "outputs": [],
   "source": [
    "START_FRAME = 80\n",
    "END_FRAME = 4000\n",
    "\n",
    "FIX_FIRST_POSE = False\n",
    "ADD_RIGHT_FACTORS = True\n",
    "USE_ROBUST_NOISE = True"
   ]
  },
  {
   "cell_type": "code",
   "execution_count": null,
   "id": "6",
   "metadata": {},
   "outputs": [],
   "source": [
    "isam_params = gtsam.ISAM2Params()\n",
    "isam_params.setRelinearizeThreshold(0.1)\n",
    "isam_params.relinearizeSkip = 1\n",
    "isam = gtsam.ISAM2(isam_params)"
   ]
  },
  {
   "cell_type": "code",
   "execution_count": null,
   "id": "7",
   "metadata": {},
   "outputs": [],
   "source": [
    "# Initialize modules\n",
    "tracker = FeatureTracker(cam_config)\n",
    "tracker.initialize(poses[START_FRAME], left_imgs[START_FRAME], right_imgs[START_FRAME])\n",
    "\n",
    "svo = StereoVisualOdometry(cam_config)\n",
    "svo.initialize(poses[START_FRAME], left_imgs[START_FRAME], right_imgs[START_FRAME])\n",
    "\n",
    "graph = gtsam.NonlinearFactorGraph()\n",
    "initial_estimate = gtsam.Values()\n",
    "\n",
    "# Add first pose\n",
    "if FIX_FIRST_POSE:\n",
    "    graph.add(gtsam.NonlinearEqualityPose3(X(0), gtsam.Pose3(poses[START_FRAME])))\n",
    "else:\n",
    "    initial_pose_noise = gtsam.noiseModel.Isotropic.Sigma(6, 1e-3)\n",
    "    graph.add(gtsam.PriorFactorPose3(X(0), gtsam.Pose3(poses[START_FRAME]), initial_pose_noise))\n",
    "initial_estimate.insert(X(0), gtsam.Pose3(poses[START_FRAME]))\n",
    "\n",
    "landmark_ids = set()\n",
    "curr_pose = poses[START_FRAME]\n",
    "svo_poses = [poses[START_FRAME]]\n",
    "\n",
    "# Add first landmarks\n",
    "for i, id in enumerate(tracker.track_ids):\n",
    "    if id not in landmark_ids:\n",
    "        landmark_ids.add(id)\n",
    "        initial_estimate.insert(L(id), tracker.world_points[i])\n",
    "    graph.add(\n",
    "        gtsam.GenericProjectionFactorCal3_S2(\n",
    "            tracker.prev_pts[i],\n",
    "            robust_pixel_noise,\n",
    "            X(0),\n",
    "            L(id),\n",
    "            K,\n",
    "            ROVER_T_CAM_FRONT_LEFT,\n",
    "        )\n",
    "    )\n",
    "    if ADD_RIGHT_FACTORS:\n",
    "        graph.add(\n",
    "            gtsam.GenericProjectionFactorCal3_S2(\n",
    "                tracker.prev_pts_right[i],\n",
    "                robust_pixel_noise,\n",
    "                X(0),\n",
    "                L(id),\n",
    "                K,\n",
    "                ROVER_T_CAM_FRONT_RIGHT,\n",
    "            )\n",
    "        )"
   ]
  },
  {
   "cell_type": "code",
   "execution_count": null,
   "id": "8",
   "metadata": {},
   "outputs": [],
   "source": [
    "pose_key = 1\n",
    "\n",
    "for frame in tqdm(range(START_FRAME + 2, END_FRAME, 2)):\n",
    "    # VO\n",
    "    svo.track(images[\"FrontLeft\"][frame], images[\"FrontRight\"][frame])\n",
    "    curr_pose = svo.get_pose()\n",
    "    svo_poses.append(curr_pose)\n",
    "\n",
    "    # Feature tracking\n",
    "    tracker.track_keyframe(curr_pose, images[\"FrontLeft\"][frame], images[\"FrontRight\"][frame])\n",
    "\n",
    "    # Update the graph\n",
    "    initial_estimate.insert(X(pose_key), gtsam.Pose3(curr_pose))\n",
    "\n",
    "    # Add vision factors\n",
    "    for i, id in enumerate(tracker.track_ids):\n",
    "        if id not in landmark_ids:\n",
    "            landmark_ids.add(id)\n",
    "            initial_estimate.insert(L(id), tracker.world_points[i])\n",
    "        graph.add(\n",
    "            gtsam.GenericProjectionFactorCal3_S2(\n",
    "                tracker.prev_pts[i],\n",
    "                robust_pixel_noise,\n",
    "                X(pose_key),\n",
    "                L(id),\n",
    "                K,\n",
    "                ROVER_T_CAM_FRONT_LEFT,\n",
    "            )\n",
    "        )\n",
    "        if ADD_RIGHT_FACTORS:\n",
    "            graph.add(\n",
    "                gtsam.GenericProjectionFactorCal3_S2(\n",
    "                    tracker.prev_pts_right[i],\n",
    "                    robust_pixel_noise,\n",
    "                    X(pose_key),\n",
    "                    L(id),\n",
    "                    K,\n",
    "                    ROVER_T_CAM_FRONT_RIGHT,\n",
    "                )\n",
    "            )\n",
    "\n",
    "    isam.update(graph, initial_estimate)\n",
    "    # isam.update()\n",
    "    graph.resize(0)\n",
    "    initial_estimate.clear()\n",
    "\n",
    "    pose_key += 1"
   ]
  },
  {
   "cell_type": "code",
   "execution_count": null,
   "id": "9",
   "metadata": {},
   "outputs": [],
   "source": [
    "graph = isam.getFactorsUnsafe()"
   ]
  },
  {
   "cell_type": "code",
   "execution_count": null,
   "id": "10",
   "metadata": {},
   "outputs": [],
   "source": [
    "def find_factors_for_key(graph: gtsam.NonlinearFactorGraph, key: int):\n",
    "    \"\"\"\n",
    "    Return a list of indices (and/or factors) that contain the given 'key'.\n",
    "    \"\"\"\n",
    "    matching_factor_indices = []\n",
    "    for i in range(graph.size()):\n",
    "        factor = graph.at(i)\n",
    "        factor_keys = factor.keys()\n",
    "        if key in factor_keys:\n",
    "            matching_factor_indices.append(i)\n",
    "\n",
    "    return matching_factor_indices"
   ]
  },
  {
   "cell_type": "code",
   "execution_count": null,
   "id": "11",
   "metadata": {},
   "outputs": [],
   "source": [
    "landmark_key = gtsam.Symbol(\"l\", 19648).key()\n",
    "indices = find_factors_for_key(graph, landmark_key)\n",
    "print(\"Factors referencing landmark l19648:\", indices)"
   ]
  },
  {
   "cell_type": "code",
   "execution_count": null,
   "id": "12",
   "metadata": {},
   "outputs": [],
   "source": [
    "result = isam.calculateEstimate()"
   ]
  },
  {
   "cell_type": "code",
   "execution_count": null,
   "id": "13",
   "metadata": {},
   "outputs": [],
   "source": [
    "graph = isam.getFactorsUnsafe()\n",
    "graph.size()"
   ]
  }
 ],
 "metadata": {
  "kernelspec": {
   "display_name": "lac",
   "language": "python",
   "name": "python3"
  },
  "language_info": {
   "codemirror_mode": {
    "name": "ipython",
    "version": 3
   },
   "file_extension": ".py",
   "mimetype": "text/x-python",
   "name": "python",
   "nbconvert_exporter": "python",
   "pygments_lexer": "ipython3",
   "version": "3.10.15"
  }
 },
 "nbformat": 4,
 "nbformat_minor": 5
}
