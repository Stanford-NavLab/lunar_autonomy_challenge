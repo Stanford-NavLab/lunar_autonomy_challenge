{
 "cells": [
  {
   "cell_type": "code",
   "execution_count": null,
   "metadata": {},
   "outputs": [],
   "source": [
    "import numpy as np\n",
    "from tqdm import tqdm\n",
    "from pathlib import Path\n",
    "import matplotlib.pyplot as plt\n",
    "import plotly.graph_objects as go\n",
    "\n",
    "from lac.slam.semantic_feature_tracker import SemanticFeatureTracker\n",
    "from lac.perception.segmentation import SemanticClasses\n",
    "from lac.slam.frontend import Frontend\n",
    "from lac.slam.backend import Backend\n",
    "from lac.utils.plotting import plot_poses, plot_loop_closures, plot_3d_points, plot_semantic_points\n",
    "from lac.util import load_data, load_stereo_images, load_images, positions_rmse_from_poses\n",
    "from lac.utils.geometry import crop_points\n",
    "from lac.params import SCENE_BBOX\n",
    "\n",
    "%load_ext autoreload\n",
    "%autoreload 2"
   ]
  },
  {
   "cell_type": "markdown",
   "metadata": {},
   "source": [
    "# Load data\n"
   ]
  },
  {
   "cell_type": "code",
   "execution_count": null,
   "metadata": {},
   "outputs": [],
   "source": [
    "# Load the data logs\n",
    "data_path = \"/home/shared/data_raw/LAC/runs/double_loop_preset1\"\n",
    "initial_pose, lander_pose, poses, imu_data, cam_config = load_data(data_path)\n",
    "print(f\"Loaded {len(poses)} poses\")"
   ]
  },
  {
   "cell_type": "code",
   "execution_count": null,
   "metadata": {},
   "outputs": [],
   "source": [
    "# images = load_images(data_path, cameras=[\"FrontLeft\", \"FrontRight\"], start_frame=0, end_frame=10000)\n",
    "left_imgs, right_imgs = load_stereo_images(data_path, start_frame=0)\n",
    "images = {\"FrontLeft\": left_imgs, \"FrontRight\": right_imgs}"
   ]
  },
  {
   "cell_type": "markdown",
   "metadata": {},
   "source": [
    "# Initialize\n"
   ]
  },
  {
   "cell_type": "code",
   "execution_count": null,
   "metadata": {},
   "outputs": [],
   "source": [
    "START_FRAME = 80\n",
    "END_FRAME = len(poses) - 1\n",
    "\n",
    "# TODO: we should probably keyframe the first frame (give it to the backend)\n",
    "\n",
    "feature_tracker = SemanticFeatureTracker(cam_config)\n",
    "frontend = Frontend(feature_tracker)\n",
    "backend = Backend(poses[START_FRAME], feature_tracker)\n",
    "\n",
    "frontend.initialize(left_imgs[START_FRAME], right_imgs[START_FRAME])"
   ]
  },
  {
   "cell_type": "markdown",
   "metadata": {},
   "source": [
    "# Run\n"
   ]
  },
  {
   "cell_type": "code",
   "execution_count": null,
   "metadata": {},
   "outputs": [],
   "source": [
    "eval_poses = [poses[START_FRAME]]\n",
    "\n",
    "for frame in tqdm(range(START_FRAME + 2, END_FRAME, 2)):\n",
    "    data = {\n",
    "        \"step\": frame,\n",
    "        \"FrontLeft\": left_imgs[frame],\n",
    "        \"FrontRight\": right_imgs[frame],\n",
    "        \"imu\": imu_data[frame],\n",
    "    }\n",
    "    data = frontend.process_frame(data)\n",
    "    backend.update(data)\n",
    "    eval_poses.append(poses[frame])"
   ]
  },
  {
   "cell_type": "markdown",
   "metadata": {},
   "source": [
    "# Evaluate localization\n"
   ]
  },
  {
   "cell_type": "code",
   "execution_count": null,
   "metadata": {},
   "outputs": [],
   "source": [
    "trajectory = backend.get_trajectory()"
   ]
  },
  {
   "cell_type": "code",
   "execution_count": null,
   "metadata": {},
   "outputs": [],
   "source": [
    "fig = plot_poses(eval_poses, no_axes=True, color=\"black\", name=\"Ground truth\")\n",
    "fig = plot_poses(trajectory, fig=fig, no_axes=True, color=\"orange\", name=\"Backend poses\")\n",
    "fig = plot_loop_closures(trajectory, backend.loop_closures, fig=fig, showlegend=False)\n",
    "fig.update_layout(height=900, width=1600, scene_aspectmode=\"data\")\n",
    "fig.show()"
   ]
  },
  {
   "cell_type": "code",
   "execution_count": null,
   "metadata": {},
   "outputs": [],
   "source": [
    "print(f\"RMSE: {positions_rmse_from_poses(eval_poses, trajectory)}\")"
   ]
  },
  {
   "cell_type": "markdown",
   "metadata": {},
   "source": [
    "# Evaluate mapping\n"
   ]
  },
  {
   "cell_type": "code",
   "execution_count": null,
   "metadata": {},
   "outputs": [],
   "source": [
    "point_map = backend.project_point_map()"
   ]
  },
  {
   "cell_type": "code",
   "execution_count": null,
   "metadata": {},
   "outputs": [],
   "source": [
    "map = np.load(\n",
    "    \"/home/shared/data_raw/LAC/heightmaps/competition/Moon_Map_01_preset_0.dat\",\n",
    "    allow_pickle=True,\n",
    ")"
   ]
  },
  {
   "cell_type": "code",
   "execution_count": null,
   "metadata": {},
   "outputs": [],
   "source": [
    "ground_points = points[labels == SemanticClasses.GROUND.value]\n",
    "rock_points = points[labels == SemanticClasses.ROCK.value]"
   ]
  },
  {
   "cell_type": "code",
   "execution_count": null,
   "metadata": {},
   "outputs": [],
   "source": [
    "from lac.mapping.mapper import bin_points_to_grid, interpolate_heights"
   ]
  },
  {
   "cell_type": "code",
   "execution_count": null,
   "metadata": {},
   "outputs": [],
   "source": [
    "ground_grid = bin_points_to_grid(ground_points)\n",
    "            map_array[:, :, 2] = ground_grid\n",
    "            map_array[:] = interpolate_heights(map_array)"
   ]
  },
  {
   "cell_type": "code",
   "execution_count": null,
   "metadata": {},
   "outputs": [],
   "source": [
    "points_cropped, keep_idxs = crop_points(points, SCENE_BBOX)\n",
    "labels_cropped = labels[keep_idxs]"
   ]
  },
  {
   "cell_type": "code",
   "execution_count": null,
   "metadata": {},
   "outputs": [],
   "source": [
    "trajectory = backend.get_trajectory()"
   ]
  },
  {
   "cell_type": "code",
   "execution_count": null,
   "metadata": {},
   "outputs": [],
   "source": [
    "fig = plot_poses(eval_poses, no_axes=True, color=\"black\", name=\"Ground truth\")\n",
    "fig = plot_poses(trajectory, fig=fig, no_axes=True, color=\"orange\", name=\"Backend poses\")\n",
    "fig = plot_loop_closures(trajectory, backend.loop_closures, fig=fig, showlegend=False)\n",
    "fig = plot_semantic_points(\n",
    "    points_cropped[::10],\n",
    "    labels_cropped[::10],\n",
    "    names=[member.name for member in SemanticClasses],\n",
    "    markersize=2,\n",
    "    fig=fig,\n",
    ")\n",
    "fig.update_layout(height=900, width=1600, scene_aspectmode=\"data\")\n",
    "fig.show()"
   ]
  },
  {
   "cell_type": "code",
   "execution_count": null,
   "metadata": {},
   "outputs": [],
   "source": [
    "fig.write_html(Path(data_path) / \"loop_closures_1hz.html\")"
   ]
  },
  {
   "cell_type": "code",
   "execution_count": null,
   "metadata": {},
   "outputs": [],
   "source": [
    "positions_rmse_from_poses(eval_poses, trajectory)"
   ]
  },
  {
   "cell_type": "code",
   "execution_count": null,
   "metadata": {},
   "outputs": [],
   "source": []
  }
 ],
 "metadata": {
  "kernelspec": {
   "display_name": "lac",
   "language": "python",
   "name": "python3"
  },
  "language_info": {
   "codemirror_mode": {
    "name": "ipython",
    "version": 3
   },
   "file_extension": ".py",
   "mimetype": "text/x-python",
   "name": "python",
   "nbconvert_exporter": "python",
   "pygments_lexer": "ipython3",
   "version": "3.10.15"
  }
 },
 "nbformat": 4,
 "nbformat_minor": 2
}
