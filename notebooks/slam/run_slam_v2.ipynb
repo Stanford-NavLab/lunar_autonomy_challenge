{
 "cells": [
  {
   "cell_type": "code",
   "execution_count": null,
   "metadata": {},
   "outputs": [],
   "source": [
    "import numpy as np\n",
    "from tqdm import tqdm\n",
    "from pathlib import Path\n",
    "\n",
    "from lac.slam.semantic_feature_tracker import SemanticFeatureTracker\n",
    "from lac.slam.frontend import Frontend\n",
    "from lac.slam.backend import Backend\n",
    "from lac.utils.plotting import plot_poses, plot_loop_closures\n",
    "from lac.util import load_data, load_stereo_images, positions_rmse_from_poses, rotation_matrix_error\n",
    "\n",
    "%load_ext autoreload\n",
    "%autoreload 2"
   ]
  },
  {
   "cell_type": "markdown",
   "metadata": {},
   "source": [
    "# Load data\n"
   ]
  },
  {
   "cell_type": "code",
   "execution_count": null,
   "metadata": {},
   "outputs": [],
   "source": [
    "# Load the data logs\n",
    "data_path = \"/home/shared/data_raw/LAC/runs/triangles_preset6\"\n",
    "# data_path = \"../../../output/NavAgent/triangles_preset7_bad\"\n",
    "initial_pose, lander_pose, poses, imu_data, cam_config = load_data(data_path)\n",
    "print(f\"Loaded {len(poses)} poses\")"
   ]
  },
  {
   "cell_type": "code",
   "execution_count": null,
   "metadata": {},
   "outputs": [],
   "source": [
    "# images = load_images(data_path, cameras=[\"FrontLeft\", \"FrontRight\"], start_frame=0, end_frame=10000)\n",
    "left_imgs, right_imgs = load_stereo_images(data_path, start_frame=0)\n",
    "images = {\"FrontLeft\": left_imgs, \"FrontRight\": right_imgs}"
   ]
  },
  {
   "cell_type": "markdown",
   "metadata": {},
   "source": [
    "# Initialize\n"
   ]
  },
  {
   "cell_type": "code",
   "execution_count": null,
   "metadata": {},
   "outputs": [],
   "source": [
    "START_FRAME = 80\n",
    "END_FRAME = len(poses) - 1\n",
    "\n",
    "# TODO: we should probably keyframe the first frame (give it to the backend)\n",
    "\n",
    "feature_tracker = SemanticFeatureTracker(cam_config)\n",
    "frontend = Frontend(feature_tracker, initial_pose=initial_pose)\n",
    "backend = Backend(poses[START_FRAME], feature_tracker)\n",
    "\n",
    "init_data = {\n",
    "    \"step\": START_FRAME,\n",
    "    \"FrontLeft\": left_imgs[START_FRAME],\n",
    "    \"FrontRight\": right_imgs[START_FRAME],\n",
    "    \"imu\": imu_data[START_FRAME],\n",
    "}\n",
    "\n",
    "frontend.initialize(init_data)"
   ]
  },
  {
   "cell_type": "markdown",
   "metadata": {},
   "source": [
    "# Run\n"
   ]
  },
  {
   "cell_type": "code",
   "execution_count": null,
   "metadata": {},
   "outputs": [],
   "source": [
    "eval_poses = [poses[START_FRAME]]\n",
    "\n",
    "for frame in tqdm(range(START_FRAME + 2, END_FRAME, 2)):\n",
    "    data = {\n",
    "        \"step\": frame,\n",
    "        \"FrontLeft\": left_imgs[frame],\n",
    "        \"FrontRight\": right_imgs[frame],\n",
    "        \"imu\": imu_data[frame],\n",
    "    }\n",
    "    data = frontend.process_frame(data)\n",
    "    backend.update(data)\n",
    "    eval_poses.append(poses[frame])"
   ]
  },
  {
   "cell_type": "markdown",
   "metadata": {},
   "source": [
    "# Evaluate localization\n"
   ]
  },
  {
   "cell_type": "code",
   "execution_count": null,
   "metadata": {},
   "outputs": [],
   "source": [
    "trajectory = backend.get_trajectory()"
   ]
  },
  {
   "cell_type": "code",
   "execution_count": null,
   "metadata": {},
   "outputs": [],
   "source": [
    "fig = plot_poses(eval_poses, no_axes=True, color=\"black\", name=\"Ground truth\")\n",
    "fig = plot_poses(trajectory, fig=fig, no_axes=True, color=\"orange\", name=\"Backend poses\")\n",
    "fig = plot_loop_closures(trajectory, backend.loop_closures, fig=fig, showlegend=False)\n",
    "fig.update_layout(height=900, width=1600, scene_aspectmode=\"data\")\n",
    "fig.show()"
   ]
  },
  {
   "cell_type": "code",
   "execution_count": null,
   "metadata": {},
   "outputs": [],
   "source": [
    "print(f\"RMSE: {positions_rmse_from_poses(eval_poses, trajectory)}\")"
   ]
  },
  {
   "cell_type": "markdown",
   "metadata": {},
   "source": [
    "## Evaluate loop closures\n"
   ]
  },
  {
   "cell_type": "code",
   "execution_count": null,
   "metadata": {},
   "outputs": [],
   "source": [
    "from lac.slam.loop_closure import estimate_loop_closure_pose\n",
    "from lac.util import rotations_rmse_from_poses"
   ]
  },
  {
   "cell_type": "code",
   "execution_count": null,
   "metadata": {},
   "outputs": [],
   "source": [
    "backend.loop_closures"
   ]
  },
  {
   "cell_type": "code",
   "execution_count": null,
   "metadata": {},
   "outputs": [],
   "source": [
    "frame1 = 20\n",
    "frame2 = 2600\n",
    "img1 = left_imgs[frame1]\n",
    "img2 = left_imgs[frame2]\n",
    "\n",
    "print(f\"inter-frame distance: {np.linalg.norm(poses[frame1][:3, 3] - poses[frame2][:3, 3])}\")\n",
    "print(f\"inter-frame angle: {rotation_matrix_error(poses[frame1][:3, :3], poses[frame2][:3, :3])}\")\n",
    "\n",
    "# Estimate relative pose\n",
    "rel_pose = estimate_loop_closure_pose(\n",
    "    feature_tracker,\n",
    "    left_imgs[frame1],\n",
    "    right_imgs[frame1],\n",
    "    left_imgs[frame2],\n",
    "    right_imgs[frame2],\n",
    ")\n",
    "true_rel_pose = np.linalg.inv(poses[frame1]) @ poses[frame2]\n",
    "print(f\"rotation RMSE: {rotations_rmse_from_poses([rel_pose], [true_rel_pose])}\")\n",
    "print(f\"translation RMSE: {positions_rmse_from_poses([rel_pose], [true_rel_pose])}\")"
   ]
  },
  {
   "cell_type": "markdown",
   "metadata": {},
   "source": [
    "# Evaluate mapping\n"
   ]
  },
  {
   "cell_type": "code",
   "execution_count": null,
   "metadata": {},
   "outputs": [],
   "source": [
    "from lac.mapping.mapper import process_map\n",
    "from lac.mapping.map_utils import get_geometric_score, get_rocks_score\n",
    "from lac.utils.plotting import plot_heightmaps, plot_rock_maps, plot_rock_results, plot_height_error"
   ]
  },
  {
   "cell_type": "code",
   "execution_count": null,
   "metadata": {},
   "outputs": [],
   "source": [
    "point_map = backend.project_point_map()"
   ]
  },
  {
   "cell_type": "code",
   "execution_count": null,
   "metadata": {},
   "outputs": [],
   "source": [
    "point_map.save(Path(data_path) / \"semantic_points_runslam.npz\")"
   ]
  },
  {
   "cell_type": "code",
   "execution_count": null,
   "metadata": {},
   "outputs": [],
   "source": [
    "# ground_truth_map = np.load(\n",
    "#     \"/home/shared/data_raw/LAC/heightmaps/competition/Moon_Map_01_preset_4.dat\",\n",
    "#     allow_pickle=True,\n",
    "# )\n",
    "# ground_truth_map = np.load(Path(data_path) / \"Moon_Map_01_6_rep0.dat\", allow_pickle=True)\n",
    "ground_truth_map = np.load(\"../../../results/Moon_Map_01_7_rep0.dat\", allow_pickle=True)"
   ]
  },
  {
   "cell_type": "code",
   "execution_count": null,
   "metadata": {},
   "outputs": [],
   "source": [
    "agent_map = ground_truth_map.copy()\n",
    "agent_map = process_map(point_map, agent_map)"
   ]
  },
  {
   "cell_type": "code",
   "execution_count": null,
   "metadata": {},
   "outputs": [],
   "source": [
    "print(f\"Geometric score: {get_geometric_score(ground_truth_map, agent_map)}\")\n",
    "print(f\"Rocks score: {get_rocks_score(ground_truth_map, agent_map)}\")"
   ]
  },
  {
   "cell_type": "code",
   "execution_count": null,
   "metadata": {},
   "outputs": [],
   "source": [
    "plot_rock_results(ground_truth_map, agent_map)"
   ]
  },
  {
   "cell_type": "code",
   "execution_count": null,
   "metadata": {},
   "outputs": [],
   "source": [
    "plot_height_error(ground_truth_map, agent_map)"
   ]
  },
  {
   "cell_type": "code",
   "execution_count": null,
   "metadata": {},
   "outputs": [],
   "source": [
    "plot_heightmaps(ground_truth_map, agent_map)"
   ]
  },
  {
   "cell_type": "code",
   "execution_count": null,
   "metadata": {},
   "outputs": [],
   "source": [
    "plot_rock_maps(ground_truth_map, agent_map)"
   ]
  },
  {
   "cell_type": "code",
   "execution_count": null,
   "metadata": {},
   "outputs": [],
   "source": []
  }
 ],
 "metadata": {
  "kernelspec": {
   "display_name": "lac",
   "language": "python",
   "name": "python3"
  },
  "language_info": {
   "codemirror_mode": {
    "name": "ipython",
    "version": 3
   },
   "file_extension": ".py",
   "mimetype": "text/x-python",
   "name": "python",
   "nbconvert_exporter": "python",
   "pygments_lexer": "ipython3",
   "version": "3.10.16"
  }
 },
 "nbformat": 4,
 "nbformat_minor": 2
}
