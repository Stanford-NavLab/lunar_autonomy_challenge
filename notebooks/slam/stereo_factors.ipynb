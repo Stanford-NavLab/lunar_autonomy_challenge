{
 "cells": [
  {
   "cell_type": "code",
   "execution_count": null,
   "id": "0",
   "metadata": {},
   "outputs": [],
   "source": [
    "import numpy as np\n",
    "from tqdm import tqdm\n",
    "from pathlib import Path\n",
    "import gtsam\n",
    "from gtsam.symbol_shorthand import X, L\n",
    "import matplotlib.pyplot as plt\n",
    "import plotly.graph_objects as go\n",
    "\n",
    "from lac.slam.gtsam_factor_graph import GtsamFactorGraph\n",
    "from lac.slam.gtsam_util import remove_outliers, plot_reprojection_residuals\n",
    "from lac.slam.slam import SLAM, K\n",
    "from lac.slam.visual_odometry import StereoVisualOdometry\n",
    "from lac.slam.feature_tracker import FeatureTracker\n",
    "from lac.utils.plotting import plot_poses, plot_surface, plot_3d_points, plot_path_3d\n",
    "from lac.utils.visualization import image_grid\n",
    "from lac.util import load_data, load_stereo_images, load_images\n",
    "\n",
    "%load_ext autoreload\n",
    "%autoreload 2"
   ]
  },
  {
   "cell_type": "code",
   "execution_count": null,
   "id": "1",
   "metadata": {},
   "outputs": [],
   "source": [
    "# Load the data logs\n",
    "data_path = \"/home/shared/data_raw/LAC/runs/full_spiral_map1_preset0\"\n",
    "initial_pose, lander_pose, poses, imu_data, cam_config = load_data(data_path)\n",
    "print(f\"Loaded {len(poses)} poses\")"
   ]
  },
  {
   "cell_type": "code",
   "execution_count": null,
   "id": "2",
   "metadata": {},
   "outputs": [],
   "source": [
    "left_imgs, right_imgs = load_stereo_images(data_path, start_frame=0, end_frame=10000)\n",
    "images = {\"FrontLeft\": left_imgs, \"FrontRight\": right_imgs}"
   ]
  },
  {
   "cell_type": "markdown",
   "id": "3",
   "metadata": {},
   "source": [
    "# Left and Right projection factors\n"
   ]
  },
  {
   "cell_type": "code",
   "execution_count": null,
   "id": "4",
   "metadata": {},
   "outputs": [],
   "source": [
    "from lac.utils.frames import get_cam_pose_rover, CAMERA_TO_OPENCV_PASSIVE"
   ]
  },
  {
   "cell_type": "code",
   "execution_count": null,
   "id": "5",
   "metadata": {},
   "outputs": [],
   "source": [
    "pixel_noise = gtsam.noiseModel.Isotropic.Sigma(2, 2.0)\n",
    "huber = gtsam.noiseModel.mEstimator.Huber(k=1.345)\n",
    "robust_pixel_noise = gtsam.noiseModel.Robust.Create(huber, gtsam.noiseModel.Isotropic.Sigma(2, 1.0))"
   ]
  },
  {
   "cell_type": "code",
   "execution_count": null,
   "id": "6",
   "metadata": {},
   "outputs": [],
   "source": [
    "rover_T_cam_FL = get_cam_pose_rover(\"FrontLeft\")\n",
    "rover_T_cam_FL[:3, :3] = rover_T_cam_FL[:3, :3] @ CAMERA_TO_OPENCV_PASSIVE\n",
    "ROVER_T_CAM_FRONT_LEFT = gtsam.Pose3(rover_T_cam_FL)\n",
    "rover_T_cam_FR = get_cam_pose_rover(\"FrontRight\")\n",
    "rover_T_cam_FR[:3, :3] = rover_T_cam_FR[:3, :3] @ CAMERA_TO_OPENCV_PASSIVE\n",
    "ROVER_T_CAM_FRONT_RIGHT = gtsam.Pose3(rover_T_cam_FR)"
   ]
  },
  {
   "cell_type": "code",
   "execution_count": null,
   "id": "7",
   "metadata": {},
   "outputs": [],
   "source": [
    "START_FRAME = 80\n",
    "END_FRAME = 4000\n",
    "\n",
    "FIX_FIRST_POSE = False\n",
    "ADD_RIGHT_FACTORS = True\n",
    "USE_ROBUST_NOISE = True"
   ]
  },
  {
   "cell_type": "code",
   "execution_count": null,
   "id": "8",
   "metadata": {},
   "outputs": [],
   "source": [
    "# Initialize modules\n",
    "tracker = FeatureTracker(cam_config)\n",
    "tracker.initialize(poses[START_FRAME], left_imgs[START_FRAME], right_imgs[START_FRAME])\n",
    "\n",
    "svo = StereoVisualOdometry(cam_config)\n",
    "svo.initialize(poses[START_FRAME], left_imgs[START_FRAME], right_imgs[START_FRAME])\n",
    "\n",
    "graph = gtsam.NonlinearFactorGraph()\n",
    "initial_estimate = gtsam.Values()\n",
    "\n",
    "# Add first pose\n",
    "if FIX_FIRST_POSE:\n",
    "    graph.add(gtsam.NonlinearEqualityPose3(X(0), gtsam.Pose3(poses[START_FRAME])))\n",
    "else:\n",
    "    initial_pose_noise = gtsam.noiseModel.Isotropic.Sigma(6, 1e-3)\n",
    "    graph.add(gtsam.PriorFactorPose3(X(0), gtsam.Pose3(poses[START_FRAME]), initial_pose_noise))\n",
    "initial_estimate.insert(X(0), gtsam.Pose3(poses[START_FRAME]))\n",
    "\n",
    "landmark_ids = set()\n",
    "curr_pose = poses[START_FRAME]\n",
    "svo_poses = [poses[START_FRAME]]\n",
    "\n",
    "# Add first landmarks\n",
    "for i, id in enumerate(tracker.track_ids):\n",
    "    if id not in landmark_ids:\n",
    "        landmark_ids.add(id)\n",
    "        initial_estimate.insert(L(id), tracker.world_points[i])\n",
    "    graph.add(\n",
    "        gtsam.GenericProjectionFactorCal3_S2(\n",
    "            tracker.prev_pts[i],\n",
    "            robust_pixel_noise,\n",
    "            X(0),\n",
    "            L(id),\n",
    "            K,\n",
    "            ROVER_T_CAM_FRONT_LEFT,\n",
    "        )\n",
    "    )\n",
    "    if ADD_RIGHT_FACTORS:\n",
    "        graph.add(\n",
    "            gtsam.GenericProjectionFactorCal3_S2(\n",
    "                tracker.prev_pts_right[i],\n",
    "                robust_pixel_noise,\n",
    "                X(0),\n",
    "                L(id),\n",
    "                K,\n",
    "                ROVER_T_CAM_FRONT_RIGHT,\n",
    "            )\n",
    "        )"
   ]
  },
  {
   "cell_type": "code",
   "execution_count": null,
   "id": "9",
   "metadata": {},
   "outputs": [],
   "source": [
    "pose_key = 1\n",
    "\n",
    "for frame in tqdm(range(START_FRAME + 2, END_FRAME, 2)):\n",
    "    # VO\n",
    "    svo.track(images[\"FrontLeft\"][frame], images[\"FrontRight\"][frame])\n",
    "    curr_pose = svo.get_pose()\n",
    "    svo_poses.append(curr_pose)\n",
    "\n",
    "    # Feature tracking\n",
    "    tracker.track_keyframe(curr_pose, images[\"FrontLeft\"][frame], images[\"FrontRight\"][frame])\n",
    "\n",
    "    # Update the graph\n",
    "    initial_estimate.insert(X(pose_key), gtsam.Pose3(curr_pose))\n",
    "\n",
    "    # Add vision factors\n",
    "    for i, id in enumerate(tracker.track_ids):\n",
    "        if id not in landmark_ids:\n",
    "            landmark_ids.add(id)\n",
    "            initial_estimate.insert(L(id), tracker.world_points[i])\n",
    "        graph.add(\n",
    "            gtsam.GenericProjectionFactorCal3_S2(\n",
    "                tracker.prev_pts[i],\n",
    "                robust_pixel_noise,\n",
    "                X(pose_key),\n",
    "                L(id),\n",
    "                K,\n",
    "                ROVER_T_CAM_FRONT_LEFT,\n",
    "            )\n",
    "        )\n",
    "        if ADD_RIGHT_FACTORS:\n",
    "            graph.add(\n",
    "                gtsam.GenericProjectionFactorCal3_S2(\n",
    "                    tracker.prev_pts_right[i],\n",
    "                    robust_pixel_noise,\n",
    "                    X(pose_key),\n",
    "                    L(id),\n",
    "                    K,\n",
    "                    ROVER_T_CAM_FRONT_RIGHT,\n",
    "                )\n",
    "            )\n",
    "\n",
    "    pose_key += 1"
   ]
  },
  {
   "cell_type": "code",
   "execution_count": null,
   "id": "10",
   "metadata": {},
   "outputs": [],
   "source": [
    "print(f\"Initial error: {graph.error(initial_estimate)}\")\n",
    "params = gtsam.LevenbergMarquardtParams()\n",
    "params.setVerbosity(\"TERMINATION\")\n",
    "optimizer = gtsam.LevenbergMarquardtOptimizer(graph, initial_estimate, params)\n",
    "result = optimizer.optimize()\n",
    "print(f\"Final error: {graph.error(result)}\")"
   ]
  },
  {
   "cell_type": "code",
   "execution_count": null,
   "id": "11",
   "metadata": {},
   "outputs": [],
   "source": [
    "print(f\"Initial error: {graph.error(initial_estimate)}\")\n",
    "params = gtsam.GncLMParams()\n",
    "params.setVerbosityGNC(gtsam.GncLMParams.Verbosity.SUMMARY)\n",
    "optimizer = gtsam.GncLMOptimizer(graph, initial_estimate, params)\n",
    "result = optimizer.optimize()\n",
    "print(f\"Final error: {graph.error(result)}\")"
   ]
  },
  {
   "cell_type": "code",
   "execution_count": null,
   "id": "12",
   "metadata": {},
   "outputs": [],
   "source": [
    "gnc_result = result"
   ]
  },
  {
   "cell_type": "code",
   "execution_count": null,
   "id": "13",
   "metadata": {},
   "outputs": [],
   "source": [
    "est_traj = np.array([result.atPose3(X(k)).translation() for k in range(pose_key)])\n",
    "fig = plot_poses(poses[:END_FRAME], no_axes=True, color=\"black\", name=\"Ground Truth\")\n",
    "fig = plot_poses(svo_poses, fig=fig, no_axes=True, color=\"blue\", name=\"VO\")\n",
    "fig = plot_path_3d(est_traj, fig=fig, color=\"red\", name=\"GTSAM\")\n",
    "fig.show()"
   ]
  },
  {
   "cell_type": "code",
   "execution_count": null,
   "id": "14",
   "metadata": {},
   "outputs": [],
   "source": [
    "fig.write_html(\"../../../results/slam/gnc_opt.html\")"
   ]
  },
  {
   "cell_type": "code",
   "execution_count": null,
   "id": "15",
   "metadata": {},
   "outputs": [],
   "source": [
    "plot_reprojection_residuals(graph, result)"
   ]
  },
  {
   "cell_type": "code",
   "execution_count": null,
   "id": "16",
   "metadata": {},
   "outputs": [],
   "source": [
    "cleaned_graph, cleaned_estimate = remove_outliers(graph, result)"
   ]
  },
  {
   "cell_type": "code",
   "execution_count": null,
   "id": "17",
   "metadata": {},
   "outputs": [],
   "source": [
    "print(f\"Initial error: {cleaned_graph.error(cleaned_estimate)}\")\n",
    "params = gtsam.GncLMParams()\n",
    "params.setVerbosityGNC(gtsam.GncLMParams.Verbosity.SUMMARY)\n",
    "optimizer = gtsam.GncLMOptimizer(cleaned_graph, cleaned_estimate, params)\n",
    "result = optimizer.optimize()\n",
    "print(f\"Final error: {cleaned_graph.error(result)}\")"
   ]
  },
  {
   "cell_type": "code",
   "execution_count": null,
   "id": "18",
   "metadata": {},
   "outputs": [],
   "source": [
    "print(f\"Initial error: {cleaned_graph.error(cleaned_estimate)}\")\n",
    "params = gtsam.LevenbergMarquardtParams()\n",
    "params.setVerbosity(\"TERMINATION\")\n",
    "# params.setVerbosity(\"ERROR\")\n",
    "optimizer = gtsam.LevenbergMarquardtOptimizer(cleaned_graph, cleaned_estimate, params)\n",
    "result = optimizer.optimize()\n",
    "print(f\"Final error: {cleaned_graph.error(result)}\")"
   ]
  },
  {
   "cell_type": "code",
   "execution_count": null,
   "id": "19",
   "metadata": {},
   "outputs": [],
   "source": [
    "est_traj = np.array([result.atPose3(X(k)).translation() for k in range(1959)])\n",
    "\n",
    "fig = plot_poses(poses[:END_FRAME], no_axes=True, color=\"black\", name=\"Ground Truth\")\n",
    "fig = plot_poses(svo_poses, fig=fig, no_axes=True, color=\"blue\", name=\"VO\")\n",
    "fig = plot_path_3d(est_traj, fig=fig, color=\"red\", name=\"GTSAM\")\n",
    "fig.show()"
   ]
  },
  {
   "cell_type": "code",
   "execution_count": null,
   "id": "20",
   "metadata": {},
   "outputs": [],
   "source": [
    "plot_reprojection_residuals(cleaned_graph, result)"
   ]
  },
  {
   "cell_type": "code",
   "execution_count": null,
   "id": "21",
   "metadata": {},
   "outputs": [],
   "source": [
    "cleaned_graph, cleaned_estimate = remove_outliers(cleaned_graph, result)"
   ]
  },
  {
   "cell_type": "code",
   "execution_count": null,
   "id": "22",
   "metadata": {},
   "outputs": [],
   "source": [
    "print(f\"Initial error: {cleaned_graph.error(cleaned_estimate)}\")\n",
    "params = gtsam.LevenbergMarquardtParams()\n",
    "params.setVerbosity(\"TERMINATION\")\n",
    "# params.setVerbosity(\"ERROR\")\n",
    "optimizer = gtsam.LevenbergMarquardtOptimizer(cleaned_graph, cleaned_estimate, params)\n",
    "result = optimizer.optimize()\n",
    "print(f\"Final error: {cleaned_graph.error(result)}\")"
   ]
  },
  {
   "cell_type": "code",
   "execution_count": null,
   "id": "23",
   "metadata": {},
   "outputs": [],
   "source": [
    "est_traj = np.array([result.atPose3(X(k)).translation() for k in range(1959)])\n",
    "\n",
    "fig = plot_poses(poses[:END_FRAME], no_axes=True, color=\"black\", name=\"Ground Truth\")\n",
    "fig = plot_poses(svo_poses, fig=fig, no_axes=True, color=\"blue\", name=\"VO\")\n",
    "fig = plot_path_3d(est_traj, fig=fig, color=\"red\", name=\"GTSAM\")\n",
    "fig.show()"
   ]
  },
  {
   "cell_type": "code",
   "execution_count": null,
   "id": "24",
   "metadata": {},
   "outputs": [],
   "source": [
    "plot_reprojection_residuals(cleaned_graph, result)"
   ]
  },
  {
   "cell_type": "code",
   "execution_count": null,
   "id": "25",
   "metadata": {},
   "outputs": [],
   "source": []
  }
 ],
 "metadata": {
  "kernelspec": {
   "display_name": "lac",
   "language": "python",
   "name": "python3"
  },
  "language_info": {
   "codemirror_mode": {
    "name": "ipython",
    "version": 3
   },
   "file_extension": ".py",
   "mimetype": "text/x-python",
   "name": "python",
   "nbconvert_exporter": "python",
   "pygments_lexer": "ipython3",
   "version": "3.10.15"
  }
 },
 "nbformat": 4,
 "nbformat_minor": 5
}
