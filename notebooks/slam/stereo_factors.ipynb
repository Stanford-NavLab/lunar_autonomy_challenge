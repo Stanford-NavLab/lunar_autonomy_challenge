{
 "cells": [
  {
   "cell_type": "code",
   "execution_count": null,
   "id": "0",
   "metadata": {},
   "outputs": [],
   "source": [
    "import numpy as np\n",
    "from tqdm import tqdm\n",
    "from pathlib import Path\n",
    "import gtsam\n",
    "from gtsam.symbol_shorthand import X, L\n",
    "import matplotlib.pyplot as plt\n",
    "import plotly.graph_objects as go\n",
    "\n",
    "from lac.slam.gtsam_factor_graph import GtsamFactorGraph\n",
    "from lac.slam.slam import SLAM\n",
    "from lac.slam.visual_odometry import StereoVisualOdometry\n",
    "from lac.slam.feature_tracker import FeatureTracker\n",
    "from lac.utils.plotting import plot_poses, plot_surface, plot_3d_points\n",
    "from lac.utils.visualization import image_grid\n",
    "from lac.util import load_data, load_stereo_images, load_images\n",
    "\n",
    "%load_ext autoreload\n",
    "%autoreload 2"
   ]
  },
  {
   "cell_type": "code",
   "execution_count": null,
   "id": "1",
   "metadata": {},
   "outputs": [],
   "source": [
    "# Load the data logs\n",
    "data_path = \"/home/shared/data_raw/LAC/runs/full_spiral_map1_preset0\"\n",
    "initial_pose, lander_pose, poses, imu_data, cam_config = load_data(data_path)\n",
    "print(f\"Loaded {len(poses)} poses\")"
   ]
  },
  {
   "cell_type": "code",
   "execution_count": null,
   "id": "2",
   "metadata": {},
   "outputs": [],
   "source": [
    "left_imgs, right_imgs = load_stereo_images(data_path, start_frame=0, end_frame=10000)\n",
    "images = {\"FrontLeft\": left_imgs, \"FrontRight\": right_imgs}"
   ]
  },
  {
   "cell_type": "code",
   "execution_count": null,
   "id": "3",
   "metadata": {},
   "outputs": [],
   "source": [
    "# Initialize modules\n",
    "START_FRAME = 80\n",
    "\n",
    "tracker = FeatureTracker(cam_config)\n",
    "tracker.initialize(poses[START_FRAME], left_imgs[START_FRAME], right_imgs[START_FRAME])\n",
    "\n",
    "svo = StereoVisualOdometry(cam_config)\n",
    "svo.initialize(poses[START_FRAME], left_imgs[START_FRAME], right_imgs[START_FRAME])"
   ]
  },
  {
   "cell_type": "code",
   "execution_count": null,
   "id": "4",
   "metadata": {},
   "outputs": [],
   "source": [
    "from lac.params import FL_X, FL_Y, IMG_HEIGHT, IMG_WIDTH, STEREO_BASELINE\n",
    "\n",
    "skew = 0.0\n",
    "stereo_cal = gtsam.Cal3_S2Stereo(FL_X, FL_Y, skew, IMG_WIDTH / 2, IMG_HEIGHT / 2, STEREO_BASELINE)\n",
    "stereo_noise = gtsam.noiseModel.Isotropic.Sigma(3, 2.0)"
   ]
  },
  {
   "cell_type": "code",
   "execution_count": null,
   "id": "5",
   "metadata": {},
   "outputs": [],
   "source": [
    "graph = gtsam.NonlinearFactorGraph()\n",
    "initial_estimate = gtsam.Values()\n",
    "\n",
    "graph.add(gtsam.NonlinearEqualityPose3(X(0), gtsam.Pose3(poses[START_FRAME])))\n",
    "initial_estimate.insert(X(0), gtsam.Pose3(poses[START_FRAME]))"
   ]
  },
  {
   "cell_type": "code",
   "execution_count": null,
   "id": "6",
   "metadata": {},
   "outputs": [],
   "source": [
    "END_FRAME = 200\n",
    "KEYFRAME_RATE = 10\n",
    "GRAPH_UPDATE_RATE = 1\n",
    "\n",
    "landmark_ids = set()\n",
    "curr_pose = poses[START_FRAME]\n",
    "svo_poses = [poses[START_FRAME]]\n",
    "\n",
    "pose_key = 1\n",
    "\n",
    "for frame in tqdm(range(START_FRAME + 2, END_FRAME, 2)):\n",
    "    # VO\n",
    "    svo.track(images[\"FrontLeft\"][frame], images[\"FrontRight\"][frame])\n",
    "    curr_pose = svo.get_pose()\n",
    "    svo_poses.append(curr_pose)\n",
    "\n",
    "    # Feature tracking\n",
    "    tracker.track_keyframe(curr_pose, images[\"FrontLeft\"][frame], images[\"FrontRight\"][frame])\n",
    "\n",
    "    # Update the graph\n",
    "    initial_estimate.insert(X(pose_key), gtsam.Pose3(curr_pose))\n",
    "\n",
    "    # Add stereo factors\n",
    "    disparities = tracker.prev_pts - tracker.prev_pts_right\n",
    "    for i, id in enumerate(tracker.track_ids):\n",
    "        if disparities[i][1] != 0:  # For now ignore matches with nonzero y disparity\n",
    "            continue\n",
    "\n",
    "        stereo_meas = gtsam.StereoPoint2(\n",
    "            tracker.prev_pts[i][0],  # uL\n",
    "            tracker.prev_pts_right[i][0],  # uR\n",
    "            tracker.prev_pts[i][1],  # v\n",
    "        )\n",
    "        if id not in landmark_ids:\n",
    "            landmark_ids.add(id)\n",
    "            initial_estimate.insert(L(id), tracker.world_points[i])\n",
    "        graph.add(\n",
    "            gtsam.GenericStereoFactor3D(\n",
    "                stereo_meas,\n",
    "                stereo_noise,\n",
    "                X(pose_key),\n",
    "                L(id),\n",
    "                stereo_cal,\n",
    "            )\n",
    "        )\n",
    "\n",
    "    pose_key += 1"
   ]
  },
  {
   "cell_type": "code",
   "execution_count": null,
   "id": "7",
   "metadata": {},
   "outputs": [],
   "source": [
    "print(f\"Initial error: {graph.error(initial_estimate)}\")\n",
    "params = gtsam.LevenbergMarquardtParams()\n",
    "# params.setVerbosity(\"TERMINATION\")\n",
    "params.setVerbosity(\"ERROR\")\n",
    "optimizer = gtsam.LevenbergMarquardtOptimizer(graph, initial_estimate, params)\n",
    "result = optimizer.optimize()"
   ]
  },
  {
   "cell_type": "code",
   "execution_count": null,
   "id": "8",
   "metadata": {},
   "outputs": [],
   "source": []
  }
 ],
 "metadata": {
  "kernelspec": {
   "display_name": "lac",
   "language": "python",
   "name": "python3"
  },
  "language_info": {
   "codemirror_mode": {
    "name": "ipython",
    "version": 3
   },
   "file_extension": ".py",
   "mimetype": "text/x-python",
   "name": "python",
   "nbconvert_exporter": "python",
   "pygments_lexer": "ipython3",
   "version": "3.10.15"
  }
 },
 "nbformat": 4,
 "nbformat_minor": 5
}
