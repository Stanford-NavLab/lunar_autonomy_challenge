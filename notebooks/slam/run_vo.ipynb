{
 "cells": [
  {
   "cell_type": "code",
   "execution_count": null,
   "id": "0",
   "metadata": {},
   "outputs": [],
   "source": [
    "import numpy as np\n",
    "import json\n",
    "import os\n",
    "import cv2\n",
    "from tqdm import tqdm\n",
    "from pathlib import Path\n",
    "import matplotlib.pyplot as plt\n",
    "import plotly.graph_objects as go\n",
    "\n",
    "from lac.slam.semantic_feature_tracker import SemanticFeatureTracker\n",
    "from lac.slam.frontend import Frontend\n",
    "from lac.utils.plotting import plot_poses\n",
    "from lac.util import load_data, compute_odometry_sigmas\n",
    "from lac.params import DT\n",
    "\n",
    "%load_ext autoreload\n",
    "%autoreload 2"
   ]
  },
  {
   "cell_type": "code",
   "execution_count": null,
   "id": "1",
   "metadata": {},
   "outputs": [],
   "source": [
    "data_path = \"/home/shared/data_raw/LAC/runs/triangles_preset6\"\n",
    "\n",
    "initial_pose, lander_pose, poses, imu_data, cam_config = load_data(data_path)\n",
    "left_path = Path(data_path) / \"FrontLeft\"\n",
    "right_path = Path(data_path) / \"FrontRight\"\n",
    "frames = sorted(int(img_name.split(\".\")[0]) for img_name in os.listdir(left_path))"
   ]
  },
  {
   "cell_type": "code",
   "execution_count": null,
   "id": "2",
   "metadata": {},
   "outputs": [],
   "source": [
    "def get_imgs(frame):\n",
    "    img_name = f\"{frame:06}.png\"\n",
    "    left_img = cv2.imread(str(left_path / img_name), cv2.IMREAD_GRAYSCALE)\n",
    "    right_img = cv2.imread(str(right_path / img_name), cv2.IMREAD_GRAYSCALE)\n",
    "    return {\"left\": left_img, \"right\": right_img}"
   ]
  },
  {
   "cell_type": "code",
   "execution_count": null,
   "id": "3",
   "metadata": {},
   "outputs": [],
   "source": [
    "START_FRAME = 80\n",
    "END_FRAME = 10000\n",
    "\n",
    "# TODO: we should probably keyframe the first frame (give it to the backend)\n",
    "\n",
    "feature_tracker = SemanticFeatureTracker(cam_config)\n",
    "frontend = Frontend(feature_tracker, initial_pose=initial_pose)\n",
    "\n",
    "init_data = {\n",
    "    \"step\": START_FRAME,\n",
    "    \"FrontLeft\": get_imgs(START_FRAME)[\"left\"],\n",
    "    \"FrontRight\": get_imgs(START_FRAME)[\"right\"],\n",
    "    \"imu\": imu_data[START_FRAME],\n",
    "}\n",
    "\n",
    "frontend.initialize(init_data)"
   ]
  },
  {
   "cell_type": "code",
   "execution_count": null,
   "id": "4",
   "metadata": {},
   "outputs": [],
   "source": [
    "eval_poses = [poses[START_FRAME]]\n",
    "eval_odoms = []\n",
    "vo_odoms = []\n",
    "\n",
    "for frame in tqdm(range(START_FRAME + 2, END_FRAME, 2)):\n",
    "    data = {\n",
    "        \"step\": frame,\n",
    "        \"FrontLeft\": get_imgs(frame)[\"left\"],\n",
    "        \"FrontRight\": get_imgs(frame)[\"right\"],\n",
    "        \"imu\": imu_data[frame],\n",
    "    }\n",
    "    data = frontend.process_frame(data)\n",
    "    vo_odoms.append(data[\"odometry\"])\n",
    "    eval_odoms.append(np.linalg.inv(poses[frame - 2]) @ poses[frame])"
   ]
  },
  {
   "cell_type": "code",
   "execution_count": null,
   "id": "5",
   "metadata": {},
   "outputs": [],
   "source": [
    "sigma_rotation, sigma_translation = compute_odometry_sigmas(vo_odoms, eval_odoms)\n",
    "print(f\"Rotation sigma (rad): {sigma_rotation}\")\n",
    "print(f\"Translation sigma (m): {sigma_translation}\")"
   ]
  },
  {
   "cell_type": "code",
   "execution_count": null,
   "id": "6",
   "metadata": {},
   "outputs": [],
   "source": []
  }
 ],
 "metadata": {
  "kernelspec": {
   "display_name": "lac",
   "language": "python",
   "name": "python3"
  },
  "language_info": {
   "codemirror_mode": {
    "name": "ipython",
    "version": 3
   },
   "file_extension": ".py",
   "mimetype": "text/x-python",
   "name": "python",
   "nbconvert_exporter": "python",
   "pygments_lexer": "ipython3",
   "version": "3.10.15"
  }
 },
 "nbformat": 4,
 "nbformat_minor": 5
}
