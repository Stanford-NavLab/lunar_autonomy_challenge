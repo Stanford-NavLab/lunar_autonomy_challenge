{
 "cells": [
  {
   "cell_type": "code",
   "execution_count": null,
   "metadata": {},
   "outputs": [],
   "source": [
    "import numpy as np\n",
    "from tqdm import tqdm\n",
    "from pathlib import Path\n",
    "import gtsam\n",
    "from gtsam.symbol_shorthand import X\n",
    "import matplotlib.pyplot as plt\n",
    "import plotly.graph_objects as go\n",
    "\n",
    "from lac.slam.gtsam_factor_graph import GtsamFactorGraph\n",
    "from lac.slam.slam import SLAM\n",
    "from lac.slam.gtsam_util import remove_outliers, plot_reprojection_residuals\n",
    "from lac.slam.visual_odometry import StereoVisualOdometry\n",
    "from lac.slam.feature_tracker import FeatureTracker\n",
    "from lac.utils.plotting import plot_poses, plot_surface, plot_3d_points\n",
    "from lac.utils.visualization import image_grid\n",
    "from lac.util import load_data, load_stereo_images, load_images, positions_rmse_from_poses\n",
    "\n",
    "%load_ext autoreload\n",
    "%autoreload 2"
   ]
  },
  {
   "cell_type": "code",
   "execution_count": null,
   "metadata": {},
   "outputs": [],
   "source": [
    "# Load the data logs\n",
    "data_path = \"/home/shared/data_raw/LAC/runs/full_spiral_map1_preset0\"\n",
    "initial_pose, lander_pose, poses, imu_data, cam_config = load_data(data_path)\n",
    "print(f\"Loaded {len(poses)} poses\")"
   ]
  },
  {
   "cell_type": "code",
   "execution_count": null,
   "metadata": {},
   "outputs": [],
   "source": [
    "# images = load_images(data_path, cameras=[\"FrontLeft\", \"FrontRight\"], start_frame=0, end_frame=10000)\n",
    "left_imgs, right_imgs = load_stereo_images(data_path, start_frame=0, end_frame=10000)\n",
    "images = {\"FrontLeft\": left_imgs, \"FrontRight\": right_imgs}"
   ]
  },
  {
   "cell_type": "code",
   "execution_count": null,
   "metadata": {},
   "outputs": [],
   "source": [
    "# Load the ground truth map\n",
    "map = np.load(\n",
    "    \"/home/shared/data_raw/LAC/heightmaps/competition/Moon_Map_01_preset_0.dat\",\n",
    "    allow_pickle=True,\n",
    ")"
   ]
  },
  {
   "cell_type": "code",
   "execution_count": null,
   "metadata": {},
   "outputs": [],
   "source": [
    "# Initialize modules\n",
    "START_FRAME = 80\n",
    "\n",
    "svo = StereoVisualOdometry(cam_config)\n",
    "svo.initialize(poses[START_FRAME], images[\"FrontLeft\"][START_FRAME], images[\"FrontRight\"][START_FRAME])\n",
    "\n",
    "tracker = FeatureTracker(cam_config)\n",
    "tracker.initialize(poses[START_FRAME], images[\"FrontLeft\"][START_FRAME], images[\"FrontRight\"][START_FRAME])\n",
    "\n",
    "graph = SLAM()\n",
    "graph.add_pose(0, poses[START_FRAME])\n",
    "graph.add_vision_factors(0, tracker)"
   ]
  },
  {
   "cell_type": "code",
   "execution_count": null,
   "metadata": {},
   "outputs": [],
   "source": [
    "IMG_RATE = 2\n",
    "GRAPH_UPDATE_RATE = 2\n",
    "END_FRAME = 1000\n",
    "\n",
    "curr_pose = initial_pose\n",
    "svo_poses = [initial_pose]\n",
    "eval_poses = [initial_pose]\n",
    "pose_key = 1\n",
    "\n",
    "# Main loop over image frames\n",
    "for step in tqdm(range(START_FRAME + 1, END_FRAME + 1)):\n",
    "    # graph.accumulate_imu_measurement(imu_data[step])\n",
    "\n",
    "    if step % IMG_RATE == 0:\n",
    "        # Run VO for real-time pose tracking\n",
    "        svo.track(images[\"FrontLeft\"][step], images[\"FrontRight\"][step])\n",
    "        curr_pose = svo.get_pose()\n",
    "        svo_poses.append(curr_pose)\n",
    "\n",
    "        # Track features\n",
    "        tracker.track_keyframe(curr_pose, images[\"FrontLeft\"][step], images[\"FrontRight\"][step])\n",
    "\n",
    "        # Add to the graph\n",
    "        if step % GRAPH_UPDATE_RATE == 0:\n",
    "            graph.add_pose(pose_key, curr_pose)\n",
    "            graph.add_vision_factors(pose_key, tracker)\n",
    "            # graph.add_imu_factor(pose_key)\n",
    "            graph.add_odometry_factor(pose_key, svo.pose_delta)\n",
    "\n",
    "            eval_poses.append(poses[step])\n",
    "\n",
    "            pose_key += 1"
   ]
  },
  {
   "cell_type": "code",
   "execution_count": null,
   "metadata": {},
   "outputs": [],
   "source": [
    "g, v, landmarks = graph.build_graph(list(range(0, pose_key)))"
   ]
  },
  {
   "cell_type": "code",
   "execution_count": null,
   "metadata": {},
   "outputs": [],
   "source": [
    "window = list(range(0, pose_key))\n",
    "result, g, v = graph.optimize(window, verbose=True, remove_outliers=True)"
   ]
  },
  {
   "cell_type": "code",
   "execution_count": null,
   "metadata": {},
   "outputs": [],
   "source": [
    "fig = graph.plot(show_landmarks=False)\n",
    "fig = plot_poses(poses[:END_FRAME], fig=fig, no_axes=True, color=\"black\", name=\"Ground truth\")\n",
    "fig = plot_poses(svo_poses, fig=fig, no_axes=True, color=\"orange\", name=\"VO poses\")\n",
    "# fig = plot_3d_points(landmark_points_cropped, fig=fig, color=\"red\", markersize=2, name=\"Landmarks\")\n",
    "fig.update_layout(height=900, width=1600, scene_aspectmode=\"data\")\n",
    "fig.show()"
   ]
  },
  {
   "cell_type": "code",
   "execution_count": null,
   "metadata": {},
   "outputs": [],
   "source": [
    "plot_reprojection_residuals(g, result)"
   ]
  },
  {
   "cell_type": "code",
   "execution_count": null,
   "metadata": {},
   "outputs": [],
   "source": [
    "opt_poses = [pose for pose in graph.poses.values()]\n",
    "positions_rmse_from_poses(opt_poses, eval_poses)"
   ]
  },
  {
   "cell_type": "code",
   "execution_count": null,
   "metadata": {},
   "outputs": [],
   "source": [
    "fig = graph.plot(start=0, end=1000, step=50)\n",
    "# fig = plot_surface(map, fig=fig, showscale=False)\n",
    "fig = plot_poses(poses[:END_FRAME], fig=fig, no_axes=True, color=\"black\", name=\"Ground truth\")\n",
    "fig = plot_poses(svo_poses, fig=fig, no_axes=True, color=\"orange\", name=\"VO poses\")\n",
    "# fig = plot_3d_points(landmark_points_cropped, fig=fig, color=\"red\", markersize=2, name=\"Landmarks\")\n",
    "fig.update_layout(height=900, width=1600, scene_aspectmode=\"data\")\n",
    "fig.show()"
   ]
  },
  {
   "cell_type": "code",
   "execution_count": null,
   "metadata": {},
   "outputs": [],
   "source": [
    "graph.projection_factors[200][0].error(result)"
   ]
  },
  {
   "cell_type": "code",
   "execution_count": null,
   "metadata": {},
   "outputs": [],
   "source": [
    "graph_poses = []\n",
    "for pose in graph.poses.values():\n",
    "    graph_poses.append(pose)"
   ]
  },
  {
   "cell_type": "code",
   "execution_count": null,
   "metadata": {},
   "outputs": [],
   "source": [
    "fig = go.Figure()\n",
    "# fig = plot_surface(map, fig=fig, showscale=False)\n",
    "fig = plot_poses(poses[:END_FRAME], fig=fig, no_axes=True, color=\"black\", name=\"Ground truth\")\n",
    "fig = plot_poses(svo_poses, fig=fig, no_axes=True, color=\"orange\", name=\"VO poses\")\n",
    "fig = plot_poses(graph_poses, fig=fig, no_axes=True, color=\"green\", name=\"Graph poses\")\n",
    "# fig = plot_3d_points(landmark_points_cropped, fig=fig, color=\"red\", markersize=2, name=\"Landmarks\")\n",
    "fig.update_layout(height=900, width=1600, scene_aspectmode=\"data\")\n",
    "fig.show()"
   ]
  },
  {
   "cell_type": "code",
   "execution_count": null,
   "metadata": {},
   "outputs": [],
   "source": [
    "graph.plot(start=0, end=100, step=10)"
   ]
  },
  {
   "cell_type": "code",
   "execution_count": null,
   "metadata": {},
   "outputs": [],
   "source": [
    "fig.write_html(\"gtsam_slam.html\")"
   ]
  },
  {
   "cell_type": "code",
   "execution_count": null,
   "metadata": {},
   "outputs": [],
   "source": []
  }
 ],
 "metadata": {
  "kernelspec": {
   "display_name": "lac",
   "language": "python",
   "name": "python3"
  },
  "language_info": {
   "codemirror_mode": {
    "name": "ipython",
    "version": 3
   },
   "file_extension": ".py",
   "mimetype": "text/x-python",
   "name": "python",
   "nbconvert_exporter": "python",
   "pygments_lexer": "ipython3",
   "version": "3.10.15"
  }
 },
 "nbformat": 4,
 "nbformat_minor": 2
}
