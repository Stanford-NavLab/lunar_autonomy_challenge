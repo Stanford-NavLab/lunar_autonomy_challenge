{
 "cells": [
  {
   "cell_type": "code",
   "execution_count": null,
   "metadata": {},
   "outputs": [],
   "source": [
    "import numpy as np\n",
    "from tqdm import tqdm\n",
    "from pathlib import Path\n",
    "from gtsam.symbol_shorthand import X\n",
    "\n",
    "from lac.slam.gtsam_factor_graph import GtsamFactorGraph\n",
    "from lac.slam.slam import SLAM\n",
    "from lac.slam.visual_odometry import StereoVisualOdometry\n",
    "from lac.slam.feature_tracker import FeatureTracker\n",
    "from lac.utils.plotting import plot_poses, plot_surface, plot_3d_points\n",
    "from lac.util import load_data, load_stereo_images\n",
    "from lac.params import LAC_BASE_PATH\n",
    "\n",
    "%load_ext autoreload\n",
    "%autoreload 2"
   ]
  },
  {
   "cell_type": "code",
   "execution_count": null,
   "metadata": {},
   "outputs": [],
   "source": [
    "# Load the data logs\n",
    "data_path = Path(LAC_BASE_PATH) / \"output/DataCollectionAgent/map1_preset0_stereo_lights1.0\"\n",
    "initial_pose, lander_pose, poses, imu_data, cam_config = load_data(data_path)\n",
    "print(f\"Loaded {len(poses)} poses\")\n",
    "\n",
    "# Load the images\n",
    "left_imgs, right_imgs = load_stereo_images(data_path)\n",
    "\n",
    "# Load the ground truth map\n",
    "map = np.load(\n",
    "    Path(LAC_BASE_PATH) / \"data/heightmaps/competition/Moon_Map_01_preset_0.dat\",\n",
    "    allow_pickle=True,\n",
    ")"
   ]
  },
  {
   "cell_type": "code",
   "execution_count": null,
   "metadata": {},
   "outputs": [],
   "source": [
    "# Initialize modules\n",
    "START_FRAME = 80\n",
    "\n",
    "svo = StereoVisualOdometry(cam_config)\n",
    "svo.initialize(initial_pose, left_imgs[START_FRAME], right_imgs[START_FRAME])\n",
    "\n",
    "tracker = FeatureTracker(cam_config)\n",
    "tracker.initialize(initial_pose, left_imgs[START_FRAME], right_imgs[START_FRAME])\n",
    "\n",
    "graph = SLAM()\n",
    "pose_key = 0\n",
    "graph.add_pose(pose_key, initial_pose)\n",
    "graph.add_vision_factors(pose_key, tracker.world_points, tracker.prev_pts, tracker.track_ids)"
   ]
  },
  {
   "cell_type": "code",
   "execution_count": null,
   "metadata": {},
   "outputs": [],
   "source": [
    "IMG_RATE = 2\n",
    "KEYFRAME_RATE = 10\n",
    "GRAPH_UPDATE_RATE = 10\n",
    "GRAPH_OPTIMIZE_RATE = 1000\n",
    "END_FRAME = 4000\n",
    "\n",
    "curr_pose = initial_pose\n",
    "svo_poses = [initial_pose]\n",
    "opt_first_key = pose_key\n",
    "\n",
    "# Main loop over image frames\n",
    "for step in tqdm(range(START_FRAME + IMG_RATE, END_FRAME + 1, IMG_RATE)):\n",
    "    # Run VO for real-time pose tracking\n",
    "    svo.track(left_imgs[step], right_imgs[step])\n",
    "    curr_pose = svo.get_pose()\n",
    "    svo_poses.append(curr_pose)\n",
    "\n",
    "    # Track features\n",
    "    tracker.track_keyframe(curr_pose, left_imgs[step], right_imgs[step])\n",
    "    # if step % KEYFRAME_RATE == 0:\n",
    "    #     tracker.track_keyframe(curr_pose, left_imgs[step], right_imgs[step])\n",
    "    # else:\n",
    "    #     tracker.track(left_imgs[step])\n",
    "\n",
    "    # Add to the graph\n",
    "    if step % GRAPH_UPDATE_RATE == 0:\n",
    "        pose_key += 1\n",
    "        graph.add_pose(pose_key, curr_pose)\n",
    "        graph.add_vision_factors(\n",
    "            pose_key, tracker.world_points, tracker.prev_pts, tracker.track_ids\n",
    "        )\n",
    "\n",
    "    # Optimize the graph\n",
    "    if step % GRAPH_OPTIMIZE_RATE == 0:\n",
    "        print(f\"Optimizing window {opt_first_key} to {pose_key}\")\n",
    "        window = list(range(opt_first_key, pose_key + 1))\n",
    "        graph.optimize(window)\n",
    "        opt_first_key = pose_key"
   ]
  },
  {
   "cell_type": "code",
   "execution_count": null,
   "metadata": {},
   "outputs": [],
   "source": [
    "graph_poses = []\n",
    "for pose in graph.poses.values():\n",
    "    graph_poses.append(pose)"
   ]
  },
  {
   "cell_type": "code",
   "execution_count": null,
   "metadata": {},
   "outputs": [],
   "source": [
    "landmark_points = np.vstack(list(graph.landmarks.values()))"
   ]
  },
  {
   "cell_type": "code",
   "execution_count": null,
   "metadata": {},
   "outputs": [],
   "source": [
    "from lac.utils.geometry import crop_points\n",
    "\n",
    "MAX_XY = 20.0\n",
    "MIN_Z = 0.0\n",
    "MAX_Z = 10.0\n",
    "scene_bbox = np.array([[-MAX_XY, -MAX_XY, MIN_Z], [MAX_XY, MAX_XY, MAX_Z]])\n",
    "\n",
    "landmark_points_cropped = crop_points(landmark_points, scene_bbox)"
   ]
  },
  {
   "cell_type": "code",
   "execution_count": null,
   "metadata": {},
   "outputs": [],
   "source": [
    "landmark_points.shape, landmark_points_cropped.shape"
   ]
  },
  {
   "cell_type": "code",
   "execution_count": null,
   "metadata": {},
   "outputs": [],
   "source": [
    "fig = plot_surface(map, showscale=False)\n",
    "fig = plot_poses(poses[:END_FRAME], fig=fig, no_axes=True, color=\"black\", name=\"Ground truth\")\n",
    "fig = plot_poses(svo_poses, fig=fig, no_axes=True, color=\"orange\", name=\"VO poses\")\n",
    "fig = plot_poses(graph_poses, fig=fig, no_axes=True, color=\"green\", name=\"Graph poses\")\n",
    "fig = plot_3d_points(landmark_points_cropped, fig=fig, color=\"lightblue\", name=\"Landmarks\")\n",
    "fig.update_layout(height=900, width=1600, scene_aspectmode=\"data\")\n",
    "fig.show()"
   ]
  },
  {
   "cell_type": "code",
   "execution_count": null,
   "metadata": {},
   "outputs": [],
   "source": []
  }
 ],
 "metadata": {
  "kernelspec": {
   "display_name": "lac",
   "language": "python",
   "name": "python3"
  },
  "language_info": {
   "codemirror_mode": {
    "name": "ipython",
    "version": 3
   },
   "file_extension": ".py",
   "mimetype": "text/x-python",
   "name": "python",
   "nbconvert_exporter": "python",
   "pygments_lexer": "ipython3",
   "version": "3.10.16"
  }
 },
 "nbformat": 4,
 "nbformat_minor": 2
}
