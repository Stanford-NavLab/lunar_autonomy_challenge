{
 "cells": [
  {
   "cell_type": "markdown",
   "metadata": {},
   "source": [
    "# Loosely-coupled loop closure\n"
   ]
  },
  {
   "cell_type": "code",
   "execution_count": null,
   "metadata": {},
   "outputs": [],
   "source": [
    "import numpy as np\n",
    "from tqdm import tqdm\n",
    "from pathlib import Path\n",
    "import cv2\n",
    "from gtsam.symbol_shorthand import X\n",
    "import matplotlib.pyplot as plt\n",
    "import os\n",
    "\n",
    "from lac.slam.visual_odometry import StereoVisualOdometry\n",
    "from lac.utils.plotting import plot_poses, plot_surface, plot_3d_points\n",
    "from lac.utils.visualization import image_grid\n",
    "from lac.slam.loop_closure import estimate_loop_closure_pose\n",
    "from lac.util import rotations_rmse_from_poses, positions_rmse_from_poses\n",
    "from lac.util import load_data, load_stereo_images, load_side_images\n",
    "from lac.params import LAC_BASE_PATH\n",
    "\n",
    "%load_ext autoreload\n",
    "%autoreload 2"
   ]
  },
  {
   "cell_type": "code",
   "execution_count": null,
   "metadata": {},
   "outputs": [],
   "source": [
    "data_path = \"/home/shared/data_raw/LAC/runs/full_spiral_map1_preset0_recovery_agent\"\n",
    "initial_pose, lander_pose, poses, imu_data, cam_config = load_data(data_path)\n",
    "\n",
    "fig = plot_poses(poses[:8000], no_axes=True, color=\"black\", name=\"Ground truth\")\n",
    "fig.update_layout(height=900, width=1600, scene_aspectmode=\"data\")\n",
    "fig.show()"
   ]
  },
  {
   "cell_type": "markdown",
   "metadata": {},
   "source": [
    "# Run VO to get odometry\n"
   ]
  },
  {
   "cell_type": "code",
   "execution_count": null,
   "metadata": {},
   "outputs": [],
   "source": [
    "# Load the data logs\n",
    "data_path = \"/home/shared/data_raw/LAC/runs/full_spiral_map1_preset0_recovery_agent\"\n",
    "initial_pose, lander_pose, poses, imu_data, cam_config = load_data(data_path)\n",
    "left_path = Path(data_path) / \"FrontLeft\"\n",
    "right_path = Path(data_path) / \"FrontRight\"\n",
    "side_path = Path(data_path) / \"Right\""
   ]
  },
  {
   "cell_type": "code",
   "execution_count": null,
   "metadata": {},
   "outputs": [],
   "source": [
    "svo = StereoVisualOdometry(cam_config)\n",
    "svo_poses = []\n",
    "pose_deltas = []\n",
    "\n",
    "START_FRAME = 240\n",
    "END_FRAME = 8000\n",
    "\n",
    "print(\"Running VO...\")\n",
    "progress_bar = tqdm(range(START_FRAME, END_FRAME, 2), dynamic_ncols=True)\n",
    "\n",
    "for frame in progress_bar:\n",
    "    progress_bar.set_description(f\"Processing Frame: {frame}\")\n",
    "\n",
    "    img_name = f\"{frame:06}.png\"\n",
    "    left_img = cv2.imread(str(left_path / img_name), cv2.IMREAD_GRAYSCALE)\n",
    "    right_img = cv2.imread(str(right_path / img_name), cv2.IMREAD_GRAYSCALE)\n",
    "\n",
    "    if frame == START_FRAME:\n",
    "        svo.initialize(poses[frame], left_img, right_img)\n",
    "        svo_poses.append(poses[frame])\n",
    "        continue\n",
    "\n",
    "    svo.track(left_img, right_img)\n",
    "    svo_poses.append(svo.rover_pose)\n",
    "    pose_deltas.append(svo.pose_delta)"
   ]
  },
  {
   "cell_type": "code",
   "execution_count": null,
   "metadata": {},
   "outputs": [],
   "source": [
    "fig = plot_poses(poses[START_FRAME:END_FRAME], no_axes=True, color=\"black\", name=\"Ground truth\")\n",
    "fig = plot_poses(svo_poses, fig=fig, no_axes=True, color=\"orange\", name=\"VO\")\n",
    "fig.update_layout(height=900, width=1600, scene_aspectmode=\"data\")\n",
    "fig.show()"
   ]
  },
  {
   "cell_type": "markdown",
   "metadata": {},
   "source": [
    "# Detect loop closures\n",
    "\n",
    "Position based\n"
   ]
  },
  {
   "cell_type": "code",
   "execution_count": null,
   "metadata": {},
   "outputs": [],
   "source": [
    "frame1 = 800\n",
    "frame2 = 3220\n",
    "\n",
    "side_img1 = cv2.imread(str(side_path / f\"{frame1:06}.png\"), cv2.IMREAD_GRAYSCALE)\n",
    "side_img2 = cv2.imread(str(side_path / f\"{frame2:06}.png\"), cv2.IMREAD_GRAYSCALE)\n",
    "\n",
    "image_grid([side_img1, side_img2], rows=1, cols=2)"
   ]
  },
  {
   "cell_type": "code",
   "execution_count": null,
   "metadata": {},
   "outputs": [],
   "source": [
    "# TODO: get a list of LC pairs\n",
    "loop_closures = []"
   ]
  },
  {
   "cell_type": "markdown",
   "metadata": {},
   "source": [
    "Plot the loop closures\n"
   ]
  },
  {
   "cell_type": "code",
   "execution_count": null,
   "metadata": {},
   "outputs": [],
   "source": [
    "fig = plot_poses(poses[START_FRAME:END_FRAME], no_axes=True, color=\"black\", name=\"Ground truth\")\n",
    "fig = plot_poses(svo_poses, fig=fig, no_axes=True, color=\"orange\", name=\"VO\")\n",
    "fig.update_layout(height=900, width=1600, scene_aspectmode=\"data\")\n",
    "fig.show()"
   ]
  },
  {
   "cell_type": "markdown",
   "metadata": {},
   "source": [
    "# Add loop closures\n",
    "\n",
    "With gtsam EssentialMatrixFactor\n"
   ]
  },
  {
   "cell_type": "code",
   "execution_count": null,
   "metadata": {},
   "outputs": [],
   "source": [
    "import gtsam\n",
    "from gtsam.symbol_shorthand import X"
   ]
  },
  {
   "cell_type": "code",
   "execution_count": null,
   "metadata": {},
   "outputs": [],
   "source": [
    "graph = gtsam.NonlinearFactorGraph()\n",
    "values = gtsam.Values()\n",
    "\n",
    "sigma_t = 0.005  # [m]\n",
    "sigma_R = 0.00087  # [rad]\n",
    "svo_pose_noise = gtsam.noiseModel.Diagonal.Sigmas(np.array([sigma_R, sigma_R, sigma_R, sigma_t, sigma_t, sigma_t]))\n",
    "\n",
    "values.insert(X(0), gtsam.Pose3(initial_pose))\n",
    "graph.add(gtsam.NonlinearEqualityPose3(X(0), gtsam.Pose3(initial_pose)))\n",
    "\n",
    "i = 1\n",
    "for frame in tqdm(np.arange(START_FRAME + 2, END_FRAME, 2)):\n",
    "    values.insert(X(i), gtsam.Pose3(svo_poses[i]))\n",
    "    graph.push_back(gtsam.BetweenFactorPose3(X(i - 1), X(i), gtsam.Pose3(pose_deltas[i - 1]), svo_pose_noise))\n",
    "    i += 1"
   ]
  }
 ],
 "metadata": {
  "kernelspec": {
   "display_name": "lac",
   "language": "python",
   "name": "python3"
  },
  "language_info": {
   "codemirror_mode": {
    "name": "ipython",
    "version": 3
   },
   "file_extension": ".py",
   "mimetype": "text/x-python",
   "name": "python",
   "nbconvert_exporter": "python",
   "pygments_lexer": "ipython3",
   "version": "3.10.16"
  }
 },
 "nbformat": 4,
 "nbformat_minor": 2
}
