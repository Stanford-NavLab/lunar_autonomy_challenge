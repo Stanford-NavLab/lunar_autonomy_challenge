{
 "cells": [
  {
   "cell_type": "code",
   "execution_count": null,
   "metadata": {},
   "outputs": [],
   "source": [
    "import numpy as np\n",
    "import cv2 as cv\n",
    "import os\n",
    "import json\n",
    "import matplotlib.pyplot as plt\n",
    "\n",
    "%load_ext autoreload\n",
    "%autoreload 2"
   ]
  },
  {
   "cell_type": "code",
   "execution_count": null,
   "metadata": {},
   "outputs": [],
   "source": [
    "data_path = os.path.expanduser(\"~/LunarAutonomyChallenge/output/hazard_1\")\n",
    "\n",
    "i = 401\n",
    "I1 = cv.imread(os.path.join(data_path, \"front_left\", f\"{i}.png\"), cv.IMREAD_GRAYSCALE)\n",
    "plt.imshow(I1, cmap=\"gray\")\n",
    "plt.show()"
   ]
  },
  {
   "cell_type": "code",
   "execution_count": null,
   "metadata": {},
   "outputs": [],
   "source": [
    "from PIL import Image\n",
    "from lang_sam import LangSAM"
   ]
  },
  {
   "cell_type": "code",
   "execution_count": null,
   "metadata": {},
   "outputs": [],
   "source": [
    "model = LangSAM()\n",
    "image_pil = Image.open(os.path.join(data_path, \"front_left\", f\"{i}.png\")).convert(\"RGB\")\n",
    "text_prompt = \"rock.\"\n",
    "results = model.predict([image_pil], [text_prompt])"
   ]
  },
  {
   "cell_type": "code",
   "execution_count": null,
   "metadata": {},
   "outputs": [],
   "source": [
    "i = 401\n",
    "I1 = cv.imread(os.path.join(data_path, \"front_left_semantic\", f\"{i}.png\"), cv.IMREAD_GRAYSCALE)\n",
    "plt.imshow(I1, cmap=\"gray\")\n",
    "plt.show()"
   ]
  },
  {
   "cell_type": "code",
   "execution_count": null,
   "metadata": {},
   "outputs": [],
   "source": [
    "i = 701\n",
    "I1 = cv.imread(os.path.join(data_path, \"front_left\", f\"{i}.png\"), cv.IMREAD_GRAYSCALE)\n",
    "plt.imshow(I1, cmap=\"gray\")\n",
    "plt.show()"
   ]
  },
  {
   "cell_type": "code",
   "execution_count": null,
   "metadata": {},
   "outputs": [],
   "source": []
  }
 ],
 "metadata": {
  "kernelspec": {
   "display_name": "lac",
   "language": "python",
   "name": "python3"
  },
  "language_info": {
   "codemirror_mode": {
    "name": "ipython",
    "version": 3
   },
   "file_extension": ".py",
   "mimetype": "text/x-python",
   "name": "python",
   "nbconvert_exporter": "python",
   "pygments_lexer": "ipython3",
   "version": "3.10.16"
  }
 },
 "nbformat": 4,
 "nbformat_minor": 2
}
