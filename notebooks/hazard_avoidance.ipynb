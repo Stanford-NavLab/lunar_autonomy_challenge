{
 "cells": [
  {
   "cell_type": "code",
   "execution_count": null,
   "metadata": {},
   "outputs": [],
   "source": [
    "import numpy as np\n",
    "import cv2 as cv\n",
    "import os\n",
    "import json\n",
    "from PIL import Image\n",
    "import matplotlib.pyplot as plt\n",
    "import time\n",
    "\n",
    "from lac.util import color_mask\n",
    "from lac.perception.segmentation import Segmentation\n",
    "\n",
    "%load_ext autoreload\n",
    "%autoreload 2"
   ]
  },
  {
   "cell_type": "markdown",
   "metadata": {},
   "source": [
    "# Hazard detection\n",
    "\n",
    "Use combination of instance segmentation and depth estimation to identify hazards (rocks)\n"
   ]
  },
  {
   "cell_type": "code",
   "execution_count": null,
   "metadata": {},
   "outputs": [],
   "source": [
    "segmentation = Segmentation()"
   ]
  },
  {
   "cell_type": "code",
   "execution_count": null,
   "metadata": {},
   "outputs": [],
   "source": [
    "data_path = os.path.expanduser(\"~/LunarAutonomyChallenge/output/hazard_2\")\n",
    "# data_path = os.path.expanduser(\"~/LunarAutonomyChallenge/output/data_collection_1\")\n",
    "\n",
    "i = 1001\n",
    "FL_gray = cv.imread(os.path.join(data_path, \"front_left\", f\"{i}.png\"), cv.IMREAD_GRAYSCALE)\n",
    "plt.imshow(FL_gray, cmap=\"gray\")\n",
    "plt.show()"
   ]
  },
  {
   "cell_type": "code",
   "execution_count": null,
   "metadata": {},
   "outputs": [],
   "source": [
    "results, mask = segmentation.segment_rocks(Image.fromarray(FL_gray).convert(\"RGB\"))"
   ]
  },
  {
   "cell_type": "code",
   "execution_count": null,
   "metadata": {},
   "outputs": [],
   "source": [
    "FL_rgb = cv.cvtColor(FL_gray, cv.COLOR_GRAY2BGR)\n",
    "mask_colored = color_mask(mask, (1, 0, 0)).astype(FL_rgb.dtype)\n",
    "overlay = cv.addWeighted(FL_rgb, 1.0, mask_colored, beta=0.5, gamma=0)\n",
    "plt.imshow(overlay)"
   ]
  },
  {
   "cell_type": "code",
   "execution_count": 1,
   "metadata": {},
   "outputs": [],
   "source": [
    "from lac.perception.depth import DepthAnything"
   ]
  },
  {
   "cell_type": "code",
   "execution_count": 3,
   "metadata": {},
   "outputs": [],
   "source": [
    "depth_model = DepthAnything()"
   ]
  },
  {
   "cell_type": "code",
   "execution_count": 3,
   "metadata": {},
   "outputs": [],
   "source": [
    "import torch\n",
    "from transformers import pipeline\n",
    "\n",
    "checkpoint = \"depth-anything/Depth-Anything-V2-base-hf\"\n",
    "pipe = pipeline(\"depth-estimation\", model=checkpoint, device=\"cuda\")\n",
    "\n",
    "# # Force model outputs to use float32\n",
    "# pipe.model.to(torch.float32)\n",
    "pass"
   ]
  },
  {
   "cell_type": "code",
   "execution_count": 6,
   "metadata": {},
   "outputs": [],
   "source": [
    "image = Image.open(os.path.join(data_path, \"front_left\", f\"{i}.png\"))"
   ]
  },
  {
   "cell_type": "code",
   "execution_count": null,
   "metadata": {},
   "outputs": [],
   "source": [
    "pipe(image)"
   ]
  },
  {
   "cell_type": "code",
   "execution_count": 18,
   "metadata": {},
   "outputs": [],
   "source": [
    "import os\n",
    "from PIL import Image\n",
    "from transformers import pipeline\n",
    "import torch\n",
    "import matplotlib.pyplot as plt"
   ]
  },
  {
   "cell_type": "code",
   "execution_count": 19,
   "metadata": {},
   "outputs": [],
   "source": [
    "device = \"cuda\" if torch.cuda.is_available() else \"cpu\"\n",
    "checkpoint = \"depth-anything/Depth-Anything-V2-base-hf\"\n",
    "pipe = pipeline(\"depth-estimation\", model=checkpoint, device=device)"
   ]
  },
  {
   "cell_type": "code",
   "execution_count": null,
   "metadata": {},
   "outputs": [],
   "source": [
    "i = 100\n",
    "\n",
    "image_path = os.path.expanduser(\n",
    "    \"~/LunarAutonomyChallenge/output/data_collection_1/front_left/{}.png\".format(i)\n",
    ")\n",
    "image_depth_in = Image.open(image_path)\n",
    "\n",
    "predictions = pipe(image_depth_in)\n",
    "\n",
    "# Plot image and predicted depth side by side\n",
    "fig, axes = plt.subplots(1, 2, figsize=(20, 10), gridspec_kw={\"wspace\": 0, \"hspace\": 0})\n",
    "axes[0].imshow(image_depth_in, cmap=\"gray\")\n",
    "axes[1].imshow(predictions[\"depth\"], cmap=\"gray\")\n",
    "for ax in axes:\n",
    "    ax.axis(\"off\")\n",
    "plt.subplots_adjust(wspace=0, hspace=0)\n",
    "plt.show()"
   ]
  },
  {
   "cell_type": "code",
   "execution_count": null,
   "metadata": {},
   "outputs": [],
   "source": [
    "image = Image.open(os.path.join(data_path, \"front_left\", f\"{i}.png\"))\n",
    "predictions = pipe(image)\n",
    "\n",
    "# Plot image and predicted depth side by side\n",
    "fig, axes = plt.subplots(1, 2, figsize=(20, 10), gridspec_kw={\"wspace\": 0, \"hspace\": 0})\n",
    "axes[0].imshow(image, cmap=\"gray\")\n",
    "axes[1].imshow(predictions[\"depth\"], cmap=\"gray\")\n",
    "for ax in axes:\n",
    "    ax.axis(\"off\")\n",
    "plt.subplots_adjust(wspace=0, hspace=0)\n",
    "plt.show()"
   ]
  },
  {
   "cell_type": "code",
   "execution_count": null,
   "metadata": {},
   "outputs": [],
   "source": []
  }
 ],
 "metadata": {
  "kernelspec": {
   "display_name": "lac",
   "language": "python",
   "name": "python3"
  },
  "language_info": {
   "codemirror_mode": {
    "name": "ipython",
    "version": 3
   },
   "file_extension": ".py",
   "mimetype": "text/x-python",
   "name": "python",
   "nbconvert_exporter": "python",
   "pygments_lexer": "ipython3",
   "version": "3.10.16"
  }
 },
 "nbformat": 4,
 "nbformat_minor": 2
}
