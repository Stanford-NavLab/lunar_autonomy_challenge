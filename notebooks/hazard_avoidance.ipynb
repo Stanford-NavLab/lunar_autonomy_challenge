{
 "cells": [
  {
   "cell_type": "code",
   "execution_count": null,
   "metadata": {},
   "outputs": [],
   "source": [
    "import numpy as np\n",
    "import cv2 as cv\n",
    "import os\n",
    "import json\n",
    "from PIL import Image\n",
    "import matplotlib.pyplot as plt\n",
    "import plotly.graph_objects as go\n",
    "import time\n",
    "import torch\n",
    "from pathlib import Path\n",
    "\n",
    "from lac.perception.segmentation import Segmentation\n",
    "from lac.perception.depth import stereo_depth_from_segmentation, project_pixel_to_rover\n",
    "from lac.control.controller import rock_avoidance_steering\n",
    "from lac.utils.visualization import overlay_mask, overlay_stereo_rock_depths\n",
    "from lac.utils.plotting import plot_points_rover_frame\n",
    "from lac.util import load_data\n",
    "import lac.params as params\n",
    "\n",
    "%load_ext autoreload\n",
    "%autoreload 2"
   ]
  },
  {
   "cell_type": "markdown",
   "metadata": {},
   "source": [
    "# Hazard detection\n",
    "\n",
    "Use combination of instance segmentation and depth estimation to identify hazards (rocks)\n",
    "\n",
    "- Turn left (+Y) is positive, turn right (-Y) is negative\n"
   ]
  },
  {
   "cell_type": "markdown",
   "metadata": {},
   "source": [
    "## Segmentation\n",
    "\n",
    "Empirical observation: masks of area >50000 are typically outliers (full ground).\n"
   ]
  },
  {
   "cell_type": "code",
   "execution_count": null,
   "metadata": {},
   "outputs": [],
   "source": [
    "segmentation = Segmentation()"
   ]
  },
  {
   "cell_type": "code",
   "execution_count": null,
   "metadata": {},
   "outputs": [],
   "source": [
    "# data_path = os.path.expanduser(\"~/LunarAutonomyChallenge/output/hazard_2\")\n",
    "# data_path = os.path.expanduser(\"~/LunarAutonomyChallenge/output/localization_agent_ekf_teleop\")\n",
    "data_path = os.path.expanduser(\"~/LunarAutonomyChallenge/output/NavAgent/map1_preset6\")\n",
    "\n",
    "i = 160\n",
    "FL_gray = cv.imread(os.path.join(data_path, \"FrontLeft\", f\"{i}.png\"), cv.IMREAD_GRAYSCALE)\n",
    "FL_rgb_PIL = Image.fromarray(FL_gray).convert(\"RGB\")\n",
    "\n",
    "results, full_mask = segmentation.segment_rocks(FL_rgb_PIL)\n",
    "overlay = overlay_mask(FL_gray, full_mask)\n",
    "\n",
    "plt.imshow(overlay)\n",
    "plt.show()"
   ]
  },
  {
   "cell_type": "code",
   "execution_count": null,
   "metadata": {},
   "outputs": [],
   "source": [
    "data_path = Path(\"../../output/NavAgent/map1_preset4_gtnav_steer\")\n",
    "initial_pose, lander_pose, poses, imu_data, cam_config = load_data(data_path)"
   ]
  },
  {
   "cell_type": "code",
   "execution_count": null,
   "metadata": {},
   "outputs": [],
   "source": [
    "i = 1600\n",
    "\n",
    "left_image = Image.open(data_path / \"FrontLeft\" / f\"{i}.png\")\n",
    "right_image = Image.open(data_path / \"FrontRight\" / f\"{i}.png\")\n",
    "\n",
    "left_seg_masks, left_seg_full_mask = segmentation.segment_rocks(left_image.convert(\"RGB\"))\n",
    "right_seg_masks, right_seg_full_mask = segmentation.segment_rocks(right_image.convert(\"RGB\"))\n",
    "\n",
    "results = stereo_depth_from_segmentation(\n",
    "    left_seg_masks, right_seg_masks, params.STEREO_BASELINE, params.FL_X\n",
    ")\n",
    "left_overlay = overlay_mask(np.array(left_image), left_seg_full_mask)\n",
    "left_overlay = overlay_stereo_rock_depths(left_overlay, results)\n",
    "fig = plt.figure(figsize=(10, 5), dpi=100)\n",
    "plt.imshow(left_overlay)\n",
    "plt.axis(\"off\")"
   ]
  },
  {
   "cell_type": "code",
   "execution_count": null,
   "metadata": {},
   "outputs": [],
   "source": [
    "[mask.sum() for mask in left_seg_masks]"
   ]
  },
  {
   "cell_type": "code",
   "execution_count": null,
   "metadata": {},
   "outputs": [],
   "source": [
    "[rock[\"left_mask\"].sum() for rock in results]"
   ]
  },
  {
   "cell_type": "code",
   "execution_count": null,
   "metadata": {},
   "outputs": [],
   "source": [
    "rock_points_rover_frame = []\n",
    "for rock in results:\n",
    "    rock_points_rover_frame.append(\n",
    "        project_pixel_to_rover(rock[\"left_centroid\"], rock[\"depth\"], \"FrontLeft\", cam_config)\n",
    "    )\n",
    "rock_points_rover_frame = np.array(rock_points_rover_frame)\n",
    "plot_points_rover_frame(rock_points_rover_frame, color=\"red\")"
   ]
  },
  {
   "cell_type": "code",
   "execution_count": null,
   "metadata": {},
   "outputs": [],
   "source": [
    "rock_avoidance_steering(results, cam_config)"
   ]
  },
  {
   "cell_type": "markdown",
   "metadata": {},
   "source": [
    "## Depth\n"
   ]
  },
  {
   "cell_type": "code",
   "execution_count": null,
   "metadata": {},
   "outputs": [],
   "source": [
    "import os\n",
    "import cv2 as cv\n",
    "from PIL import Image\n",
    "import matplotlib.pyplot as plt\n",
    "\n",
    "from lac.perception.depth import DepthAnything"
   ]
  },
  {
   "cell_type": "code",
   "execution_count": null,
   "metadata": {},
   "outputs": [],
   "source": [
    "depth_model = DepthAnything()"
   ]
  },
  {
   "cell_type": "code",
   "execution_count": null,
   "metadata": {},
   "outputs": [],
   "source": [
    "data_path = os.path.expanduser(\"~/LunarAutonomyChallenge/output/hazard_2\")\n",
    "# data_path = os.path.expanduser(\"~/LunarAutonomyChallenge/output/data_collection_1\")\n",
    "\n",
    "i = 1051\n",
    "FL_gray = cv.imread(os.path.join(data_path, \"front_left\", f\"{i}.png\"), cv.IMREAD_GRAYSCALE)\n",
    "plt.imshow(FL_gray, cmap=\"gray\")\n",
    "plt.show()"
   ]
  },
  {
   "cell_type": "code",
   "execution_count": null,
   "metadata": {},
   "outputs": [],
   "source": [
    "import torch\n",
    "from transformers import pipeline\n",
    "\n",
    "checkpoint = \"depth-anything/Depth-Anything-V2-base-hf\"\n",
    "pipe = pipeline(\"depth-estimation\", model=checkpoint, device=\"cuda\")\n",
    "\n",
    "# # Force model outputs to use float32\n",
    "# pipe.model.to(torch.float32)\n",
    "pass"
   ]
  },
  {
   "cell_type": "code",
   "execution_count": null,
   "metadata": {},
   "outputs": [],
   "source": [
    "image = Image.open(os.path.join(data_path, \"front_left\", f\"{i}.png\"))"
   ]
  },
  {
   "cell_type": "code",
   "execution_count": null,
   "metadata": {},
   "outputs": [],
   "source": [
    "torch.set_default_dtype(torch.float32)"
   ]
  },
  {
   "cell_type": "code",
   "execution_count": null,
   "metadata": {},
   "outputs": [],
   "source": [
    "print(torch.get_default_dtype())"
   ]
  },
  {
   "cell_type": "code",
   "execution_count": null,
   "metadata": {},
   "outputs": [],
   "source": [
    "pipe(image)"
   ]
  },
  {
   "cell_type": "code",
   "execution_count": null,
   "metadata": {},
   "outputs": [],
   "source": [
    "import os\n",
    "from PIL import Image\n",
    "from transformers import pipeline\n",
    "import torch\n",
    "import matplotlib.pyplot as plt"
   ]
  },
  {
   "cell_type": "code",
   "execution_count": null,
   "metadata": {},
   "outputs": [],
   "source": [
    "device = \"cuda\" if torch.cuda.is_available() else \"cpu\"\n",
    "checkpoint = \"depth-anything/Depth-Anything-V2-base-hf\"\n",
    "pipe = pipeline(\"depth-estimation\", model=checkpoint, device=device)"
   ]
  },
  {
   "cell_type": "code",
   "execution_count": null,
   "metadata": {},
   "outputs": [],
   "source": [
    "i = 100\n",
    "\n",
    "image_path = os.path.expanduser(\n",
    "    \"~/LunarAutonomyChallenge/output/data_collection_1/front_left/{}.png\".format(i)\n",
    ")\n",
    "image_depth_in = Image.open(image_path)\n",
    "\n",
    "predictions = pipe(image_depth_in)\n",
    "\n",
    "# Plot image and predicted depth side by side\n",
    "fig, axes = plt.subplots(1, 2, figsize=(20, 10), gridspec_kw={\"wspace\": 0, \"hspace\": 0})\n",
    "axes[0].imshow(image_depth_in, cmap=\"gray\")\n",
    "axes[1].imshow(predictions[\"depth\"], cmap=\"gray\")\n",
    "for ax in axes:\n",
    "    ax.axis(\"off\")\n",
    "plt.subplots_adjust(wspace=0, hspace=0)\n",
    "plt.show()"
   ]
  },
  {
   "cell_type": "code",
   "execution_count": null,
   "metadata": {},
   "outputs": [],
   "source": [
    "image = Image.open(os.path.join(data_path, \"front_left\", f\"{i}.png\"))\n",
    "predictions = pipe(image)\n",
    "\n",
    "# Plot image and predicted depth side by side\n",
    "fig, axes = plt.subplots(1, 2, figsize=(20, 10), gridspec_kw={\"wspace\": 0, \"hspace\": 0})\n",
    "axes[0].imshow(image, cmap=\"gray\")\n",
    "axes[1].imshow(predictions[\"depth\"], cmap=\"gray\")\n",
    "for ax in axes:\n",
    "    ax.axis(\"off\")\n",
    "plt.subplots_adjust(wspace=0, hspace=0)\n",
    "plt.show()"
   ]
  },
  {
   "cell_type": "code",
   "execution_count": null,
   "metadata": {},
   "outputs": [],
   "source": []
  }
 ],
 "metadata": {
  "kernelspec": {
   "display_name": "lac",
   "language": "python",
   "name": "python3"
  },
  "language_info": {
   "codemirror_mode": {
    "name": "ipython",
    "version": 3
   },
   "file_extension": ".py",
   "mimetype": "text/x-python",
   "name": "python",
   "nbconvert_exporter": "python",
   "pygments_lexer": "ipython3",
   "version": "3.10.16"
  }
 },
 "nbformat": 4,
 "nbformat_minor": 2
}
