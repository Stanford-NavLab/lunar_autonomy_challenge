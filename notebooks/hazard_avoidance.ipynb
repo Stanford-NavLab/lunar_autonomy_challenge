{
 "cells": [
  {
   "cell_type": "code",
   "execution_count": null,
   "metadata": {},
   "outputs": [],
   "source": [
    "import numpy as np\n",
    "import cv2 as cv\n",
    "import os\n",
    "import json\n",
    "from PIL import Image\n",
    "import matplotlib.pyplot as plt\n",
    "import time\n",
    "import torch\n",
    "\n",
    "from lac.util import color_mask\n",
    "from lac.perception.segmentation import Segmentation\n",
    "\n",
    "%load_ext autoreload\n",
    "%autoreload 2"
   ]
  },
  {
   "cell_type": "code",
   "execution_count": 1,
   "metadata": {},
   "outputs": [
    {
     "ename": "NameError",
     "evalue": "name 'torch' is not defined",
     "output_type": "error",
     "traceback": [
      "\u001b[0;31m---------------------------------------------------------------------------\u001b[0m",
      "\u001b[0;31mNameError\u001b[0m                                 Traceback (most recent call last)",
      "Cell \u001b[0;32mIn[1], line 1\u001b[0m\n\u001b[0;32m----> 1\u001b[0m \u001b[38;5;28mprint\u001b[39m(\u001b[43mtorch\u001b[49m\u001b[38;5;241m.\u001b[39mget_default_dtype())\n",
      "\u001b[0;31mNameError\u001b[0m: name 'torch' is not defined"
     ]
    }
   ],
   "source": [
    "print(torch.get_default_dtype())"
   ]
  },
  {
   "cell_type": "markdown",
   "metadata": {},
   "source": [
    "# Hazard detection\n",
    "\n",
    "Use combination of instance segmentation and depth estimation to identify hazards (rocks)\n",
    "\n",
    "- Turn left is positive, turn right is negative\n"
   ]
  },
  {
   "cell_type": "markdown",
   "metadata": {},
   "source": [
    "## Segmentation\n",
    "\n",
    "Empirical observation: masks of area >50000 are typically outliers (full ground).\n"
   ]
  },
  {
   "cell_type": "code",
   "execution_count": 13,
   "metadata": {},
   "outputs": [],
   "source": [
    "segmentation = Segmentation()"
   ]
  },
  {
   "cell_type": "code",
   "execution_count": null,
   "metadata": {},
   "outputs": [],
   "source": [
    "data_path = os.path.expanduser(\"~/LunarAutonomyChallenge/output/hazard_2\")\n",
    "# data_path = os.path.expanduser(\"~/LunarAutonomyChallenge/output/data_collection_1\")\n",
    "\n",
    "i = 1051\n",
    "FL_gray = cv.imread(os.path.join(data_path, \"front_left\", f\"{i}.png\"), cv.IMREAD_GRAYSCALE)\n",
    "plt.imshow(FL_gray, cmap=\"gray\")\n",
    "plt.show()"
   ]
  },
  {
   "cell_type": "code",
   "execution_count": null,
   "metadata": {},
   "outputs": [],
   "source": [
    "results, full_mask = segmentation.segment_rocks(Image.fromarray(FL_gray).convert(\"RGB\"))"
   ]
  },
  {
   "cell_type": "code",
   "execution_count": null,
   "metadata": {},
   "outputs": [],
   "source": [
    "FL_rgb = cv.cvtColor(FL_gray, cv.COLOR_GRAY2BGR)\n",
    "mask_colored = color_mask(full_mask, (1, 0, 0)).astype(FL_rgb.dtype)\n",
    "overlay = cv.addWeighted(FL_rgb, 1.0, mask_colored, beta=0.5, gamma=0)\n",
    "plt.imshow(overlay)"
   ]
  },
  {
   "cell_type": "code",
   "execution_count": null,
   "metadata": {},
   "outputs": [],
   "source": [
    "for mask in results[\"masks\"]:\n",
    "    mask_area = np.sum(mask)\n",
    "    if mask_area > 1000:\n",
    "        # Compute pixel centroid\n",
    "        mask = mask.astype(np.uint8)\n",
    "        moments = cv.moments(mask)\n",
    "        cx = int(moments[\"m10\"] / moments[\"m00\"])\n",
    "        cy = int(moments[\"m01\"] / moments[\"m00\"])\n",
    "        cv.circle(overlay, (cx, cy), 5, (0, 255, 0), -1)\n",
    "        # Compute the x bounds of the mask\n",
    "        x, y, w, h = cv.boundingRect(mask)\n",
    "        cv.rectangle(overlay, (x, y), (x + w, y + h), (0, 255, 0), 2)\n",
    "plt.imshow(overlay)"
   ]
  },
  {
   "cell_type": "code",
   "execution_count": 40,
   "metadata": {},
   "outputs": [],
   "source": [
    "# Find the max area mask with area under 50000\n",
    "max_area = 0\n",
    "max_mask = None\n",
    "for mask in results[\"masks\"]:\n",
    "    mask_area = np.sum(mask)\n",
    "    if mask_area > max_area and mask_area < 50000:\n",
    "        max_area = mask_area\n",
    "        max_mask = mask"
   ]
  },
  {
   "cell_type": "code",
   "execution_count": null,
   "metadata": {},
   "outputs": [],
   "source": [
    "cx"
   ]
  },
  {
   "cell_type": "code",
   "execution_count": null,
   "metadata": {},
   "outputs": [],
   "source": [
    "offset = 1280 / 2 - cx\n",
    "print(\"Offset:\", offset)\n",
    "\n",
    "if offset > 0:\n",
    "    print(\"Turn right\")\n",
    "    print(\"Steering = \", -min(0.6 * ((x + w) - cx) / 100, 0.6))\n",
    "else:\n",
    "    print(\"Turn left\")\n",
    "    print(\"Steering = \", min(0.6 * (cx - x) / 100, 0.6))\n",
    "cx - x"
   ]
  },
  {
   "cell_type": "markdown",
   "metadata": {},
   "source": [
    "## Depth\n"
   ]
  },
  {
   "cell_type": "code",
   "execution_count": 6,
   "metadata": {},
   "outputs": [],
   "source": [
    "import os\n",
    "import cv2 as cv\n",
    "from PIL import Image\n",
    "import matplotlib.pyplot as plt\n",
    "\n",
    "from lac.perception.depth import DepthAnything"
   ]
  },
  {
   "cell_type": "code",
   "execution_count": 2,
   "metadata": {},
   "outputs": [],
   "source": [
    "depth_model = DepthAnything()"
   ]
  },
  {
   "cell_type": "code",
   "execution_count": null,
   "metadata": {},
   "outputs": [],
   "source": [
    "data_path = os.path.expanduser(\"~/LunarAutonomyChallenge/output/hazard_2\")\n",
    "# data_path = os.path.expanduser(\"~/LunarAutonomyChallenge/output/data_collection_1\")\n",
    "\n",
    "i = 1051\n",
    "FL_gray = cv.imread(os.path.join(data_path, \"front_left\", f\"{i}.png\"), cv.IMREAD_GRAYSCALE)\n",
    "plt.imshow(FL_gray, cmap=\"gray\")\n",
    "plt.show()"
   ]
  },
  {
   "cell_type": "code",
   "execution_count": 4,
   "metadata": {},
   "outputs": [],
   "source": [
    "import torch\n",
    "from transformers import pipeline\n",
    "\n",
    "checkpoint = \"depth-anything/Depth-Anything-V2-base-hf\"\n",
    "pipe = pipeline(\"depth-estimation\", model=checkpoint, device=\"cuda\")\n",
    "\n",
    "# # Force model outputs to use float32\n",
    "# pipe.model.to(torch.float32)\n",
    "pass"
   ]
  },
  {
   "cell_type": "code",
   "execution_count": null,
   "metadata": {},
   "outputs": [],
   "source": [
    "image = Image.open(os.path.join(data_path, \"front_left\", f\"{i}.png\"))"
   ]
  },
  {
   "cell_type": "code",
   "execution_count": 8,
   "metadata": {},
   "outputs": [],
   "source": [
    "torch.set_default_dtype(torch.float32)"
   ]
  },
  {
   "cell_type": "code",
   "execution_count": null,
   "metadata": {},
   "outputs": [],
   "source": [
    "print(torch.get_default_dtype())"
   ]
  },
  {
   "cell_type": "code",
   "execution_count": null,
   "metadata": {},
   "outputs": [],
   "source": [
    "pipe(image)"
   ]
  },
  {
   "cell_type": "code",
   "execution_count": 18,
   "metadata": {},
   "outputs": [],
   "source": [
    "import os\n",
    "from PIL import Image\n",
    "from transformers import pipeline\n",
    "import torch\n",
    "import matplotlib.pyplot as plt"
   ]
  },
  {
   "cell_type": "code",
   "execution_count": 19,
   "metadata": {},
   "outputs": [],
   "source": [
    "device = \"cuda\" if torch.cuda.is_available() else \"cpu\"\n",
    "checkpoint = \"depth-anything/Depth-Anything-V2-base-hf\"\n",
    "pipe = pipeline(\"depth-estimation\", model=checkpoint, device=device)"
   ]
  },
  {
   "cell_type": "code",
   "execution_count": null,
   "metadata": {},
   "outputs": [],
   "source": [
    "i = 100\n",
    "\n",
    "image_path = os.path.expanduser(\n",
    "    \"~/LunarAutonomyChallenge/output/data_collection_1/front_left/{}.png\".format(i)\n",
    ")\n",
    "image_depth_in = Image.open(image_path)\n",
    "\n",
    "predictions = pipe(image_depth_in)\n",
    "\n",
    "# Plot image and predicted depth side by side\n",
    "fig, axes = plt.subplots(1, 2, figsize=(20, 10), gridspec_kw={\"wspace\": 0, \"hspace\": 0})\n",
    "axes[0].imshow(image_depth_in, cmap=\"gray\")\n",
    "axes[1].imshow(predictions[\"depth\"], cmap=\"gray\")\n",
    "for ax in axes:\n",
    "    ax.axis(\"off\")\n",
    "plt.subplots_adjust(wspace=0, hspace=0)\n",
    "plt.show()"
   ]
  },
  {
   "cell_type": "code",
   "execution_count": null,
   "metadata": {},
   "outputs": [],
   "source": [
    "image = Image.open(os.path.join(data_path, \"front_left\", f\"{i}.png\"))\n",
    "predictions = pipe(image)\n",
    "\n",
    "# Plot image and predicted depth side by side\n",
    "fig, axes = plt.subplots(1, 2, figsize=(20, 10), gridspec_kw={\"wspace\": 0, \"hspace\": 0})\n",
    "axes[0].imshow(image, cmap=\"gray\")\n",
    "axes[1].imshow(predictions[\"depth\"], cmap=\"gray\")\n",
    "for ax in axes:\n",
    "    ax.axis(\"off\")\n",
    "plt.subplots_adjust(wspace=0, hspace=0)\n",
    "plt.show()"
   ]
  },
  {
   "cell_type": "code",
   "execution_count": null,
   "metadata": {},
   "outputs": [],
   "source": []
  }
 ],
 "metadata": {
  "kernelspec": {
   "display_name": "lac",
   "language": "python",
   "name": "python3"
  },
  "language_info": {
   "codemirror_mode": {
    "name": "ipython",
    "version": 3
   },
   "file_extension": ".py",
   "mimetype": "text/x-python",
   "name": "python",
   "nbconvert_exporter": "python",
   "pygments_lexer": "ipython3",
   "version": "3.10.16"
  }
 },
 "nbformat": 4,
 "nbformat_minor": 2
}
