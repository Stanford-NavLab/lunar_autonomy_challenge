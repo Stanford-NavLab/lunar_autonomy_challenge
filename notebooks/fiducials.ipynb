{
 "cells": [
  {
   "cell_type": "code",
   "execution_count": null,
   "metadata": {},
   "outputs": [],
   "source": [
    "import numpy as np\n",
    "import cv2 as cv\n",
    "import os\n",
    "import json\n",
    "import matplotlib.pyplot as plt\n",
    "import apriltag\n",
    "from scipy.spatial.transform import Rotation\n",
    "\n",
    "import lac.params as params\n",
    "from lac.utils.frames import apply_transform\n",
    "\n",
    "%load_ext autoreload\n",
    "%autoreload 2"
   ]
  },
  {
   "cell_type": "markdown",
   "metadata": {},
   "source": [
    "# Loading fiducial locations\n"
   ]
  },
  {
   "cell_type": "code",
   "execution_count": null,
   "metadata": {},
   "outputs": [],
   "source": [
    "# known fiducial corner positions\n",
    "fiducial_group_centers = json.load(\n",
    "    open(os.path.expanduser(\"~/LunarAutonomyChallenge/docs/geometry.json\"))\n",
    ")[\"lander\"][\"fiducials\"]\n",
    "centers_group_a = fiducial_group_centers[\"a\"]\n",
    "centers_group_b = fiducial_group_centers[\"b\"]\n",
    "centers_group_c = fiducial_group_centers[\"c\"]\n",
    "centers_group_d = fiducial_group_centers[\"d\"]\n",
    "\n",
    "FIDUCIAL_NAMES = [\"top left\", \"top right\", \"lower right\", \"lower left\"]\n",
    "\n",
    "\n",
    "def fiducial_centers_array(centers: dict) -> np.ndarray:\n",
    "    center_pts = []\n",
    "    for name in FIDUCIAL_NAMES:\n",
    "        center_pts.append(np.array([centers[name][\"x\"], centers[name][\"y\"], centers[name][\"z\"]]))\n",
    "    return np.array(center_pts)"
   ]
  },
  {
   "cell_type": "code",
   "execution_count": null,
   "metadata": {},
   "outputs": [],
   "source": [
    "# These angles are listed clockwise (like bruh)\n",
    "tag_group_bearing_angles = {\n",
    "    \"a\": 135,\n",
    "    \"b\": 45,\n",
    "    \"c\": 315,\n",
    "    \"d\": 225,\n",
    "}"
   ]
  },
  {
   "cell_type": "code",
   "execution_count": null,
   "metadata": {},
   "outputs": [],
   "source": [
    "tag_poses = {}\n",
    "\n",
    "for group, group_vals in fiducial_group_centers.items():\n",
    "    for tag, tag_vals in group_vals.items():\n",
    "        tag_poses[tag_vals[\"id\"]] = {\n",
    "            \"center\": np.array([tag_vals[\"x\"], tag_vals[\"y\"], tag_vals[\"z\"]]),\n",
    "            \"bearing\": tag_group_bearing_angles[group],\n",
    "        }"
   ]
  },
  {
   "cell_type": "markdown",
   "metadata": {},
   "source": [
    "Test getting tag corners in world frame for an example tag\n"
   ]
  },
  {
   "cell_type": "code",
   "execution_count": null,
   "metadata": {},
   "outputs": [],
   "source": [
    "tag_id = 37  # (Group A, lower right)\n",
    "tag_center = tag_poses[tag_id][\"center\"]\n",
    "tag_bearing = tag_poses[tag_id][\"bearing\"]"
   ]
  },
  {
   "cell_type": "code",
   "execution_count": null,
   "metadata": {},
   "outputs": [],
   "source": [
    "half_size = params.TAG_SIZE / 2\n",
    "tag_corners_local = np.array(\n",
    "    [\n",
    "        [half_size, 0, half_size],\n",
    "        [-half_size, 0, half_size],\n",
    "        [-half_size, 0, -half_size],\n",
    "        [half_size, 0, -half_size],\n",
    "    ]\n",
    ")\n",
    "R = Rotation.from_euler(\"z\", -tag_bearing, degrees=True).as_matrix()\n",
    "tag_corners_lander = tag_corners_local @ R.T + tag_center\n",
    "print(tag_corners_lander)"
   ]
  },
  {
   "cell_type": "code",
   "execution_count": null,
   "metadata": {},
   "outputs": [],
   "source": [
    "Rotation.from_euler(\"z\", -tag_bearing, degrees=True).apply(tag_corners_local) + tag_center"
   ]
  },
  {
   "cell_type": "code",
   "execution_count": null,
   "metadata": {},
   "outputs": [],
   "source": [
    "data_path = \"../../results/runs/map1_seed4_spiral_4.5_2.0_run2/data_log.json\"\n",
    "json_data = json.load(open(f\"{data_path}\"))\n",
    "lander_pose = np.array(json_data[\"lander_pose_world\"])\n",
    "\n",
    "tag_corners_world = apply_transform(lander_pose, tag_corners_lander)\n",
    "print(tag_corners_world)"
   ]
  },
  {
   "cell_type": "markdown",
   "metadata": {},
   "source": [
    "# AprilTag detection\n"
   ]
  },
  {
   "cell_type": "code",
   "execution_count": null,
   "metadata": {},
   "outputs": [],
   "source": [
    "data_path = os.path.expanduser(\"~/LunarAutonomyChallenge/output/lander_closeups/\")\n",
    "CAM_NAME = \"FrontLeft\"\n",
    "imgs = os.listdir(os.path.join(data_path, CAM_NAME))\n",
    "imgs = [os.path.join(data_path, CAM_NAME, imgs[i]) for i in range(0, len(imgs), 1)]"
   ]
  },
  {
   "cell_type": "code",
   "execution_count": null,
   "metadata": {},
   "outputs": [],
   "source": [
    "i = 1165\n",
    "img = cv.imread(os.path.join(data_path, CAM_NAME, f\"{i}.png\"), cv.IMREAD_GRAYSCALE)\n",
    "plt.imshow(img, cmap=\"gray\")"
   ]
  },
  {
   "cell_type": "code",
   "execution_count": null,
   "metadata": {},
   "outputs": [],
   "source": [
    "options = apriltag.DetectorOptions(families=\"tag36h11\")\n",
    "detector = apriltag.Detector(options)\n",
    "results = detector.detect(img)"
   ]
  },
  {
   "cell_type": "code",
   "execution_count": null,
   "metadata": {},
   "outputs": [],
   "source": [
    "results"
   ]
  },
  {
   "cell_type": "code",
   "execution_count": null,
   "metadata": {},
   "outputs": [],
   "source": [
    "results[0].corners"
   ]
  },
  {
   "cell_type": "markdown",
   "metadata": {},
   "source": [
    "From testing once this detector seems worse (and also only gives integer pixel values)\n"
   ]
  },
  {
   "cell_type": "code",
   "execution_count": null,
   "metadata": {},
   "outputs": [],
   "source": [
    "import cv2.aruco as aruco\n",
    "\n",
    "# Define AprilTag dictionary\n",
    "aruco_dict = aruco.getPredefinedDictionary(aruco.DICT_APRILTAG_36h11)\n",
    "parameters = aruco.DetectorParameters()\n",
    "detector = aruco.ArucoDetector(aruco_dict, parameters)\n",
    "\n",
    "# Detect markers\n",
    "corners, ids, _ = detector.detectMarkers(img)"
   ]
  },
  {
   "cell_type": "markdown",
   "metadata": {},
   "source": [
    "# Solving for camera pose using PnP\n"
   ]
  },
  {
   "cell_type": "code",
   "execution_count": null,
   "metadata": {},
   "outputs": [],
   "source": [
    "from lac.perception.pnp import get_tag_corners_world"
   ]
  },
  {
   "cell_type": "code",
   "execution_count": null,
   "metadata": {},
   "outputs": [],
   "source": [
    "success, rvec, tvec = cv.solvePnP(\n",
    "    objectPoints=get_tag_corners_world(results[0].tag_id, lander_pose),\n",
    "    imagePoints=results[0].corners,\n",
    "    cameraMatrix=params.CAMERA_INTRINSICS,\n",
    "    distCoeffs=None,\n",
    "    flags=cv.SOLVEPNP_ITERATIVE,\n",
    ")\n",
    "if success:\n",
    "    print(\"Rotation Vector (rvec):\", rvec)\n",
    "    print(\"Translation Vector (tvec):\", tvec)\n",
    "    # Convert rotation vector to rotation matrix\n",
    "    R, _ = cv.Rodrigues(rvec)\n",
    "    # Compute homogeneous transformation matrix\n",
    "    T = np.eye(4)\n",
    "    T[:3, :3] = R\n",
    "    T[:3, 3] = tvec.flatten()\n",
    "    print(\"Homogeneous Transformation Matrix:\\n\", T)\n",
    "    # Compute distance\n",
    "    distance = np.linalg.norm(tvec)  # Euclidean distance\n",
    "    print(f\"Distance to AprilTag: {distance:.2f} meters\")"
   ]
  },
  {
   "cell_type": "code",
   "execution_count": null,
   "metadata": {},
   "outputs": [],
   "source": [
    "Rotation.from_matrix(R).as_euler(\"xyz\", degrees=True)"
   ]
  },
  {
   "cell_type": "code",
   "execution_count": null,
   "metadata": {},
   "outputs": [],
   "source": [
    "from lac.utils.frames import invert_transform_mat\n",
    "\n",
    "\n",
    "T_inv = invert_transform_mat(T)\n",
    "print(np.round(T_inv, 2))\n",
    "print(Rotation.from_matrix(T_inv[:3, :3]).as_euler(\"xyz\", degrees=True))"
   ]
  },
  {
   "cell_type": "code",
   "execution_count": null,
   "metadata": {},
   "outputs": [],
   "source": []
  }
 ],
 "metadata": {
  "kernelspec": {
   "display_name": "lac",
   "language": "python",
   "name": "python3"
  },
  "language_info": {
   "codemirror_mode": {
    "name": "ipython",
    "version": 3
   },
   "file_extension": ".py",
   "mimetype": "text/x-python",
   "name": "python",
   "nbconvert_exporter": "python",
   "pygments_lexer": "ipython3",
   "version": "3.10.16"
  }
 },
 "nbformat": 4,
 "nbformat_minor": 2
}
