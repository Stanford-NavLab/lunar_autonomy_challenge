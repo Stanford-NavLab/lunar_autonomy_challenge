{
 "cells": [
  {
   "cell_type": "code",
   "execution_count": null,
   "metadata": {},
   "outputs": [],
   "source": [
    "import numpy as np\n",
    "import cv2 as cv\n",
    "import os\n",
    "\n",
    "import sys\n",
    "\n",
    "sys.path.append(\"..\")\n",
    "\n",
    "import json\n",
    "import matplotlib.pyplot as plt\n",
    "\n",
    "# import apriltag\n",
    "from scipy.spatial.transform import Rotation\n",
    "\n",
    "import lac.params as params\n",
    "from lac.utils.frames import (\n",
    "    apply_transform,\n",
    "    invert_transform_mat,\n",
    "    get_cam_pose_rover,\n",
    "    OPENCV_TO_CAMERA_PASSIVE,\n",
    ")\n",
    "from lac.perception.vision import FiducialLocalizer\n",
    "from lac.utils.visualization import overlay_tag_detections\n",
    "import plotly.graph_objects as go\n",
    "from plotly.subplots import make_subplots\n",
    "\n",
    "%load_ext autoreload\n",
    "%autoreload 2"
   ]
  },
  {
   "cell_type": "markdown",
   "metadata": {},
   "source": [
    "# AprilTag detection\n"
   ]
  },
  {
   "cell_type": "code",
   "execution_count": null,
   "metadata": {},
   "outputs": [],
   "source": [
    "# data_path = os.path.expanduser(\"../../output/lander_fiducials_right_light\")\n",
    "# data_path = os.path.expanduser(\"../../output/nav_agent_preset_0_seed_4\")\n",
    "data_path = os.path.expanduser(\"../../output/localization_preset_0_seed_4_1hz\")\n",
    "# data_path = os.path.expanduser(\"../../output/localization_preset_0_seed_4_1hz_maxres\")\n",
    "json_data = json.load(open(f\"{data_path}/data_log.json\"))\n",
    "lander_pose = np.array(json_data[\"lander_pose_world\"])\n",
    "poses = np.array([frame[\"pose\"] for frame in json_data[\"frames\"]])"
   ]
  },
  {
   "cell_type": "code",
   "execution_count": null,
   "metadata": {},
   "outputs": [],
   "source": [
    "camera_config = json_data[\"cameras\"]\n",
    "\n",
    "fid_localizer = FiducialLocalizer(camera_config)"
   ]
  },
  {
   "cell_type": "code",
   "execution_count": null,
   "metadata": {},
   "outputs": [],
   "source": [
    "i = 60\n",
    "CAM_NAME = \"FrontLeft\"\n",
    "img = cv.imread(os.path.join(data_path, CAM_NAME, f\"{i}.png\"), cv.IMREAD_GRAYSCALE)\n",
    "\n",
    "detections = fid_localizer.detect(img)\n",
    "overlay = overlay_tag_detections(img, detections)\n",
    "plt.imshow(overlay)"
   ]
  },
  {
   "cell_type": "code",
   "execution_count": null,
   "metadata": {},
   "outputs": [],
   "source": [
    "i = 2000\n",
    "CAM_NAME = \"Right\"\n",
    "img = cv.imread(os.path.join(data_path, CAM_NAME, f\"{i}.png\"), cv.IMREAD_GRAYSCALE)\n",
    "\n",
    "detections = fid_localizer.detect(img)\n",
    "overlay = overlay_tag_detections(img, detections)\n",
    "plt.imshow(overlay)"
   ]
  },
  {
   "cell_type": "markdown",
   "metadata": {},
   "source": [
    "# Generate pose measurements\n"
   ]
  },
  {
   "cell_type": "code",
   "execution_count": null,
   "metadata": {},
   "outputs": [],
   "source": [
    "fid_localizer.estimate_rover_pose(img, CAM_NAME, lander_pose)"
   ]
  },
  {
   "cell_type": "code",
   "execution_count": null,
   "metadata": {},
   "outputs": [],
   "source": [
    "rover_pose = np.array(json_data[\"frames\"][i][\"pose\"])\n",
    "rover_pose"
   ]
  },
  {
   "cell_type": "markdown",
   "metadata": {},
   "source": [
    "# Analyze Outliers\n"
   ]
  },
  {
   "cell_type": "code",
   "execution_count": null,
   "metadata": {},
   "outputs": [],
   "source": [
    "# TODO: :disguised_face: # brotherrr"
   ]
  },
  {
   "cell_type": "code",
   "execution_count": null,
   "metadata": {},
   "outputs": [],
   "source": [
    "# get the step ids of the camera frames\n",
    "CAM_NAME = \"Right\"\n",
    "img_names = os.listdir(os.path.join(data_path, CAM_NAME))\n",
    "img_names = [int(name.split(\".\")[0]) for name in img_names]\n",
    "img_names.sort()"
   ]
  },
  {
   "cell_type": "code",
   "execution_count": null,
   "metadata": {},
   "outputs": [],
   "source": [
    "# run fiducial localizer on all images\n",
    "fid_pose_estimates = {}\n",
    "for i in img_names:\n",
    "    fid_pose_estimates[i], _ = fid_localizer.estimate_rover_pose(\n",
    "        cv.imread(os.path.join(data_path, CAM_NAME, f\"{i}.png\"), cv.IMREAD_GRAYSCALE),\n",
    "        CAM_NAME,\n",
    "        lander_pose,\n",
    "    )"
   ]
  },
  {
   "cell_type": "code",
   "execution_count": null,
   "metadata": {},
   "outputs": [],
   "source": [
    "# compute state errors\n",
    "state_errors = {}\n",
    "idxes = np.arange(0, len(poses))\n",
    "for pose_step_idx, frame in enumerate(poses):\n",
    "    img_idx = pose_step_idx + 1  # account for a 1-indexed image name\n",
    "\n",
    "    if img_idx not in img_names or not fid_pose_estimates[img_idx]:\n",
    "        continue\n",
    "\n",
    "    rover_pos = poses[pose_step_idx][:3, 3]\n",
    "    rover_rpy = Rotation.from_matrix(poses[pose_step_idx][:3, :3]).as_euler(\"xyz\", degrees=True)\n",
    "    rover_state = np.hstack((rover_pos, rover_rpy))\n",
    "\n",
    "    state_errors[pose_step_idx] = {}\n",
    "    for tag_id, fpe in fid_pose_estimates[img_idx].items():\n",
    "        rover_pos_fid = fpe[:3, 3]\n",
    "        rover_rpy_fid = Rotation.from_matrix(fpe[:3, :3]).as_euler(\"xyz\", degrees=True)\n",
    "        rover_state_fid = np.hstack((rover_pos_fid, rover_rpy_fid))\n",
    "\n",
    "        state_errors[pose_step_idx][tag_id] = rover_state_fid - rover_state\n"
   ]
  },
  {
   "cell_type": "code",
   "execution_count": null,
   "metadata": {},
   "outputs": [],
   "source": [
    "# visualize state errors with errors in subplots on the y axis and frame index on the x axis\n",
    "import random\n",
    "\n",
    "\n",
    "def get_random_color():\n",
    "    return f\"rgb({random.randint(0, 255)}, {random.randint(0, 255)}, {random.randint(0, 255)})\"\n",
    "\n",
    "\n",
    "TAG_COLORS = {tag_id: get_random_color() for tag_id in params.TAG_LOCATIONS.keys()}\n",
    "\n",
    "fig = make_subplots(rows=6, cols=1, subplot_titles=(\"X\", \"Y\", \"Z\", \"Roll\", \"Pitch\", \"Yaw\"))\n",
    "\n",
    "# plot the rover gt states\n",
    "rover_poses = np.array([frame[:3, 3] for frame in poses])\n",
    "rover_rpy = np.array(\n",
    "    [Rotation.from_matrix(frame[:3, :3]).as_euler(\"xyz\", degrees=True) for frame in poses]\n",
    ")\n",
    "for i in range(rover_poses.shape[1]):\n",
    "    fig.add_trace(\n",
    "        go.Scatter(\n",
    "            x=idxes, y=rover_poses[:, i], mode=\"lines\", name=f\"Rover {i}\", line=dict(color=\"black\")\n",
    "        ),\n",
    "        row=i + 1,\n",
    "        col=1,\n",
    "    )\n",
    "for i in range(rover_rpy.shape[1]):\n",
    "    fig.add_trace(\n",
    "        go.Scatter(\n",
    "            x=idxes, y=rover_rpy[:, i], mode=\"lines\", name=f\"Rover {i}\", line=dict(color=\"black\")\n",
    "        ),\n",
    "        row=i + 4,\n",
    "        col=1,\n",
    "    )\n",
    "\n",
    "# add horizontal line at 0 for each subplot\n",
    "fig.add_hline(y=0, line_dash=\"dash\", line_color=\"black\", row=1, col=1)\n",
    "fig.add_hline(y=0, line_dash=\"dash\", line_color=\"black\", row=2, col=1)\n",
    "fig.add_hline(y=0, line_dash=\"dash\", line_color=\"black\", row=3, col=1)\n",
    "fig.add_hline(y=0, line_dash=\"dash\", line_color=\"black\", row=4, col=1)\n",
    "fig.add_hline(y=0, line_dash=\"dash\", line_color=\"black\", row=5, col=1)\n",
    "fig.add_hline(y=0, line_dash=\"dash\", line_color=\"black\", row=6, col=1)\n",
    "\n",
    "# plot the state errors\n",
    "for pose_step_idx, errors in state_errors.items():\n",
    "    if not errors:\n",
    "        continue\n",
    "\n",
    "    # for tag_id, error in errors.items():\n",
    "    #     # if tag_id == 462 or tag_id == 37 or tag_id == 2 or tag_id == 1 or tag_id == 8 or tag_id == 9 or tag_id == 258 or tag_id == 5:\n",
    "    #     #     continue\n",
    "    #     color = TAG_COLORS[tag_id]\n",
    "    #     fig.add_trace(go.Scatter(x=[frame_id], y=[error[0]], mode=\"markers\", name=f\"{tag_id}\", marker=dict(color=color)), row=1, col=1)\n",
    "    #     fig.add_trace(go.Scatter(x=[frame_id], y=[error[1]], mode=\"markers\", name=f\"{tag_id}\", marker=dict(color=color)), row=1, col=2)\n",
    "    #     fig.add_trace(go.Scatter(x=[frame_id], y=[error[2]], mode=\"markers\", name=f\"{tag_id}\", marker=dict(color=color)), row=1, col=3)\n",
    "    #     fig.add_trace(go.Scatter(x=[frame_id], y=[error[3]], mode=\"markers\", name=f\"{tag_id}\", marker=dict(color=color)), row=2, col=1)\n",
    "    #     fig.add_trace(go.Scatter(x=[frame_id], y=[error[4]], mode=\"markers\", name=f\"{tag_id}\", marker=dict(color=color)), row=2, col=2)\n",
    "    #     fig.add_trace(go.Scatter(x=[frame_id], y=[error[5]], mode=\"markers\", name=f\"{tag_id}\", marker=dict(color=color)), row=2, col=3)\n",
    "\n",
    "    errors = np.array(list(errors.values()))\n",
    "    for i in range(errors.shape[1]):\n",
    "        fig.add_trace(\n",
    "            go.Box(x=[pose_step_idx] * len(errors), y=errors[:, i], name=f\"{i}\", showlegend=False),\n",
    "            row=i + 1,\n",
    "            col=1,\n",
    "        )\n",
    "\n",
    "# change display to x-unified\n",
    "fig.update_layout(hovermode=\"x unified\")\n",
    "fig.update_xaxes(title_text=\"Frame Index\")\n",
    "fig.update_layout(height=1600, width=1800, title_text=\"State Errors\")\n",
    "fig.show()"
   ]
  },
  {
   "cell_type": "code",
   "execution_count": null,
   "metadata": {},
   "outputs": [],
   "source": [
    "# analyze specific frames\n",
    "pose_step_idxes = np.arange(2179, 2279, 20)\n",
    "\n",
    "for ind in pose_step_idxes:\n",
    "    img = cv.imread(os.path.join(data_path, CAM_NAME, f\"{ind + 1}.png\"), cv.IMREAD_GRAYSCALE)\n",
    "\n",
    "    detections = fid_localizer.detect(img)\n",
    "    overlay = overlay_tag_detections(img, detections)\n",
    "    plt.imshow(overlay)\n",
    "    plt.show()\n",
    "\n",
    "    print(state_errors[ind])"
   ]
  },
  {
   "cell_type": "code",
   "execution_count": null,
   "metadata": {},
   "outputs": [],
   "source": []
  }
 ],
 "metadata": {
  "kernelspec": {
   "display_name": "lac",
   "language": "python",
   "name": "python3"
  },
  "language_info": {
   "codemirror_mode": {
    "name": "ipython",
    "version": 3
   },
   "file_extension": ".py",
   "mimetype": "text/x-python",
   "name": "python",
   "nbconvert_exporter": "python",
   "pygments_lexer": "ipython3",
   "version": "3.10.15"
  }
 },
 "nbformat": 4,
 "nbformat_minor": 2
}
