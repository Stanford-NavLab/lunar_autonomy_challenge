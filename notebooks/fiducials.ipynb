{
 "cells": [
  {
   "cell_type": "code",
   "execution_count": 8,
   "metadata": {},
   "outputs": [
    {
     "ename": "ModuleNotFoundError",
     "evalue": "No module named 'apriltag'",
     "output_type": "error",
     "traceback": [
      "\u001b[0;31m---------------------------------------------------------------------------\u001b[0m",
      "\u001b[0;31mModuleNotFoundError\u001b[0m                       Traceback (most recent call last)",
      "Cell \u001b[0;32mIn[8], line 20\u001b[0m\n\u001b[1;32m     13\u001b[0m \u001b[38;5;28;01mimport\u001b[39;00m \u001b[38;5;21;01mlac\u001b[39;00m\u001b[38;5;21;01m.\u001b[39;00m\u001b[38;5;21;01mparams\u001b[39;00m \u001b[38;5;28;01mas\u001b[39;00m \u001b[38;5;21;01mparams\u001b[39;00m\n\u001b[1;32m     14\u001b[0m \u001b[38;5;28;01mfrom\u001b[39;00m \u001b[38;5;21;01mlac\u001b[39;00m\u001b[38;5;21;01m.\u001b[39;00m\u001b[38;5;21;01mutils\u001b[39;00m\u001b[38;5;21;01m.\u001b[39;00m\u001b[38;5;21;01mframes\u001b[39;00m \u001b[38;5;28;01mimport\u001b[39;00m (\n\u001b[1;32m     15\u001b[0m     apply_transform,\n\u001b[1;32m     16\u001b[0m     invert_transform_mat,\n\u001b[1;32m     17\u001b[0m     get_cam_pose_rover,\n\u001b[1;32m     18\u001b[0m     OPENCV_TO_CAMERA_PASSIVE,\n\u001b[1;32m     19\u001b[0m )\n\u001b[0;32m---> 20\u001b[0m \u001b[38;5;28;01mfrom\u001b[39;00m \u001b[38;5;21;01mlac\u001b[39;00m\u001b[38;5;21;01m.\u001b[39;00m\u001b[38;5;21;01mperception\u001b[39;00m\u001b[38;5;21;01m.\u001b[39;00m\u001b[38;5;21;01mvision\u001b[39;00m \u001b[38;5;28;01mimport\u001b[39;00m FiducialLocalizer\n\u001b[1;32m     21\u001b[0m \u001b[38;5;28;01mfrom\u001b[39;00m \u001b[38;5;21;01mlac\u001b[39;00m\u001b[38;5;21;01m.\u001b[39;00m\u001b[38;5;21;01mutils\u001b[39;00m\u001b[38;5;21;01m.\u001b[39;00m\u001b[38;5;21;01mvisualization\u001b[39;00m \u001b[38;5;28;01mimport\u001b[39;00m overlay_tag_detections\n\u001b[1;32m     23\u001b[0m get_ipython()\u001b[38;5;241m.\u001b[39mrun_line_magic(\u001b[38;5;124m'\u001b[39m\u001b[38;5;124mload_ext\u001b[39m\u001b[38;5;124m'\u001b[39m, \u001b[38;5;124m'\u001b[39m\u001b[38;5;124mautoreload\u001b[39m\u001b[38;5;124m'\u001b[39m)\n",
      "File \u001b[0;32m~/Documents/sw_navlab/LunarAutonomyChallenge/lunar_autonomy_challenge/notebooks/../lac/perception/vision.py:5\u001b[0m\n\u001b[1;32m      3\u001b[0m \u001b[38;5;28;01mimport\u001b[39;00m \u001b[38;5;21;01mcv2\u001b[39;00m \u001b[38;5;28;01mas\u001b[39;00m \u001b[38;5;21;01mcv\u001b[39;00m\n\u001b[1;32m      4\u001b[0m \u001b[38;5;28;01mimport\u001b[39;00m \u001b[38;5;21;01mnumpy\u001b[39;00m \u001b[38;5;28;01mas\u001b[39;00m \u001b[38;5;21;01mnp\u001b[39;00m\n\u001b[0;32m----> 5\u001b[0m \u001b[38;5;28;01mimport\u001b[39;00m \u001b[38;5;21;01mapriltag\u001b[39;00m\n\u001b[1;32m      7\u001b[0m \u001b[38;5;28;01mfrom\u001b[39;00m \u001b[38;5;21;01mlac\u001b[39;00m\u001b[38;5;21;01m.\u001b[39;00m\u001b[38;5;21;01mperception\u001b[39;00m\u001b[38;5;21;01m.\u001b[39;00m\u001b[38;5;21;01mpnp\u001b[39;00m \u001b[38;5;28;01mimport\u001b[39;00m solve_tag_pnp\n\u001b[1;32m      8\u001b[0m \u001b[38;5;28;01mfrom\u001b[39;00m \u001b[38;5;21;01mlac\u001b[39;00m\u001b[38;5;21;01m.\u001b[39;00m\u001b[38;5;21;01mutils\u001b[39;00m\u001b[38;5;21;01m.\u001b[39;00m\u001b[38;5;21;01mframes\u001b[39;00m \u001b[38;5;28;01mimport\u001b[39;00m invert_transform_mat, get_cam_pose_rover\n",
      "\u001b[0;31mModuleNotFoundError\u001b[0m: No module named 'apriltag'"
     ]
    }
   ],
   "source": [
    "import numpy as np\n",
    "import cv2 as cv\n",
    "import os\n",
    "\n",
    "import sys\n",
    "sys.path.append(\"..\")\n",
    "\n",
    "import json\n",
    "import matplotlib.pyplot as plt\n",
    "# import apriltag\n",
    "from scipy.spatial.transform import Rotation\n",
    "\n",
    "import lac.params as params\n",
    "from lac.utils.frames import (\n",
    "    apply_transform,\n",
    "    invert_transform_mat,\n",
    "    get_cam_pose_rover,\n",
    "    OPENCV_TO_CAMERA_PASSIVE,\n",
    ")\n",
    "from lac.perception.vision import FiducialLocalizer\n",
    "from lac.utils.visualization import overlay_tag_detections\n",
    "\n",
    "%load_ext autoreload\n",
    "%autoreload 2"
   ]
  },
  {
   "cell_type": "markdown",
   "metadata": {},
   "source": [
    "# AprilTag detection\n"
   ]
  },
  {
   "cell_type": "code",
   "execution_count": null,
   "metadata": {},
   "outputs": [],
   "source": [
    "fid_localizer = FiducialLocalizer()\n",
    "\n",
    "data_path = os.path.expanduser(\"../../output/lander_fiducials_right_light\")\n",
    "json_data = json.load(open(f\"{data_path}/data_log.json\"))\n",
    "lander_pose = np.array(json_data[\"lander_pose_world\"])\n",
    "poses = np.array([frame[\"pose\"] for frame in json_data[\"frames\"]])"
   ]
  },
  {
   "cell_type": "code",
   "execution_count": null,
   "metadata": {},
   "outputs": [],
   "source": [
    "i = 63\n",
    "CAM_NAME = \"FrontLeft\"\n",
    "img = cv.imread(os.path.join(data_path, CAM_NAME, f\"{i}.png\"), cv.IMREAD_GRAYSCALE)\n",
    "\n",
    "detections = fid_localizer.detect(img)\n",
    "overlay = overlay_tag_detections(img, detections)\n",
    "plt.imshow(overlay)"
   ]
  },
  {
   "cell_type": "code",
   "execution_count": null,
   "metadata": {},
   "outputs": [],
   "source": [
    "img.shape"
   ]
  },
  {
   "cell_type": "code",
   "execution_count": null,
   "metadata": {},
   "outputs": [],
   "source": [
    "i = 1759\n",
    "CAM_NAME = \"Right\"\n",
    "img = cv.imread(os.path.join(data_path, CAM_NAME, f\"{i}.png\"), cv.IMREAD_GRAYSCALE)\n",
    "\n",
    "detections = fid_localizer.detect(img)\n",
    "overlay = overlay_tag_detections(img, detections)\n",
    "plt.imshow(overlay)"
   ]
  },
  {
   "cell_type": "markdown",
   "metadata": {},
   "source": [
    "# Solving for camera pose using PnP\n"
   ]
  },
  {
   "cell_type": "code",
   "execution_count": null,
   "metadata": {},
   "outputs": [],
   "source": [
    "from lac.perception.pnp import get_tag_corners_world, solve_tag_pnp"
   ]
  },
  {
   "cell_type": "code",
   "execution_count": null,
   "metadata": {},
   "outputs": [],
   "source": [
    "np.round(get_cam_pose_rover(\"Right\"), 4)"
   ]
  },
  {
   "cell_type": "code",
   "execution_count": null,
   "metadata": {},
   "outputs": [],
   "source": [
    "fid_localizer.estimate_rover_pose(img, CAM_NAME, lander_pose)"
   ]
  },
  {
   "cell_type": "code",
   "execution_count": null,
   "metadata": {},
   "outputs": [],
   "source": [
    "rover_pose = np.array(json_data[\"frames\"][i][\"pose\"])\n",
    "rover_pose"
   ]
  },
  {
   "cell_type": "code",
   "execution_count": null,
   "metadata": {},
   "outputs": [],
   "source": [
    "solve_tag_pnp(detections, lander_pose)"
   ]
  },
  {
   "cell_type": "code",
   "execution_count": null,
   "metadata": {},
   "outputs": [],
   "source": [
    "get_tag_corners_world(detections[0].tag_id, lander_pose)"
   ]
  },
  {
   "cell_type": "code",
   "execution_count": null,
   "metadata": {},
   "outputs": [],
   "source": [
    "success, rvec, tvec = cv.solvePnP(\n",
    "    objectPoints=get_tag_corners_world(detections[0].tag_id, lander_pose),\n",
    "    imagePoints=detections[0].corners,\n",
    "    cameraMatrix=params.CAMERA_INTRINSICS,\n",
    "    distCoeffs=None,\n",
    "    flags=cv.SOLVEPNP_ITERATIVE,\n",
    ")\n",
    "if success:\n",
    "    print(\"Rotation Vector (rvec):\", rvec)\n",
    "    print(\"Translation Vector (tvec):\", tvec)\n",
    "    # Convert rotation vector to rotation matrix\n",
    "    R, _ = cv.Rodrigues(rvec)\n",
    "    # Compute homogeneous transformation matrix\n",
    "    T = np.eye(4)\n",
    "    T[:3, :3] = R\n",
    "    T[:3, 3] = tvec.flatten()\n",
    "    print(\"Homogeneous Transformation Matrix:\\n\", T)\n",
    "    # Compute distance\n",
    "    distance = np.linalg.norm(tvec)  # Euclidean distance\n",
    "    print(f\"Distance to AprilTag: {distance:.2f} meters\")"
   ]
  },
  {
   "cell_type": "code",
   "execution_count": null,
   "metadata": {},
   "outputs": [],
   "source": [
    "w_T_c = invert_transform_mat(T)\n",
    "w_T_c[:3, :3] = OPENCV_TO_WORLD_PASSIVE @ w_T_c[:3, :3]\n",
    "print(w_T_c)"
   ]
  },
  {
   "cell_type": "code",
   "execution_count": null,
   "metadata": {},
   "outputs": [],
   "source": [
    "r_T_c = get_cam_pose_rover(CAM_NAME)\n",
    "c_T_r = invert_transform_mat(r_T_c)\n",
    "\n",
    "w_T_r = w_T_c @ c_T_r\n",
    "print(w_T_r)"
   ]
  },
  {
   "cell_type": "code",
   "execution_count": null,
   "metadata": {},
   "outputs": [],
   "source": [
    "rover_pose = np.array(json_data[\"frames\"][i][\"pose\"])\n",
    "rover_pose"
   ]
  },
  {
   "cell_type": "code",
   "execution_count": null,
   "metadata": {},
   "outputs": [],
   "source": [
    "from lac.utils.frames import invert_transform_mat\n",
    "\n",
    "\n",
    "T_inv = invert_transform_mat(T)\n",
    "R = T_inv[:3, :3]\n",
    "np.array([[0, -1, 0], [0, 0, -1], [1, 0, 0]]) @ R"
   ]
  },
  {
   "cell_type": "code",
   "execution_count": null,
   "metadata": {},
   "outputs": [],
   "source": [
    "OPENCV_TO_WORLD_ACTIVE = np.array([[0, 0, 1], [-1, 0, 0], [0, -1, 0]])\n",
    "WORLD_TO_OPENCV_ACTIVE = OPENCV_TO_WORLD_ACTIVE.T\n",
    "OPENCV_TO_WORLD_PASSIVE = WORLD_TO_OPENCV_ACTIVE\n",
    "WORLD_TO_OPENCV_PASSIVE = OPENCV_TO_WORLD_ACTIVE"
   ]
  },
  {
   "cell_type": "code",
   "execution_count": null,
   "metadata": {},
   "outputs": [],
   "source": [
    "OPENCV_TO_WORLD_ACTIVE @ np.ones(3)"
   ]
  },
  {
   "cell_type": "code",
   "execution_count": null,
   "metadata": {},
   "outputs": [],
   "source": [
    "apply_transform(T, np.zeros(3))"
   ]
  },
  {
   "cell_type": "markdown",
   "metadata": {},
   "source": [
    "Here translation is the estimated position of the camera in world frame\n"
   ]
  },
  {
   "cell_type": "code",
   "execution_count": null,
   "metadata": {},
   "outputs": [],
   "source": [
    "Rotation.from_matrix(R).as_euler(\"xyz\", degrees=True)"
   ]
  },
  {
   "cell_type": "code",
   "execution_count": null,
   "metadata": {},
   "outputs": [],
   "source": [
    "from lac.utils.frames import invert_transform_mat\n",
    "\n",
    "\n",
    "T_inv = invert_transform_mat(T)\n",
    "print(np.round(T_inv, 2))\n",
    "print(Rotation.from_matrix(T_inv[:3, :3]).as_euler(\"xyz\", degrees=True))"
   ]
  },
  {
   "cell_type": "code",
   "execution_count": null,
   "metadata": {},
   "outputs": [],
   "source": [
    "rover_pose = np.array(json_data[\"frames\"][i][\"pose\"])\n",
    "rover_pose"
   ]
  },
  {
   "cell_type": "code",
   "execution_count": null,
   "metadata": {},
   "outputs": [],
   "source": [
    "import plotly.graph_objects as go"
   ]
  }
 ],
 "metadata": {
  "kernelspec": {
   "display_name": "lupntenv",
   "language": "python",
   "name": "python3"
  },
  "language_info": {
   "codemirror_mode": {
    "name": "ipython",
    "version": 3
   },
   "file_extension": ".py",
   "mimetype": "text/x-python",
   "name": "python",
   "nbconvert_exporter": "python",
   "pygments_lexer": "ipython3",
   "version": "3.12.1"
  }
 },
 "nbformat": 4,
 "nbformat_minor": 2
}
