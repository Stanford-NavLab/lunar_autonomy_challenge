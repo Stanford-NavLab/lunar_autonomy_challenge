{
 "cells": [
  {
   "cell_type": "code",
   "execution_count": null,
   "metadata": {},
   "outputs": [],
   "source": [
    "import numpy as np\n",
    "import cv2 as cv\n",
    "import os\n",
    "\n",
    "import sys\n",
    "\n",
    "sys.path.append(\"..\")\n",
    "\n",
    "import json\n",
    "import matplotlib.pyplot as plt\n",
    "\n",
    "# import apriltag\n",
    "from scipy.spatial.transform import Rotation\n",
    "\n",
    "import lac.params as params\n",
    "from lac.utils.frames import (\n",
    "    apply_transform,\n",
    "    invert_transform_mat,\n",
    "    get_cam_pose_rover,\n",
    "    OPENCV_TO_CAMERA_PASSIVE,\n",
    ")\n",
    "from lac.perception.vision import FiducialLocalizer\n",
    "from lac.utils.visualization import overlay_tag_detections\n",
    "\n",
    "%load_ext autoreload\n",
    "%autoreload 2"
   ]
  },
  {
   "cell_type": "markdown",
   "metadata": {},
   "source": [
    "# AprilTag detection\n"
   ]
  },
  {
   "cell_type": "code",
   "execution_count": null,
   "metadata": {},
   "outputs": [],
   "source": [
    "# data_path = os.path.expanduser(\"../../output/lander_fiducials_right_light\")\n",
    "data_path = os.path.expanduser(\"../../output/nav_agent_preset_0_seed_4\")\n",
    "json_data = json.load(open(f\"{data_path}/data_log.json\"))\n",
    "lander_pose = np.array(json_data[\"lander_pose_world\"])\n",
    "poses = np.array([frame[\"pose\"] for frame in json_data[\"frames\"]])"
   ]
  },
  {
   "cell_type": "code",
   "execution_count": null,
   "metadata": {},
   "outputs": [],
   "source": [
    "camera_config = json_data[\"cameras\"]\n",
    "\n",
    "fid_localizer = FiducialLocalizer(camera_config)"
   ]
  },
  {
   "cell_type": "code",
   "execution_count": null,
   "metadata": {},
   "outputs": [],
   "source": [
    "i = 60\n",
    "CAM_NAME = \"FrontLeft\"\n",
    "img = cv.imread(os.path.join(data_path, CAM_NAME, f\"{i}.png\"), cv.IMREAD_GRAYSCALE)\n",
    "\n",
    "detections = fid_localizer.detect(img)\n",
    "overlay = overlay_tag_detections(img, detections)\n",
    "plt.imshow(overlay)"
   ]
  },
  {
   "cell_type": "code",
   "execution_count": null,
   "metadata": {},
   "outputs": [],
   "source": [
    "i = 2000\n",
    "CAM_NAME = \"Right\"\n",
    "img = cv.imread(os.path.join(data_path, CAM_NAME, f\"{i}.png\"), cv.IMREAD_GRAYSCALE)\n",
    "\n",
    "detections = fid_localizer.detect(img)\n",
    "overlay = overlay_tag_detections(img, detections)\n",
    "plt.imshow(overlay)"
   ]
  },
  {
   "cell_type": "markdown",
   "metadata": {},
   "source": [
    "# Generate pose measurements\n"
   ]
  },
  {
   "cell_type": "code",
   "execution_count": null,
   "metadata": {},
   "outputs": [],
   "source": [
    "fid_localizer.estimate_rover_pose(img, CAM_NAME, lander_pose)"
   ]
  },
  {
   "cell_type": "code",
   "execution_count": null,
   "metadata": {},
   "outputs": [],
   "source": [
    "rover_pose = np.array(json_data[\"frames\"][i][\"pose\"])\n",
    "rover_pose"
   ]
  },
  {
   "cell_type": "markdown",
   "metadata": {},
   "source": [
    "# Analyze Outliers\n"
   ]
  },
  {
   "cell_type": "code",
   "execution_count": null,
   "metadata": {},
   "outputs": [],
   "source": [
    "# TODO: :disguised_face:"
   ]
  }
 ],
 "metadata": {
  "kernelspec": {
   "display_name": "lac",
   "language": "python",
   "name": "python3"
  },
  "language_info": {
   "codemirror_mode": {
    "name": "ipython",
    "version": 3
   },
   "file_extension": ".py",
   "mimetype": "text/x-python",
   "name": "python",
   "nbconvert_exporter": "python",
   "pygments_lexer": "ipython3",
   "version": "3.10.16"
  }
 },
 "nbformat": 4,
 "nbformat_minor": 2
}
