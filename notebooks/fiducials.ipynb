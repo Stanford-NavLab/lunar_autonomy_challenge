{
 "cells": [
  {
   "cell_type": "code",
   "execution_count": null,
   "metadata": {},
   "outputs": [],
   "source": [
    "import numpy as np\n",
    "import cv2 as cv\n",
    "import os\n",
    "\n",
    "import sys\n",
    "\n",
    "sys.path.append(\"..\")\n",
    "\n",
    "import json\n",
    "import matplotlib.pyplot as plt\n",
    "\n",
    "# import apriltag\n",
    "from scipy.spatial.transform import Rotation\n",
    "\n",
    "import lac.params as params\n",
    "from lac.utils.frames import (\n",
    "    apply_transform,\n",
    "    invert_transform_mat,\n",
    "    get_cam_pose_rover,\n",
    "    OPENCV_TO_CAMERA_PASSIVE,\n",
    ")\n",
    "from lac.perception.vision import FiducialLocalizer\n",
    "from lac.utils.visualization import overlay_tag_detections\n",
    "\n",
    "%load_ext autoreload\n",
    "%autoreload 2"
   ]
  },
  {
   "cell_type": "markdown",
   "metadata": {},
   "source": [
    "# AprilTag detection\n"
   ]
  },
  {
   "cell_type": "code",
   "execution_count": null,
   "metadata": {},
   "outputs": [],
   "source": [
    "fid_localizer = FiducialLocalizer()\n",
    "\n",
    "data_path = os.path.expanduser(\"../../output/lander_fiducials_right_light\")\n",
    "json_data = json.load(open(f\"{data_path}/data_log.json\"))\n",
    "lander_pose = np.array(json_data[\"lander_pose_world\"])\n",
    "poses = np.array([frame[\"pose\"] for frame in json_data[\"frames\"]])"
   ]
  },
  {
   "cell_type": "code",
   "execution_count": null,
   "metadata": {},
   "outputs": [],
   "source": [
    "i = 63\n",
    "CAM_NAME = \"FrontLeft\"\n",
    "img = cv.imread(os.path.join(data_path, CAM_NAME, f\"{i}.png\"), cv.IMREAD_GRAYSCALE)\n",
    "\n",
    "detections = fid_localizer.detect(img)\n",
    "overlay = overlay_tag_detections(img, detections)\n",
    "plt.imshow(overlay)"
   ]
  },
  {
   "cell_type": "code",
   "execution_count": null,
   "metadata": {},
   "outputs": [],
   "source": [
    "i = 1759\n",
    "CAM_NAME = \"Right\"\n",
    "img = cv.imread(os.path.join(data_path, CAM_NAME, f\"{i}.png\"), cv.IMREAD_GRAYSCALE)\n",
    "\n",
    "detections = fid_localizer.detect(img)\n",
    "overlay = overlay_tag_detections(img, detections)\n",
    "plt.imshow(overlay)"
   ]
  },
  {
   "cell_type": "markdown",
   "metadata": {},
   "source": [
    "# Analyze outliers\n"
   ]
  },
  {
   "cell_type": "code",
   "execution_count": null,
   "metadata": {},
   "outputs": [],
   "source": []
  },
  {
   "cell_type": "markdown",
   "metadata": {},
   "source": [
    "# Solving for camera pose using PnP\n"
   ]
  },
  {
   "cell_type": "code",
   "execution_count": null,
   "metadata": {},
   "outputs": [],
   "source": [
    "from lac.perception.pnp import get_tag_corners_world, solve_tag_pnp"
   ]
  },
  {
   "cell_type": "code",
   "execution_count": null,
   "metadata": {},
   "outputs": [],
   "source": [
    "fid_localizer.estimate_rover_pose(img, CAM_NAME, lander_pose)"
   ]
  },
  {
   "cell_type": "code",
   "execution_count": null,
   "metadata": {},
   "outputs": [],
   "source": [
    "rover_pose = np.array(json_data[\"frames\"][i][\"pose\"])\n",
    "rover_pose"
   ]
  },
  {
   "cell_type": "code",
   "execution_count": null,
   "metadata": {},
   "outputs": [],
   "source": [
    "get_tag_corners_world(detections[0].tag_id, lander_pose)"
   ]
  },
  {
   "cell_type": "code",
   "execution_count": null,
   "metadata": {},
   "outputs": [],
   "source": [
    "success, rvec, tvec = cv.solvePnP(\n",
    "    objectPoints=get_tag_corners_world(detections[0].tag_id, lander_pose),\n",
    "    imagePoints=detections[0].corners,\n",
    "    cameraMatrix=params.CAMERA_INTRINSICS,\n",
    "    distCoeffs=None,\n",
    "    flags=cv.SOLVEPNP_ITERATIVE,\n",
    ")\n",
    "if success:\n",
    "    print(\"Rotation Vector (rvec):\", rvec)\n",
    "    print(\"Translation Vector (tvec):\", tvec)\n",
    "    # Convert rotation vector to rotation matrix\n",
    "    R, _ = cv.Rodrigues(rvec)\n",
    "    # Compute homogeneous transformation matrix\n",
    "    T = np.eye(4)\n",
    "    T[:3, :3] = R\n",
    "    T[:3, 3] = tvec.flatten()\n",
    "    print(\"Homogeneous Transformation Matrix:\\n\", T)\n",
    "    # Compute distance\n",
    "    distance = np.linalg.norm(tvec)  # Euclidean distance\n",
    "    print(f\"Distance to AprilTag: {distance:.2f} meters\")"
   ]
  },
  {
   "cell_type": "code",
   "execution_count": null,
   "metadata": {},
   "outputs": [],
   "source": [
    "w_T_c = invert_transform_mat(T)\n",
    "w_T_c[:3, :3] = OPENCV_TO_CAMERA_PASSIVE @ w_T_c[:3, :3]\n",
    "print(w_T_c)"
   ]
  },
  {
   "cell_type": "code",
   "execution_count": null,
   "metadata": {},
   "outputs": [],
   "source": [
    "r_T_c = get_cam_pose_rover(CAM_NAME)\n",
    "c_T_r = invert_transform_mat(r_T_c)\n",
    "\n",
    "w_T_r = w_T_c @ c_T_r\n",
    "print(w_T_r)"
   ]
  }
 ],
 "metadata": {
  "kernelspec": {
   "display_name": "lac",
   "language": "python",
   "name": "python3"
  },
  "language_info": {
   "codemirror_mode": {
    "name": "ipython",
    "version": 3
   },
   "file_extension": ".py",
   "mimetype": "text/x-python",
   "name": "python",
   "nbconvert_exporter": "python",
   "pygments_lexer": "ipython3",
   "version": "3.10.15"
  }
 },
 "nbformat": 4,
 "nbformat_minor": 2
}
