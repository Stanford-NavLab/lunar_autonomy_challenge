{
 "cells": [
  {
   "cell_type": "code",
   "execution_count": null,
   "metadata": {},
   "outputs": [],
   "source": [
    "import numpy as np\n",
    "import cv2 as cv\n",
    "import os\n",
    "import json\n",
    "import matplotlib.pyplot as plt\n",
    "import apriltag\n",
    "\n",
    "import lac.params as params\n",
    "from lac.perception.pnp import get_tag_corners_world\n",
    "\n",
    "%load_ext autoreload\n",
    "%autoreload 2"
   ]
  },
  {
   "cell_type": "markdown",
   "metadata": {},
   "source": [
    "# Loading fiducial locations\n"
   ]
  },
  {
   "cell_type": "code",
   "execution_count": null,
   "metadata": {},
   "outputs": [],
   "source": [
    "# known fiducial corner positions\n",
    "fiducial_group_centers = json.load(\n",
    "    open(os.path.expanduser(\"~/LunarAutonomyChallenge/docs/geometry.json\"))\n",
    ")[\"lander\"][\"fiducials\"]\n",
    "centers_group_a = fiducial_group_centers[\"a\"]\n",
    "centers_group_b = fiducial_group_centers[\"b\"]\n",
    "centers_group_c = fiducial_group_centers[\"c\"]\n",
    "centers_group_d = fiducial_group_centers[\"d\"]\n",
    "\n",
    "FIDUCIAL_NAMES = [\"top left\", \"top right\", \"lower right\", \"lower left\"]\n",
    "\n",
    "\n",
    "def fiducial_centers_array(centers: dict) -> np.ndarray:\n",
    "    center_pts = []\n",
    "    for name in FIDUCIAL_NAMES:\n",
    "        center_pts.append(np.array([centers[name][\"x\"], centers[name][\"y\"], centers[name][\"z\"]]))\n",
    "    return np.array(center_pts)"
   ]
  },
  {
   "cell_type": "code",
   "execution_count": null,
   "metadata": {},
   "outputs": [],
   "source": [
    "tag_group_yaw_angles = {\n",
    "    \"a\": 135,\n",
    "    \"b\": 45,\n",
    "    \"c\": 315,\n",
    "    \"d\": 225,\n",
    "}"
   ]
  },
  {
   "cell_type": "code",
   "execution_count": null,
   "metadata": {},
   "outputs": [],
   "source": [
    "tag_centers = {}\n",
    "\n",
    "for group, group_vals in fiducial_group_centers.items():\n",
    "    for tag, tag_vals in group_vals.items():\n",
    "        tag_centers[tag_vals[\"id\"]] = np.array([tag_vals[\"x\"], tag_vals[\"y\"], tag_vals[\"z\"]])"
   ]
  },
  {
   "cell_type": "code",
   "execution_count": null,
   "metadata": {},
   "outputs": [],
   "source": [
    "tag_centers"
   ]
  },
  {
   "cell_type": "markdown",
   "metadata": {},
   "source": [
    "# AprilTag detection\n"
   ]
  },
  {
   "cell_type": "code",
   "execution_count": null,
   "metadata": {},
   "outputs": [],
   "source": [
    "data_path = os.path.expanduser(\"~/LunarAutonomyChallenge/output/lander_closeups/\")\n",
    "CAM_NAME = \"FrontLeft\"\n",
    "imgs = os.listdir(os.path.join(data_path, CAM_NAME))\n",
    "imgs = [os.path.join(data_path, CAM_NAME, imgs[i]) for i in range(0, len(imgs), 1)]"
   ]
  },
  {
   "cell_type": "code",
   "execution_count": null,
   "metadata": {},
   "outputs": [],
   "source": [
    "i = 2019\n",
    "img = cv.imread(os.path.join(data_path, CAM_NAME, f\"{i}.png\"), cv.IMREAD_GRAYSCALE)\n",
    "plt.imshow(img, cmap=\"gray\")"
   ]
  },
  {
   "cell_type": "code",
   "execution_count": null,
   "metadata": {},
   "outputs": [],
   "source": [
    "gray = cv.imread(os.path.join(data_path, CAM_NAME, f\"{i}.png\"), cv.IMREAD_GRAYSCALE)\n",
    "options = apriltag.DetectorOptions(families=\"tag36h11\")\n",
    "detector = apriltag.Detector(options)\n",
    "results = detector.detect(img)"
   ]
  },
  {
   "cell_type": "code",
   "execution_count": null,
   "metadata": {},
   "outputs": [],
   "source": [
    "results"
   ]
  },
  {
   "cell_type": "code",
   "execution_count": null,
   "metadata": {},
   "outputs": [],
   "source": [
    "results[0].tag_id"
   ]
  },
  {
   "cell_type": "code",
   "execution_count": null,
   "metadata": {},
   "outputs": [],
   "source": [
    "get_tag_corners_world(tag_centers[results[0].tag_id])"
   ]
  },
  {
   "cell_type": "code",
   "execution_count": null,
   "metadata": {},
   "outputs": [],
   "source": [
    "results[-1].corners"
   ]
  },
  {
   "cell_type": "markdown",
   "metadata": {},
   "source": [
    "From testing once this detector seems worse (and also only gives integer pixel values)\n"
   ]
  },
  {
   "cell_type": "code",
   "execution_count": null,
   "metadata": {},
   "outputs": [],
   "source": [
    "import cv2.aruco as aruco\n",
    "\n",
    "# Define AprilTag dictionary\n",
    "aruco_dict = aruco.getPredefinedDictionary(aruco.DICT_APRILTAG_36h11)\n",
    "parameters = aruco.DetectorParameters()\n",
    "detector = aruco.ArucoDetector(aruco_dict, parameters)\n",
    "\n",
    "# Read and preprocess image\n",
    "image = cv.imread(os.path.join(data_path, CAM_NAME, f\"{i}.png\"))\n",
    "gray = cv.cvtColor(image, cv.COLOR_BGR2GRAY)\n",
    "\n",
    "# Detect markers\n",
    "corners, ids, _ = detector.detectMarkers(gray)"
   ]
  },
  {
   "cell_type": "markdown",
   "metadata": {},
   "source": [
    "# Solving for camera pose using PnP\n"
   ]
  },
  {
   "cell_type": "code",
   "execution_count": null,
   "metadata": {},
   "outputs": [],
   "source": [
    "import cv2\n",
    "import numpy as np\n",
    "import cv2.aruco as aruco\n",
    "# Load camera parameters\n",
    "\n",
    "camera_matrix = params.CAMERA_INTRINSICS\n",
    "dist_coeffs = np.zeros(5)  # Replace with actual values\n",
    "\n",
    "# Define AprilTag dictionary\n",
    "aruco_dict = aruco.getPredefinedDictionary(aruco.DICT_APRILTAG_36h11)\n",
    "parameters = aruco.DetectorParameters()\n",
    "detector = aruco.ArucoDetector(aruco_dict, parameters)\n",
    "\n",
    "# Read and preprocess image\n",
    "image = cv2.imread(os.path.join(data_path, CAM_NAME, f\"{i}.png\"))\n",
    "gray = cv2.cvtColor(image, cv2.COLOR_BGR2GRAY)\n",
    "\n",
    "# Detect markers\n",
    "corners, ids, _ = detector.detectMarkers(gray)\n",
    "\n",
    "\n",
    "if ids is not None:\n",
    "    tag_size = 0.339  # Set tag size in meters\n",
    "    # New way to estimate pose in OpenCV 4.7+\n",
    "    retval, rvecs, tvecs = cv2.solvePnP(\n",
    "        objectPoints=np.array(\n",
    "            [\n",
    "                [-tag_size / 2, tag_size / 2, 0],  # Top-left\n",
    "                [tag_size / 2, tag_size / 2, 0],  # Top-right\n",
    "                [tag_size / 2, -tag_size / 2, 0],  # Bottom-right\n",
    "                [-tag_size / 2, -tag_size / 2, 0],  # Bottom-left\n",
    "            ],\n",
    "            dtype=np.float32,\n",
    "        ),\n",
    "        imagePoints=results[-1].corners,  # First detected marker’s corners\n",
    "        cameraMatrix=camera_matrix,\n",
    "        distCoeffs=dist_coeffs,\n",
    "        flags=cv2.SOLVEPNP_IPPE_SQUARE,\n",
    "    )\n",
    "    if retval:\n",
    "        print(\"Rotation Vector (rvec):\", rvecs)\n",
    "        print(\"Translation Vector (tvec):\", tvecs)\n",
    "        # Convert rotation vector to rotation matrix\n",
    "        R, _ = cv2.Rodrigues(rvecs)\n",
    "        # Compute homogeneous transformation matrix\n",
    "        T = np.eye(4)\n",
    "        T[:3, :3] = R\n",
    "        T[:3, 3] = tvecs.flatten()\n",
    "        print(\"Homogeneous Transformation Matrix:\\n\", T)\n",
    "        # Compute distance\n",
    "        distance = np.linalg.norm(tvecs)  # Euclidean distance\n",
    "        print(f\"Distance to AprilTag: {distance:.2f} meters\")"
   ]
  },
  {
   "cell_type": "code",
   "execution_count": null,
   "metadata": {},
   "outputs": [],
   "source": [
    "ids"
   ]
  },
  {
   "cell_type": "code",
   "execution_count": null,
   "metadata": {},
   "outputs": [],
   "source": [
    "corners"
   ]
  },
  {
   "cell_type": "code",
   "execution_count": null,
   "metadata": {},
   "outputs": [],
   "source": [
    "from scipy.spatial.transform import Rotation\n",
    "\n",
    "Rotation.from_matrix(R).as_euler(\"xyz\", degrees=True)"
   ]
  },
  {
   "cell_type": "code",
   "execution_count": null,
   "metadata": {},
   "outputs": [],
   "source": [
    "from lac.utils.frames import invert_transform_mat\n",
    "\n",
    "\n",
    "T_inv = invert_transform_mat(T)\n",
    "print(np.round(T_inv, 2))\n",
    "print(Rotation.from_matrix(T_inv[:3, :3]).as_euler(\"xyz\", degrees=True))"
   ]
  },
  {
   "cell_type": "code",
   "execution_count": null,
   "metadata": {},
   "outputs": [],
   "source": []
  }
 ],
 "metadata": {
  "kernelspec": {
   "display_name": "lac",
   "language": "python",
   "name": "python3"
  },
  "language_info": {
   "codemirror_mode": {
    "name": "ipython",
    "version": 3
   },
   "file_extension": ".py",
   "mimetype": "text/x-python",
   "name": "python",
   "nbconvert_exporter": "python",
   "pygments_lexer": "ipython3",
   "version": "3.10.16"
  }
 },
 "nbformat": 4,
 "nbformat_minor": 2
}
