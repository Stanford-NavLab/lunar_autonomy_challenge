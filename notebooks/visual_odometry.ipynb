{
 "cells": [
  {
   "cell_type": "code",
   "execution_count": null,
   "metadata": {},
   "outputs": [],
   "source": [
    "import numpy as np\n",
    "import matplotlib.pyplot as plt\n",
    "import plotly.graph_objects as go\n",
    "import cv2 as cv\n",
    "from tqdm import tqdm\n",
    "import os\n",
    "import json\n",
    "\n",
    "from lac.plotting import plot_path_3d, plot_3d_points\n",
    "from lac.localization.mono_vo import MonoVisualOdometry\n",
    "\n",
    "%load_ext autoreload\n",
    "%autoreload 2"
   ]
  },
  {
   "cell_type": "markdown",
   "metadata": {},
   "source": [
    "# Feature detection\n"
   ]
  },
  {
   "cell_type": "code",
   "execution_count": null,
   "metadata": {},
   "outputs": [],
   "source": [
    "data_path = os.path.expanduser(\"~/LunarAutonomyChallenge/output/data_collection_1\")\n",
    "\n",
    "i = 100\n",
    "I1 = cv.imread(os.path.join(data_path, \"front_left\", f\"{i}.png\"), cv.IMREAD_GRAYSCALE)\n",
    "I2 = cv.imread(os.path.join(data_path, \"front_left\", f\"{i + 10}.png\"), cv.IMREAD_GRAYSCALE)\n",
    "\n",
    "# Plot images side by side\n",
    "fig, ax = plt.subplots(1, 2, figsize=(15, 15))\n",
    "ax[0].imshow(I1)\n",
    "ax[1].imshow(I2)\n",
    "plt.show()"
   ]
  },
  {
   "cell_type": "markdown",
   "metadata": {},
   "source": [
    "ORB (left) vs FAST (right)\n"
   ]
  },
  {
   "cell_type": "code",
   "execution_count": null,
   "metadata": {},
   "outputs": [],
   "source": [
    "fast_detector = cv.FastFeatureDetector_create(threshold=25, nonmaxSuppression=True)\n",
    "orb_detector = cv.ORB_create(nfeatures=1000)\n",
    "orb_kp = orb_detector.detect(I1)\n",
    "orb_kp, orb_des = orb_detector.compute(I1, orb_kp)\n",
    "\n",
    "fast_kp = fast_detector.detect(I1)\n",
    "\n",
    "I1_orb = cv.drawKeypoints(I1, orb_kp, None, color=(0, 255, 0), flags=0)\n",
    "I1_fast = cv.drawKeypoints(I1, fast_kp, None, color=(0, 255, 0), flags=0)\n",
    "fig, ax = plt.subplots(1, 2, figsize=(15, 15))\n",
    "ax[0].imshow(I1_orb)\n",
    "ax[1].imshow(I1_fast)\n",
    "plt.show()"
   ]
  },
  {
   "cell_type": "code",
   "execution_count": null,
   "metadata": {},
   "outputs": [],
   "source": [
    "I2_fast = cv.drawKeypoints(I2, fast_detector.detect(I2), None, color=(0, 255, 0), flags=0)\n",
    "fig, ax = plt.subplots(1, 2, figsize=(15, 15))\n",
    "ax[0].imshow(I1_fast)\n",
    "ax[1].imshow(I2_fast)\n",
    "plt.show()"
   ]
  },
  {
   "cell_type": "markdown",
   "metadata": {},
   "source": [
    "# Mono VO class\n"
   ]
  },
  {
   "cell_type": "code",
   "execution_count": null,
   "metadata": {},
   "outputs": [],
   "source": [
    "## Parameters ---------------------------------------------------------------\n",
    "\n",
    "data_path = os.path.expanduser(\"~/LunarAutonomyChallenge/output/data_collection_1\")\n",
    "img_path = f\"{data_path}/front_left\"\n",
    "json_data = json.load(open(f\"{data_path}/data_log.json\"))\n",
    "initial_pose = np.array(json_data[\"initial_pose\"])  # TODO: initialize with initial pose\n",
    "\n",
    "trajlen = 1000\n",
    "\n",
    "# for KITTI\n",
    "focal = 915.0\n",
    "pp = (1280 / 2, 720 / 2)  # principal point\n",
    "\n",
    "# Parameters for lucas kanade optical flow\n",
    "lk_params = dict(\n",
    "    winSize=(21, 21), criteria=(cv.TERM_CRITERIA_EPS | cv.TERM_CRITERIA_COUNT, 30, 0.01)\n",
    ")"
   ]
  },
  {
   "cell_type": "code",
   "execution_count": null,
   "metadata": {},
   "outputs": [],
   "source": [
    "poses = []\n",
    "positions = []\n",
    "for frame in json_data[\"frames\"]:\n",
    "    poses.append(np.array(frame[\"pose\"]))\n",
    "    positions.append(np.array(frame[\"pose\"])[:3, 3])\n",
    "positions = np.array(positions)"
   ]
  },
  {
   "cell_type": "code",
   "execution_count": null,
   "metadata": {},
   "outputs": [],
   "source": [
    "vo = MonoVisualOdometry(img_path, poses, focal, pp, lk_params)\n",
    "# vo.R = initial_pose[:3, :3]\n",
    "# vo.t = initial_pose[:3, 3][:,None]\n",
    "vo.initialize_pose(initial_pose[:3, :3], initial_pose[:3, 3][:, None])\n",
    "vo_traj = np.zeros((trajlen, 3))\n",
    "\n",
    "for i in tqdm(range(trajlen)):\n",
    "    vo.process_frame()\n",
    "    vo_traj[i, :] = vo.get_mono_coordinates()"
   ]
  },
  {
   "cell_type": "code",
   "execution_count": null,
   "metadata": {},
   "outputs": [],
   "source": [
    "fig = plot_path_3d(vo_traj[:, 0], vo_traj[:, 1], vo_traj[:, 2])\n",
    "fig = plot_path_3d(positions[:trajlen, 0], positions[:trajlen, 1], positions[:trajlen, 2], fig=fig)\n",
    "fig.show()"
   ]
  },
  {
   "cell_type": "markdown",
   "metadata": {},
   "source": [
    "# IMU + lander measurements\n"
   ]
  },
  {
   "cell_type": "code",
   "execution_count": 2,
   "metadata": {},
   "outputs": [],
   "source": [
    "casename = \"20hz_seed4\"\n",
    "data_path = \"../../output/imu_20hz/\" + \"data_log.json\"\n",
    "json_data = json.load(open(f\"{data_path}\"))\n",
    "\n",
    "poses = []\n",
    "imu_data = []\n",
    "\n",
    "for frame in json_data[\"frames\"]:\n",
    "    poses.append(np.array(frame[\"pose\"]))\n",
    "    imu_data.append(np.array(frame[\"imu\"]))\n",
    "\n",
    "imu_data = np.array(imu_data)"
   ]
  },
  {
   "cell_type": "code",
   "execution_count": 3,
   "metadata": {},
   "outputs": [],
   "source": [
    "from lac.util import skew_symmetric, normalize_rotation_matrix"
   ]
  },
  {
   "cell_type": "code",
   "execution_count": 4,
   "metadata": {},
   "outputs": [],
   "source": [
    "R_0 = poses[0][:3, :3]\n",
    "\n",
    "imu_rotations = []\n",
    "imu_rotations.append(R_0)\n",
    "\n",
    "for i in range(1, len(poses)):\n",
    "    w_hat = skew_symmetric(imu_data[i, 3:])\n",
    "    dt = json_data[\"frames\"][i][\"mission_time\"] - json_data[\"frames\"][i - 1][\"mission_time\"]\n",
    "    R_1 = (np.eye(3) - w_hat * dt).T @ R_0\n",
    "    R_1 = normalize_rotation_matrix(R_1)\n",
    "    imu_rotations.append(R_1)\n",
    "    R_0 = R_1"
   ]
  },
  {
   "cell_type": "code",
   "execution_count": 5,
   "metadata": {},
   "outputs": [],
   "source": [
    "delta_rotations = []\n",
    "for i in range(1, len(imu_rotations)):\n",
    "    delta_rotations.append(imu_rotations[i] @ imu_rotations[i - 1].T)"
   ]
  },
  {
   "cell_type": "code",
   "execution_count": 6,
   "metadata": {},
   "outputs": [],
   "source": [
    "gravity = np.array([0.0, 0.0, 1.6220])  # m/s^2\n",
    "\n",
    "use_true_rot = False\n",
    "\n",
    "t_0 = poses[0][:3, 3]\n",
    "t_1 = poses[1][:3, 3]\n",
    "v_1 = (t_1 - t_0) / (\n",
    "    json_data[\"frames\"][1][\"mission_time\"] - json_data[\"frames\"][0][\"mission_time\"]\n",
    ")\n",
    "\n",
    "imu_translations = []\n",
    "imu_translations.append(t_0)\n",
    "imu_translations.append(t_1)\n",
    "\n",
    "for i in range(2, len(poses)):\n",
    "    dt = json_data[\"frames\"][i][\"mission_time\"] - json_data[\"frames\"][i - 1][\"mission_time\"]\n",
    "    a = imu_data[i, :3]\n",
    "\n",
    "    if use_true_rot:\n",
    "        R_i = poses[i][:3, :3]\n",
    "    else:\n",
    "        R_i = imu_rotations[i]\n",
    "\n",
    "    v_2 = v_1 + (R_i @ a - gravity) * dt\n",
    "    t_2 = t_1 + v_1 * dt\n",
    "\n",
    "    imu_translations.append(t_2)\n",
    "    t_0 = t_1\n",
    "    t_1 = t_2\n",
    "    v_1 = v_2\n",
    "\n",
    "imu_translations = np.array(imu_translations)"
   ]
  },
  {
   "cell_type": "code",
   "execution_count": 7,
   "metadata": {},
   "outputs": [],
   "source": [
    "delta_translations = []\n",
    "for i in range(1, len(imu_translations)):\n",
    "    delta_translations.append(imu_translations[i] - imu_translations[i - 1])"
   ]
  },
  {
   "cell_type": "code",
   "execution_count": 8,
   "metadata": {},
   "outputs": [],
   "source": [
    "initial_pose = np.array(json_data[\"initial_pose\"])\n",
    "lander_pose_rover = np.array(json_data[\"lander_pose\"])\n",
    "lander_pose_world = initial_pose @ lander_pose_rover"
   ]
  },
  {
   "cell_type": "code",
   "execution_count": 9,
   "metadata": {},
   "outputs": [],
   "source": [
    "lander_position = lander_pose_world[:3, 3]\n",
    "\n",
    "# Lander range and bearing measurements\n",
    "lander_pose_measurements = []  # relative pose of lander in rover frame\n",
    "lander_range_measurements = []\n",
    "lander_los_measurements = []\n",
    "\n",
    "for i in range(len(poses)):\n",
    "    t_i = poses[i][:3, 3]\n",
    "    delta_t = t_i - lander_position\n",
    "    lander_range_measurements.append(np.linalg.norm(delta_t))\n",
    "    lander_pose_measurements.append(poses[i].T @ lander_pose_world)\n",
    "    lander_los_measurements.append(-delta_t / np.linalg.norm(delta_t))"
   ]
  },
  {
   "cell_type": "code",
   "execution_count": 10,
   "metadata": {},
   "outputs": [],
   "source": [
    "import symforce\n",
    "\n",
    "try:\n",
    "    symforce.set_epsilon_to_symbol()\n",
    "except symforce.AlreadyUsedEpsilon:\n",
    "    print(\"Already set symforce epsilon\")\n",
    "    pass\n",
    "import symforce.symbolic as sf\n",
    "\n",
    "from lac.localization.symforce_util import odometry_lander_fgo"
   ]
  },
  {
   "cell_type": "code",
   "execution_count": 35,
   "metadata": {},
   "outputs": [],
   "source": [
    "ODOM_R_SIGMA = 0.01  # for rotations\n",
    "ODOM_T_SIGMA = 0.1  # for translations [m]\n",
    "ODOM_SIGMA = np.ones(6)\n",
    "ODOM_SIGMA[:3] *= ODOM_R_SIGMA\n",
    "ODOM_SIGMA[3:] *= ODOM_T_SIGMA\n",
    "\n",
    "init_poses = []\n",
    "imu_odometry = []\n",
    "for i in range(len(poses)):\n",
    "    init_pose = np.eye(4)\n",
    "    init_pose[:3, :3] = imu_rotations[i]\n",
    "    init_pose[:3, 3] = imu_translations[i]\n",
    "    init_poses.append(init_pose)\n",
    "\n",
    "for i in range(len(poses) - 1):\n",
    "    imu_odom = np.eye(4)\n",
    "    imu_odom[:3, :3] = delta_rotations[i]\n",
    "    imu_odom[:3, 3] = delta_translations[i]\n",
    "    imu_odometry.append(imu_odom)"
   ]
  },
  {
   "cell_type": "code",
   "execution_count": null,
   "metadata": {},
   "outputs": [],
   "source": [
    "len(poses)"
   ]
  },
  {
   "cell_type": "code",
   "execution_count": null,
   "metadata": {},
   "outputs": [],
   "source": [
    "N = 2000\n",
    "\n",
    "opt_poses, result = odometry_lander_fgo(\n",
    "    init_poses[:N],\n",
    "    lander_pose_world,\n",
    "    imu_odometry[: N - 1],\n",
    "    # lander_pose_measurements[:N],\n",
    "    lander_los_measurements[:N],\n",
    "    ODOM_SIGMA,\n",
    "    1.0,\n",
    "    debug=True,\n",
    ")"
   ]
  },
  {
   "cell_type": "code",
   "execution_count": null,
   "metadata": {},
   "outputs": [],
   "source": [
    "# N = -1\n",
    "\n",
    "opt_positions = []\n",
    "for pose in opt_poses:\n",
    "    opt_positions.append(pose[:3, 3])\n",
    "opt_positions = np.array(opt_positions)\n",
    "\n",
    "init_positions = []\n",
    "for pose in init_poses:\n",
    "    init_positions.append(pose[:3, 3])\n",
    "init_positions = np.array(init_positions)\n",
    "\n",
    "gt_translations = np.zeros((len(poses), 3))\n",
    "for i in range(len(poses)):\n",
    "    gt_translations[i] = poses[i][:3, 3]\n",
    "\n",
    "fig = plot_path_3d(\n",
    "    opt_positions[:, 0], opt_positions[:, 1], opt_positions[:, 2], color=\"orange\", name=\"Optimized\"\n",
    ")\n",
    "fig = plot_path_3d(\n",
    "    gt_translations[:N, 0],\n",
    "    gt_translations[:N, 1],\n",
    "    gt_translations[:N, 2],\n",
    "    fig=fig,\n",
    "    color=\"blue\",\n",
    "    name=\"Ground truth\",\n",
    ")\n",
    "fig = plot_path_3d(\n",
    "    init_positions[:N, 0],\n",
    "    init_positions[:N, 1],\n",
    "    init_positions[:N, 2],\n",
    "    fig=fig,\n",
    "    color=\"green\",\n",
    "    name=\"IMU initialization\",\n",
    ")\n",
    "fig = plot_3d_points(lander_position[None, :], fig=fig, color=\"red\", markersize=3)\n",
    "fig.update_layout(height=700, width=1200, scene_aspectmode=\"data\")\n",
    "fig.show()"
   ]
  },
  {
   "cell_type": "code",
   "execution_count": null,
   "metadata": {},
   "outputs": [],
   "source": [
    "lander_position[None, :]"
   ]
  },
  {
   "cell_type": "code",
   "execution_count": null,
   "metadata": {},
   "outputs": [],
   "source": []
  }
 ],
 "metadata": {
  "kernelspec": {
   "display_name": "lac",
   "language": "python",
   "name": "python3"
  },
  "language_info": {
   "codemirror_mode": {
    "name": "ipython",
    "version": 3
   },
   "file_extension": ".py",
   "mimetype": "text/x-python",
   "name": "python",
   "nbconvert_exporter": "python",
   "pygments_lexer": "ipython3",
   "version": "3.10.15"
  }
 },
 "nbformat": 4,
 "nbformat_minor": 2
}
