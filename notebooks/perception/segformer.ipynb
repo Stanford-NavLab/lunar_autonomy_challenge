{
 "cells": [
  {
   "cell_type": "code",
   "execution_count": null,
   "metadata": {},
   "outputs": [],
   "source": [
    "import torch\n",
    "import numpy as np\n",
    "import albumentations as A\n",
    "from albumentations.pytorch import ToTensorV2\n",
    "from datasets import load_dataset\n",
    "\n",
    "# Define preprocessing\n",
    "transform = A.Compose(\n",
    "    [\n",
    "        A.Resize(512, 512),  # Resize to fixed size\n",
    "        A.Normalize(mean=(0.5, 0.5, 0.5), std=(0.5, 0.5, 0.5)),  # Normalize\n",
    "        ToTensorV2(),  # Convert to PyTorch tensor\n",
    "    ]\n",
    ")\n",
    "\n",
    "\n",
    "# Function to apply transformation\n",
    "def preprocess(example):\n",
    "    example[\"pixel_values\"] = transform(image=np.array(example[\"image\"]))[\"image\"]\n",
    "    example[\"label\"] = torch.tensor(np.array(example[\"mask\"]), dtype=torch.long)\n",
    "    return example\n",
    "\n",
    "\n",
    "# Load dataset (assume your dataset is in Hugging Face's format or a dict with 'image' and 'mask')\n",
    "dataset = load_dataset(\"path/to/your/dataset\").map(preprocess)"
   ]
  },
  {
   "cell_type": "code",
   "execution_count": null,
   "metadata": {},
   "outputs": [],
   "source": []
  }
 ],
 "metadata": {
  "kernelspec": {
   "display_name": "lac-dev",
   "language": "python",
   "name": "python3"
  },
  "language_info": {
   "codemirror_mode": {
    "name": "ipython",
    "version": 3
   },
   "file_extension": ".py",
   "mimetype": "text/x-python",
   "name": "python",
   "nbconvert_exporter": "python",
   "pygments_lexer": "ipython3",
   "version": "3.10.16"
  }
 },
 "nbformat": 4,
 "nbformat_minor": 2
}
