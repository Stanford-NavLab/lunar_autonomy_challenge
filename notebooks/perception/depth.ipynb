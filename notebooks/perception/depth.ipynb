{
 "cells": [
  {
   "cell_type": "code",
   "execution_count": null,
   "id": "0",
   "metadata": {},
   "outputs": [],
   "source": [
    "import numpy as np\n",
    "import cv2\n",
    "import open3d as o3d\n",
    "import plotly.graph_objects as go\n",
    "import matplotlib.pyplot as plt\n",
    "from pathlib import Path\n",
    "\n",
    "%load_ext autoreload\n",
    "%autoreload 2\n",
    "from lac.perception.depth import render_o3d, get_renderer, get_plotly_mesh, get_light_direction, map_to_mesh\n",
    "from lac.utils.frames import get_cam_pose_rover, CAMERA_TO_OPENCV_PASSIVE\n",
    "\n",
    "from lac.util import load_data"
   ]
  },
  {
   "cell_type": "code",
   "execution_count": null,
   "id": "1",
   "metadata": {},
   "outputs": [],
   "source": [
    "data_path = Path(\"/home/shared/data_raw/LAC/runs/full_spiral_map1_preset1_recovery_agent\")\n",
    "initial_pose, lander_pose, poses, imu_data, cam_config = load_data(data_path)\n",
    "\n",
    "map_gt = np.load(\n",
    "    \"/home/shared/data_raw/LAC/heightmaps/competition/Moon_Map_01_preset_1.dat\",\n",
    "    allow_pickle=True,\n",
    ")"
   ]
  },
  {
   "cell_type": "code",
   "execution_count": null,
   "id": "2",
   "metadata": {},
   "outputs": [],
   "source": [
    "renderer, material = get_renderer()\n",
    "surface_mesh = map_to_mesh(map_gt)\n",
    "\n",
    "# Direction that it comes from\n",
    "el_sun = np.deg2rad(20)\n",
    "az_sun = np.arctan2(0.0, -1.0)\n",
    "d_light = get_light_direction(az_sun, el_sun)"
   ]
  },
  {
   "cell_type": "code",
   "execution_count": null,
   "id": "3",
   "metadata": {},
   "outputs": [],
   "source": [
    "from lac.utils.frames import cam_to_world\n",
    "\n",
    "frame = 1000\n",
    "img0 = cv2.imread((str(data_path / \"FrontLeft\" / f\"{frame:06d}.png\")))\n",
    "img1 = cv2.imread((str(data_path / \"FrontRight\" / f\"{frame:06d}.png\")))\n",
    "\n",
    "fig, ax = plt.subplots(1, 2, figsize=(10, 5))\n",
    "ax[0].imshow(img0)\n",
    "ax[1].imshow(img1)\n",
    "plt.show()\n",
    "\n",
    "cam_T_world = cam_to_world(poses[frame], \"FrontLeft\")\n",
    "img_gt, depth_gt = render_o3d([surface_mesh], renderer, material, cam_T_world, d_light)\n",
    "\n",
    "fig, ax = plt.subplots(1, 2, figsize=(10, 5))\n",
    "ax[0].imshow(img_gt)\n",
    "im = ax[1].imshow(depth_gt, cmap=\"viridis\")\n",
    "plt.colorbar(im, ax=ax[1], orientation=\"vertical\", fraction=0.03)\n",
    "plt.tight_layout()\n",
    "plt.show()"
   ]
  },
  {
   "cell_type": "code",
   "execution_count": null,
   "id": "4",
   "metadata": {},
   "outputs": [],
   "source": [
    "from lac.perception.depth import DepthEstimator\n",
    "from lac.params import FL_X, STEREO_BASELINE\n",
    "\n",
    "depth_estimator = DepthEstimator()\n",
    "\n",
    "disp = depth_estimator.compute_disparity(img0, img1)\n",
    "\n",
    "depth = (FL_X * STEREO_BASELINE) / (disp + 1e-8)\n",
    "fig, ax = plt.subplots(1, 2, figsize=(10, 5))\n",
    "im = ax[0].imshow(depth, cmap=\"viridis\")\n",
    "plt.colorbar(im, ax=ax[0], fraction=0.03)\n",
    "error = np.abs(depth - depth_gt)\n",
    "im = ax[1].imshow(error, cmap=\"viridis\")\n",
    "plt.colorbar(im, ax=ax[1], fraction=0.03)\n",
    "plt.tight_layout()\n",
    "plt.show()\n",
    "\n",
    "im = plt.imshow(np.where(error < 0.05, error, np.nan), cmap=\"jet\")\n",
    "plt.colorbar(im, fraction=0.03)\n",
    "plt.show()\n",
    "\n",
    "plt.scatter(depth.flatten(), error.flatten(), s=0.5, alpha=0.5, marker=\"o\")\n",
    "plt.show()"
   ]
  },
  {
   "cell_type": "code",
   "execution_count": null,
   "id": "5",
   "metadata": {},
   "outputs": [],
   "source": [
    "fig = go.Figure(data=[get_plotly_mesh(m) for m in [surface_mesh]])\n",
    "fig.update_layout(scene=dict(aspectmode=\"data\"), width=800, height=400, showlegend=False)\n",
    "from lac.utils.plotting import plot_poses\n",
    "\n",
    "plot_poses([poses[frame]], fig=fig)\n",
    "plot_poses(poses, fig=fig, no_axes=True)\n",
    "fig.show()"
   ]
  },
  {
   "cell_type": "code",
   "execution_count": null,
   "id": "6",
   "metadata": {},
   "outputs": [],
   "source": []
  }
 ],
 "metadata": {
  "kernelspec": {
   "display_name": "splat-slam",
   "language": "python",
   "name": "python3"
  },
  "language_info": {
   "codemirror_mode": {
    "name": "ipython",
    "version": 3
   },
   "file_extension": ".py",
   "mimetype": "text/x-python",
   "name": "python",
   "nbconvert_exporter": "python",
   "pygments_lexer": "ipython3",
   "version": "3.10.16"
  }
 },
 "nbformat": 4,
 "nbformat_minor": 5
}
