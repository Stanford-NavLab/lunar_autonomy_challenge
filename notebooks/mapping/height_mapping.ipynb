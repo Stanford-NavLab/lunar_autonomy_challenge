{
 "cells": [
  {
   "cell_type": "code",
   "execution_count": null,
   "metadata": {},
   "outputs": [],
   "source": [
    "import numpy as np\n",
    "from tqdm import tqdm\n",
    "from pathlib import Path\n",
    "import matplotlib.pyplot as plt\n",
    "import cv2\n",
    "import os\n",
    "\n",
    "from lac.slam.feature_tracker import FeatureTracker\n",
    "from lac.perception.segmentation import UnetSegmentation, SemanticClasses\n",
    "from lac.slam.visual_odometry import StereoVisualOdometry\n",
    "from lac.mapping.mapper import interpolate_heights\n",
    "from lac.mapping.map_utils import get_geometric_score\n",
    "from lac.utils.plotting import plot_poses, plot_surface, plot_3d_points\n",
    "from lac.utils.geometry import crop_points\n",
    "from lac.util import load_data\n",
    "from lac.params import LAC_BASE_PATH, SCENE_BBOX\n",
    "\n",
    "%load_ext autoreload\n",
    "%autoreload 2"
   ]
  },
  {
   "cell_type": "markdown",
   "metadata": {},
   "source": [
    "# Height mapping\n",
    "\n",
    "Use stereo depth and wheel contact to generate height map (assuming perfect localization)\n"
   ]
  },
  {
   "cell_type": "code",
   "execution_count": null,
   "metadata": {},
   "outputs": [],
   "source": [
    "# Load the data logs\n",
    "data_path = \"/home/shared/data_raw/LAC/runs/full_spiral_map1_preset0\"\n",
    "# data_path = Path(LAC_BASE_PATH) / \"output/DataCollectionAgent/lander_loop_closure_teleop\"\n",
    "initial_pose, lander_pose, poses, imu_data, cam_config = load_data(data_path)\n",
    "print(f\"Loaded {len(poses)} poses\")\n",
    "\n",
    "left_path = Path(data_path) / \"FrontLeft\"\n",
    "right_path = Path(data_path) / \"FrontRight\"\n",
    "img_frames = sorted(int(img_name.split(\".\")[0]) for img_name in os.listdir(left_path))\n",
    "\n",
    "# Load the ground truth map\n",
    "map = np.load(\n",
    "    \"/home/shared/data_raw/LAC/heightmaps/competition/Moon_Map_01_preset_0.dat\",\n",
    "    allow_pickle=True,\n",
    ")"
   ]
  },
  {
   "cell_type": "markdown",
   "metadata": {},
   "source": [
    "# Stereo depth points\n"
   ]
  },
  {
   "cell_type": "code",
   "execution_count": null,
   "metadata": {},
   "outputs": [],
   "source": [
    "segmentation = UnetSegmentation()\n",
    "feature_tracker = FeatureTracker(cam_config)\n",
    "svo = StereoVisualOdometry(cam_config)"
   ]
  },
  {
   "cell_type": "code",
   "execution_count": null,
   "metadata": {},
   "outputs": [],
   "source": [
    "START_FRAME = 80\n",
    "END_FRAME = img_frames[-1]\n",
    "\n",
    "depth_points = []\n",
    "\n",
    "for frame in tqdm(range(START_FRAME, END_FRAME, 2)):\n",
    "    img_name = f\"{frame:06}.png\"\n",
    "    left_img = cv2.imread(str(left_path / img_name), cv2.IMREAD_GRAYSCALE)\n",
    "    right_img = cv2.imread(str(right_path / img_name), cv2.IMREAD_GRAYSCALE)\n",
    "\n",
    "    # Segmentation\n",
    "    left_pred = segmentation.predict(left_img)\n",
    "    left_ground_mask = left_pred == SemanticClasses.GROUND.value\n",
    "\n",
    "    # Stereo depth\n",
    "    feats_left, feats_right, matches, depths = feature_tracker.process_stereo(\n",
    "        left_img, right_img, return_matched_feats=True\n",
    "    )\n",
    "    kps_left = feats_left[\"keypoints\"][0].cpu().numpy()\n",
    "    ground_idxs = []\n",
    "    for i, kp in enumerate(kps_left):\n",
    "        u = int(kp[0])\n",
    "        v = int(kp[1])\n",
    "        if u < 0 or u >= left_img.shape[1] or v < 0 or v >= left_img.shape[0]:\n",
    "            print(u, v)\n",
    "            continue\n",
    "        if left_ground_mask[v, u]:\n",
    "            ground_idxs.append(i)\n",
    "    ground_kps = kps_left[ground_idxs]\n",
    "    ground_depths = depths[ground_idxs]\n",
    "    ground_points_world = feature_tracker.project_stereo(poses[frame], ground_kps, ground_depths)\n",
    "    depth_points.append(ground_points_world)"
   ]
  },
  {
   "cell_type": "code",
   "execution_count": null,
   "metadata": {},
   "outputs": [],
   "source": [
    "all_depth_points = np.concatenate(depth_points, axis=0)\n",
    "print(all_depth_points.shape)"
   ]
  },
  {
   "cell_type": "code",
   "execution_count": null,
   "metadata": {},
   "outputs": [],
   "source": [
    "MAP_BBOX = np.array([[-13.5, -13.5, 0.0], [13.5, 13.5, 5.0]])\n",
    "all_depth_points_cropped = crop_points(all_depth_points, MAP_BBOX)\n",
    "print(all_depth_points_cropped.shape)"
   ]
  },
  {
   "cell_type": "code",
   "execution_count": null,
   "metadata": {},
   "outputs": [],
   "source": [
    "fig = plot_surface(map)\n",
    "fig = plot_3d_points(all_depth_points_cropped[::100], fig=fig)\n",
    "fig.update_layout(width=1600, height=900, scene_aspectmode=\"data\")\n",
    "fig.show()"
   ]
  },
  {
   "cell_type": "code",
   "execution_count": null,
   "metadata": {},
   "outputs": [],
   "source": [
    "fig.write_html(\"stereo_depth_height_points.html\")"
   ]
  },
  {
   "cell_type": "markdown",
   "metadata": {},
   "source": [
    "For each cell, take the median of points inside\n"
   ]
  },
  {
   "cell_type": "code",
   "execution_count": null,
   "metadata": {},
   "outputs": [],
   "source": [
    "from scipy.stats import binned_statistic_2d"
   ]
  },
  {
   "cell_type": "code",
   "execution_count": null,
   "metadata": {},
   "outputs": [],
   "source": [
    "points_to_fit = all_depth_points_cropped\n",
    "x, y, z = points_to_fit[:, 0], points_to_fit[:, 1], points_to_fit[:, 2]\n",
    "\n",
    "x_min, x_max = -13.5, 13.5\n",
    "y_min, y_max = -13.5, 13.5\n",
    "N = len(map[:, 0, 0])\n",
    "\n",
    "grid_medians, x_edges, y_edges, _ = binned_statistic_2d(\n",
    "    x, y, z, statistic=\"median\", bins=N, range=[[x_min, x_max], [y_min, y_max]]\n",
    ")\n",
    "# Set Nans to -np.inf\n",
    "grid_medians[np.isnan(grid_medians)] = -np.inf"
   ]
  },
  {
   "cell_type": "code",
   "execution_count": null,
   "metadata": {},
   "outputs": [],
   "source": [
    "agent_map = map.copy()\n",
    "agent_map[:, :, 2] = grid_medians\n",
    "agent_map = interpolate_heights(agent_map)"
   ]
  },
  {
   "cell_type": "code",
   "execution_count": null,
   "metadata": {},
   "outputs": [],
   "source": [
    "plot_surface(agent_map)"
   ]
  },
  {
   "cell_type": "code",
   "execution_count": null,
   "metadata": {},
   "outputs": [],
   "source": [
    "from lac.utils.plotting import plot_heightmaps\n",
    "\n",
    "plot_heightmaps(map, agent_map)"
   ]
  },
  {
   "cell_type": "code",
   "execution_count": null,
   "metadata": {},
   "outputs": [],
   "source": [
    "fig.write_html(\"height_maps.html\")"
   ]
  },
  {
   "cell_type": "code",
   "execution_count": null,
   "metadata": {},
   "outputs": [],
   "source": [
    "get_geometric_score(map, agent_map)"
   ]
  },
  {
   "cell_type": "markdown",
   "metadata": {},
   "source": [
    "# Fit the points\n"
   ]
  },
  {
   "cell_type": "code",
   "execution_count": null,
   "metadata": {},
   "outputs": [],
   "source": [
    "from scipy.interpolate import griddata\n",
    "from scipy.stats import zscore\n",
    "from sklearn.gaussian_process import GaussianProcessRegressor\n",
    "from sklearn.gaussian_process.kernels import RBF, ConstantKernel as C"
   ]
  },
  {
   "cell_type": "code",
   "execution_count": null,
   "metadata": {},
   "outputs": [],
   "source": [
    "grid_xy = map[:, :, :2]\n",
    "x_grid = grid_xy[:, :, 0].flatten()\n",
    "y_grid = grid_xy[:, :, 1].flatten()\n",
    "\n",
    "points_to_fit = all_depth_points_cropped[::100]\n",
    "\n",
    "x_points = points_to_fit[:, 0]\n",
    "y_points = points_to_fit[:, 1]\n",
    "z_points = points_to_fit[:, 2]"
   ]
  },
  {
   "cell_type": "code",
   "execution_count": null,
   "metadata": {},
   "outputs": [],
   "source": [
    "# Reshape x_points, y_points into a single input array for GP\n",
    "X = np.vstack((x_points, y_points)).T  # Shape (N, 2)\n",
    "\n",
    "# Define the kernel: RBF kernel with a constant multiplier\n",
    "kernel = C(1.0, (1e-4, 1e1)) * RBF(1.0, (1e-4, 1e1))\n",
    "\n",
    "# Fit the GaussianProcessRegressor\n",
    "gp = GaussianProcessRegressor(kernel=kernel, n_restarts_optimizer=10, alpha=1e-2)\n",
    "gp.fit(X, z_points)"
   ]
  },
  {
   "cell_type": "code",
   "execution_count": null,
   "metadata": {},
   "outputs": [],
   "source": [
    "# Calculate Z-scores for the z-values (elevation)\n",
    "z_scores = zscore(z_points)\n",
    "\n",
    "# Set a threshold to define outliers (e.g., z > 3 or z < -3)\n",
    "threshold = 3\n",
    "inliers = np.abs(z_scores) < threshold\n",
    "print(f\"Number of inliers: {np.sum(inliers)} out of {len(z_scores)}\")\n",
    "\n",
    "# Filter out the outliers\n",
    "x_points_clean = x_points[inliers]\n",
    "y_points_clean = y_points[inliers]\n",
    "z_points_clean = z_points[inliers]"
   ]
  },
  {
   "cell_type": "code",
   "execution_count": null,
   "metadata": {},
   "outputs": [],
   "source": [
    "grid_z = griddata((x_points, y_points), z_points, (x_grid, y_grid), method=\"cubic\")\n",
    "grid_z = grid_z.reshape(grid_xy.shape[:2])"
   ]
  },
  {
   "cell_type": "code",
   "execution_count": null,
   "metadata": {},
   "outputs": [],
   "source": [
    "# Visualize the result\n",
    "plt.imshow(grid_z, extent=(min(x_grid), max(x_grid), min(y_grid), max(y_grid)), origin=\"lower\")\n",
    "plt.colorbar(label=\"Elevation (z)\")\n",
    "plt.title(\"Fitted Surface (Elevation Grid from grid_xy)\")\n",
    "plt.show()"
   ]
  },
  {
   "cell_type": "code",
   "execution_count": null,
   "metadata": {},
   "outputs": [],
   "source": [
    "agent_map = map.copy()\n",
    "agent_map[:, :, 2] = grid_z"
   ]
  },
  {
   "cell_type": "code",
   "execution_count": null,
   "metadata": {},
   "outputs": [],
   "source": [
    "plot_surface(agent_map)"
   ]
  },
  {
   "cell_type": "code",
   "execution_count": null,
   "metadata": {},
   "outputs": [],
   "source": []
  }
 ],
 "metadata": {
  "kernelspec": {
   "display_name": "lac",
   "language": "python",
   "name": "python3"
  },
  "language_info": {
   "codemirror_mode": {
    "name": "ipython",
    "version": 3
   },
   "file_extension": ".py",
   "mimetype": "text/x-python",
   "name": "python",
   "nbconvert_exporter": "python",
   "pygments_lexer": "ipython3",
   "version": "3.10.16"
  }
 },
 "nbformat": 4,
 "nbformat_minor": 2
}
