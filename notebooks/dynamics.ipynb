{
 "cells": [
  {
   "cell_type": "code",
   "execution_count": null,
   "metadata": {},
   "outputs": [],
   "source": [
    "import numpy as np\n",
    "import os\n",
    "import json\n",
    "from pathlib import Path\n",
    "from scipy.spatial.transform import Rotation\n",
    "from scipy.linalg import expm\n",
    "from plotly import graph_objects as go\n",
    "\n",
    "from lac.utils.plotting import plot_path_3d, plot_3d_points\n",
    "from lac.localization.imu_dynamics import propagate_state\n",
    "from lac.util import load_data, skew_symmetric, pose_to_pos_rpy\n",
    "\n",
    "%load_ext autoreload\n",
    "%autoreload 2"
   ]
  },
  {
   "cell_type": "markdown",
   "metadata": {},
   "source": [
    "Rollout trajectory using control inputs and/or wheel odometry measurements recorded and a simple dubins\n"
   ]
  },
  {
   "cell_type": "code",
   "execution_count": null,
   "metadata": {},
   "outputs": [],
   "source": [
    "data_path = os.path.expanduser(\n",
    "    \"~/LunarAutonomyChallenge/output/LocalizationAgent/map1_preset0_4m_spiral/\"\n",
    ")\n",
    "json_data = json.load(open(os.path.join(data_path, \"data_log.json\")))\n",
    "initial_pose, lander_pose, pose_list, imu_data, cam_config = load_data(data_path)"
   ]
  },
  {
   "cell_type": "code",
   "execution_count": null,
   "metadata": {},
   "outputs": [],
   "source": [
    "# define the ground truth\n",
    "gt_translations = np.zeros((len(pose_list), 3))  # x, y, z\n",
    "gt_rotations_euler = np.zeros((len(pose_list), 3))  # roll, pitch, yaw\n",
    "dt = json_data[\"frames\"][1][\"mission_time\"]  # assume consistent dt across all frames\n",
    "\n",
    "for i in range(0, len(pose_list)):\n",
    "    pos_i, rpy_i = pose_to_pos_rpy(pose_list[i])\n",
    "    gt_translations[i, :3] = pos_i\n",
    "    gt_rotations_euler[i] = rpy_i"
   ]
  },
  {
   "cell_type": "code",
   "execution_count": null,
   "metadata": {},
   "outputs": [],
   "source": [
    "def dubins_step(x: np.ndarray, v: float, w: float, dt: float) -> np.ndarray:\n",
    "    \"\"\"\n",
    "    Compute the next state of the Dubins car\n",
    "\n",
    "    Args:\n",
    "    x: state vector in world-frame (x, y, z, vx, vy, vz, roll, pitch, yaw)\n",
    "    v: speed (linear)\n",
    "    w: angular velocity (yaw) about robot z-axis\n",
    "    dt: time\n",
    "\n",
    "    Returns:\n",
    "    x_next: next state vector in the world frame\n",
    "    \"\"\"\n",
    "\n",
    "    # project the body frame velocities to the world frame\n",
    "    rot_rover_to_world = Rotation.from_euler(\"xyz\", x[6:]).as_matrix()\n",
    "    v_world = rot_rover_to_world @ np.array([v, 0, 0])\n",
    "    new_pose = rot_rover_to_world @ expm(skew_symmetric(np.array([0, 0, w])) * dt)\n",
    "\n",
    "    # compute the next state\n",
    "    x_next = np.zeros_like(x)\n",
    "    x_next[:3] = x[:3] + v_world * dt\n",
    "    x_next[3:6] = x[3:6]\n",
    "    x_next[6:] = Rotation.as_euler(Rotation.from_matrix(new_pose), \"xyz\", degrees=False)\n",
    "\n",
    "    return x_next"
   ]
  },
  {
   "cell_type": "code",
   "execution_count": null,
   "metadata": {},
   "outputs": [],
   "source": [
    "def extract_controls(data_path: str):\n",
    "    frame_data = json.load(open(os.path.join(data_path, \"data_log.json\")))[\"frames\"]\n",
    "\n",
    "    nom_controls = {}\n",
    "    wheel_odom = {}\n",
    "    for frame in frame_data:\n",
    "        frame_id = frame[\"step\"]\n",
    "        nom_controls[frame_id] = np.array([frame[\"control\"][\"v\"], frame[\"control\"][\"w\"]])\n",
    "        wheel_odom[frame_id] = np.array([frame[\"linear_speed\"], frame[\"angular_speed\"]])\n",
    "\n",
    "    return nom_controls, wheel_odom"
   ]
  },
  {
   "cell_type": "code",
   "execution_count": null,
   "metadata": {},
   "outputs": [],
   "source": [
    "# Run Dubins car simulation\n",
    "n_sim = len(pose_list)\n",
    "nom_controls, wheel_odom = extract_controls(data_path)\n",
    "\n",
    "# initial state\n",
    "init_pos, init_rpy = pose_to_pos_rpy(pose_list[0])\n",
    "v0 = np.zeros(3)\n",
    "x0 = np.hstack((init_pos, v0, init_rpy)).T\n",
    "\n",
    "x_nom_traj = np.zeros((n_sim, 9))\n",
    "x_nom_traj[0] = x0\n",
    "\n",
    "x_wheel_traj = np.zeros((n_sim, 9))\n",
    "x_wheel_traj[0] = x0\n",
    "\n",
    "x_imu_traj = np.zeros((n_sim, 9))\n",
    "x_imu_traj[0] = x0\n",
    "\n",
    "for i in range(1, n_sim):\n",
    "    v_nom, w_nom = nom_controls[i]\n",
    "    v_wheel, w_wheel = wheel_odom[i]\n",
    "    a_k = imu_data[i - 1][:3]  # imu data starts with step 1 at index 0\n",
    "    omega_k = imu_data[i - 1][3:]\n",
    "\n",
    "    x_nom_traj[i] = dubins_step(x_nom_traj[i - 1], v_nom, w_nom, dt)\n",
    "    x_wheel_traj[i] = dubins_step(x_wheel_traj[i - 1], v_wheel, w_wheel, dt)\n",
    "    x_imu_traj[i], _ = propagate_state(x_imu_traj[i - 1], a_k, omega_k, dt)"
   ]
  },
  {
   "cell_type": "code",
   "execution_count": null,
   "metadata": {},
   "outputs": [],
   "source": [
    "# pllot\n",
    "fig = plot_path_3d(\n",
    "    gt_translations,\n",
    "    color=\"blue\",\n",
    "    name=\"Ground truth\",\n",
    ")\n",
    "fig = plot_path_3d(\n",
    "    x_wheel_traj,\n",
    "    fig=fig,\n",
    "    color=\"green\",\n",
    "    name=\"Wheel odometry\",\n",
    ")\n",
    "fig = plot_path_3d(\n",
    "    x_nom_traj,\n",
    "    fig=fig,\n",
    "    color=\"red\",\n",
    "    name=\"Nominal controls\",\n",
    ")\n",
    "# fig = plot_path_3d(\n",
    "#     x_imu_traj,\n",
    "#     fig=fig,\n",
    "#     color=\"green\",\n",
    "#     name=\"IMU\",\n",
    "# )\n",
    "\n",
    "fig.update_layout(height=700, width=1200, scene_aspectmode=\"data\")\n",
    "fig.show()\n"
   ]
  },
  {
   "cell_type": "markdown",
   "metadata": {},
   "source": [
    "### Dynamics characterization\n"
   ]
  },
  {
   "cell_type": "code",
   "execution_count": null,
   "metadata": {},
   "outputs": [],
   "source": [
    "import matplotlib.pyplot as plt\n",
    "\n",
    "from lac.utils.plotting import plot_path_rover_frame\n",
    "from lac.utils.frames import invert_transform_mat\n",
    "from lac.util import get_positions_from_poses"
   ]
  },
  {
   "cell_type": "code",
   "execution_count": null,
   "metadata": {},
   "outputs": [],
   "source": [
    "data_path = Path(\"../../output/DataCollectionAgent/map1_preset0_v0.2_w-0.5\")\n",
    "initial_pose, lander_pose, poses, imu_data, cam_config = load_data(data_path)"
   ]
  },
  {
   "cell_type": "code",
   "execution_count": null,
   "metadata": {},
   "outputs": [],
   "source": [
    "# Transform poses from world to initial local rover frame\n",
    "poses_local = [invert_transform_mat(initial_pose) @ pose for pose in poses]\n",
    "\n",
    "positions_local = get_positions_from_poses(poses_local)\n",
    "plot_path_rover_frame(positions_local, color=\"blue\")"
   ]
  },
  {
   "cell_type": "code",
   "execution_count": null,
   "metadata": {},
   "outputs": [],
   "source": [
    "json_data = json.load(open(f\"{data_path}/data_log.json\"))\n",
    "N = len(json_data[\"frames\"])\n",
    "wheel_odoms = np.zeros((N, 2))\n",
    "for i, frame in enumerate(json_data[\"frames\"]):\n",
    "    wheel_odoms[i] = [frame[\"linear_speed\"], frame[\"angular_speed\"]]"
   ]
  },
  {
   "cell_type": "code",
   "execution_count": null,
   "metadata": {},
   "outputs": [],
   "source": [
    "plt.plot(wheel_odoms[:, 0], label=\"linear speed\")"
   ]
  },
  {
   "cell_type": "code",
   "execution_count": null,
   "metadata": {},
   "outputs": [],
   "source": [
    "plt.figure()\n",
    "plt.plot(wheel_odoms[:, 1], label=\"angular speed\")\n",
    "plt.legend()\n",
    "plt.show()"
   ]
  },
  {
   "cell_type": "code",
   "execution_count": null,
   "metadata": {},
   "outputs": [],
   "source": []
  }
 ],
 "metadata": {
  "kernelspec": {
   "display_name": "lac",
   "language": "python",
   "name": "python3"
  },
  "language_info": {
   "codemirror_mode": {
    "name": "ipython",
    "version": 3
   },
   "file_extension": ".py",
   "mimetype": "text/x-python",
   "name": "python",
   "nbconvert_exporter": "python",
   "pygments_lexer": "ipython3",
   "version": "3.10.16"
  }
 },
 "nbformat": 4,
 "nbformat_minor": 2
}
