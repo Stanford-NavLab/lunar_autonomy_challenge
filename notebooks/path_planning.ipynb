{
 "cells": [
  {
   "cell_type": "code",
   "execution_count": 1,
   "metadata": {},
   "outputs": [
    {
     "name": "stderr",
     "output_type": "stream",
     "text": [
      "/home/navlab-aa290/miniconda3/envs/lac/lib/python3.10/site-packages/tqdm/auto.py:21: TqdmWarning: IProgress not found. Please update jupyter and ipywidgets. See https://ipywidgets.readthedocs.io/en/stable/user_install.html\n",
      "  from .autonotebook import tqdm as notebook_tqdm\n",
      "/home/navlab-aa290/miniconda3/envs/lac/lib/python3.10/site-packages/sam2/modeling/sam/transformer.py:23: UserWarning: Flash Attention is disabled as it requires a GPU with Ampere (8.0) CUDA capability.\n",
      "  OLD_GPU, USE_FLASH_ATTN, MATH_KERNEL_ON = get_sdpa_settings()\n"
     ]
    }
   ],
   "source": [
    "import numpy as np\n",
    "import cv2 as cv\n",
    "import os\n",
    "import json\n",
    "from PIL import Image\n",
    "import matplotlib.pyplot as plt\n",
    "import plotly.graph_objects as go\n",
    "import time\n",
    "import torch\n",
    "from pathlib import Path\n",
    "\n",
    "from lac.perception.segmentation import Segmentation\n",
    "from lac.perception.depth import stereo_depth_from_segmentation, project_pixel_to_rover, compute_rock_coords_rover_frame, compute_rock_radii\n",
    "from lac.control.controller import ArcPlanner\n",
    "from lac.utils.visualization import overlay_mask, overlay_stereo_rock_depths\n",
    "from lac.utils.plotting import (\n",
    "    plot_points_rover_frame,\n",
    "    plot_path_rover_frame,\n",
    "    plot_rocks_rover_frame,\n",
    ")\n",
    "from lac.utils.frames import invert_transform_mat\n",
    "from lac.util import load_data, get_positions_from_poses\n",
    "import lac.params as params\n",
    "\n",
    "%load_ext autoreload\n",
    "%autoreload 2"
   ]
  },
  {
   "cell_type": "markdown",
   "metadata": {},
   "source": [
    "## Obstacle detection\n"
   ]
  },
  {
   "cell_type": "code",
   "execution_count": 3,
   "metadata": {},
   "outputs": [
    {
     "name": "stderr",
     "output_type": "stream",
     "text": [
      "/home/navlab-aa290/miniconda3/envs/lac/lib/python3.10/site-packages/torch/utils/cpp_extension.py:1965: UserWarning: TORCH_CUDA_ARCH_LIST is not set, all archs for visible cards are included for compilation. \n",
      "If this is not desired, please set os.environ['TORCH_CUDA_ARCH_LIST'].\n",
      "  warnings.warn(\n",
      "Could not load the custom kernel for multi-scale deformable attention: Error building extension 'MultiScaleDeformableAttention': [1/2] /usr/bin/nvcc --generate-dependencies-with-compile --dependency-output ms_deform_attn_cuda.cuda.o.d -DTORCH_EXTENSION_NAME=MultiScaleDeformableAttention -DTORCH_API_INCLUDE_EXTENSION_H -DPYBIND11_COMPILER_TYPE=\\\"_gcc\\\" -DPYBIND11_STDLIB=\\\"_libstdcpp\\\" -DPYBIND11_BUILD_ABI=\\\"_cxxabi1011\\\" -I/home/navlab-aa290/miniconda3/envs/lac/lib/python3.10/site-packages/transformers/kernels/deformable_detr -isystem /home/navlab-aa290/miniconda3/envs/lac/lib/python3.10/site-packages/torch/include -isystem /home/navlab-aa290/miniconda3/envs/lac/lib/python3.10/site-packages/torch/include/torch/csrc/api/include -isystem /home/navlab-aa290/miniconda3/envs/lac/lib/python3.10/site-packages/torch/include/TH -isystem /home/navlab-aa290/miniconda3/envs/lac/lib/python3.10/site-packages/torch/include/THC -isystem /home/navlab-aa290/miniconda3/envs/lac/include/python3.10 -D_GLIBCXX_USE_CXX11_ABI=0 -D__CUDA_NO_HALF_OPERATORS__ -D__CUDA_NO_HALF_CONVERSIONS__ -D__CUDA_NO_BFLOAT16_CONVERSIONS__ -D__CUDA_NO_HALF2_OPERATORS__ --expt-relaxed-constexpr -gencode=arch=compute_70,code=compute_70 -gencode=arch=compute_70,code=sm_70 --compiler-options '-fPIC' -DCUDA_HAS_FP16=1 -D__CUDA_NO_HALF_OPERATORS__ -D__CUDA_NO_HALF_CONVERSIONS__ -D__CUDA_NO_HALF2_OPERATORS__ -std=c++17 -c /home/navlab-aa290/miniconda3/envs/lac/lib/python3.10/site-packages/transformers/kernels/deformable_detr/cuda/ms_deform_attn_cuda.cu -o ms_deform_attn_cuda.cuda.o \n",
      "\u001b[31mFAILED: \u001b[0mms_deform_attn_cuda.cuda.o \n",
      "/usr/bin/nvcc --generate-dependencies-with-compile --dependency-output ms_deform_attn_cuda.cuda.o.d -DTORCH_EXTENSION_NAME=MultiScaleDeformableAttention -DTORCH_API_INCLUDE_EXTENSION_H -DPYBIND11_COMPILER_TYPE=\\\"_gcc\\\" -DPYBIND11_STDLIB=\\\"_libstdcpp\\\" -DPYBIND11_BUILD_ABI=\\\"_cxxabi1011\\\" -I/home/navlab-aa290/miniconda3/envs/lac/lib/python3.10/site-packages/transformers/kernels/deformable_detr -isystem /home/navlab-aa290/miniconda3/envs/lac/lib/python3.10/site-packages/torch/include -isystem /home/navlab-aa290/miniconda3/envs/lac/lib/python3.10/site-packages/torch/include/torch/csrc/api/include -isystem /home/navlab-aa290/miniconda3/envs/lac/lib/python3.10/site-packages/torch/include/TH -isystem /home/navlab-aa290/miniconda3/envs/lac/lib/python3.10/site-packages/torch/include/THC -isystem /home/navlab-aa290/miniconda3/envs/lac/include/python3.10 -D_GLIBCXX_USE_CXX11_ABI=0 -D__CUDA_NO_HALF_OPERATORS__ -D__CUDA_NO_HALF_CONVERSIONS__ -D__CUDA_NO_BFLOAT16_CONVERSIONS__ -D__CUDA_NO_HALF2_OPERATORS__ --expt-relaxed-constexpr -gencode=arch=compute_70,code=compute_70 -gencode=arch=compute_70,code=sm_70 --compiler-options '-fPIC' -DCUDA_HAS_FP16=1 -D__CUDA_NO_HALF_OPERATORS__ -D__CUDA_NO_HALF_CONVERSIONS__ -D__CUDA_NO_HALF2_OPERATORS__ -std=c++17 -c /home/navlab-aa290/miniconda3/envs/lac/lib/python3.10/site-packages/transformers/kernels/deformable_detr/cuda/ms_deform_attn_cuda.cu -o ms_deform_attn_cuda.cuda.o \n",
      "/home/navlab-aa290/miniconda3/envs/lac/lib/python3.10/site-packages/transformers/kernels/deformable_detr/cuda/ms_deform_attn_cuda.cu:19:9: warning: #pragma once in main file\n",
      "   19 | #pragma once\n",
      "      |         ^~~~\n",
      "/home/navlab-aa290/miniconda3/envs/lac/lib/python3.10/site-packages/transformers/kernels/deformable_detr/cuda/ms_deform_attn_cuda.cu:19:9: warning: #pragma once in main file\n",
      "   19 | #pragma once\n",
      "      |         ^~~~\n",
      "/home/navlab-aa290/miniconda3/envs/lac/lib/python3.10/site-packages/transformers/kernels/deformable_detr/cuda/ms_deform_im2col_cuda.cuh(261): warning #177-D: variable \"q_col\" was declared but never referenced\n",
      "          detected during instantiation of \"void ms_deformable_im2col_cuda(cudaStream_t, const scalar_t *, const int64_t *, const int64_t *, const scalar_t *, const scalar_t *, int, int, int, int, int, int, int, scalar_t *) [with scalar_t=double]\" \n",
      "/home/navlab-aa290/miniconda3/envs/lac/lib/python3.10/site-packages/transformers/kernels/deformable_detr/cuda/ms_deform_attn_cuda.cu(67): here\n",
      "\n",
      "/home/navlab-aa290/miniconda3/envs/lac/lib/python3.10/site-packages/transformers/kernels/deformable_detr/cuda/ms_deform_im2col_cuda.cuh(762): warning #177-D: variable \"q_col\" was declared but never referenced\n",
      "          detected during instantiation of \"void ms_deformable_col2im_cuda(cudaStream_t, const scalar_t *, const scalar_t *, const int64_t *, const int64_t *, const scalar_t *, const scalar_t *, int, int, int, int, int, int, int, scalar_t *, scalar_t *, scalar_t *) [with scalar_t=double]\" \n",
      "/home/navlab-aa290/miniconda3/envs/lac/lib/python3.10/site-packages/transformers/kernels/deformable_detr/cuda/ms_deform_attn_cuda.cu(137): here\n",
      "\n",
      "/home/navlab-aa290/miniconda3/envs/lac/lib/python3.10/site-packages/transformers/kernels/deformable_detr/cuda/ms_deform_im2col_cuda.cuh(872): warning #177-D: variable \"q_col\" was declared but never referenced\n",
      "          detected during instantiation of \"void ms_deformable_col2im_cuda(cudaStream_t, const scalar_t *, const scalar_t *, const int64_t *, const int64_t *, const scalar_t *, const scalar_t *, int, int, int, int, int, int, int, scalar_t *, scalar_t *, scalar_t *) [with scalar_t=double]\" \n",
      "/home/navlab-aa290/miniconda3/envs/lac/lib/python3.10/site-packages/transformers/kernels/deformable_detr/cuda/ms_deform_attn_cuda.cu(137): here\n",
      "\n",
      "/home/navlab-aa290/miniconda3/envs/lac/lib/python3.10/site-packages/transformers/kernels/deformable_detr/cuda/ms_deform_im2col_cuda.cuh(331): warning #177-D: variable \"q_col\" was declared but never referenced\n",
      "          detected during instantiation of \"void ms_deformable_col2im_cuda(cudaStream_t, const scalar_t *, const scalar_t *, const int64_t *, const int64_t *, const scalar_t *, const scalar_t *, int, int, int, int, int, int, int, scalar_t *, scalar_t *, scalar_t *) [with scalar_t=double]\" \n",
      "/home/navlab-aa290/miniconda3/envs/lac/lib/python3.10/site-packages/transformers/kernels/deformable_detr/cuda/ms_deform_attn_cuda.cu(137): here\n",
      "\n",
      "/home/navlab-aa290/miniconda3/envs/lac/lib/python3.10/site-packages/transformers/kernels/deformable_detr/cuda/ms_deform_im2col_cuda.cuh(436): warning #177-D: variable \"q_col\" was declared but never referenced\n",
      "          detected during instantiation of \"void ms_deformable_col2im_cuda(cudaStream_t, const scalar_t *, const scalar_t *, const int64_t *, const int64_t *, const scalar_t *, const scalar_t *, int, int, int, int, int, int, int, scalar_t *, scalar_t *, scalar_t *) [with scalar_t=double]\" \n",
      "/home/navlab-aa290/miniconda3/envs/lac/lib/python3.10/site-packages/transformers/kernels/deformable_detr/cuda/ms_deform_attn_cuda.cu(137): here\n",
      "\n",
      "/home/navlab-aa290/miniconda3/envs/lac/lib/python3.10/site-packages/transformers/kernels/deformable_detr/cuda/ms_deform_im2col_cuda.cuh(544): warning #177-D: variable \"q_col\" was declared but never referenced\n",
      "          detected during instantiation of \"void ms_deformable_col2im_cuda(cudaStream_t, const scalar_t *, const scalar_t *, const int64_t *, const int64_t *, const scalar_t *, const scalar_t *, int, int, int, int, int, int, int, scalar_t *, scalar_t *, scalar_t *) [with scalar_t=double]\" \n",
      "/home/navlab-aa290/miniconda3/envs/lac/lib/python3.10/site-packages/transformers/kernels/deformable_detr/cuda/ms_deform_attn_cuda.cu(137): here\n",
      "\n",
      "/home/navlab-aa290/miniconda3/envs/lac/lib/python3.10/site-packages/transformers/kernels/deformable_detr/cuda/ms_deform_im2col_cuda.cuh(649): warning #177-D: variable \"q_col\" was declared but never referenced\n",
      "          detected during instantiation of \"void ms_deformable_col2im_cuda(cudaStream_t, const scalar_t *, const scalar_t *, const int64_t *, const int64_t *, const scalar_t *, const scalar_t *, int, int, int, int, int, int, int, scalar_t *, scalar_t *, scalar_t *) [with scalar_t=double]\" \n",
      "/home/navlab-aa290/miniconda3/envs/lac/lib/python3.10/site-packages/transformers/kernels/deformable_detr/cuda/ms_deform_attn_cuda.cu(137): here\n",
      "\n",
      "/usr/include/c++/11/bits/std_function.h:435:145: error: parameter packs not expanded with ‘...’:\n",
      "  435 |         function(_Functor&& __f)\n",
      "      |                                                                                                                                                 ^ \n",
      "/usr/include/c++/11/bits/std_function.h:435:145: note:         ‘_ArgTypes’\n",
      "/usr/include/c++/11/bits/std_function.h:530:146: error: parameter packs not expanded with ‘...’:\n",
      "  530 |         operator=(_Functor&& __f)\n",
      "      |                                                                                                                                                  ^ \n",
      "/usr/include/c++/11/bits/std_function.h:530:146: note:         ‘_ArgTypes’\n",
      "ninja: build stopped: subcommand failed.\n",
      "\n",
      "Could not load the custom kernel for multi-scale deformable attention: /home/navlab-aa290/.cache/torch_extensions/py310_cu121/MultiScaleDeformableAttention/MultiScaleDeformableAttention.so: cannot open shared object file: No such file or directory\n",
      "Could not load the custom kernel for multi-scale deformable attention: /home/navlab-aa290/.cache/torch_extensions/py310_cu121/MultiScaleDeformableAttention/MultiScaleDeformableAttention.so: cannot open shared object file: No such file or directory\n",
      "Could not load the custom kernel for multi-scale deformable attention: /home/navlab-aa290/.cache/torch_extensions/py310_cu121/MultiScaleDeformableAttention/MultiScaleDeformableAttention.so: cannot open shared object file: No such file or directory\n",
      "Could not load the custom kernel for multi-scale deformable attention: /home/navlab-aa290/.cache/torch_extensions/py310_cu121/MultiScaleDeformableAttention/MultiScaleDeformableAttention.so: cannot open shared object file: No such file or directory\n",
      "Could not load the custom kernel for multi-scale deformable attention: /home/navlab-aa290/.cache/torch_extensions/py310_cu121/MultiScaleDeformableAttention/MultiScaleDeformableAttention.so: cannot open shared object file: No such file or directory\n",
      "Could not load the custom kernel for multi-scale deformable attention: /home/navlab-aa290/.cache/torch_extensions/py310_cu121/MultiScaleDeformableAttention/MultiScaleDeformableAttention.so: cannot open shared object file: No such file or directory\n",
      "Could not load the custom kernel for multi-scale deformable attention: /home/navlab-aa290/.cache/torch_extensions/py310_cu121/MultiScaleDeformableAttention/MultiScaleDeformableAttention.so: cannot open shared object file: No such file or directory\n",
      "Could not load the custom kernel for multi-scale deformable attention: /home/navlab-aa290/.cache/torch_extensions/py310_cu121/MultiScaleDeformableAttention/MultiScaleDeformableAttention.so: cannot open shared object file: No such file or directory\n",
      "Could not load the custom kernel for multi-scale deformable attention: /home/navlab-aa290/.cache/torch_extensions/py310_cu121/MultiScaleDeformableAttention/MultiScaleDeformableAttention.so: cannot open shared object file: No such file or directory\n",
      "Could not load the custom kernel for multi-scale deformable attention: /home/navlab-aa290/.cache/torch_extensions/py310_cu121/MultiScaleDeformableAttention/MultiScaleDeformableAttention.so: cannot open shared object file: No such file or directory\n",
      "Could not load the custom kernel for multi-scale deformable attention: /home/navlab-aa290/.cache/torch_extensions/py310_cu121/MultiScaleDeformableAttention/MultiScaleDeformableAttention.so: cannot open shared object file: No such file or directory\n"
     ]
    }
   ],
   "source": [
    "segmentation = Segmentation()"
   ]
  },
  {
   "cell_type": "code",
   "execution_count": 4,
   "metadata": {},
   "outputs": [],
   "source": [
    "data_path = Path(\"../../output/AutoAgent/arc_planner_test\")\n",
    "initial_pose, lander_pose, poses, imu_data, cam_config = load_data(data_path)"
   ]
  },
  {
   "cell_type": "code",
   "execution_count": 5,
   "metadata": {},
   "outputs": [],
   "source": [
    "i = 1080\n",
    "\n",
    "current_pose = poses[i]"
   ]
  },
  {
   "cell_type": "code",
   "execution_count": null,
   "metadata": {},
   "outputs": [],
   "source": [
    "left_image = Image.open(data_path / \"FrontLeft\" / f\"{i}.png\")\n",
    "right_image = Image.open(data_path / \"FrontRight\" / f\"{i}.png\")\n",
    "\n",
    "left_seg_masks, left_seg_full_mask = segmentation.segment_rocks(left_image.convert(\"RGB\"))\n",
    "right_seg_masks, right_seg_full_mask = segmentation.segment_rocks(right_image.convert(\"RGB\"))\n",
    "\n",
    "results = stereo_depth_from_segmentation(\n",
    "    left_seg_masks, right_seg_masks, params.STEREO_BASELINE, params.FL_X\n",
    ")\n",
    "left_overlay = overlay_mask(np.array(left_image), left_seg_full_mask)\n",
    "left_overlay = overlay_stereo_rock_depths(left_overlay, results)\n",
    "fig = plt.figure(figsize=(10, 5), dpi=100)\n",
    "plt.imshow(left_overlay)\n",
    "plt.axis(\"off\")"
   ]
  },
  {
   "cell_type": "code",
   "execution_count": 2,
   "metadata": {},
   "outputs": [],
   "source": [
    "# TODO: use compute_rock_points and compute_rock_radii"
   ]
  },
  {
   "cell_type": "code",
   "execution_count": null,
   "metadata": {},
   "outputs": [],
   "source": [
    "x, _, w, _ = cv.boundingRect(results[0][\"left_mask\"].astype(np.uint8))\n",
    "width_x = w * results[0][\"depth\"] / params.FL_X\n",
    "print(f\"Width: {width_x} m\")"
   ]
  },
  {
   "cell_type": "code",
   "execution_count": null,
   "metadata": {},
   "outputs": [],
   "source": [
    "rock_points_rover_frame = []\n",
    "rock_data = compute_rock_radii(results, params)\n",
    "\n",
    "\n",
    "for rock in results:\n",
    "    rock_points_rover_frame.append(\n",
    "        project_pixel_to_rover(rock[\"left_centroid\"], rock[\"depth\"], \"FrontLeft\", cam_config)\n",
    "    )\n",
    "\n",
    "rock_points_rover_frame = np.array(rock_points_rover_frame)\n",
    "print(rock_points_rover_frame)\n",
    "plot_points_rover_frame(rock_points_rover_frame, color=\"red\")\n",
    "plot_rocks_rover_frame(rock_points_rover_frame, rock_data, color=\"blue\")\n"
   ]
  },
  {
   "cell_type": "markdown",
   "metadata": {},
   "source": [
    "## Arc path planning\n"
   ]
  },
  {
   "cell_type": "code",
   "execution_count": 36,
   "metadata": {},
   "outputs": [],
   "source": [
    "planner = ArcPlanner()\n",
    "\n",
    "\n",
    "arcs = planner.np_candidate_arcs"
   ]
  },
  {
   "cell_type": "code",
   "execution_count": 27,
   "metadata": {},
   "outputs": [
    {
     "ename": "NameError",
     "evalue": "name 'rock_points_rover_frame' is not defined",
     "output_type": "error",
     "traceback": [
      "\u001b[0;31m---------------------------------------------------------------------------\u001b[0m",
      "\u001b[0;31mNameError\u001b[0m                                 Traceback (most recent call last)",
      "Cell \u001b[0;32mIn[27], line 1\u001b[0m\n\u001b[0;32m----> 1\u001b[0m \u001b[38;5;28mprint\u001b[39m(\u001b[43mrock_points_rover_frame\u001b[49m)\n\u001b[1;32m      2\u001b[0m test_rock_points_rover_frame \u001b[38;5;241m=\u001b[39m np\u001b[38;5;241m.\u001b[39marray([[\u001b[38;5;241m0.5\u001b[39m, \u001b[38;5;241m0.5\u001b[39m], [\u001b[38;5;241m0.4\u001b[39m, \u001b[38;5;241m-\u001b[39m\u001b[38;5;241m0.4\u001b[39m], [\u001b[38;5;241m0.2\u001b[39m, \u001b[38;5;241m0.3\u001b[39m]])\n",
      "\u001b[0;31mNameError\u001b[0m: name 'rock_points_rover_frame' is not defined"
     ]
    }
   ],
   "source": [
    "print(rock_points_rover_frame)\n",
    "test_rock_points_rover_frame = np.array([[0.5, 0.5], [0.4, -0.4], [0.2, 0.3]])"
   ]
  },
  {
   "cell_type": "code",
   "execution_count": 28,
   "metadata": {},
   "outputs": [],
   "source": [
    "test_rock_data = [0.07, 0.06, 0.05]"
   ]
  },
  {
   "cell_type": "code",
   "execution_count": 41,
   "metadata": {},
   "outputs": [
    {
     "name": "stdout",
     "output_type": "stream",
     "text": [
      "self.vw[(0.2, -1.0), (0.2, -1.0), (0.2, -1.0), (0.2, -1.0), (0.2, -1.0), (0.2, -0.5), (0.2, -0.5), (0.2, -0.5), (0.2, -0.5), (0.2, -0.5), (0.2, 0.0), (0.2, 0.0), (0.2, 0.0), (0.2, 0.0), (0.2, 0.0), (0.2, 0.5), (0.2, 0.5), (0.2, 0.5), (0.2, 0.5), (0.2, 0.5), (0.2, 1.0), (0.2, 1.0), (0.2, 1.0), (0.2, 1.0), (0.2, 1.0)]\n",
      "2\n",
      "waypoint_local[-1.20142065 -8.27371501 -2.10916042  1.        ]\n"
     ]
    },
    {
     "data": {
      "application/vnd.plotly.v1+json": {
       "config": {
        "plotlyServerURL": "https://plot.ly"
       },
       "data": [
        {
         "line": {
          "color": "blue",
          "width": 2
         },
         "mode": "lines",
         "type": "scatter",
         "x": {
          "bdata": "AAAAAAAAAAAAAAAAAAAAAB1pzHyOYEC/tjuCZJiLWL++Op0PvoNovzZHXfQRZXS/w5WW5kmHfr8wpSB1BVGFv9iJoxrLVoy/HEYbxzsokr/5wdw0eJyWv3GuOj1BhZu/g1OzWblvoL/PAdjsz1Ojv/WUQckKbaa/ZFE4X265qb9cFtxi3jatvxYL7pKPcbC/c8Ohgutdsr+2nTj1R1+0v3foIW9cdLa/azu81tObuL8Aq5dOTdS6v5QjPxddHL2/JXP4d41yv7/OCfPWr+rAvzrZeHCmIcK/j1/xjmNdw78SfYAqHZ3EvzELUK4G4MW/jH53e1Elx79plzFtLWzIv96HC17Js8m/V1e4rVP7yr8D4jLH+kHMv3Gg2Kbths2/NmgnYFzJzr8GSWRRPATQvwgySh+7odC/zKMc08U80b/MoxzTxTzRv22YGTj51NG/eVng6vNp0r/0QcKXVvvSv7zYwTfEiNO/sTsZTOIR1L8dxSEYWZbUvybed9nTFdW/SxI3/gCQ1b/urytZkgTWv0iQ2FM9c9a/wAQxHrvb1r/YX+jbyD3Xv38bOs8nmde/5DwPgZ3t17+dRWfm8zrYvyrC7IL5gNi/aFWfiIG/2L8b/n70Y/bYv3c+Jqh9Jdm/1cNCgLBM2b+mLd5n42vZv8ycamgCg9m/XMaItv6R2b9sXX+7zpjZv0DFXRtul9m/zB7Gt92N2b+h6FyvI3zZv7CN3llLYtm/S2TdQGVA2b9AwiwVhxbZv3Lr/6DL5Ni/Y7zFtlKr2L+nCMwcQWrYv6O0t3XAIdi/FpngJf/R179iPKI1MHvXvxpgtDCLHde/xkegAky51r/QdmnQsk7Wvw==",
          "dtype": "f8"
         },
         "y": {
          "bdata": "AAAAAAAAAAB8FK5H4XqEP6L7DJiad5Q/J1UFlvKnnj/upt7P+WOkPwxG3ZWRaKk/bp8kpYperj9qolgwXKGxP9WLJsf8CLQ/ZISeK51ktj9d2y4gu7K4PxEtNgzd8bo/sdyf7ZIgvT91+F1Edz2/P9ztlPuXo8A/AZh8mDeewT+HzEwb+o3CP8gu9RlGcsM/yV0YgIlKxD9FpITsORbFP2pfvwnV1MU/KHRq4eCFxj9Cdk4q7CjHP8yR15COvcc/HdXW+WhDyD9ZJF2/JbrIPyLmiOd4Ick/TVgjVSB5yT9Cce7x48DJP148iNKV+Mk/nbrMUxIgyj+VeqMxQDfKP3hQKpcQPso/4dUyKH80yj/engwEkhrKPzhbmsFZ8Mk/r2W0ZPG1yT/wi99MfmvJP94eYx0wEck/WpjNnkCnyD9amM2eQKfIP61X+5nzLcg/Ex23rJalxz8tBRAYgQ7HP6DLhIgTacY/VQ4o2Le1xT8dJuXK4PTEP3XrEMUJJ8Q/bGR1fLZMwz/g4AqkcmbCPxhylJLRdME/K/BY5G14wD+zwGkw0uO+P2ITiVDWw7w/6a3QPESSuj84mNBJg1C4Pyui+yYFALY/Z8Ia8kSisz+zmrdExjixPwK1Mngoiq0/92Ll+ICRqD8tL8VfxIqjP/lwsQdU8pw/l8Q2YOC/kj+m69lAaAmBP+Bik7xMilu/MCytKDrjh7/ZSzU2qh+Wv8PQclUkHqC/uz22CYAgpb/mUReusxOqv1JigWuU9K6/UIo2kgHgsb/kExo6dzm0v0m7zlIqhba/3tGvz6LBuL/Qpa9icu26v3VmumY1B72/YdpGw5MNv79RpUHkoH/Avw==",
          "dtype": "f8"
         }
        },
        {
         "line": {
          "color": "blue",
          "width": 2
         },
         "mode": "lines",
         "type": "scatter",
         "x": {
          "bdata": "AAAAAAAAAAAAAAAAAAAAAB1pzHyOYEC/tjuCZJiLWL++Op0PvoNovzZHXfQRZXS/w5WW5kmHfr8wpSB1BVGFv9iJoxrLVoy/HEYbxzsokr/5wdw0eJyWv3GuOj1BhZu/g1OzWblvoL/PAdjsz1Ojv/WUQckKbaa/ZFE4X265qb9cFtxi3jatvxYL7pKPcbC/c8Ohgutdsr+2nTj1R1+0v3foIW9cdLa/azu81tObuL8Aq5dOTdS6v5QjPxddHL2/JXP4d41yv7/OCfPWr+rAvzrZeHCmIcK/j1/xjmNdw78SfYAqHZ3EvzELUK4G4MW/jH53e1Elx79plzFtLWzIv96HC17Js8m/V1e4rVP7yr8D4jLH+kHMv3Gg2Kbths2/NmgnYFzJzr8GSWRRPATQvwgySh+7odC/zKMc08U80b/MoxzTxTzRv22YGTj51NG/54neUJxr0r/zSqUDlwDTv2IijnrRk9O/3QpwJzQl1L9heZ3Hp7TUvykQnWcVQtW/j6XVZmbN1b+ECC17hFbWv1rumLRZ3da/xnehgNBh179ovdSt0+PXv3HWKm9OY9i/ic5ZXyzg2L+uAhmEWVrZv1VfU1HC0dm/+PxHrFNG2r/qmpju+rfav0R7RemlJtu/vCWW50KS2780mu6xwPrbvwJ/kJAOYNy/GtpHThzC3L+P5wI72iDdvzajVC45fN2/nZ7hiSrU3b8CwLY7oCjev3+KicCMed6/OJPhJePG3r/8yioMlxDfv4lHsKicVt+/Uzt/x+iY37+RzjHNcNffvxLIUFwVCeC/a5xAkoYk4L+zv26kBz7gv+FfQn6UVeC//J0qWylr4L+r4DjHwn7gvw==",
          "dtype": "f8"
         },
         "y": {
          "bdata": "AAAAAAAAAAB8FK5H4XqEP6L7DJiad5Q/J1UFlvKnnj/upt7P+WOkPwxG3ZWRaKk/bp8kpYperj9qolgwXKGxP9WLJsf8CLQ/ZISeK51ktj9d2y4gu7K4PxEtNgzd8bo/sdyf7ZIgvT91+F1Edz2/P9ztlPuXo8A/AZh8mDeewT+HzEwb+o3CP8gu9RlGcsM/yV0YgIlKxD9FpITsORbFP2pfvwnV1MU/KHRq4eCFxj9Cdk4q7CjHP8yR15COvcc/HdXW+WhDyD9ZJF2/JbrIPyLmiOd4Ick/TVgjVSB5yT9Cce7x48DJP148iNKV+Mk/nbrMUxIgyj+VeqMxQDfKP3hQKpcQPso/4dUyKH80yj/engwEkhrKPzhbmsFZ8Mk/r2W0ZPG1yT/wi99MfmvJP94eYx0wEck/WpjNnkCnyD9amM2eQKfIP61X+5nzLcg/wNXFURStxz8mm4FktyTHP9zTUaPylMY/9ruqDt39xT8chaPSjl/FP49LGEMhusQ/E7mc164NxD/I+z8nU1rDP1C+IuQqoMI/GNbf1lPfwT/NY8jZ7BfBPyUp9NMVSsA/V7xNaN/rvj9FrhbXODe9P36litB9drs/Zp61H/apuT/Plety69G3Pz+4/k+p7rU/4yEqCH0AtD8JHrOrtQeyP9LgQv2jBLA/XYL1yTTvqz/ICIrG2cGnPyauyAbigaM/5mgQN/dfnj8C0y7orpmVPyQfuQelZIk/ZMbhvnVabT8kolX2qud1v3mB0pHGd42/3sorvR8ZmL/2pFdIEMigv2NWNA2xj6W/yqX6Z65iqr8yyR/CQkCvv8skrmnTE7K/cBjH4AiMtL92wW2gXAi3vw==",
          "dtype": "f8"
         }
        },
        {
         "line": {
          "color": "blue",
          "width": 2
         },
         "mode": "lines",
         "type": "scatter",
         "x": {
          "bdata": "AAAAAAAAAAAAAAAAAAAAAB1pzHyOYEC/tjuCZJiLWL++Op0PvoNovzZHXfQRZXS/w5WW5kmHfr8wpSB1BVGFv9iJoxrLVoy/HEYbxzsokr/5wdw0eJyWv3GuOj1BhZu/g1OzWblvoL/PAdjsz1Ojv/WUQckKbaa/ZFE4X265qb9cFtxi3jatvxYL7pKPcbC/c8Ohgutdsr+2nTj1R1+0v3foIW9cdLa/azu81tObuL8Aq5dOTdS6v5QjPxddHL2/JXP4d41yv7/OCfPWr+rAvzrZeHCmIcK/j1/xjmNdw78SfYAqHZ3EvzELUK4G4MW/jH53e1Elx79plzFtLWzIv96HC17Js8m/V1e4rVP7yr8D4jLH+kHMv3Gg2Kbths2/NmgnYFzJzr8GSWRRPATQvwgySh+7odC/zKMc08U80b/MoxzTxTzRv22YGTj51NG/Do0WnSxt0r+vgRMCYAXTv1B2EGeTndO/8WoNzMY11L+SXwox+s3UvzNUB5YtZtW/1EgE+2D+1b91PQFglJbWvxYy/sTHLte/tyb7KfvG179YG/iOLl/Yv/kP9fNh99i/mgTyWJWP2b87+e69yCfav9zt6yL8v9q/feLohy9Y278e1+XsYvDbv7/L4lGWiNy/YMDftskg3b8Btdwb/bjdv6Kp2YAwUd6/Q57W5WPp3r/kktNKl4Hfv8ND6FflDOC/FL5mCv9Y4L9lOOW8GKXgv7ayY28y8eC/By3iIUw94b9Yp2DUZYnhv6kh34Z/1eG/+ptdOZkh4r9LFtzrsm3iv5yQWp7MueK/7QrZUOYF478+hVcDAFLjv4//1bUZnuO/4HlUaDPq478x9NIaTTbkvw==",
          "dtype": "f8"
         },
         "y": {
          "bdata": "AAAAAAAAAAB8FK5H4XqEP6L7DJiad5Q/J1UFlvKnnj/upt7P+WOkPwxG3ZWRaKk/bp8kpYperj9qolgwXKGxP9WLJsf8CLQ/ZISeK51ktj9d2y4gu7K4PxEtNgzd8bo/sdyf7ZIgvT91+F1Edz2/P9ztlPuXo8A/AZh8mDeewT+HzEwb+o3CP8gu9RlGcsM/yV0YgIlKxD9FpITsORbFP2pfvwnV1MU/KHRq4eCFxj9Cdk4q7CjHP8yR15COvcc/HdXW+WhDyD9ZJF2/JbrIPyLmiOd4Ick/TVgjVSB5yT9Cce7x48DJP148iNKV+Mk/nbrMUxIgyj+VeqMxQDfKP3hQKpcQPso/4dUyKH80yj/engwEkhrKPzhbmsFZ8Mk/r2W0ZPG1yT/wi99MfmvJP94eYx0wEck/WpjNnkCnyD9amM2eQKfIP61X+5nzLcg/ABcplaa0xz9T1laQWTvHP6aVhIsMwsY/+VSyhr9Ixj9MFOCBcs/FP5/TDX0lVsU/8pI7eNjcxD9FUmlzi2PEP5gRl24+6sM/69DEafFwwz8+kPJkpPfCP5FPIGBXfsI/5A5OWwoFwj83zntWvYvBP4qNqVFwEsE/3UzXTCOZwD8wDAVI1h/APwaXZYYSTb8/rBXBfHhavj9SlBxz3me9P/gSeGlEdbw/npHTX6qCuz9EEC9WEJC6P+qOikx2nbk/kA3mQtyquD82jEE5Qri3P9wKnS+oxbY/gon4JQ7TtT8oCFQcdOC0P86GrxLa7bM/dAULCUD7sj8ahGb/pQiyP8ACwvULFrE/ZoEd7HEjsD8YAPLEr2GuP2T9qLF7fKw/sPpfnkeXqj/89xaLE7KoPw==",
          "dtype": "f8"
         }
        },
        {
         "line": {
          "color": "blue",
          "width": 2
         },
         "mode": "lines",
         "type": "scatter",
         "x": {
          "bdata": "AAAAAAAAAAAAAAAAAAAAAB1pzHyOYEC/tjuCZJiLWL++Op0PvoNovzZHXfQRZXS/w5WW5kmHfr8wpSB1BVGFv9iJoxrLVoy/HEYbxzsokr/5wdw0eJyWv3GuOj1BhZu/g1OzWblvoL/PAdjsz1Ojv/WUQckKbaa/ZFE4X265qb9cFtxi3jatvxYL7pKPcbC/c8Ohgutdsr+2nTj1R1+0v3foIW9cdLa/azu81tObuL8Aq5dOTdS6v5QjPxddHL2/JXP4d41yv7/OCfPWr+rAvzrZeHCmIcK/j1/xjmNdw78SfYAqHZ3EvzELUK4G4MW/jH53e1Elx79plzFtLWzIv96HC17Js8m/V1e4rVP7yr8D4jLH+kHMv3Gg2Kbths2/NmgnYFzJzr8GSWRRPATQvwgySh+7odC/zKMc08U80b/MoxzTxTzRv22YGTj51NG/nwt9j6Ru0r9jfU9DrwnTv8dtYoUAptO/yVZIU39D1L8hAlV6EuLUvwyXpZuggdW/+bovMBAi1r/cHteMR8PWv9bRiOYsZde/DbFbVqYH2L+cS7XdmarYv/KQcmrtTdm/OJ8T24bx2b/0BuoCTJXav6fYSK4iOdu/4dC1pvDc278a9xq3m4Dcv4gD+K8JJN2/PeCSayDH3b/qmSbSxWnev/wUEN7fC9+/DNz3n1St37+SLnwhBSfgv/P1X4jzduC/pO/WumjG4L85EXUCWBXhv45IO760Y+G/abycZHKx4b/OTICFhP7hv90APszeSuK/uRCYAXWW4r+rOq8NO+Hiv3IT8vkkK+O/hQIH8yZ047/dm7BKNbzjv9AJrHlEA+S/bDqJIUlJ5L/LhHwOOI7kvw==",
          "dtype": "f8"
         },
         "y": {
          "bdata": "AAAAAAAAAAB8FK5H4XqEP6L7DJiad5Q/J1UFlvKnnj/upt7P+WOkPwxG3ZWRaKk/bp8kpYperj9qolgwXKGxP9WLJsf8CLQ/ZISeK51ktj9d2y4gu7K4PxEtNgzd8bo/sdyf7ZIgvT91+F1Edz2/P9ztlPuXo8A/AZh8mDeewT+HzEwb+o3CP8gu9RlGcsM/yV0YgIlKxD9FpITsORbFP2pfvwnV1MU/KHRq4eCFxj9Cdk4q7CjHP8yR15COvcc/HdXW+WhDyD9ZJF2/JbrIPyLmiOd4Ick/TVgjVSB5yT9Cce7x48DJP148iNKV+Mk/nbrMUxIgyj+VeqMxQDfKP3hQKpcQPso/4dUyKH80yj/engwEkhrKPzhbmsFZ8Mk/r2W0ZPG1yT/wi99MfmvJP94eYx0wEck/WpjNnkCnyD9amM2eQKfIP61X+5nzLcg/R8DFQEy8xz/DOTDCXFLHP+dnHxE28MY/1fqi4eeVxj/pgXKmgEPGPyqonY4N+cU/+zhwg5q2xT9xQ4omMnzFP1+qLNDdScU/uWa6jaUfxT+YuW4gkP3EP5WCSPyi48Q/y+YqR+LRxD80bDPYUMjEP46kRTfwxsQ/cHrMnMDNxD+IKrHxwNzEP3/qh8/u88Q/WDbygEYTxT+WtDYCwzrFP9GYDgJeasU/7GOo4g+ixT962N+6z+HFP27xqleTKcY/tqC7PU95xj/gElar9tDGP5gsW5p7MMc/YO6Gws6Xxz+eYuKb3wbIP9mxaGGcfcg/2PDeE/L7yD8oNN58zIHJP5VsDzIWD8o/HoiYmLijyj8RS7romz/LPypNnjGn4ss/6X5UXcCMzD+mk/80zD3NPw==",
          "dtype": "f8"
         }
        },
        {
         "line": {
          "color": "blue",
          "width": 2
         },
         "mode": "lines",
         "type": "scatter",
         "x": {
          "bdata": "AAAAAAAAAAAAAAAAAAAAAB1pzHyOYEC/tjuCZJiLWL++Op0PvoNovzZHXfQRZXS/w5WW5kmHfr8wpSB1BVGFv9iJoxrLVoy/HEYbxzsokr/5wdw0eJyWv3GuOj1BhZu/g1OzWblvoL/PAdjsz1Ojv/WUQckKbaa/ZFE4X265qb9cFtxi3jatvxYL7pKPcbC/c8Ohgutdsr+2nTj1R1+0v3foIW9cdLa/azu81tObuL8Aq5dOTdS6v5QjPxddHL2/JXP4d41yv7/OCfPWr+rAvzrZeHCmIcK/j1/xjmNdw78SfYAqHZ3EvzELUK4G4MW/jH53e1Elx79plzFtLWzIv96HC17Js8m/V1e4rVP7yr8D4jLH+kHMv3Gg2Kbths2/NmgnYFzJzr8GSWRRPATQvwgySh+7odC/zKMc08U80b/MoxzTxTzRv22YGTj51NG/MQrs6wNw0r8z89G5gg3Tvx6IItsQrdO/AezJN0hO1L84y5ynwfDUv44QWjQVlNW/SngwXNo31r+EcJ1UqNvWv/J8ek0Wf9e/nzYOtLsh2L+u/fV1MMPYv2+MvUMNY9m/ms/50usA2r9Qt7wfZ5zav24fOK0bNdu/UnNmxafK2793UZC3q1zcv1wthxXK6ty/GcJt76d03b/JFOgN7fndv1rLjSpEet6/cbl6Jlv13r9rudo+42rfvwoyTz+R2t+/zAQH2Q4i4L/+nc2GolPgv+Po/+/jgeC/qEixe7Ws4L8MOPTD+9Pgv+tDYqed9+C/9I8wWYQX4b+Hm8ZvmzPhv/DwzfHQS+G/jWOyYRVg4b/hgIvHW3Dhv/7caLmZfOG/Auv7YceE4b8cHpuF34jhvw==",
          "dtype": "f8"
         },
         "y": {
          "bdata": "AAAAAAAAAAB8FK5H4XqEP6L7DJiad5Q/J1UFlvKnnj/upt7P+WOkPwxG3ZWRaKk/bp8kpYperj9qolgwXKGxP9WLJsf8CLQ/ZISeK51ktj9d2y4gu7K4PxEtNgzd8bo/sdyf7ZIgvT91+F1Edz2/P9ztlPuXo8A/AZh8mDeewT+HzEwb+o3CP8gu9RlGcsM/yV0YgIlKxD9FpITsORbFP2pfvwnV1MU/KHRq4eCFxj9Cdk4q7CjHP8yR15COvcc/HdXW+WhDyD9ZJF2/JbrIPyLmiOd4Ick/TVgjVSB5yT9Cce7x48DJP148iNKV+Mk/nbrMUxIgyj+VeqMxQDfKP3hQKpcQPso/4dUyKH80yj/engwEkhrKPzhbmsFZ8Mk/r2W0ZPG1yT/wi99MfmvJP94eYx0wEck/WpjNnkCnyD9amM2eQKfIP61X+5nzLcg/KdFlGwTExz8XZOnrtWnHP1iKFNRCH8c/z5Qud9rkxj8qUbw0orrGPycalhC1oMY/kJ+eoSOXxj9zdSUH9J3GP2s1/OQhtcY/qrNAZp7cxj/GftpGUBTHP7uXpeMTXMc/5glAUbuzxz+vy2t5DhvIP+sa8j7Lkcg/PF7xp6UXyT/GeXoOSKzJP+B7XldTT8o/npAJL18Ayz/DS0RM+r7LPz+SsLiqisw/QMHTHu5izT+CI3wdOkfOPwhYTKD8Ns8/FgGaHs4Y0D/n+UxLPJvQP9iA/GB1ItE/wOxW2SKu0T8twVhU6z3SP+vWfNFy0dI/D9Wa6lpo0z9qT04QQwLUPxfkv8fIntQ/Q8+o6Yc91T8no2jiGt7VP7IiBPMagNY/SqjjciAj1z9gBycSw8bXPw==",
          "dtype": "f8"
         }
        },
        {
         "line": {
          "color": "blue",
          "width": 2
         },
         "mode": "lines",
         "type": "scatter",
         "x": {
          "bdata": "AAAAAAAAAAAAAAAAAAAAAP80ufrdYTC/nAMpen2RSL/rVRxYho9Yv4kuHL9rdWS/FjPrHwqsbr/8p6P+/XR1v+KWv/ellny/XCAncuxcgr/wsna8pO6GvzZak7XA/4u/+3tUa7jHkL8iKT+saM6Tv2wx8yt1E5e/wKO0/leWmr+vPQ9UgVaev3Bf7MarKaG/cGJirBtGo79fIEPjOYClvw4svTSr16e/SiLsuA9Mqr/+wjDmAt2sv0m/RqEbiq+/39QKJ3Ypsb8FLJ1wgZuyv97zInn0GrS/cb1X55Gntb9A0rpGGkG3v3gwthFM57i/PS0avOOZur+5D+y9m1i8v0vqhZ4sI76/M+oFAE35v7+zpIXVWO3Av+GAX82G48G/YiqTBAnfwr+El949t9/Dv64xK2ho5cS/D9cfpfLvxb8P1x+l8u/Fv0mz008r/8a/uXVI7z0XyL8X2+5NdzfJvzQ++v4eX8q/pX1i1HeNy784v/BXwMHMv42cCUcz+82/UYPlEAg5z7/AQnOrOT3Qv9K9XLdT39C/h5r3cmqC0b/AwFyDFSbSv3OSuy7sydK/uaBcn4Vt079IO7YmeRDUv0LuZ4BestS/LxLyFM5S1b+Hvf47YfHVv+utEX6yjda/HSF11V0n17+XEjruAL7XvwbqImU7Udi/ilhQBa/g2L/w7YgEAGzZv8bT9D3V8tm/aBkoa9h02r+AEVdbtvHavydukSgfadu/GQziasba27+RtjJpY0bcv1+b1Eexq9y/1KiPNG8K3b87pByQYGLdv7hu7xRNs92/fKY4+wD93b9GmgcaTT/ev9lbdwUHet6/aaLTKQmt3r+fHqTjMtjevw==",
          "dtype": "f8"
         },
         "y": {
          "bdata": "AAAAAAAAAAB8FK5H4XqEP7qLYpMPepQ/Hn2Yhzm0nj/DSwjPJXWkP4Z4BM5Rjak/YOOnGNChrj/d78FO6NixPyz+jgFCXrQ/u02O5I3gtj/jZqg0ZV+5P5QTTLxh2rs/JqXI4x1Rvj/se8dgmmHAPyhNKxUhmME/3UGSYPHLwj8lZJgD2vzDP2xg1DWqKsU/IpClrTFVxj+fu+2nQHzHP89Wte+nn8g/qf+45Ti/yT8dCd+HxdrKP+3gk3gg8ss/ASMMBh0FzT/jMGsxjxPOP4wozbVLHc8/F42ZBxQR0D+5MKhA/ZDQP8sFHA9NDtE/dZx0Zu+I0T+4ttyn0ADSP/XkTaXdddI/FhaipAPo0j+lnZJiMFfTPyU1pBVSw9M/9YD/cFcs1D8zpDWnL5LUP0Fy8GzK9NQ/1M+N+xdU1T/Uz437F1TVP77YpRMJsNU/nvGAqRUF1j8Y05FRB1PWP09vKiysmdY/z45lBdfY1j/uSBNyXxDXP8rVlekhQNc/bi2e3P9n1z+157nI34fXP9PZpUitn9c/wP9aIVmv1z/MV81L2bbXP/lzVvsottc/FKbHoEit1z+DzyHqPZzXP/oC874Tg9c/YktcOdph1z/sDsSbpjjXP/6lO0OTB9c/S9qglr/O1j9UGYbyT47WP6817pFtRtY/Qprqc0b31T8E0Sw+DaHVP0gynhz5Q9U/I3kSnkXg1D+m0yuOMnbUP3TRiMwDBtQ/Tk9WIQGQ0z+3KWEPdhTTP2kaxaOxk9I/NqtXQwYO0j8AnO91yYPRP8l3qq9T9dA/tF1TGABj0D8kah6iWJrPP8k953BwaM4/7/RdWgsxzT8de9Ge8PTLPw==",
          "dtype": "f8"
         }
        },
        {
         "line": {
          "color": "blue",
          "width": 2
         },
         "mode": "lines",
         "type": "scatter",
         "x": {
          "bdata": "AAAAAAAAAAAAAAAAAAAAAP80ufrdYTC/nAMpen2RSL/rVRxYho9Yv4kuHL9rdWS/FjPrHwqsbr/8p6P+/XR1v+KWv/ellny/XCAncuxcgr/wsna8pO6GvzZak7XA/4u/+3tUa7jHkL8iKT+saM6Tv2wx8yt1E5e/wKO0/leWmr+vPQ9UgVaev3Bf7MarKaG/cGJirBtGo79fIEPjOYClvw4svTSr16e/SiLsuA9Mqr/+wjDmAt2sv0m/RqEbiq+/39QKJ3Ypsb8FLJ1wgZuyv97zInn0GrS/cb1X55Gntb9A0rpGGkG3v3gwthFM57i/PS0avOOZur+5D+y9m1i8v0vqhZ4sI76/M+oFAE35v7+zpIXVWO3Av+GAX82G48G/YiqTBAnfwr+El949t9/Dv64xK2ho5cS/D9cfpfLvxb8P1x+l8u/Fv0mz008r/8a/w9ygA+cSyL8znxWj+SrJv/1WA182R8q/W7ypvW9ny7+leP2hd4vMv8LbCFMfs82/i4Nlgzfezr9+4WYsSAbQv5xJ4rn8ntC/Zmqp+yA50b8cUmxInNTRv8bA+L9VcdK/8AM1TzQP079S9yK0Hq7TvxOG6oH7TdS/KwfrJLHu1L86ztLmJZDVv0xJvPI/Mta/+QJQWeXU1r+u3+oU/HfXvxzsxw1qG9i/VRItHhW/2L+PCpoW42LZv0Lc+MG5Btq//kPP6X6q2r9EUnBaGE7bv5qXLedr8du/KTKHbl+U3L9gEVre2Dbdv1rECzi+2N2/PSizlPV53r8rTD0pZRrfvxbhjUrzud+/N0bNOEMs4L+4OsCfAnvgv+qyyUAryeC/zOuymrAW4b9lpWRGhmPhvw==",
          "dtype": "f8"
         },
         "y": {
          "bdata": "AAAAAAAAAAB8FK5H4XqEP7qLYpMPepQ/Hn2Yhzm0nj/DSwjPJXWkP4Z4BM5Rjak/YOOnGNChrj/d78FO6NixPyz+jgFCXrQ/u02O5I3gtj/jZqg0ZV+5P5QTTLxh2rs/JqXI4x1Rvj/se8dgmmHAPyhNKxUhmME/3UGSYPHLwj8lZJgD2vzDP2xg1DWqKsU/IpClrTFVxj+fu+2nQHzHP89Wte+nn8g/qf+45Ti/yT8dCd+HxdrKP+3gk3gg8ss/ASMMBh0FzT/jMGsxjxPOP4wozbVLHc8/F42ZBxQR0D+5MKhA/ZDQP8sFHA9NDtE/dZx0Zu+I0T+4ttyn0ADSP/XkTaXdddI/FhaipAPo0j+lnZJiMFfTPyU1pBVSw9M/9YD/cFcs1D8zpDWnL5LUP0Fy8GzK9NQ/1M+N+xdU1T/Uz437F1TVP77YpRMJsNU/HWN7/44I1j/9e1aVm13WPwp9yDkhr9Y/hF7Z4RL91j9J7B0VZEfXP4CItu8Ijtc/KSo2JPbQ1z+pSXH9IBDYP0dxNGB/S9g/ZyvizAeD2D9MDPhgsbbYPymZethz5tg/P9JHj0cS2T/kKVCCJTrZP1+2tVAHXtk/p3DRPOd92T81Vh4twJnZP1NICq2Nsdk/c4es7UvF2T9grWHG99TZP1wNTbWO4Nk/aWW/3w7o2T9b0IISd+vZP4nsC8LG6tk/Pi+QCv7l2T9aYQGwHd3ZP9lF7h0n0Nk/SW9IZxy/2T93TQ9GAKrZP++A4BrWkNk/K4Zt7KFz2T+UztZmaFLZP7Vh7NouLdk/QCVUPfsD2T+47pUl1NbYP8uFDc3Apdg/isLCDclw2D/Y9idh9TfYPw==",
          "dtype": "f8"
         }
        },
        {
         "line": {
          "color": "blue",
          "width": 2
         },
         "mode": "lines",
         "type": "scatter",
         "x": {
          "bdata": "AAAAAAAAAAAAAAAAAAAAAP80ufrdYTC/nAMpen2RSL/rVRxYho9Yv4kuHL9rdWS/FjPrHwqsbr/8p6P+/XR1v+KWv/ellny/XCAncuxcgr/wsna8pO6GvzZak7XA/4u/+3tUa7jHkL8iKT+saM6Tv2wx8yt1E5e/wKO0/leWmr+vPQ9UgVaev3Bf7MarKaG/cGJirBtGo79fIEPjOYClvw4svTSr16e/SiLsuA9Mqr/+wjDmAt2sv0m/RqEbiq+/39QKJ3Ypsb8FLJ1wgZuyv97zInn0GrS/cb1X55Gntb9A0rpGGkG3v3gwthFM57i/PS0avOOZur+5D+y9m1i8v0vqhZ4sI76/M+oFAE35v7+zpIXVWO3Av+GAX82G48G/YiqTBAnfwr+El949t9/Dv64xK2ho5cS/D9cfpfLvxb8P1x+l8u/Fv0mz008r/8a/g4+H+mMOyL+9azulnB3Jv/dH70/VLMq/MSSj+g08y79rAFelRkvMv6XcClB/Ws2/37i++rdpzr8ZlXKl8HjPv6k4E6gURNC/xiZt/bDL0L/jFMdSTVPRvwADIajp2tG/HfF6/YVi0r8639RSIurSv1fNLqi+cdO/dLuI/Vr507+RqeJS94DUv66XPKiTCNW/y4WW/S+Q1b/oc/BSzBfWvwViSqhon9a/IlCk/QQn178/Pv5Soa7Xv1wsWKg9Nti/eRqy/dm92L+WCAxTdkXZv7P2ZagSzdm/0OS//a5U2r/t0hlTS9zavwrBc6jnY9u/J6/N/YPr279EnSdTIHPcv2GLgai8+ty/fnnb/ViC3b+bZzVT9Qnev7hVj6iRkd6/1UPp/S0Z37/yMUNTyqDfvw==",
          "dtype": "f8"
         },
         "y": {
          "bdata": "AAAAAAAAAAB8FK5H4XqEP7qLYpMPepQ/Hn2Yhzm0nj/DSwjPJXWkP4Z4BM5Rjak/YOOnGNChrj/d78FO6NixPyz+jgFCXrQ/u02O5I3gtj/jZqg0ZV+5P5QTTLxh2rs/JqXI4x1Rvj/se8dgmmHAPyhNKxUhmME/3UGSYPHLwj8lZJgD2vzDP2xg1DWqKsU/IpClrTFVxj+fu+2nQHzHP89Wte+nn8g/qf+45Ti/yT8dCd+HxdrKP+3gk3gg8ss/ASMMBh0FzT/jMGsxjxPOP4wozbVLHc8/F42ZBxQR0D+5MKhA/ZDQP8sFHA9NDtE/dZx0Zu+I0T+4ttyn0ADSP/XkTaXdddI/FhaipAPo0j+lnZJiMFfTPyU1pBVSw9M/9YD/cFcs1D8zpDWnL5LUP0Fy8GzK9NQ/1M+N+xdU1T/Uz437F1TVP77YpRMJsNU/qOG9K/oL1j+S6tVD62fWP3zz7Vvcw9Y/ZvwFdM0f1z9QBR6MvnvXPzoONqSv19c/JBdOvKAz2D8OIGbUkY/YP/gofuyC69g/4jGWBHRH2T/MOq4cZaPZP7ZDxjRW/9k/oEzeTEdb2j+KVfZkOLfaP3ReDn0pE9s/XmcmlRpv2z9IcD6tC8vbPzJ5VsX8Jtw/HIJu3e2C3D8Gi4b13t7cP/CTng3QOt0/2py2JcGW3T/Epc49svLdP66u5lWjTt4/mLf+bZSq3j+CwBaGhQbfP2zJLp52Yt8/VtJGtme+3z+gbS9nLA3gPxVyO/MkO+A/inZHfx1p4D//elMLFpfgP3R/X5cOxeA/6YNrIwfz4D9eiHev/yDhP9OMgzv4TuE/SJGPx/B84T+9lZtT6arhPw==",
          "dtype": "f8"
         }
        },
        {
         "line": {
          "color": "blue",
          "width": 2
         },
         "mode": "lines",
         "type": "scatter",
         "x": {
          "bdata": "AAAAAAAAAAAAAAAAAAAAAP80ufrdYTC/nAMpen2RSL/rVRxYho9Yv4kuHL9rdWS/FjPrHwqsbr/8p6P+/XR1v+KWv/ellny/XCAncuxcgr/wsna8pO6GvzZak7XA/4u/+3tUa7jHkL8iKT+saM6Tv2wx8yt1E5e/wKO0/leWmr+vPQ9UgVaev3Bf7MarKaG/cGJirBtGo79fIEPjOYClvw4svTSr16e/SiLsuA9Mqr/+wjDmAt2sv0m/RqEbiq+/39QKJ3Ypsb8FLJ1wgZuyv97zInn0GrS/cb1X55Gntb9A0rpGGkG3v3gwthFM57i/PS0avOOZur+5D+y9m1i8v0vqhZ4sI76/M+oFAE35v7+zpIXVWO3Av+GAX82G48G/YiqTBAnfwr+El949t9/Dv64xK2ho5cS/D9cfpfLvxb8P1x+l8u/Fv0mz008r/8a/qljIjLUJyL/U8hS3Zg/Jv/ZfYPAUEMq/eAmUJ5cLy7+m5W0fxQHMvz+V8HR38sy/M5WwpYfdzb98gv0V0MLOv7pz5hYsos+/DjkM9rs90L+cEMtoSKfQv9DVo4CqDdG/NQgx3NFw0b8relKertDRv/QPt3AxLdK/Q+1QhkuG0r/MrLOd7tvSv+NAXAMNLtO/qx/ik5l8078hYRG+h8fTv9947YTLDtS/PzmcgVlS1L9S0TjlJpLUv/F6jnopztS/FpK6p1cG1b+b0rVvqDrVv219xHMTa9W/WyrN9JCX1b+VD5bUGcDVvyqM6Jan5NW/0caaYjQF1r+NNn8CuyHWv8fuOeY2Ota/0Iz7IqRO1r/XqCF0/17Wv6uwvDtGa9a/4Bb7gnZz1r8txXn6jnfWvw==",
          "dtype": "f8"
         },
         "y": {
          "bdata": "AAAAAAAAAAB8FK5H4XqEP7qLYpMPepQ/Hn2Yhzm0nj/DSwjPJXWkP4Z4BM5Rjak/YOOnGNChrj/d78FO6NixPyz+jgFCXrQ/u02O5I3gtj/jZqg0ZV+5P5QTTLxh2rs/JqXI4x1Rvj/se8dgmmHAPyhNKxUhmME/3UGSYPHLwj8lZJgD2vzDP2xg1DWqKsU/IpClrTFVxj+fu+2nQHzHP89Wte+nn8g/qf+45Ti/yT8dCd+HxdrKP+3gk3gg8ss/ASMMBh0FzT/jMGsxjxPOP4wozbVLHc8/F42ZBxQR0D+5MKhA/ZDQP8sFHA9NDtE/dZx0Zu+I0T+4ttyn0ADSP/XkTaXdddI/FhaipAPo0j+lnZJiMFfTPyU1pBVSw9M/9YD/cFcs1D8zpDWnL5LUP0Fy8GzK9NQ/1M+N+xdU1T/Uz437F1TVP77YpRMJsNU/UDZDolYP1j9eBP5n8XHWP5wnNJ7J19Y/bHOP+c5A1z/sCqGs8KzXP3uSkWodHNg/nMPlaUOO2D/Z8VZnUAPZPxwMv6gxe9k/xqIXANT12T/Yd4vOI3PaP3obmgcN89o/SxRNNHt12z8gEH52WfrbPxGXLYySgdw/G7jp0hAL3T8DJERLvpbdP70oV5yEJN4/Kv1YF0203j/Cyjy7AEbfP4DgYDiI2d8/Lbwk+mU34D8/u7MG2oLgP9FDdS8Uz+A//gBPQggc4T9N9WfvqWnhP6O/IMvst+E/1VEQUMQG4j9rxwThI1biP5AKCMv+peI/gvRnR0j24j9MlsF980bjPxJWD4bzl+M/wIy5ajvp4z+MT6kqvjrkP18QXbtujOQ/6r/+CkDe5D/2G3sCJTDlPw==",
          "dtype": "f8"
         }
        },
        {
         "line": {
          "color": "blue",
          "width": 2
         },
         "mode": "lines",
         "type": "scatter",
         "x": {
          "bdata": "AAAAAAAAAAAAAAAAAAAAAP80ufrdYTC/nAMpen2RSL/rVRxYho9Yv4kuHL9rdWS/FjPrHwqsbr/8p6P+/XR1v+KWv/ellny/XCAncuxcgr/wsna8pO6GvzZak7XA/4u/+3tUa7jHkL8iKT+saM6Tv2wx8yt1E5e/wKO0/leWmr+vPQ9UgVaev3Bf7MarKaG/cGJirBtGo79fIEPjOYClvw4svTSr16e/SiLsuA9Mqr/+wjDmAt2sv0m/RqEbiq+/39QKJ3Ypsb8FLJ1wgZuyv97zInn0GrS/cb1X55Gntb9A0rpGGkG3v3gwthFM57i/PS0avOOZur+5D+y9m1i8v0vqhZ4sI76/M+oFAE35v7+zpIXVWO3Av+GAX82G48G/YiqTBAnfwr+El949t9/Dv64xK2ho5cS/D9cfpfLvxb8P1x+l8u/Fv0mz008r/8a/c00getwEyL/09lOxXgDJv42m1gYR8cm/1pMjd1nWyr85klVMpa/Lv6AcB3xpfMy/jQBKACM8zb8qu30rV+7Nv1fjzvaTks6/Q2YtS3Aoz78D54pEjK/PvyAdm7fIE9C/pV2WfxlI0L+TCp8Al3TQvyiH8cIkmdC/5PbVYqu10L/tlJefGMrQv8GcMmdf1tC/Dkux3nfa0L/BnDJnX9bQv+2Ul58YytC/5PbVYqu10L8oh/HCJJnQv5MKnwCXdNC/pV2WfxlI0L8gHZu3yBPQvwLnikSMr8+/QmYtS3Aoz79W4872k5LOvym7fStX7s2/jABKACM8zb+fHAd8aXzMvziSVUylr8u/1pMjd1nWyr+NptYGEfHJv/T2U7FeAMm/c00getwEyL9Js9NPK//Gvw==",
          "dtype": "f8"
         },
         "y": {
          "bdata": "AAAAAAAAAAB8FK5H4XqEP7qLYpMPepQ/Hn2Yhzm0nj/DSwjPJXWkP4Z4BM5Rjak/YOOnGNChrj/d78FO6NixPyz+jgFCXrQ/u02O5I3gtj/jZqg0ZV+5P5QTTLxh2rs/JqXI4x1Rvj/se8dgmmHAPyhNKxUhmME/3UGSYPHLwj8lZJgD2vzDP2xg1DWqKsU/IpClrTFVxj+fu+2nQHzHP89Wte+nn8g/qf+45Ti/yT8dCd+HxdrKP+3gk3gg8ss/ASMMBh0FzT/jMGsxjxPOP4wozbVLHc8/F42ZBxQR0D+5MKhA/ZDQP8sFHA9NDtE/dZx0Zu+I0T+4ttyn0ADSP/XkTaXdddI/FhaipAPo0j+lnZJiMFfTPyU1pBVSw9M/9YD/cFcs1D8zpDWnL5LUP0Fy8GzK9NQ/1M+N+xdU1T/Uz437F1TVP77YpRMJsNU/zKZg2aMS1j+c8rs0qXvWPyt6rPLV6tY/aKgd8OJf1z8SP3ZHhdrXP7TihIBuWtg/id61wkzf2D+T/3EJy2jZP00EhVqR9tk/5dFo/kSI2j/AaVG6iB3bP+R61Av9tds/gmMGZkBR3D/mh+Vv7+7cPzAO7EOljt0/xFGfsPsv3j8fv/N5i9LeP8ZAW5vsdd8/b/wpRdsM4D97WKY8wF7gP04ZWs1wsOA//E8EsrgB4T/G8V3oY1LhP+s0YdI+ouE/HcdQVxbx4T9su2kEuD7iP/5DKy3yiuI/7I8fC5TV4j+4dhHdbR7jPxX5mgVRZeM/mgn5KBCq4z+EhxFKf+zjP1XZmOZzLOQ/qiRFEsVp5D/Ju/2QS6TkP5H/9e/h2+Q/eaWjnWQQ5T+ADIEAskHlPw==",
          "dtype": "f8"
         }
        },
        {
         "line": {
          "color": "blue",
          "width": 2
         },
         "mode": "lines",
         "type": "scatter",
         "x": {
          "bdata": "AAAAAAAAAAAAAAAAAAAAAAAAAAAAAAAAAAAAAAAAAAAAAAAAAAAAAAAAAAAAAAAAAAAAAAAAAAAAAAAAAAAAAAAAAAAAAAAAAAAAAAAAAAAAAAAAAAAAAAAAAAAAAAAAAAAAAAAAAAAAAAAAAAAAAAAAAAAAAAAAAAAAAAAAAAAAAAAAAAAAAAAAAAAAAAAAAAAAAAAAAAAAAAAAAAAAAAAAAAAAAAAAAAAAAAAAAAAAAAAAAAAAAAAAAAAAAAAAAAAAAAAAAAAAAAAAAAAAAAAAAAAAAAAAAAAAAAAAAAAAAAAAAAAAAAAAAAAAAAAAAAAAAAAAAAAAAAAAAAAAAAAAAAAAAAAAAAAAAAAAAAAAAAAAAAAAAAAAAAAAAAAAAAAAAAAAAAAAAAAAAAAAAAAAAAAAAAAAAAAAAAAAAAAAAAAAAAAAAAAAAAAAAAAAHWnMfI5gQL+2O4JkmItYv746nQ++g2i/Nkdd9BFldL/DlZbmSYd+vzClIHUFUYW/2ImjGstWjL8cRhvHOyiSv/nB3DR4nJa/ca46PUGFm7+DU7NZuW+gv88B2OzPU6O/9ZRByQptpr9kUThfbrmpv1wW3GLeNq2/Fgvuko9xsL9zw6GC612yv7adOPVHX7S/d+ghb1x0tr9rO7zW05u4vwCrl05N1Lq/lCM/F10cvb8lc/h3jXK/v84J89av6sC/Otl4cKYhwr+PX/GOY13DvxJ9gCodncS/MQtQrgbgxb+Mfnd7USXHv2mXMW0tbMi/3ocLXsmzyb9XV7itU/vKvwPiMsf6Qcy/caDYpu2Gzb82aCdgXMnOvwZJZFE8BNC/CDJKH7uh0L/MoxzTxTzRvw==",
          "dtype": "f8"
         },
         "y": {
          "bdata": "AAAAAAAAAAB8FK5H4XqEP3wUrkfhepQ/uh6F61G4nj98FK5H4XqkP5uZmZmZmak/uh6F61G4rj/sUbgeheuxP3wUrkfherQ/DNejcD0Ktz+cmZmZmZm5Pyxcj8L1KLw/vB6F61G4vj+mcD0K16PAP+5RuB6F68E/NjMzMzMzwz9+FK5H4XrEP8b1KFyPwsU/DtejcD0Kxz9WuB6F61HIP56ZmZmZmck/5noUrkfhyj8uXI/C9SjMP3Y9CtejcM0/vh6F61G4zj8DAAAAAADQP6dwPQrXo9A/S+F6FK5H0T/vUbgehevRP5PC9Shcj9I/NzMzMzMz0z/bo3A9CtfTP38UrkfhetQ/I4XrUbge1T/H9Shcj8LVP2tmZmZmZtY/D9ejcD0K1z+zR+F6FK7XP1e4HoXrUdg/+yhcj8L12D/7KFyPwvXYP5+ZmZmZmdk/tfjcODw92j9Nfry4QeDaP9j9V8lBgts/vNEXwtQi3D/ovADkk8HcP5VRcpsZXt0/8MslwQH43T8UykPa6Y7eP9LfZ1dxIt8/P7Rp0jmy3z8UEGKl8x7gP43TOTCQYuA/9U+TRsej4D9+Os0tb+LgP6BHgc5fHuE/MGArznJX4T/wK7Sng43hP489z8JvwOE/WOwdihbw4T+HsQiAWRziPw6yQVIcReI/8fjj60Rq4j/FySOGu4viP5RdhbdqqeI/Bk6QgT/D4j+R6vZcKdniP86wKUQa6+I/lSNQvAb54j8lQ6Hc5QLjPyPzFlSxCOM/nKh4bWUK4z/2yboRAQjjPzU8sciFAeM/TKsUuPf24j/qLdugXejiP3r35drA1eI/NtwGTy2/4j+VemFvsaTiPw==",
          "dtype": "f8"
         }
        },
        {
         "line": {
          "color": "blue",
          "width": 2
         },
         "mode": "lines",
         "type": "scatter",
         "x": {
          "bdata": "AAAAAAAAAAAAAAAAAAAAAAAAAAAAAAAAAAAAAAAAAAAAAAAAAAAAAAAAAAAAAAAAAAAAAAAAAAAAAAAAAAAAAAAAAAAAAAAAAAAAAAAAAAAAAAAAAAAAAAAAAAAAAAAAAAAAAAAAAAAAAAAAAAAAAAAAAAAAAAAAAAAAAAAAAAAAAAAAAAAAAAAAAAAAAAAAAAAAAAAAAAAAAAAAAAAAAAAAAAAAAAAAAAAAAAAAAAAAAAAAAAAAAAAAAAAAAAAAAAAAAAAAAAAAAAAAAAAAAAAAAAAAAAAAAAAAAAAAAAAAAAAAAAAAAAAAAAAAAAAAAAAAAAAAAAAAAAAAAAAAAAAAAAAAAAAAAAAAAAAAAAAAAAAAAAAAAAAAAAAAAAAAAAAAAAAAAAAAAAAAAAAAAAAAAAAAAAAAAAAAAAAAAAAAAAAAAAAAAAAAAAAAAAAA/zS5+t1hML+cAyl6fZFIv+tVHFiGj1i/iS4cv2t1ZL8WM+sfCqxuv/yno/79dHW/4pa/96WWfL9cICdy7FyCv/Cydryk7oa/NlqTtcD/i7/7e1RruMeQvyIpP6xozpO/bDHzK3UTl7/Ao7T+V5aav689D1SBVp6/cF/sxqspob9wYmKsG0ajv18gQ+M5gKW/Diy9NKvXp79KIuy4D0yqv/7CMOYC3ay/Sb9GoRuKr7/f1AondimxvwUsnXCBm7K/3vMiefQatL9xvVfnkae1v0DSukYaQbe/eDC2EUznuL89LRq845m6v7kP7L2bWLy/S+qFniwjvr8z6gUATfm/v7OkhdVY7cC/4YBfzYbjwb9iKpMECd/Cv4SX3j2338O/rjEraGjlxL8P1x+l8u/Fvw==",
          "dtype": "f8"
         },
         "y": {
          "bdata": "AAAAAAAAAAB8FK5H4XqEP3wUrkfhepQ/uh6F61G4nj98FK5H4XqkP5uZmZmZmak/uh6F61G4rj/sUbgeheuxP3wUrkfherQ/DNejcD0Ktz+cmZmZmZm5Pyxcj8L1KLw/vB6F61G4vj+mcD0K16PAP+5RuB6F68E/NjMzMzMzwz9+FK5H4XrEP8b1KFyPwsU/DtejcD0Kxz9WuB6F61HIP56ZmZmZmck/5noUrkfhyj8uXI/C9SjMP3Y9CtejcM0/vh6F61G4zj8DAAAAAADQP6dwPQrXo9A/S+F6FK5H0T/vUbgehevRP5PC9Shcj9I/NzMzMzMz0z/bo3A9CtfTP38UrkfhetQ/I4XrUbge1T/H9Shcj8LVP2tmZmZmZtY/D9ejcD0K1z+zR+F6FK7XP1e4HoXrUdg/+yhcj8L12D/7KFyPwvXYP5+ZmZmZmdk/t1GSiGM92j/NsNUnBuHaP3QyPUlnhNs/DLgcyWwn3D9nJXGS/MncP/KkDKP8a90/hui/D1MN3j9qvH8I5q3eP7RChtybTd8/4C1v/lrs3z8iKScEBUXgP3jz399Hk+A/x+f4jOng4D/0pNKf3S3hP4YtlMgXeuE/mCwj1YvF4T+FeBezLRDiP2SDqXHxWeI/MGqbQ8ui4j9nVByBr+riP8TWpamSMeM/uAzTZWl34z89HTGJKLzjP7bgCBTF/+M/oF4hNTRC5D8I23pLa4PkP9ksAuhfw+Q/Yhc8zwcC5T+3Yuj6WD/lP9lvnJtJe+U/+AZVGtC15T+IH/8Z4+7lP1Bj93h5JuY/EC+AUopc5j/41C0ADZHmP5fmSBv5w+Y/nk0mfkb15j9n/HRF7STnPw==",
          "dtype": "f8"
         }
        },
        {
         "line": {
          "color": "blue",
          "width": 2
         },
         "mode": "lines",
         "type": "scatter",
         "x": {
          "bdata": "AAAAAAAAAAAAAAAAAAAAAAAAAAAAAAAAAAAAAAAAAAAAAAAAAAAAAAAAAAAAAAAAAAAAAAAAAAAAAAAAAAAAAAAAAAAAAAAAAAAAAAAAAAAAAAAAAAAAAAAAAAAAAAAAAAAAAAAAAAAAAAAAAAAAAAAAAAAAAAAAAAAAAAAAAAAAAAAAAAAAAAAAAAAAAAAAAAAAAAAAAAAAAAAAAAAAAAAAAAAAAAAAAAAAAAAAAAAAAAAAAAAAAAAAAAAAAAAAAAAAAAAAAAAAAAAAAAAAAAAAAAAAAAAAAAAAAAAAAAAAAAAAAAAAAAAAAAAAAAAAAAAAAAAAAAAAAAAAAAAAAAAAAAAAAAAAAAAAAAAAAAAAAAAAAAAAAAAAAAAAAAAAAAAAAAAAAAAAAAAAAAAAAAAAAAAAAAAAAAAAAAAAAAAAAAAAAAAAAAAAAAAAAAAAAAAAAAAAAAAAAAAAAAAAAAAAAAAAAAAAAAAAAAAAAAAAAAAAAAAAAAAAAAAAAAAAAAAAAAAAAAAAAAAAAAAAAAAAAAAAAAAAAAAAAAAAAAAAAAAAAAAAAAAAAAAAAAAAAAAAAAAAAAAAAAAAAAAAAAAAAAAAAAAAAAAAAAAAAAAAAAAAAAAAAAAAAAAAAAAAAAAAAAAAAAAAAAAAAAAAAAAAAAAAAAAAAAAAAAAAAAAAAAAAAAAAAAAAAAAAAAAAAAAAAAAAAAAAAAAAAAAAAAAAAAAAAAAAAAAAAAAAAAAAAAAAAAAAAAAAAAAAAAAAAAAAAAAAAAAAAAAAAAAAAAAAAAAAAAAAAAAAAAAAAAAAAAAAAAAAAAAAAAAAAAAAAAAAAAAAAAAAAAAAAAAAAA==",
          "dtype": "f8"
         },
         "y": {
          "bdata": "AAAAAAAAAAB8FK5H4XqEP3wUrkfhepQ/uh6F61G4nj98FK5H4XqkP5uZmZmZmak/uh6F61G4rj/sUbgeheuxP3wUrkfherQ/DNejcD0Ktz+cmZmZmZm5Pyxcj8L1KLw/vB6F61G4vj+mcD0K16PAP+5RuB6F68E/NjMzMzMzwz9+FK5H4XrEP8b1KFyPwsU/DtejcD0Kxz9WuB6F61HIP56ZmZmZmck/5noUrkfhyj8uXI/C9SjMP3Y9CtejcM0/vh6F61G4zj8DAAAAAADQP6dwPQrXo9A/S+F6FK5H0T/vUbgehevRP5PC9Shcj9I/NzMzMzMz0z/bo3A9CtfTP38UrkfhetQ/I4XrUbge1T/H9Shcj8LVP2tmZmZmZtY/D9ejcD0K1z+zR+F6FK7XP1e4HoXrUdg/+yhcj8L12D/7KFyPwvXYP5+ZmZmZmdk/QwrXo3A92j/nehSuR+HaP4vrUbgehds/L1yPwvUo3D/TzMzMzMzcP3c9CtejcN0/G65H4XoU3j+/HoXrUbjeP2OPwvUoXN8/AwAAAAAA4D9VuB6F61HgP6dwPQrXo+A/+Shcj8L14D9L4XoUrkfhP52ZmZmZmeE/71G4HoXr4T9BCtejcD3iP5PC9Shcj+I/5XoUrkfh4j83MzMzMzPjP4nrUbgeheM/26NwPQrX4z8tXI/C9SjkP38UrkfheuQ/0czMzMzM5D8jhetRuB7lP3U9CtejcOU/x/UoXI/C5T8ZrkfhehTmP2tmZmZmZuY/vR6F61G45j8P16NwPQrnP2GPwvUoXOc/s0fhehSu5z8FAAAAAADoP1e4HoXrUeg/qXA9Ctej6D/7KFyPwvXoPw==",
          "dtype": "f8"
         }
        },
        {
         "line": {
          "color": "blue",
          "width": 2
         },
         "mode": "lines",
         "type": "scatter",
         "x": {
          "bdata": "AAAAAAAAAAAAAAAAAAAAAAAAAAAAAAAAAAAAAAAAAAAAAAAAAAAAAAAAAAAAAAAAAAAAAAAAAAAAAAAAAAAAAAAAAAAAAAAAAAAAAAAAAAAAAAAAAAAAAAAAAAAAAAAAAAAAAAAAAAAAAAAAAAAAAAAAAAAAAAAAAAAAAAAAAAAAAAAAAAAAAAAAAAAAAAAAAAAAAAAAAAAAAAAAAAAAAAAAAAAAAAAAAAAAAAAAAAAAAAAAAAAAAAAAAAAAAAAAAAAAAAAAAAAAAAAAAAAAAAAAAAAAAAAAAAAAAAAAAAAAAAAAAAAAAAAAAAAAAAAAAAAAAAAAAAAAAAAAAAAAAAAAAAAAAAAAAAAAAAAAAAAAAAAAAAAAAAAAAAAAAAAAAAAAAAAAAAAAAAAAAAAAAAAAAAAAAAAAAAAAAAAAAAAAAAAAAAAAAAAAAAAAAAAA/zS5+t1hMD+cAyl6fZFIP+tVHFiGj1g/iS4cv2t1ZD8WM+sfCqxuP/yno/79dHU/4pa/96WWfD9cICdy7FyCP/Cydryk7oY/NlqTtcD/iz/7e1RruMeQPyIpP6xozpM/bDHzK3UTlz/Ao7T+V5aaP689D1SBVp4/cF/sxqspoT9wYmKsG0ajP18gQ+M5gKU/Diy9NKvXpz9KIuy4D0yqP/7CMOYC3aw/Sb9GoRuKrz/f1AondimxPwUsnXCBm7I/3vMiefQatD9xvVfnkae1P0DSukYaQbc/eDC2EUznuD89LRq845m6P7kP7L2bWLw/S+qFniwjvj8z6gUATfm/P7OkhdVY7cA/4YBfzYbjwT9iKpMECd/CP4SX3j2338M/rjEraGjlxD8P1x+l8u/FPw==",
          "dtype": "f8"
         },
         "y": {
          "bdata": "AAAAAAAAAAB8FK5H4XqEP3wUrkfhepQ/uh6F61G4nj98FK5H4XqkP5uZmZmZmak/uh6F61G4rj/sUbgeheuxP3wUrkfherQ/DNejcD0Ktz+cmZmZmZm5Pyxcj8L1KLw/vB6F61G4vj+mcD0K16PAP+5RuB6F68E/NjMzMzMzwz9+FK5H4XrEP8b1KFyPwsU/DtejcD0Kxz9WuB6F61HIP56ZmZmZmck/5noUrkfhyj8uXI/C9SjMP3Y9CtejcM0/vh6F61G4zj8DAAAAAADQP6dwPQrXo9A/S+F6FK5H0T/vUbgehevRP5PC9Shcj9I/NzMzMzMz0z/bo3A9CtfTP38UrkfhetQ/I4XrUbge1T/H9Shcj8LVP2tmZmZmZtY/D9ejcD0K1z+zR+F6FK7XP1e4HoXrUdg/+yhcj8L12D/7KFyPwvXYP5+ZmZmZmdk/t1GSiGM92j/NsNUnBuHaP3QyPUlnhNs/DLgcyWwn3D9nJXGS/MncP/KkDKP8a90/hui/D1MN3j9qvH8I5q3eP7RChtybTd8/4C1v/lrs3z8iKScEBUXgP3jz399Hk+A/x+f4jOng4D/0pNKf3S3hP4YtlMgXeuE/mCwj1YvF4T+FeBezLRDiP2SDqXHxWeI/MGqbQ8ui4j9nVByBr+riP8TWpamSMeM/uAzTZWl34z89HTGJKLzjP7bgCBTF/+M/oF4hNTRC5D8I23pLa4PkP9ksAuhfw+Q/Yhc8zwcC5T+3Yuj6WD/lP9lvnJtJe+U/+AZVGtC15T+IH/8Z4+7lP1Bj93h5JuY/EC+AUopc5j/41C0ADZHmP5fmSBv5w+Y/nk0mfkb15j9n/HRF7STnPw==",
          "dtype": "f8"
         }
        },
        {
         "line": {
          "color": "blue",
          "width": 2
         },
         "mode": "lines",
         "type": "scatter",
         "x": {
          "bdata": "AAAAAAAAAAAAAAAAAAAAAAAAAAAAAAAAAAAAAAAAAAAAAAAAAAAAAAAAAAAAAAAAAAAAAAAAAAAAAAAAAAAAAAAAAAAAAAAAAAAAAAAAAAAAAAAAAAAAAAAAAAAAAAAAAAAAAAAAAAAAAAAAAAAAAAAAAAAAAAAAAAAAAAAAAAAAAAAAAAAAAAAAAAAAAAAAAAAAAAAAAAAAAAAAAAAAAAAAAAAAAAAAAAAAAAAAAAAAAAAAAAAAAAAAAAAAAAAAAAAAAAAAAAAAAAAAAAAAAAAAAAAAAAAAAAAAAAAAAAAAAAAAAAAAAAAAAAAAAAAAAAAAAAAAAAAAAAAAAAAAAAAAAAAAAAAAAAAAAAAAAAAAAAAAAAAAAAAAAAAAAAAAAAAAAAAAAAAAAAAAAAAAAAAAAAAAAAAAAAAAAAAAAAAAAAAAAAAAAAAAAAAAAAAAHWnMfI5gQD+2O4JkmItYP746nQ++g2g/Nkdd9BFldD/DlZbmSYd+PzClIHUFUYU/2ImjGstWjD8cRhvHOyiSP/nB3DR4nJY/ca46PUGFmz+DU7NZuW+gP88B2OzPU6M/9ZRByQptpj9kUThfbrmpP1wW3GLeNq0/Fgvuko9xsD9zw6GC612yP7adOPVHX7Q/d+ghb1x0tj9rO7zW05u4PwCrl05N1Lo/lCM/F10cvT8lc/h3jXK/P84J89av6sA/Otl4cKYhwj+PX/GOY13DPxJ9gCodncQ/MQtQrgbgxT+Mfnd7USXHP2mXMW0tbMg/3ocLXsmzyT9XV7itU/vKPwPiMsf6Qcw/caDYpu2GzT82aCdgXMnOPwZJZFE8BNA/CDJKH7uh0D/MoxzTxTzRPw==",
          "dtype": "f8"
         },
         "y": {
          "bdata": "AAAAAAAAAAB8FK5H4XqEP3wUrkfhepQ/uh6F61G4nj98FK5H4XqkP5uZmZmZmak/uh6F61G4rj/sUbgeheuxP3wUrkfherQ/DNejcD0Ktz+cmZmZmZm5Pyxcj8L1KLw/vB6F61G4vj+mcD0K16PAP+5RuB6F68E/NjMzMzMzwz9+FK5H4XrEP8b1KFyPwsU/DtejcD0Kxz9WuB6F61HIP56ZmZmZmck/5noUrkfhyj8uXI/C9SjMP3Y9CtejcM0/vh6F61G4zj8DAAAAAADQP6dwPQrXo9A/S+F6FK5H0T/vUbgehevRP5PC9Shcj9I/NzMzMzMz0z/bo3A9CtfTP38UrkfhetQ/I4XrUbge1T/H9Shcj8LVP2tmZmZmZtY/D9ejcD0K1z+zR+F6FK7XP1e4HoXrUdg/+yhcj8L12D/7KFyPwvXYP5+ZmZmZmdk/tfjcODw92j9Nfry4QeDaP9j9V8lBgts/vNEXwtQi3D/ovADkk8HcP5VRcpsZXt0/8MslwQH43T8UykPa6Y7eP9LfZ1dxIt8/P7Rp0jmy3z8UEGKl8x7gP43TOTCQYuA/9U+TRsej4D9+Os0tb+LgP6BHgc5fHuE/MGArznJX4T/wK7Sng43hP489z8JvwOE/WOwdihbw4T+HsQiAWRziPw6yQVIcReI/8fjj60Rq4j/FySOGu4viP5RdhbdqqeI/Bk6QgT/D4j+R6vZcKdniP86wKUQa6+I/lSNQvAb54j8lQ6Hc5QLjPyPzFlSxCOM/nKh4bWUK4z/2yboRAQjjPzU8sciFAeM/TKsUuPf24j/qLdugXejiP3r35drA1eI/NtwGTy2/4j+VemFvsaTiPw==",
          "dtype": "f8"
         }
        },
        {
         "line": {
          "color": "blue",
          "width": 2
         },
         "mode": "lines",
         "type": "scatter",
         "x": {
          "bdata": "AAAAAAAAAAAAAAAAAAAAAP80ufrdYTA/nAMpen2RSD/rVRxYho9YP4kuHL9rdWQ/FjPrHwqsbj/8p6P+/XR1P+KWv/ellnw/XCAncuxcgj/wsna8pO6GPzZak7XA/4s/+3tUa7jHkD8iKT+saM6TP2wx8yt1E5c/wKO0/leWmj+vPQ9UgVaeP3Bf7MarKaE/cGJirBtGoz9fIEPjOYClPw4svTSr16c/SiLsuA9Mqj/+wjDmAt2sP0m/RqEbiq8/39QKJ3YpsT8FLJ1wgZuyP97zInn0GrQ/cb1X55GntT9A0rpGGkG3P3gwthFM57g/PS0avOOZuj+5D+y9m1i8P0vqhZ4sI74/M+oFAE35vz+zpIXVWO3AP+GAX82G48E/YiqTBAnfwj+El949t9/DP64xK2ho5cQ/D9cfpfLvxT8P1x+l8u/FP0mz008r/8Y/c00getwEyD/09lOxXgDJP42m1gYR8ck/1pMjd1nWyj85klVMpa/LP6AcB3xpfMw/jQBKACM8zT8qu30rV+7NP1fjzvaTks4/Q2YtS3Aozz8D54pEjK/PPyAdm7fIE9A/pV2WfxlI0D+TCp8Al3TQPyiH8cIkmdA/5PbVYqu10D/tlJefGMrQP8GcMmdf1tA/Dkux3nfa0D/BnDJnX9bQP+2Ul58YytA/5PbVYqu10D8oh/HCJJnQP5MKnwCXdNA/pV2WfxlI0D8gHZu3yBPQPwLnikSMr88/QmYtS3Aozz9W4872k5LOPym7fStX7s0/jABKACM8zT+fHAd8aXzMPziSVUylr8s/1pMjd1nWyj+NptYGEfHJP/T2U7FeAMk/c00getwEyD9Js9NPK//GPw==",
          "dtype": "f8"
         },
         "y": {
          "bdata": "AAAAAAAAAAB8FK5H4XqEP7qLYpMPepQ/Hn2Yhzm0nj/DSwjPJXWkP4Z4BM5Rjak/YOOnGNChrj/d78FO6NixPyz+jgFCXrQ/u02O5I3gtj/jZqg0ZV+5P5QTTLxh2rs/JqXI4x1Rvj/se8dgmmHAPyhNKxUhmME/3UGSYPHLwj8lZJgD2vzDP2xg1DWqKsU/IpClrTFVxj+fu+2nQHzHP89Wte+nn8g/qf+45Ti/yT8dCd+HxdrKP+3gk3gg8ss/ASMMBh0FzT/jMGsxjxPOP4wozbVLHc8/F42ZBxQR0D+5MKhA/ZDQP8sFHA9NDtE/dZx0Zu+I0T+4ttyn0ADSP/XkTaXdddI/FhaipAPo0j+lnZJiMFfTPyU1pBVSw9M/9YD/cFcs1D8zpDWnL5LUP0Fy8GzK9NQ/1M+N+xdU1T/Uz437F1TVP77YpRMJsNU/zKZg2aMS1j+c8rs0qXvWPyt6rPLV6tY/aKgd8OJf1z8SP3ZHhdrXP7TihIBuWtg/id61wkzf2D+T/3EJy2jZP00EhVqR9tk/5dFo/kSI2j/AaVG6iB3bP+R61Av9tds/gmMGZkBR3D/mh+Vv7+7cPzAO7EOljt0/xFGfsPsv3j8fv/N5i9LeP8ZAW5vsdd8/b/wpRdsM4D97WKY8wF7gP04ZWs1wsOA//E8EsrgB4T/G8V3oY1LhP+s0YdI+ouE/HcdQVxbx4T9su2kEuD7iP/5DKy3yiuI/7I8fC5TV4j+4dhHdbR7jPxX5mgVRZeM/mgn5KBCq4z+EhxFKf+zjP1XZmOZzLOQ/qiRFEsVp5D/Ju/2QS6TkP5H/9e/h2+Q/eaWjnWQQ5T+ADIEAskHlPw==",
          "dtype": "f8"
         }
        },
        {
         "line": {
          "color": "blue",
          "width": 2
         },
         "mode": "lines",
         "type": "scatter",
         "x": {
          "bdata": "AAAAAAAAAAAAAAAAAAAAAP80ufrdYTA/nAMpen2RSD/rVRxYho9YP4kuHL9rdWQ/FjPrHwqsbj/8p6P+/XR1P+KWv/ellnw/XCAncuxcgj/wsna8pO6GPzZak7XA/4s/+3tUa7jHkD8iKT+saM6TP2wx8yt1E5c/wKO0/leWmj+vPQ9UgVaeP3Bf7MarKaE/cGJirBtGoz9fIEPjOYClPw4svTSr16c/SiLsuA9Mqj/+wjDmAt2sP0m/RqEbiq8/39QKJ3YpsT8FLJ1wgZuyP97zInn0GrQ/cb1X55GntT9A0rpGGkG3P3gwthFM57g/PS0avOOZuj+5D+y9m1i8P0vqhZ4sI74/M+oFAE35vz+zpIXVWO3AP+GAX82G48E/YiqTBAnfwj+El949t9/DP64xK2ho5cQ/D9cfpfLvxT8P1x+l8u/FP0mz008r/8Y/qljIjLUJyD/U8hS3Zg/JP/ZfYPAUEMo/eAmUJ5cLyz+m5W0fxQHMPz+V8HR38sw/M5WwpYfdzT98gv0V0MLOP7pz5hYsos8/DjkM9rs90D+cEMtoSKfQP9DVo4CqDdE/NQgx3NFw0T8relKertDRP/QPt3AxLdI/Q+1QhkuG0j/MrLOd7tvSP+NAXAMNLtM/qx/ik5l80z8hYRG+h8fTP9947YTLDtQ/PzmcgVlS1D9S0TjlJpLUP/F6jnopztQ/FpK6p1cG1T+b0rVvqDrVP219xHMTa9U/WyrN9JCX1T+VD5bUGcDVPyqM6Jan5NU/0caaYjQF1j+NNn8CuyHWP8fuOeY2OtY/0Iz7IqRO1j/XqCF0/17WP6uwvDtGa9Y/4Bb7gnZz1j8txXn6jnfWPw==",
          "dtype": "f8"
         },
         "y": {
          "bdata": "AAAAAAAAAAB8FK5H4XqEP7qLYpMPepQ/Hn2Yhzm0nj/DSwjPJXWkP4Z4BM5Rjak/YOOnGNChrj/d78FO6NixPyz+jgFCXrQ/u02O5I3gtj/jZqg0ZV+5P5QTTLxh2rs/JqXI4x1Rvj/se8dgmmHAPyhNKxUhmME/3UGSYPHLwj8lZJgD2vzDP2xg1DWqKsU/IpClrTFVxj+fu+2nQHzHP89Wte+nn8g/qf+45Ti/yT8dCd+HxdrKP+3gk3gg8ss/ASMMBh0FzT/jMGsxjxPOP4wozbVLHc8/F42ZBxQR0D+5MKhA/ZDQP8sFHA9NDtE/dZx0Zu+I0T+4ttyn0ADSP/XkTaXdddI/FhaipAPo0j+lnZJiMFfTPyU1pBVSw9M/9YD/cFcs1D8zpDWnL5LUP0Fy8GzK9NQ/1M+N+xdU1T/Uz437F1TVP77YpRMJsNU/UDZDolYP1j9eBP5n8XHWP5wnNJ7J19Y/bHOP+c5A1z/sCqGs8KzXP3uSkWodHNg/nMPlaUOO2D/Z8VZnUAPZPxwMv6gxe9k/xqIXANT12T/Yd4vOI3PaP3obmgcN89o/SxRNNHt12z8gEH52WfrbPxGXLYySgdw/G7jp0hAL3T8DJERLvpbdP70oV5yEJN4/Kv1YF0203j/Cyjy7AEbfP4DgYDiI2d8/Lbwk+mU34D8/u7MG2oLgP9FDdS8Uz+A//gBPQggc4T9N9WfvqWnhP6O/IMvst+E/1VEQUMQG4j9rxwThI1biP5AKCMv+peI/gvRnR0j24j9MlsF980bjPxJWD4bzl+M/wIy5ajvp4z+MT6kqvjrkP18QXbtujOQ/6r/+CkDe5D/2G3sCJTDlPw==",
          "dtype": "f8"
         }
        },
        {
         "line": {
          "color": "blue",
          "width": 2
         },
         "mode": "lines",
         "type": "scatter",
         "x": {
          "bdata": "AAAAAAAAAAAAAAAAAAAAAP80ufrdYTA/nAMpen2RSD/rVRxYho9YP4kuHL9rdWQ/FjPrHwqsbj/8p6P+/XR1P+KWv/ellnw/XCAncuxcgj/wsna8pO6GPzZak7XA/4s/+3tUa7jHkD8iKT+saM6TP2wx8yt1E5c/wKO0/leWmj+vPQ9UgVaeP3Bf7MarKaE/cGJirBtGoz9fIEPjOYClPw4svTSr16c/SiLsuA9Mqj/+wjDmAt2sP0m/RqEbiq8/39QKJ3YpsT8FLJ1wgZuyP97zInn0GrQ/cb1X55GntT9A0rpGGkG3P3gwthFM57g/PS0avOOZuj+5D+y9m1i8P0vqhZ4sI74/M+oFAE35vz+zpIXVWO3AP+GAX82G48E/YiqTBAnfwj+El949t9/DP64xK2ho5cQ/D9cfpfLvxT8P1x+l8u/FP0mz008r/8Y/g4+H+mMOyD+9azulnB3JP/dH70/VLMo/MSSj+g08yz9rAFelRkvMP6XcClB/Ws0/37i++rdpzj8ZlXKl8HjPP6k4E6gURNA/xiZt/bDL0D/jFMdSTVPRPwADIajp2tE/HfF6/YVi0j8639RSIurSP1fNLqi+cdM/dLuI/Vr50z+RqeJS94DUP66XPKiTCNU/y4WW/S+Q1T/oc/BSzBfWPwViSqhon9Y/IlCk/QQn1z8/Pv5Soa7XP1wsWKg9Ntg/eRqy/dm92D+WCAxTdkXZP7P2ZagSzdk/0OS//a5U2j/t0hlTS9zaPwrBc6jnY9s/J6/N/YPr2z9EnSdTIHPcP2GLgai8+tw/fnnb/ViC3T+bZzVT9QneP7hVj6iRkd4/1UPp/S0Z3z/yMUNTyqDfPw==",
          "dtype": "f8"
         },
         "y": {
          "bdata": "AAAAAAAAAAB8FK5H4XqEP7qLYpMPepQ/Hn2Yhzm0nj/DSwjPJXWkP4Z4BM5Rjak/YOOnGNChrj/d78FO6NixPyz+jgFCXrQ/u02O5I3gtj/jZqg0ZV+5P5QTTLxh2rs/JqXI4x1Rvj/se8dgmmHAPyhNKxUhmME/3UGSYPHLwj8lZJgD2vzDP2xg1DWqKsU/IpClrTFVxj+fu+2nQHzHP89Wte+nn8g/qf+45Ti/yT8dCd+HxdrKP+3gk3gg8ss/ASMMBh0FzT/jMGsxjxPOP4wozbVLHc8/F42ZBxQR0D+5MKhA/ZDQP8sFHA9NDtE/dZx0Zu+I0T+4ttyn0ADSP/XkTaXdddI/FhaipAPo0j+lnZJiMFfTPyU1pBVSw9M/9YD/cFcs1D8zpDWnL5LUP0Fy8GzK9NQ/1M+N+xdU1T/Uz437F1TVP77YpRMJsNU/qOG9K/oL1j+S6tVD62fWP3zz7Vvcw9Y/ZvwFdM0f1z9QBR6MvnvXPzoONqSv19c/JBdOvKAz2D8OIGbUkY/YP/gofuyC69g/4jGWBHRH2T/MOq4cZaPZP7ZDxjRW/9k/oEzeTEdb2j+KVfZkOLfaP3ReDn0pE9s/XmcmlRpv2z9IcD6tC8vbPzJ5VsX8Jtw/HIJu3e2C3D8Gi4b13t7cP/CTng3QOt0/2py2JcGW3T/Epc49svLdP66u5lWjTt4/mLf+bZSq3j+CwBaGhQbfP2zJLp52Yt8/VtJGtme+3z+gbS9nLA3gPxVyO/MkO+A/inZHfx1p4D//elMLFpfgP3R/X5cOxeA/6YNrIwfz4D9eiHev/yDhP9OMgzv4TuE/SJGPx/B84T+9lZtT6arhPw==",
          "dtype": "f8"
         }
        },
        {
         "line": {
          "color": "blue",
          "width": 2
         },
         "mode": "lines",
         "type": "scatter",
         "x": {
          "bdata": "AAAAAAAAAAAAAAAAAAAAAP80ufrdYTA/nAMpen2RSD/rVRxYho9YP4kuHL9rdWQ/FjPrHwqsbj/8p6P+/XR1P+KWv/ellnw/XCAncuxcgj/wsna8pO6GPzZak7XA/4s/+3tUa7jHkD8iKT+saM6TP2wx8yt1E5c/wKO0/leWmj+vPQ9UgVaeP3Bf7MarKaE/cGJirBtGoz9fIEPjOYClPw4svTSr16c/SiLsuA9Mqj/+wjDmAt2sP0m/RqEbiq8/39QKJ3YpsT8FLJ1wgZuyP97zInn0GrQ/cb1X55GntT9A0rpGGkG3P3gwthFM57g/PS0avOOZuj+5D+y9m1i8P0vqhZ4sI74/M+oFAE35vz+zpIXVWO3AP+GAX82G48E/YiqTBAnfwj+El949t9/DP64xK2ho5cQ/D9cfpfLvxT8P1x+l8u/FP0mz008r/8Y/w9ygA+cSyD8znxWj+SrJP/1WA182R8o/W7ypvW9nyz+leP2hd4vMP8LbCFMfs80/i4Nlgzfezj9+4WYsSAbQP5xJ4rn8ntA/Zmqp+yA50T8cUmxInNTRP8bA+L9VcdI/8AM1TzQP0z9S9yK0Hq7TPxOG6oH7TdQ/KwfrJLHu1D86ztLmJZDVP0xJvPI/MtY/+QJQWeXU1j+u3+oU/HfXPxzsxw1qG9g/VRItHhW/2D+PCpoW42LZP0Lc+MG5Bto//kPP6X6q2j9EUnBaGE7bP5qXLedr8ds/KTKHbl+U3D9gEVre2DbdP1rECzi+2N0/PSizlPV53j8rTD0pZRrfPxbhjUrzud8/N0bNOEMs4D+4OsCfAnvgP+qyyUAryeA/zOuymrAW4T9lpWRGhmPhPw==",
          "dtype": "f8"
         },
         "y": {
          "bdata": "AAAAAAAAAAB8FK5H4XqEP7qLYpMPepQ/Hn2Yhzm0nj/DSwjPJXWkP4Z4BM5Rjak/YOOnGNChrj/d78FO6NixPyz+jgFCXrQ/u02O5I3gtj/jZqg0ZV+5P5QTTLxh2rs/JqXI4x1Rvj/se8dgmmHAPyhNKxUhmME/3UGSYPHLwj8lZJgD2vzDP2xg1DWqKsU/IpClrTFVxj+fu+2nQHzHP89Wte+nn8g/qf+45Ti/yT8dCd+HxdrKP+3gk3gg8ss/ASMMBh0FzT/jMGsxjxPOP4wozbVLHc8/F42ZBxQR0D+5MKhA/ZDQP8sFHA9NDtE/dZx0Zu+I0T+4ttyn0ADSP/XkTaXdddI/FhaipAPo0j+lnZJiMFfTPyU1pBVSw9M/9YD/cFcs1D8zpDWnL5LUP0Fy8GzK9NQ/1M+N+xdU1T/Uz437F1TVP77YpRMJsNU/HWN7/44I1j/9e1aVm13WPwp9yDkhr9Y/hF7Z4RL91j9J7B0VZEfXP4CItu8Ijtc/KSo2JPbQ1z+pSXH9IBDYP0dxNGB/S9g/ZyvizAeD2D9MDPhgsbbYPymZethz5tg/P9JHj0cS2T/kKVCCJTrZP1+2tVAHXtk/p3DRPOd92T81Vh4twJnZP1NICq2Nsdk/c4es7UvF2T9grWHG99TZP1wNTbWO4Nk/aWW/3w7o2T9b0IISd+vZP4nsC8LG6tk/Pi+QCv7l2T9aYQGwHd3ZP9lF7h0n0Nk/SW9IZxy/2T93TQ9GAKrZP++A4BrWkNk/K4Zt7KFz2T+UztZmaFLZP7Vh7NouLdk/QCVUPfsD2T+47pUl1NbYP8uFDc3Apdg/isLCDclw2D/Y9idh9TfYPw==",
          "dtype": "f8"
         }
        },
        {
         "line": {
          "color": "blue",
          "width": 2
         },
         "mode": "lines",
         "type": "scatter",
         "x": {
          "bdata": "AAAAAAAAAAAAAAAAAAAAAP80ufrdYTA/nAMpen2RSD/rVRxYho9YP4kuHL9rdWQ/FjPrHwqsbj/8p6P+/XR1P+KWv/ellnw/XCAncuxcgj/wsna8pO6GPzZak7XA/4s/+3tUa7jHkD8iKT+saM6TP2wx8yt1E5c/wKO0/leWmj+vPQ9UgVaeP3Bf7MarKaE/cGJirBtGoz9fIEPjOYClPw4svTSr16c/SiLsuA9Mqj/+wjDmAt2sP0m/RqEbiq8/39QKJ3YpsT8FLJ1wgZuyP97zInn0GrQ/cb1X55GntT9A0rpGGkG3P3gwthFM57g/PS0avOOZuj+5D+y9m1i8P0vqhZ4sI74/M+oFAE35vz+zpIXVWO3AP+GAX82G48E/YiqTBAnfwj+El949t9/DP64xK2ho5cQ/D9cfpfLvxT8P1x+l8u/FP0mz008r/8Y/uXVI7z0XyD8X2+5NdzfJPzQ++v4eX8o/pX1i1HeNyz84v/BXwMHMP42cCUcz+80/UYPlEAg5zz/AQnOrOT3QP9K9XLdT39A/h5r3cmqC0T/AwFyDFSbSP3OSuy7sydI/uaBcn4Vt0z9IO7YmeRDUP0LuZ4BestQ/LxLyFM5S1T+Hvf47YfHVP+utEX6yjdY/HSF11V0n1z+XEjruAL7XPwbqImU7Udg/ilhQBa/g2D/w7YgEAGzZP8bT9D3V8tk/aBkoa9h02j+AEVdbtvHaPydukSgfads/GQziasba2z+RtjJpY0bcP1+b1Eexq9w/1KiPNG8K3T87pByQYGLdP7hu7xRNs90/fKY4+wD93T9GmgcaTT/eP9lbdwUHet4/aaLTKQmt3j+fHqTjMtjePw==",
          "dtype": "f8"
         },
         "y": {
          "bdata": "AAAAAAAAAAB8FK5H4XqEP7qLYpMPepQ/Hn2Yhzm0nj/DSwjPJXWkP4Z4BM5Rjak/YOOnGNChrj/d78FO6NixPyz+jgFCXrQ/u02O5I3gtj/jZqg0ZV+5P5QTTLxh2rs/JqXI4x1Rvj/se8dgmmHAPyhNKxUhmME/3UGSYPHLwj8lZJgD2vzDP2xg1DWqKsU/IpClrTFVxj+fu+2nQHzHP89Wte+nn8g/qf+45Ti/yT8dCd+HxdrKP+3gk3gg8ss/ASMMBh0FzT/jMGsxjxPOP4wozbVLHc8/F42ZBxQR0D+5MKhA/ZDQP8sFHA9NDtE/dZx0Zu+I0T+4ttyn0ADSP/XkTaXdddI/FhaipAPo0j+lnZJiMFfTPyU1pBVSw9M/9YD/cFcs1D8zpDWnL5LUP0Fy8GzK9NQ/1M+N+xdU1T/Uz437F1TVP77YpRMJsNU/nvGAqRUF1j8Y05FRB1PWP09vKiysmdY/z45lBdfY1j/uSBNyXxDXP8rVlekhQNc/bi2e3P9n1z+157nI34fXP9PZpUitn9c/wP9aIVmv1z/MV81L2bbXP/lzVvsottc/FKbHoEit1z+DzyHqPZzXP/oC874Tg9c/YktcOdph1z/sDsSbpjjXP/6lO0OTB9c/S9qglr/O1j9UGYbyT47WP6817pFtRtY/Qprqc0b31T8E0Sw+DaHVP0gynhz5Q9U/I3kSnkXg1D+m0yuOMnbUP3TRiMwDBtQ/Tk9WIQGQ0z+3KWEPdhTTP2kaxaOxk9I/NqtXQwYO0j8AnO91yYPRP8l3qq9T9dA/tF1TGABj0D8kah6iWJrPP8k953BwaM4/7/RdWgsxzT8de9Ge8PTLPw==",
          "dtype": "f8"
         }
        },
        {
         "line": {
          "color": "blue",
          "width": 2
         },
         "mode": "lines",
         "type": "scatter",
         "x": {
          "bdata": "AAAAAAAAAAAAAAAAAAAAAB1pzHyOYEA/tjuCZJiLWD++Op0PvoNoPzZHXfQRZXQ/w5WW5kmHfj8wpSB1BVGFP9iJoxrLVow/HEYbxzsokj/5wdw0eJyWP3GuOj1BhZs/g1OzWblvoD/PAdjsz1OjP/WUQckKbaY/ZFE4X265qT9cFtxi3jatPxYL7pKPcbA/c8Ohgutdsj+2nTj1R1+0P3foIW9cdLY/azu81tObuD8Aq5dOTdS6P5QjPxddHL0/JXP4d41yvz/OCfPWr+rAPzrZeHCmIcI/j1/xjmNdwz8SfYAqHZ3EPzELUK4G4MU/jH53e1Elxz9plzFtLWzIP96HC17Js8k/V1e4rVP7yj8D4jLH+kHMP3Gg2Kbths0/NmgnYFzJzj8GSWRRPATQPwgySh+7odA/zKMc08U80T/MoxzTxTzRP22YGTj51NE/MQrs6wNw0j8z89G5gg3TPx6IItsQrdM/AezJN0hO1D84y5ynwfDUP44QWjQVlNU/SngwXNo31j+EcJ1UqNvWP/J8ek0Wf9c/nzYOtLsh2D+u/fV1MMPYP2+MvUMNY9k/ms/50usA2j9Qt7wfZ5zaP24fOK0bNds/UnNmxafK2z93UZC3q1zcP1wthxXK6tw/GcJt76d03T/JFOgN7fndP1rLjSpEet4/cbl6Jlv13j9rudo+42rfPwoyTz+R2t8/zAQH2Q4i4D/+nc2GolPgP+Po/+/jgeA/qEixe7Ws4D8MOPTD+9PgP+tDYqed9+A/9I8wWYQX4T+Hm8ZvmzPhP/DwzfHQS+E/jWOyYRVg4T/hgIvHW3DhP/7caLmZfOE/Auv7YceE4T8cHpuF34jhPw==",
          "dtype": "f8"
         },
         "y": {
          "bdata": "AAAAAAAAAAB8FK5H4XqEP6L7DJiad5Q/J1UFlvKnnj/upt7P+WOkPwxG3ZWRaKk/bp8kpYperj9qolgwXKGxP9WLJsf8CLQ/ZISeK51ktj9d2y4gu7K4PxEtNgzd8bo/sdyf7ZIgvT91+F1Edz2/P9ztlPuXo8A/AZh8mDeewT+HzEwb+o3CP8gu9RlGcsM/yV0YgIlKxD9FpITsORbFP2pfvwnV1MU/KHRq4eCFxj9Cdk4q7CjHP8yR15COvcc/HdXW+WhDyD9ZJF2/JbrIPyLmiOd4Ick/TVgjVSB5yT9Cce7x48DJP148iNKV+Mk/nbrMUxIgyj+VeqMxQDfKP3hQKpcQPso/4dUyKH80yj/engwEkhrKPzhbmsFZ8Mk/r2W0ZPG1yT/wi99MfmvJP94eYx0wEck/WpjNnkCnyD9amM2eQKfIP61X+5nzLcg/KdFlGwTExz8XZOnrtWnHP1iKFNRCH8c/z5Qud9rkxj8qUbw0orrGPycalhC1oMY/kJ+eoSOXxj9zdSUH9J3GP2s1/OQhtcY/qrNAZp7cxj/GftpGUBTHP7uXpeMTXMc/5glAUbuzxz+vy2t5DhvIP+sa8j7Lkcg/PF7xp6UXyT/GeXoOSKzJP+B7XldTT8o/npAJL18Ayz/DS0RM+r7LPz+SsLiqisw/QMHTHu5izT+CI3wdOkfOPwhYTKD8Ns8/FgGaHs4Y0D/n+UxLPJvQP9iA/GB1ItE/wOxW2SKu0T8twVhU6z3SP+vWfNFy0dI/D9Wa6lpo0z9qT04QQwLUPxfkv8fIntQ/Q8+o6Yc91T8no2jiGt7VP7IiBPMagNY/SqjjciAj1z9gBycSw8bXPw==",
          "dtype": "f8"
         }
        },
        {
         "line": {
          "color": "blue",
          "width": 2
         },
         "mode": "lines",
         "type": "scatter",
         "x": {
          "bdata": "AAAAAAAAAAAAAAAAAAAAAB1pzHyOYEA/tjuCZJiLWD++Op0PvoNoPzZHXfQRZXQ/w5WW5kmHfj8wpSB1BVGFP9iJoxrLVow/HEYbxzsokj/5wdw0eJyWP3GuOj1BhZs/g1OzWblvoD/PAdjsz1OjP/WUQckKbaY/ZFE4X265qT9cFtxi3jatPxYL7pKPcbA/c8Ohgutdsj+2nTj1R1+0P3foIW9cdLY/azu81tObuD8Aq5dOTdS6P5QjPxddHL0/JXP4d41yvz/OCfPWr+rAPzrZeHCmIcI/j1/xjmNdwz8SfYAqHZ3EPzELUK4G4MU/jH53e1Elxz9plzFtLWzIP96HC17Js8k/V1e4rVP7yj8D4jLH+kHMP3Gg2Kbths0/NmgnYFzJzj8GSWRRPATQPwgySh+7odA/zKMc08U80T/MoxzTxTzRP22YGTj51NE/nwt9j6Ru0j9jfU9DrwnTP8dtYoUAptM/yVZIU39D1D8hAlV6EuLUPwyXpZuggdU/+bovMBAi1j/cHteMR8PWP9bRiOYsZdc/DbFbVqYH2D+cS7XdmarYP/KQcmrtTdk/OJ8T24bx2T/0BuoCTJXaP6fYSK4iOds/4dC1pvDc2z8a9xq3m4DcP4gD+K8JJN0/PeCSayDH3T/qmSbSxWneP/wUEN7fC98/DNz3n1St3z+SLnwhBSfgP/P1X4jzduA/pO/WumjG4D85EXUCWBXhP45IO760Y+E/abycZHKx4T/OTICFhP7hP90APszeSuI/uRCYAXWW4j+rOq8NO+HiP3IT8vkkK+M/hQIH8yZ04z/dm7BKNbzjP9AJrHlEA+Q/bDqJIUlJ5D/LhHwOOI7kPw==",
          "dtype": "f8"
         },
         "y": {
          "bdata": "AAAAAAAAAAB8FK5H4XqEP6L7DJiad5Q/J1UFlvKnnj/upt7P+WOkPwxG3ZWRaKk/bp8kpYperj9qolgwXKGxP9WLJsf8CLQ/ZISeK51ktj9d2y4gu7K4PxEtNgzd8bo/sdyf7ZIgvT91+F1Edz2/P9ztlPuXo8A/AZh8mDeewT+HzEwb+o3CP8gu9RlGcsM/yV0YgIlKxD9FpITsORbFP2pfvwnV1MU/KHRq4eCFxj9Cdk4q7CjHP8yR15COvcc/HdXW+WhDyD9ZJF2/JbrIPyLmiOd4Ick/TVgjVSB5yT9Cce7x48DJP148iNKV+Mk/nbrMUxIgyj+VeqMxQDfKP3hQKpcQPso/4dUyKH80yj/engwEkhrKPzhbmsFZ8Mk/r2W0ZPG1yT/wi99MfmvJP94eYx0wEck/WpjNnkCnyD9amM2eQKfIP61X+5nzLcg/R8DFQEy8xz/DOTDCXFLHP+dnHxE28MY/1fqi4eeVxj/pgXKmgEPGPyqonY4N+cU/+zhwg5q2xT9xQ4omMnzFP1+qLNDdScU/uWa6jaUfxT+YuW4gkP3EP5WCSPyi48Q/y+YqR+LRxD80bDPYUMjEP46kRTfwxsQ/cHrMnMDNxD+IKrHxwNzEP3/qh8/u88Q/WDbygEYTxT+WtDYCwzrFP9GYDgJeasU/7GOo4g+ixT962N+6z+HFP27xqleTKcY/tqC7PU95xj/gElar9tDGP5gsW5p7MMc/YO6Gws6Xxz+eYuKb3wbIP9mxaGGcfcg/2PDeE/L7yD8oNN58zIHJP5VsDzIWD8o/HoiYmLijyj8RS7romz/LPypNnjGn4ss/6X5UXcCMzD+mk/80zD3NPw==",
          "dtype": "f8"
         }
        },
        {
         "line": {
          "color": "blue",
          "width": 2
         },
         "mode": "lines",
         "type": "scatter",
         "x": {
          "bdata": "AAAAAAAAAAAAAAAAAAAAAB1pzHyOYEA/tjuCZJiLWD++Op0PvoNoPzZHXfQRZXQ/w5WW5kmHfj8wpSB1BVGFP9iJoxrLVow/HEYbxzsokj/5wdw0eJyWP3GuOj1BhZs/g1OzWblvoD/PAdjsz1OjP/WUQckKbaY/ZFE4X265qT9cFtxi3jatPxYL7pKPcbA/c8Ohgutdsj+2nTj1R1+0P3foIW9cdLY/azu81tObuD8Aq5dOTdS6P5QjPxddHL0/JXP4d41yvz/OCfPWr+rAPzrZeHCmIcI/j1/xjmNdwz8SfYAqHZ3EPzELUK4G4MU/jH53e1Elxz9plzFtLWzIP96HC17Js8k/V1e4rVP7yj8D4jLH+kHMP3Gg2Kbths0/NmgnYFzJzj8GSWRRPATQPwgySh+7odA/zKMc08U80T/MoxzTxTzRP22YGTj51NE/Do0WnSxt0j+vgRMCYAXTP1B2EGeTndM/8WoNzMY11D+SXwox+s3UPzNUB5YtZtU/1EgE+2D+1T91PQFglJbWPxYy/sTHLtc/tyb7KfvG1z9YG/iOLl/YP/kP9fNh99g/mgTyWJWP2T87+e69yCfaP9zt6yL8v9o/feLohy9Y2z8e1+XsYvDbP7/L4lGWiNw/YMDftskg3T8Btdwb/bjdP6Kp2YAwUd4/Q57W5WPp3j/kktNKl4HfP8ND6FflDOA/FL5mCv9Y4D9lOOW8GKXgP7ayY28y8eA/By3iIUw94T9Yp2DUZYnhP6kh34Z/1eE/+ptdOZkh4j9LFtzrsm3iP5yQWp7MueI/7QrZUOYF4z8+hVcDAFLjP4//1bUZnuM/4HlUaDPq4z8x9NIaTTbkPw==",
          "dtype": "f8"
         },
         "y": {
          "bdata": "AAAAAAAAAAB8FK5H4XqEP6L7DJiad5Q/J1UFlvKnnj/upt7P+WOkPwxG3ZWRaKk/bp8kpYperj9qolgwXKGxP9WLJsf8CLQ/ZISeK51ktj9d2y4gu7K4PxEtNgzd8bo/sdyf7ZIgvT91+F1Edz2/P9ztlPuXo8A/AZh8mDeewT+HzEwb+o3CP8gu9RlGcsM/yV0YgIlKxD9FpITsORbFP2pfvwnV1MU/KHRq4eCFxj9Cdk4q7CjHP8yR15COvcc/HdXW+WhDyD9ZJF2/JbrIPyLmiOd4Ick/TVgjVSB5yT9Cce7x48DJP148iNKV+Mk/nbrMUxIgyj+VeqMxQDfKP3hQKpcQPso/4dUyKH80yj/engwEkhrKPzhbmsFZ8Mk/r2W0ZPG1yT/wi99MfmvJP94eYx0wEck/WpjNnkCnyD9amM2eQKfIP61X+5nzLcg/ABcplaa0xz9T1laQWTvHP6aVhIsMwsY/+VSyhr9Ixj9MFOCBcs/FP5/TDX0lVsU/8pI7eNjcxD9FUmlzi2PEP5gRl24+6sM/69DEafFwwz8+kPJkpPfCP5FPIGBXfsI/5A5OWwoFwj83zntWvYvBP4qNqVFwEsE/3UzXTCOZwD8wDAVI1h/APwaXZYYSTb8/rBXBfHhavj9SlBxz3me9P/gSeGlEdbw/npHTX6qCuz9EEC9WEJC6P+qOikx2nbk/kA3mQtyquD82jEE5Qri3P9wKnS+oxbY/gon4JQ7TtT8oCFQcdOC0P86GrxLa7bM/dAULCUD7sj8ahGb/pQiyP8ACwvULFrE/ZoEd7HEjsD8YAPLEr2GuP2T9qLF7fKw/sPpfnkeXqj/89xaLE7KoPw==",
          "dtype": "f8"
         }
        },
        {
         "line": {
          "color": "blue",
          "width": 2
         },
         "mode": "lines",
         "type": "scatter",
         "x": {
          "bdata": "AAAAAAAAAAAAAAAAAAAAAB1pzHyOYEA/tjuCZJiLWD++Op0PvoNoPzZHXfQRZXQ/w5WW5kmHfj8wpSB1BVGFP9iJoxrLVow/HEYbxzsokj/5wdw0eJyWP3GuOj1BhZs/g1OzWblvoD/PAdjsz1OjP/WUQckKbaY/ZFE4X265qT9cFtxi3jatPxYL7pKPcbA/c8Ohgutdsj+2nTj1R1+0P3foIW9cdLY/azu81tObuD8Aq5dOTdS6P5QjPxddHL0/JXP4d41yvz/OCfPWr+rAPzrZeHCmIcI/j1/xjmNdwz8SfYAqHZ3EPzELUK4G4MU/jH53e1Elxz9plzFtLWzIP96HC17Js8k/V1e4rVP7yj8D4jLH+kHMP3Gg2Kbths0/NmgnYFzJzj8GSWRRPATQPwgySh+7odA/zKMc08U80T/MoxzTxTzRP22YGTj51NE/54neUJxr0j/zSqUDlwDTP2IijnrRk9M/3QpwJzQl1D9heZ3Hp7TUPykQnWcVQtU/j6XVZmbN1T+ECC17hFbWP1rumLRZ3dY/xnehgNBh1z9ovdSt0+PXP3HWKm9OY9g/ic5ZXyzg2D+uAhmEWVrZP1VfU1HC0dk/+PxHrFNG2j/qmpju+rfaP0R7RemlJts/vCWW50KS2z80mu6xwPrbPwJ/kJAOYNw/GtpHThzC3D+P5wI72iDdPzajVC45fN0/nZ7hiSrU3T8CwLY7oCjeP3+KicCMed4/OJPhJePG3j/8yioMlxDfP4lHsKicVt8/Uzt/x+iY3z+RzjHNcNffPxLIUFwVCeA/a5xAkoYk4D+zv26kBz7gP+FfQn6UVeA//J0qWylr4D+r4DjHwn7gPw==",
          "dtype": "f8"
         },
         "y": {
          "bdata": "AAAAAAAAAAB8FK5H4XqEP6L7DJiad5Q/J1UFlvKnnj/upt7P+WOkPwxG3ZWRaKk/bp8kpYperj9qolgwXKGxP9WLJsf8CLQ/ZISeK51ktj9d2y4gu7K4PxEtNgzd8bo/sdyf7ZIgvT91+F1Edz2/P9ztlPuXo8A/AZh8mDeewT+HzEwb+o3CP8gu9RlGcsM/yV0YgIlKxD9FpITsORbFP2pfvwnV1MU/KHRq4eCFxj9Cdk4q7CjHP8yR15COvcc/HdXW+WhDyD9ZJF2/JbrIPyLmiOd4Ick/TVgjVSB5yT9Cce7x48DJP148iNKV+Mk/nbrMUxIgyj+VeqMxQDfKP3hQKpcQPso/4dUyKH80yj/engwEkhrKPzhbmsFZ8Mk/r2W0ZPG1yT/wi99MfmvJP94eYx0wEck/WpjNnkCnyD9amM2eQKfIP61X+5nzLcg/wNXFURStxz8mm4FktyTHP9zTUaPylMY/9ruqDt39xT8chaPSjl/FP49LGEMhusQ/E7mc164NxD/I+z8nU1rDP1C+IuQqoMI/GNbf1lPfwT/NY8jZ7BfBPyUp9NMVSsA/V7xNaN/rvj9FrhbXODe9P36litB9drs/Zp61H/apuT/Plety69G3Pz+4/k+p7rU/4yEqCH0AtD8JHrOrtQeyP9LgQv2jBLA/XYL1yTTvqz/ICIrG2cGnPyauyAbigaM/5mgQN/dfnj8C0y7orpmVPyQfuQelZIk/ZMbhvnVabT8kolX2qud1v3mB0pHGd42/3sorvR8ZmL/2pFdIEMigv2NWNA2xj6W/yqX6Z65iqr8yyR/CQkCvv8skrmnTE7K/cBjH4AiMtL92wW2gXAi3vw==",
          "dtype": "f8"
         }
        },
        {
         "line": {
          "color": "blue",
          "width": 2
         },
         "mode": "lines",
         "type": "scatter",
         "x": {
          "bdata": "AAAAAAAAAAAAAAAAAAAAAB1pzHyOYEA/tjuCZJiLWD++Op0PvoNoPzZHXfQRZXQ/w5WW5kmHfj8wpSB1BVGFP9iJoxrLVow/HEYbxzsokj/5wdw0eJyWP3GuOj1BhZs/g1OzWblvoD/PAdjsz1OjP/WUQckKbaY/ZFE4X265qT9cFtxi3jatPxYL7pKPcbA/c8Ohgutdsj+2nTj1R1+0P3foIW9cdLY/azu81tObuD8Aq5dOTdS6P5QjPxddHL0/JXP4d41yvz/OCfPWr+rAPzrZeHCmIcI/j1/xjmNdwz8SfYAqHZ3EPzELUK4G4MU/jH53e1Elxz9plzFtLWzIP96HC17Js8k/V1e4rVP7yj8D4jLH+kHMP3Gg2Kbths0/NmgnYFzJzj8GSWRRPATQPwgySh+7odA/zKMc08U80T/MoxzTxTzRP22YGTj51NE/eVng6vNp0j/0QcKXVvvSP7zYwTfEiNM/sTsZTOIR1D8dxSEYWZbUPybed9nTFdU/SxI3/gCQ1T/urytZkgTWP0iQ2FM9c9Y/wAQxHrvb1j/YX+jbyD3XP38bOs8nmdc/5DwPgZ3t1z+dRWfm8zrYPyrC7IL5gNg/aFWfiIG/2D8b/n70Y/bYP3c+Jqh9Jdk/1cNCgLBM2T+mLd5n42vZP8ycamgCg9k/XMaItv6R2T9sXX+7zpjZP0DFXRtul9k/zB7Gt92N2T+h6FyvI3zZP7CN3llLYtk/S2TdQGVA2T9AwiwVhxbZP3Lr/6DL5Ng/Y7zFtlKr2D+nCMwcQWrYP6O0t3XAIdg/FpngJf/R1z9iPKI1MHvXPxpgtDCLHdc/xkegAky51j/QdmnQsk7WPw==",
          "dtype": "f8"
         },
         "y": {
          "bdata": "AAAAAAAAAAB8FK5H4XqEP6L7DJiad5Q/J1UFlvKnnj/upt7P+WOkPwxG3ZWRaKk/bp8kpYperj9qolgwXKGxP9WLJsf8CLQ/ZISeK51ktj9d2y4gu7K4PxEtNgzd8bo/sdyf7ZIgvT91+F1Edz2/P9ztlPuXo8A/AZh8mDeewT+HzEwb+o3CP8gu9RlGcsM/yV0YgIlKxD9FpITsORbFP2pfvwnV1MU/KHRq4eCFxj9Cdk4q7CjHP8yR15COvcc/HdXW+WhDyD9ZJF2/JbrIPyLmiOd4Ick/TVgjVSB5yT9Cce7x48DJP148iNKV+Mk/nbrMUxIgyj+VeqMxQDfKP3hQKpcQPso/4dUyKH80yj/engwEkhrKPzhbmsFZ8Mk/r2W0ZPG1yT/wi99MfmvJP94eYx0wEck/WpjNnkCnyD9amM2eQKfIP61X+5nzLcg/Ex23rJalxz8tBRAYgQ7HP6DLhIgTacY/VQ4o2Le1xT8dJuXK4PTEP3XrEMUJJ8Q/bGR1fLZMwz/g4AqkcmbCPxhylJLRdME/K/BY5G14wD+zwGkw0uO+P2ITiVDWw7w/6a3QPESSuj84mNBJg1C4Pyui+yYFALY/Z8Ia8kSisz+zmrdExjixPwK1Mngoiq0/92Ll+ICRqD8tL8VfxIqjP/lwsQdU8pw/l8Q2YOC/kj+m69lAaAmBP+Bik7xMilu/MCytKDrjh7/ZSzU2qh+Wv8PQclUkHqC/uz22CYAgpb/mUReusxOqv1JigWuU9K6/UIo2kgHgsb/kExo6dzm0v0m7zlIqhba/3tGvz6LBuL/Qpa9icu26v3VmumY1B72/YdpGw5MNv79RpUHkoH/Avw==",
          "dtype": "f8"
         }
        },
        {
         "line": {
          "color": "green",
          "width": 2
         },
         "mode": "lines",
         "type": "scatter",
         "x": {
          "bdata": "AAAAAAAAAAAAAAAAAAAAAB1pzHyOYEC/tjuCZJiLWL++Op0PvoNovzZHXfQRZXS/w5WW5kmHfr8wpSB1BVGFv9iJoxrLVoy/HEYbxzsokr/5wdw0eJyWv3GuOj1BhZu/g1OzWblvoL/PAdjsz1Ojv/WUQckKbaa/ZFE4X265qb9cFtxi3jatvxYL7pKPcbC/c8Ohgutdsr+2nTj1R1+0v3foIW9cdLa/azu81tObuL8Aq5dOTdS6v5QjPxddHL2/JXP4d41yv7/OCfPWr+rAvzrZeHCmIcK/j1/xjmNdw78SfYAqHZ3EvzELUK4G4MW/jH53e1Elx79plzFtLWzIv96HC17Js8m/V1e4rVP7yr8D4jLH+kHMv3Gg2Kbths2/NmgnYFzJzr8GSWRRPATQvwgySh+7odC/zKMc08U80b/MoxzTxTzRv22YGTj51NG/Do0WnSxt0r+vgRMCYAXTv1B2EGeTndO/8WoNzMY11L+SXwox+s3UvzNUB5YtZtW/1EgE+2D+1b91PQFglJbWvxYy/sTHLte/tyb7KfvG179YG/iOLl/Yv/kP9fNh99i/mgTyWJWP2b87+e69yCfav9zt6yL8v9q/feLohy9Y278e1+XsYvDbv7/L4lGWiNy/YMDftskg3b8Btdwb/bjdv6Kp2YAwUd6/Q57W5WPp3r/kktNKl4Hfv8ND6FflDOC/FL5mCv9Y4L9lOOW8GKXgv7ayY28y8eC/By3iIUw94b9Yp2DUZYnhv6kh34Z/1eG/+ptdOZkh4r9LFtzrsm3iv5yQWp7MueK/7QrZUOYF478+hVcDAFLjv4//1bUZnuO/4HlUaDPq478x9NIaTTbkvw==",
          "dtype": "f8"
         },
         "y": {
          "bdata": "AAAAAAAAAAB8FK5H4XqEP6L7DJiad5Q/J1UFlvKnnj/upt7P+WOkPwxG3ZWRaKk/bp8kpYperj9qolgwXKGxP9WLJsf8CLQ/ZISeK51ktj9d2y4gu7K4PxEtNgzd8bo/sdyf7ZIgvT91+F1Edz2/P9ztlPuXo8A/AZh8mDeewT+HzEwb+o3CP8gu9RlGcsM/yV0YgIlKxD9FpITsORbFP2pfvwnV1MU/KHRq4eCFxj9Cdk4q7CjHP8yR15COvcc/HdXW+WhDyD9ZJF2/JbrIPyLmiOd4Ick/TVgjVSB5yT9Cce7x48DJP148iNKV+Mk/nbrMUxIgyj+VeqMxQDfKP3hQKpcQPso/4dUyKH80yj/engwEkhrKPzhbmsFZ8Mk/r2W0ZPG1yT/wi99MfmvJP94eYx0wEck/WpjNnkCnyD9amM2eQKfIP61X+5nzLcg/ABcplaa0xz9T1laQWTvHP6aVhIsMwsY/+VSyhr9Ixj9MFOCBcs/FP5/TDX0lVsU/8pI7eNjcxD9FUmlzi2PEP5gRl24+6sM/69DEafFwwz8+kPJkpPfCP5FPIGBXfsI/5A5OWwoFwj83zntWvYvBP4qNqVFwEsE/3UzXTCOZwD8wDAVI1h/APwaXZYYSTb8/rBXBfHhavj9SlBxz3me9P/gSeGlEdbw/npHTX6qCuz9EEC9WEJC6P+qOikx2nbk/kA3mQtyquD82jEE5Qri3P9wKnS+oxbY/gon4JQ7TtT8oCFQcdOC0P86GrxLa7bM/dAULCUD7sj8ahGb/pQiyP8ACwvULFrE/ZoEd7HEjsD8YAPLEr2GuP2T9qLF7fKw/sPpfnkeXqj/89xaLE7KoPw==",
          "dtype": "f8"
         }
        },
        {
         "marker": {
          "color": "blue",
          "size": 10
         },
         "mode": "markers",
         "name": "Waypoint",
         "type": "scatter",
         "x": [
          -8.273715010538709
         ],
         "y": [
          -1.2014206471911548
         ]
        }
       ],
       "layout": {
        "template": {
         "data": {
          "bar": [
           {
            "error_x": {
             "color": "#2a3f5f"
            },
            "error_y": {
             "color": "#2a3f5f"
            },
            "marker": {
             "line": {
              "color": "#E5ECF6",
              "width": 0.5
             },
             "pattern": {
              "fillmode": "overlay",
              "size": 10,
              "solidity": 0.2
             }
            },
            "type": "bar"
           }
          ],
          "barpolar": [
           {
            "marker": {
             "line": {
              "color": "#E5ECF6",
              "width": 0.5
             },
             "pattern": {
              "fillmode": "overlay",
              "size": 10,
              "solidity": 0.2
             }
            },
            "type": "barpolar"
           }
          ],
          "carpet": [
           {
            "aaxis": {
             "endlinecolor": "#2a3f5f",
             "gridcolor": "white",
             "linecolor": "white",
             "minorgridcolor": "white",
             "startlinecolor": "#2a3f5f"
            },
            "baxis": {
             "endlinecolor": "#2a3f5f",
             "gridcolor": "white",
             "linecolor": "white",
             "minorgridcolor": "white",
             "startlinecolor": "#2a3f5f"
            },
            "type": "carpet"
           }
          ],
          "choropleth": [
           {
            "colorbar": {
             "outlinewidth": 0,
             "ticks": ""
            },
            "type": "choropleth"
           }
          ],
          "contour": [
           {
            "colorbar": {
             "outlinewidth": 0,
             "ticks": ""
            },
            "colorscale": [
             [
              0,
              "#0d0887"
             ],
             [
              0.1111111111111111,
              "#46039f"
             ],
             [
              0.2222222222222222,
              "#7201a8"
             ],
             [
              0.3333333333333333,
              "#9c179e"
             ],
             [
              0.4444444444444444,
              "#bd3786"
             ],
             [
              0.5555555555555556,
              "#d8576b"
             ],
             [
              0.6666666666666666,
              "#ed7953"
             ],
             [
              0.7777777777777778,
              "#fb9f3a"
             ],
             [
              0.8888888888888888,
              "#fdca26"
             ],
             [
              1,
              "#f0f921"
             ]
            ],
            "type": "contour"
           }
          ],
          "contourcarpet": [
           {
            "colorbar": {
             "outlinewidth": 0,
             "ticks": ""
            },
            "type": "contourcarpet"
           }
          ],
          "heatmap": [
           {
            "colorbar": {
             "outlinewidth": 0,
             "ticks": ""
            },
            "colorscale": [
             [
              0,
              "#0d0887"
             ],
             [
              0.1111111111111111,
              "#46039f"
             ],
             [
              0.2222222222222222,
              "#7201a8"
             ],
             [
              0.3333333333333333,
              "#9c179e"
             ],
             [
              0.4444444444444444,
              "#bd3786"
             ],
             [
              0.5555555555555556,
              "#d8576b"
             ],
             [
              0.6666666666666666,
              "#ed7953"
             ],
             [
              0.7777777777777778,
              "#fb9f3a"
             ],
             [
              0.8888888888888888,
              "#fdca26"
             ],
             [
              1,
              "#f0f921"
             ]
            ],
            "type": "heatmap"
           }
          ],
          "histogram": [
           {
            "marker": {
             "pattern": {
              "fillmode": "overlay",
              "size": 10,
              "solidity": 0.2
             }
            },
            "type": "histogram"
           }
          ],
          "histogram2d": [
           {
            "colorbar": {
             "outlinewidth": 0,
             "ticks": ""
            },
            "colorscale": [
             [
              0,
              "#0d0887"
             ],
             [
              0.1111111111111111,
              "#46039f"
             ],
             [
              0.2222222222222222,
              "#7201a8"
             ],
             [
              0.3333333333333333,
              "#9c179e"
             ],
             [
              0.4444444444444444,
              "#bd3786"
             ],
             [
              0.5555555555555556,
              "#d8576b"
             ],
             [
              0.6666666666666666,
              "#ed7953"
             ],
             [
              0.7777777777777778,
              "#fb9f3a"
             ],
             [
              0.8888888888888888,
              "#fdca26"
             ],
             [
              1,
              "#f0f921"
             ]
            ],
            "type": "histogram2d"
           }
          ],
          "histogram2dcontour": [
           {
            "colorbar": {
             "outlinewidth": 0,
             "ticks": ""
            },
            "colorscale": [
             [
              0,
              "#0d0887"
             ],
             [
              0.1111111111111111,
              "#46039f"
             ],
             [
              0.2222222222222222,
              "#7201a8"
             ],
             [
              0.3333333333333333,
              "#9c179e"
             ],
             [
              0.4444444444444444,
              "#bd3786"
             ],
             [
              0.5555555555555556,
              "#d8576b"
             ],
             [
              0.6666666666666666,
              "#ed7953"
             ],
             [
              0.7777777777777778,
              "#fb9f3a"
             ],
             [
              0.8888888888888888,
              "#fdca26"
             ],
             [
              1,
              "#f0f921"
             ]
            ],
            "type": "histogram2dcontour"
           }
          ],
          "mesh3d": [
           {
            "colorbar": {
             "outlinewidth": 0,
             "ticks": ""
            },
            "type": "mesh3d"
           }
          ],
          "parcoords": [
           {
            "line": {
             "colorbar": {
              "outlinewidth": 0,
              "ticks": ""
             }
            },
            "type": "parcoords"
           }
          ],
          "pie": [
           {
            "automargin": true,
            "type": "pie"
           }
          ],
          "scatter": [
           {
            "fillpattern": {
             "fillmode": "overlay",
             "size": 10,
             "solidity": 0.2
            },
            "type": "scatter"
           }
          ],
          "scatter3d": [
           {
            "line": {
             "colorbar": {
              "outlinewidth": 0,
              "ticks": ""
             }
            },
            "marker": {
             "colorbar": {
              "outlinewidth": 0,
              "ticks": ""
             }
            },
            "type": "scatter3d"
           }
          ],
          "scattercarpet": [
           {
            "marker": {
             "colorbar": {
              "outlinewidth": 0,
              "ticks": ""
             }
            },
            "type": "scattercarpet"
           }
          ],
          "scattergeo": [
           {
            "marker": {
             "colorbar": {
              "outlinewidth": 0,
              "ticks": ""
             }
            },
            "type": "scattergeo"
           }
          ],
          "scattergl": [
           {
            "marker": {
             "colorbar": {
              "outlinewidth": 0,
              "ticks": ""
             }
            },
            "type": "scattergl"
           }
          ],
          "scattermap": [
           {
            "marker": {
             "colorbar": {
              "outlinewidth": 0,
              "ticks": ""
             }
            },
            "type": "scattermap"
           }
          ],
          "scattermapbox": [
           {
            "marker": {
             "colorbar": {
              "outlinewidth": 0,
              "ticks": ""
             }
            },
            "type": "scattermapbox"
           }
          ],
          "scatterpolar": [
           {
            "marker": {
             "colorbar": {
              "outlinewidth": 0,
              "ticks": ""
             }
            },
            "type": "scatterpolar"
           }
          ],
          "scatterpolargl": [
           {
            "marker": {
             "colorbar": {
              "outlinewidth": 0,
              "ticks": ""
             }
            },
            "type": "scatterpolargl"
           }
          ],
          "scatterternary": [
           {
            "marker": {
             "colorbar": {
              "outlinewidth": 0,
              "ticks": ""
             }
            },
            "type": "scatterternary"
           }
          ],
          "surface": [
           {
            "colorbar": {
             "outlinewidth": 0,
             "ticks": ""
            },
            "colorscale": [
             [
              0,
              "#0d0887"
             ],
             [
              0.1111111111111111,
              "#46039f"
             ],
             [
              0.2222222222222222,
              "#7201a8"
             ],
             [
              0.3333333333333333,
              "#9c179e"
             ],
             [
              0.4444444444444444,
              "#bd3786"
             ],
             [
              0.5555555555555556,
              "#d8576b"
             ],
             [
              0.6666666666666666,
              "#ed7953"
             ],
             [
              0.7777777777777778,
              "#fb9f3a"
             ],
             [
              0.8888888888888888,
              "#fdca26"
             ],
             [
              1,
              "#f0f921"
             ]
            ],
            "type": "surface"
           }
          ],
          "table": [
           {
            "cells": {
             "fill": {
              "color": "#EBF0F8"
             },
             "line": {
              "color": "white"
             }
            },
            "header": {
             "fill": {
              "color": "#C8D4E3"
             },
             "line": {
              "color": "white"
             }
            },
            "type": "table"
           }
          ]
         },
         "layout": {
          "annotationdefaults": {
           "arrowcolor": "#2a3f5f",
           "arrowhead": 0,
           "arrowwidth": 1
          },
          "autotypenumbers": "strict",
          "coloraxis": {
           "colorbar": {
            "outlinewidth": 0,
            "ticks": ""
           }
          },
          "colorscale": {
           "diverging": [
            [
             0,
             "#8e0152"
            ],
            [
             0.1,
             "#c51b7d"
            ],
            [
             0.2,
             "#de77ae"
            ],
            [
             0.3,
             "#f1b6da"
            ],
            [
             0.4,
             "#fde0ef"
            ],
            [
             0.5,
             "#f7f7f7"
            ],
            [
             0.6,
             "#e6f5d0"
            ],
            [
             0.7,
             "#b8e186"
            ],
            [
             0.8,
             "#7fbc41"
            ],
            [
             0.9,
             "#4d9221"
            ],
            [
             1,
             "#276419"
            ]
           ],
           "sequential": [
            [
             0,
             "#0d0887"
            ],
            [
             0.1111111111111111,
             "#46039f"
            ],
            [
             0.2222222222222222,
             "#7201a8"
            ],
            [
             0.3333333333333333,
             "#9c179e"
            ],
            [
             0.4444444444444444,
             "#bd3786"
            ],
            [
             0.5555555555555556,
             "#d8576b"
            ],
            [
             0.6666666666666666,
             "#ed7953"
            ],
            [
             0.7777777777777778,
             "#fb9f3a"
            ],
            [
             0.8888888888888888,
             "#fdca26"
            ],
            [
             1,
             "#f0f921"
            ]
           ],
           "sequentialminus": [
            [
             0,
             "#0d0887"
            ],
            [
             0.1111111111111111,
             "#46039f"
            ],
            [
             0.2222222222222222,
             "#7201a8"
            ],
            [
             0.3333333333333333,
             "#9c179e"
            ],
            [
             0.4444444444444444,
             "#bd3786"
            ],
            [
             0.5555555555555556,
             "#d8576b"
            ],
            [
             0.6666666666666666,
             "#ed7953"
            ],
            [
             0.7777777777777778,
             "#fb9f3a"
            ],
            [
             0.8888888888888888,
             "#fdca26"
            ],
            [
             1,
             "#f0f921"
            ]
           ]
          },
          "colorway": [
           "#636efa",
           "#EF553B",
           "#00cc96",
           "#ab63fa",
           "#FFA15A",
           "#19d3f3",
           "#FF6692",
           "#B6E880",
           "#FF97FF",
           "#FECB52"
          ],
          "font": {
           "color": "#2a3f5f"
          },
          "geo": {
           "bgcolor": "white",
           "lakecolor": "white",
           "landcolor": "#E5ECF6",
           "showlakes": true,
           "showland": true,
           "subunitcolor": "white"
          },
          "hoverlabel": {
           "align": "left"
          },
          "hovermode": "closest",
          "mapbox": {
           "style": "light"
          },
          "paper_bgcolor": "white",
          "plot_bgcolor": "#E5ECF6",
          "polar": {
           "angularaxis": {
            "gridcolor": "white",
            "linecolor": "white",
            "ticks": ""
           },
           "bgcolor": "#E5ECF6",
           "radialaxis": {
            "gridcolor": "white",
            "linecolor": "white",
            "ticks": ""
           }
          },
          "scene": {
           "xaxis": {
            "backgroundcolor": "#E5ECF6",
            "gridcolor": "white",
            "gridwidth": 2,
            "linecolor": "white",
            "showbackground": true,
            "ticks": "",
            "zerolinecolor": "white"
           },
           "yaxis": {
            "backgroundcolor": "#E5ECF6",
            "gridcolor": "white",
            "gridwidth": 2,
            "linecolor": "white",
            "showbackground": true,
            "ticks": "",
            "zerolinecolor": "white"
           },
           "zaxis": {
            "backgroundcolor": "#E5ECF6",
            "gridcolor": "white",
            "gridwidth": 2,
            "linecolor": "white",
            "showbackground": true,
            "ticks": "",
            "zerolinecolor": "white"
           }
          },
          "shapedefaults": {
           "line": {
            "color": "#2a3f5f"
           }
          },
          "ternary": {
           "aaxis": {
            "gridcolor": "white",
            "linecolor": "white",
            "ticks": ""
           },
           "baxis": {
            "gridcolor": "white",
            "linecolor": "white",
            "ticks": ""
           },
           "bgcolor": "#E5ECF6",
           "caxis": {
            "gridcolor": "white",
            "linecolor": "white",
            "ticks": ""
           }
          },
          "title": {
           "x": 0.05
          },
          "xaxis": {
           "automargin": true,
           "gridcolor": "white",
           "linecolor": "white",
           "ticks": "",
           "title": {
            "standoff": 15
           },
           "zerolinecolor": "white",
           "zerolinewidth": 2
          },
          "yaxis": {
           "automargin": true,
           "gridcolor": "white",
           "linecolor": "white",
           "ticks": "",
           "title": {
            "standoff": 15
           },
           "zerolinecolor": "white",
           "zerolinewidth": 2
          }
         }
        },
        "xaxis": {
         "autorange": "reversed",
         "dtick": 1,
         "tickmode": "linear",
         "title": {
          "text": "Y axis (Left)"
         },
         "zerolinecolor": "gray",
         "zerolinewidth": 3
        },
        "yaxis": {
         "dtick": 1,
         "scaleanchor": "x",
         "tickmode": "linear",
         "title": {
          "text": "X axis (Forward)"
         },
         "zerolinecolor": "gray",
         "zerolinewidth": 3
        }
       }
      }
     },
     "metadata": {},
     "output_type": "display_data"
    },
    {
     "name": "stdout",
     "output_type": "stream",
     "text": [
      "(0.2, -1.0)\n"
     ]
    }
   ],
   "source": [
    "# print(f\"candidate arcs shape: {planner.np_candidate_arcs.shape}\")\n",
    "waypoint = np.array([4.25, 4.25])\n",
    "# current_pose = np.eye(4)\n",
    "test_rock_points_rover_frame = np.array([[]])\n",
    "test_rock_data = []\n",
    "control, best_arc, waypoint_local = planner.plan_arc(\n",
    "    waypoint, current_pose, test_rock_points_rover_frame, test_rock_data\n",
    ")\n",
    "# (v,w), waypoint_local = planner.plan_arc(waypoint, current_pose, test_rock_points_rover_frame, test_rock_data)\n",
    "# print(waypoint_local)\n",
    "# fig = plot_rocks_rover_frame(\n",
    "#     test_rock_points_rover_frame, test_rock_data, waypoint=waypoint_local, color=\"red\"\n",
    "# )\n",
    "print(f\"waypoint_local{waypoint_local}\")\n",
    "fig = go.Figure()\n",
    "for arc in arcs:\n",
    "    fig = plot_path_rover_frame(arc, fig=fig)\n",
    "fig = plot_path_rover_frame(best_arc, color=\"green\", waypoint=waypoint_local, fig=fig)\n",
    "\n",
    "fig.show()\n",
    "print(control)\n"
   ]
  },
  {
   "cell_type": "code",
   "execution_count": null,
   "metadata": {},
   "outputs": [],
   "source": []
  }
 ],
 "metadata": {
  "kernelspec": {
   "display_name": "lac",
   "language": "python",
   "name": "python3"
  },
  "language_info": {
   "codemirror_mode": {
    "name": "ipython",
    "version": 3
   },
   "file_extension": ".py",
   "mimetype": "text/x-python",
   "name": "python",
   "nbconvert_exporter": "python",
   "pygments_lexer": "ipython3",
   "version": "3.10.16"
  }
 },
 "nbformat": 4,
 "nbformat_minor": 2
}
