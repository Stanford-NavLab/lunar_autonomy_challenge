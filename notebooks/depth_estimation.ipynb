{
 "cells": [
  {
   "cell_type": "code",
   "execution_count": null,
   "metadata": {},
   "outputs": [],
   "source": [
    "from transformers import pipeline\n",
    "import torch\n",
    "from PIL import Image\n",
    "import os\n",
    "import cv2 as cv\n",
    "import numpy as np\n",
    "import matplotlib.pyplot as plt\n",
    "from pathlib import Path\n",
    "\n",
    "from lac.util import load_data\n",
    "import lac.params as params\n",
    "\n",
    "%load_ext autoreload\n",
    "%autoreload 2"
   ]
  },
  {
   "cell_type": "markdown",
   "metadata": {},
   "source": [
    "## Depth-Anything from HuggingFace\n"
   ]
  },
  {
   "cell_type": "code",
   "execution_count": null,
   "metadata": {},
   "outputs": [],
   "source": [
    "device = \"cuda\" if torch.cuda.is_available() else \"cpu\"\n",
    "checkpoint = \"depth-anything/Depth-Anything-V2-base-hf\"\n",
    "pipe = pipeline(\"depth-estimation\", model=checkpoint, device=device)"
   ]
  },
  {
   "cell_type": "code",
   "execution_count": null,
   "metadata": {},
   "outputs": [],
   "source": [
    "data_path = Path(\"../../output/NavAgent/map1_preset4_gtnav_steer\")\n",
    "initial_pose, lander_pose, poses, imu_data, cam_config = load_data(data_path)"
   ]
  },
  {
   "cell_type": "code",
   "execution_count": null,
   "metadata": {},
   "outputs": [],
   "source": [
    "i = 1600\n",
    "\n",
    "# image_path = os.path.expanduser(\n",
    "#     \"~/LunarAutonomyChallenge/output/Old/data_collection_1/front_left/{}.png\".format(i)\n",
    "# )\n",
    "# image = Image.open(image_path)\n",
    "image = Image.open(data_path / \"FrontLeft\" / f\"{i}.png\")\n",
    "\n",
    "predictions = pipe(image)\n",
    "\n",
    "# Plot image and predicted depth side by side\n",
    "fig, axes = plt.subplots(1, 2, figsize=(20, 10), dpi=300, gridspec_kw={\"wspace\": 0, \"hspace\": 0})\n",
    "axes[0].imshow(image, cmap=\"gray\")\n",
    "axes[1].imshow(predictions[\"depth\"], cmap=\"gray\")\n",
    "for ax in axes:\n",
    "    ax.axis(\"off\")\n",
    "plt.subplots_adjust(wspace=0, hspace=0)\n",
    "plt.show()"
   ]
  },
  {
   "cell_type": "code",
   "execution_count": null,
   "metadata": {},
   "outputs": [],
   "source": [
    "fig = plt.figure(figsize=(10, 5), dpi=100)\n",
    "plt.imshow(predictions[\"depth\"], cmap=\"gray\")\n",
    "plt.axis(\"off\")\n",
    "plt.show()"
   ]
  },
  {
   "cell_type": "markdown",
   "metadata": {},
   "source": [
    "## Apple Depth Pro\n"
   ]
  },
  {
   "cell_type": "code",
   "execution_count": null,
   "metadata": {},
   "outputs": [],
   "source": [
    "import depth_pro"
   ]
  },
  {
   "cell_type": "code",
   "execution_count": null,
   "metadata": {},
   "outputs": [],
   "source": [
    "# Load model and preprocessing transform\n",
    "model, transform = depth_pro.create_model_and_transforms(device=device)\n",
    "model.eval()\n",
    "\n",
    "# Load and preprocess an image.\n",
    "image, _, f_px = depth_pro.load_rgb(image_path)\n",
    "image = transform(image)\n",
    "\n",
    "# Run inference.\n",
    "prediction = model.infer(image, f_px=f_px)\n",
    "depth = prediction[\"depth\"]  # Depth in [m].\n",
    "focallength_px = prediction[\"focallength_px\"]  # Focal length in pixels."
   ]
  },
  {
   "cell_type": "code",
   "execution_count": null,
   "metadata": {},
   "outputs": [],
   "source": [
    "plt.imshow(depth.cpu(), cmap=\"gray\")"
   ]
  },
  {
   "cell_type": "markdown",
   "metadata": {},
   "source": [
    "## Stereo\n",
    "\n",
    "- Stereo baseline = 0.162 m\n",
    "- All cameras horizontal FOV = 1.22 radians (70 degrees)\n",
    "\n",
    "\"The cameras are modelled as perfect pinhole cameras with square pixels, there is no lens distortion. Lens flare from the sun is modelled, this should be considered as a potential source of error in segmentation and feature detection. Each camera has the same field of view of 1.22 radians (70 degrees). The resolution is set by the agent upon initialization in the sensors() method. The maximum resolution allowed is 2448 x 2048 pixels, if a resolution higher than this is requested the resolution will be clipped to the maximum and a warning will be given on the command line.\"\n",
    "\n",
    "From discord:\n",
    "\"Effectively, there is no focal length because the simulator does not model a physical camera, it is modelled as a perfect pinhole camera. Normally, the focal length is given in mm and to relate a pixel coordinate to a line extending from the camera center into the world, you need to use the pixel dimensions in mm.\n",
    "\n",
    "The trick is to express the focal length in terms of pixels. Draw the camera geometry in a diagram, the focal length is the distance between the camera center and the image plane. You also know the width and height of the sensor in terms of pixels because you set this in your agent set up, you also know the FOV of the camera. Using triangular geometric relations you can express the focal length in terms of pixels.\"\n"
   ]
  },
  {
   "cell_type": "code",
   "execution_count": null,
   "metadata": {},
   "outputs": [],
   "source": [
    "W, H = 1280, 720\n",
    "FOV = 1.22  # radians\n",
    "BASELINE = 0.162  # meters\n",
    "\n",
    "data_path = Path(\"../../output/data_collection_1\")"
   ]
  },
  {
   "cell_type": "code",
   "execution_count": null,
   "metadata": {},
   "outputs": [],
   "source": [
    "i = 40\n",
    "\n",
    "left_image_path = data_path / \"front_left\" / f\"{i}.png\"\n",
    "right_image_path = data_path / \"front_right\" / f\"{i}.png\"\n",
    "left_image = Image.open(left_image_path)\n",
    "right_image = Image.open(data_path / \"front_right\" / f\"{i}.png\")\n",
    "\n",
    "# Plot image and predicted depth side by side\n",
    "fig, axes = plt.subplots(1, 2, figsize=(20, 10), gridspec_kw={\"wspace\": 0, \"hspace\": 0})\n",
    "axes[0].imshow(left_image, cmap=\"gray\")\n",
    "axes[1].imshow(right_image, cmap=\"gray\")\n",
    "for ax in axes:\n",
    "    ax.axis(\"off\")\n",
    "plt.subplots_adjust(wspace=0, hspace=0)\n",
    "plt.show()"
   ]
  },
  {
   "cell_type": "markdown",
   "metadata": {},
   "source": [
    "### OpenCV\n"
   ]
  },
  {
   "cell_type": "code",
   "execution_count": null,
   "metadata": {},
   "outputs": [],
   "source": [
    "from lac.perception.depth import compute_stereo_depth"
   ]
  },
  {
   "cell_type": "code",
   "execution_count": null,
   "metadata": {},
   "outputs": [],
   "source": [
    "focal_length_x = W / (2 * np.tan(FOV / 2))\n",
    "focal_length_y = H / (2 * np.tan(FOV / 2))\n",
    "\n",
    "disparity, depth = compute_stereo_depth(\n",
    "    np.array(left_image), np.array(right_image), BASELINE, focal_length_x, semi_global=False\n",
    ")"
   ]
  },
  {
   "cell_type": "code",
   "execution_count": null,
   "metadata": {},
   "outputs": [],
   "source": [
    "print(focal_length_x, focal_length_y)"
   ]
  },
  {
   "cell_type": "code",
   "execution_count": null,
   "metadata": {},
   "outputs": [],
   "source": [
    "fig, axes = plt.subplots(1, 2, figsize=(20, 10), gridspec_kw={\"wspace\": 0, \"hspace\": 0})\n",
    "axes[0].imshow(disparity, cmap=\"gray\")\n",
    "axes[1].imshow(depth, cmap=\"gray\")\n",
    "for ax in axes:\n",
    "    ax.axis(\"off\")\n",
    "plt.subplots_adjust(wspace=0, hspace=0)\n",
    "plt.show()"
   ]
  },
  {
   "cell_type": "markdown",
   "metadata": {},
   "source": [
    "## LightGlue matching\n"
   ]
  },
  {
   "cell_type": "code",
   "execution_count": null,
   "metadata": {},
   "outputs": [],
   "source": [
    "from lightglue import LightGlue, SuperPoint, DISK, SIFT, ALIKED, DoGHardNet\n",
    "from lightglue.utils import load_image, rbd\n",
    "from lightglue import match_pair, viz2d\n",
    "\n",
    "from lac.params import FL_X, STEREO_BASELINE\n",
    "from lac.util import load_data"
   ]
  },
  {
   "cell_type": "code",
   "execution_count": null,
   "metadata": {},
   "outputs": [],
   "source": [
    "data_path = os.path.expanduser(\"~/LunarAutonomyChallenge/output/NavAgent/map1_preset4_gtnav_steer\")\n",
    "initial_pose, lander_pose, poses, imu_data, cam_config = load_data(data_path)\n",
    "\n",
    "i = 100\n",
    "I1_path = os.path.join(data_path, \"FrontLeft\", f\"{i}.png\")\n",
    "I2_path = os.path.join(data_path, \"FrontRight\", f\"{i}.png\")\n",
    "I1 = cv.imread(I1_path, cv.IMREAD_GRAYSCALE)\n",
    "I2 = cv.imread(I2_path, cv.IMREAD_GRAYSCALE)\n",
    "\n",
    "# Plot images side by side\n",
    "fig, ax = plt.subplots(1, 2, figsize=(15, 15))\n",
    "ax[0].imshow(I1, cmap=\"gray\")\n",
    "ax[1].imshow(I2, cmap=\"gray\")\n",
    "plt.show()"
   ]
  },
  {
   "cell_type": "code",
   "execution_count": null,
   "metadata": {},
   "outputs": [],
   "source": [
    "def grayscale_to_3ch_tensor(np_image):\n",
    "    # Ensure the input is float32 (or float64 if needed)\n",
    "    np_image = np_image.astype(np.float32) / 255.0 if np_image.max() > 1 else np_image\n",
    "    # Add channel dimension and repeat across 3 channels\n",
    "    torch_tensor = torch.from_numpy(np_image).unsqueeze(0).repeat(3, 1, 1)\n",
    "    return torch_tensor"
   ]
  },
  {
   "cell_type": "code",
   "execution_count": null,
   "metadata": {},
   "outputs": [],
   "source": [
    "# SuperPoint+LightGlue\n",
    "extractor = SuperPoint(max_num_keypoints=2048).eval().cuda()  # load the extractor\n",
    "matcher = LightGlue(features=\"superpoint\").eval().cuda()  # load the matcher\n",
    "\n",
    "# load each image as a torch.Tensor on GPU with shape (3,H,W), normalized in [0,1]\n",
    "image0 = grayscale_to_3ch_tensor(I1).cuda()\n",
    "image1 = grayscale_to_3ch_tensor(I2).cuda()\n",
    "\n",
    "feats0, feats1, matches01 = match_pair(extractor, matcher, image0, image1)\n",
    "matches = matches01[\"matches\"]  # indices with shape (K,2)\n",
    "points0 = feats0[\"keypoints\"][matches[..., 0]]  # coordinates in image #0, shape (K,2)\n",
    "points1 = feats1[\"keypoints\"][matches[..., 1]]  # coordinates in image #1, shape (K,2)"
   ]
  },
  {
   "cell_type": "code",
   "execution_count": null,
   "metadata": {},
   "outputs": [],
   "source": [
    "disparities = (points0 - points1)[:, 0]\n",
    "depths = FL_X * STEREO_BASELINE / disparities"
   ]
  },
  {
   "cell_type": "code",
   "execution_count": null,
   "metadata": {},
   "outputs": [],
   "source": [
    "# Plot depths on top of left image\n",
    "fig, ax = plt.subplots(1, 1, figsize=(15, 15))\n",
    "ax.imshow(I1, cmap=\"gray\")\n",
    "ax.scatter(points0[:, 0], points0[:, 1], c=depths, cmap=\"viridis\", s=5)\n",
    "plt.show()"
   ]
  },
  {
   "cell_type": "code",
   "execution_count": null,
   "metadata": {},
   "outputs": [],
   "source": [
    "from lac.perception.vision import project_pixel_to_3D\n",
    "from lac.params import CAMERA_INTRINSICS\n",
    "from lac.utils.plotting import plot_3d_points, plot_surface\n",
    "from lac.utils.frames import opencv_to_camera, get_cam_pose_rover, apply_transform"
   ]
  },
  {
   "cell_type": "code",
   "execution_count": null,
   "metadata": {},
   "outputs": [],
   "source": [
    "CAM_TO_ROVER = get_cam_pose_rover(\"FrontLeft\")\n",
    "rover_pose = poses[i]\n",
    "world_points = []\n",
    "\n",
    "for point, depth in zip(points0, depths):\n",
    "    point_opencv = project_pixel_to_3D(point, depth, CAMERA_INTRINSICS)\n",
    "    point_cam = opencv_to_camera(point_opencv)\n",
    "    point_rover = apply_transform(CAM_TO_ROVER, point_cam)\n",
    "    point_world = apply_transform(rover_pose, point_rover)\n",
    "    world_points.append(point_world)\n",
    "\n",
    "world_points = np.array(world_points)"
   ]
  },
  {
   "cell_type": "code",
   "execution_count": null,
   "metadata": {},
   "outputs": [],
   "source": [
    "map = np.load(\"../../data/heightmaps/competition/Moon_Map_01_preset_0.dat\", allow_pickle=True)"
   ]
  },
  {
   "cell_type": "code",
   "execution_count": null,
   "metadata": {},
   "outputs": [],
   "source": [
    "fig = plot_surface(map)\n",
    "fig = plot_3d_points(world_points, color=\"red\", markersize=3, fig=fig)\n",
    "fig.update_layout(width=1600, height=900, scene_aspectmode=\"data\")\n",
    "fig.show()"
   ]
  },
  {
   "cell_type": "code",
   "execution_count": null,
   "metadata": {},
   "outputs": [],
   "source": [
    "fig.write_html(\"lightglue_stereo.html\")"
   ]
  },
  {
   "cell_type": "code",
   "execution_count": null,
   "metadata": {},
   "outputs": [],
   "source": [
    "axes = viz2d.plot_images([image0, image1])\n",
    "viz2d.plot_matches(points0, points1, color=\"lime\", lw=0.2)\n",
    "viz2d.add_text(0, f\"Stop after {matches01['stop']} layers\", fs=20)\n",
    "\n",
    "kpc0, kpc1 = viz2d.cm_prune(matches01[\"prune0\"]), viz2d.cm_prune(matches01[\"prune1\"])\n",
    "viz2d.plot_images([image0, image1])\n",
    "viz2d.plot_keypoints([feats0[\"keypoints\"], feats1[\"keypoints\"]], colors=[kpc0, kpc1], ps=10)"
   ]
  },
  {
   "cell_type": "markdown",
   "metadata": {},
   "source": [
    "# Stereo with segmentation\n"
   ]
  },
  {
   "cell_type": "code",
   "execution_count": null,
   "metadata": {},
   "outputs": [],
   "source": [
    "from lac.util import load_data\n",
    "from lac.utils.visualization import overlay_mask\n",
    "from lac.perception.segmentation import Segmentation\n",
    "from lac.perception.vision import project_pixel_to_3D"
   ]
  },
  {
   "cell_type": "code",
   "execution_count": null,
   "metadata": {},
   "outputs": [],
   "source": [
    "segmentation = Segmentation()"
   ]
  },
  {
   "cell_type": "code",
   "execution_count": null,
   "metadata": {},
   "outputs": [],
   "source": [
    "data_path = Path(\"../../output/nav_agent_preset_2_seed_4\")\n",
    "initial_pose, lander_pose, poses, imu_data, cam_config = load_data(data_path)"
   ]
  },
  {
   "cell_type": "code",
   "execution_count": null,
   "metadata": {},
   "outputs": [],
   "source": [
    "i = 1020\n",
    "\n",
    "left_image = Image.open(data_path / \"FrontLeft\" / f\"{i}.png\")\n",
    "right_image = Image.open(data_path / \"FrontRight\" / f\"{i}.png\")\n",
    "\n",
    "left_seg_results, left_seg_mask = segmentation.segment_rocks(left_image.convert(\"RGB\"))\n",
    "right_seg_results, right_seg_mask = segmentation.segment_rocks(right_image.convert(\"RGB\"))\n",
    "\n",
    "left_overlay = overlay_mask(np.array(left_image), left_seg_mask)\n",
    "right_overlay = overlay_mask(np.array(right_image), right_seg_mask)\n",
    "\n",
    "# Plot image and predicted depth side by side\n",
    "fig, axes = plt.subplots(1, 2, figsize=(20, 10), gridspec_kw={\"wspace\": 0, \"hspace\": 0})\n",
    "axes[0].imshow(left_overlay)\n",
    "axes[1].imshow(right_overlay)\n",
    "for ax in axes:\n",
    "    ax.axis(\"off\")\n",
    "plt.subplots_adjust(wspace=0, hspace=0)\n",
    "plt.show()"
   ]
  },
  {
   "cell_type": "code",
   "execution_count": null,
   "metadata": {},
   "outputs": [],
   "source": [
    "from lac.perception.depth import stereo_depth_from_segmentation, project_depths_to_world\n",
    "from lac.utils.visualization import overlay_stereo_rock_depths\n",
    "\n",
    "results = stereo_depth_from_segmentation(\n",
    "    left_seg_results, right_seg_results, params.STEREO_BASELINE, params.FL_X\n",
    ")\n",
    "left_overlay = overlay_stereo_rock_depths(left_overlay, results)\n",
    "plt.imshow(left_overlay)"
   ]
  },
  {
   "cell_type": "code",
   "execution_count": null,
   "metadata": {},
   "outputs": [],
   "source": [
    "for result in results:\n",
    "    point = project_pixel_to_3D(result[\"left_centroid\"], result[\"depth\"], params.CAMERA_INTRINSICS)\n",
    "    print(point)"
   ]
  },
  {
   "cell_type": "code",
   "execution_count": null,
   "metadata": {},
   "outputs": [],
   "source": [
    "rover_pose = poses[i]\n",
    "\n",
    "project_depths_to_world(results, rover_pose, cam_name=\"FrontLeft\", cam_config=cam_config)"
   ]
  },
  {
   "cell_type": "markdown",
   "metadata": {},
   "source": [
    "We can also have a matching method based on the masks themselves, i.e., for each predicted mask in left image,\n",
    "search for the most similar mask in the right image.\n"
   ]
  },
  {
   "cell_type": "markdown",
   "metadata": {},
   "source": [
    "# Heightmap reprojection\n"
   ]
  },
  {
   "cell_type": "code",
   "execution_count": null,
   "metadata": {},
   "outputs": [],
   "source": [
    "heightmap_path = \"../../data/heightmaps/Moon_Map_01_0_rep0.dat\"\n",
    "heightmap = np.load(heightmap_path, allow_pickle=True)\n",
    "heightmap.shape"
   ]
  },
  {
   "cell_type": "code",
   "execution_count": null,
   "metadata": {},
   "outputs": [],
   "source": [
    "camera_pose = np.eye(4)"
   ]
  },
  {
   "cell_type": "code",
   "execution_count": null,
   "metadata": {},
   "outputs": [],
   "source": []
  }
 ],
 "metadata": {
  "kernelspec": {
   "display_name": "lac",
   "language": "python",
   "name": "python3"
  },
  "language_info": {
   "codemirror_mode": {
    "name": "ipython",
    "version": 3
   },
   "file_extension": ".py",
   "mimetype": "text/x-python",
   "name": "python",
   "nbconvert_exporter": "python",
   "pygments_lexer": "ipython3",
   "version": "3.10.16"
  }
 },
 "nbformat": 4,
 "nbformat_minor": 2
}
