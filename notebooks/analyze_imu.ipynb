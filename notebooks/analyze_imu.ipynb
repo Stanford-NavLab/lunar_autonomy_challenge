{
 "cells": [
  {
   "cell_type": "markdown",
   "metadata": {},
   "source": [
    "## Analyze IMU Errors on the dataset\n"
   ]
  },
  {
   "cell_type": "code",
   "execution_count": 1,
   "metadata": {},
   "outputs": [],
   "source": [
    "import numpy as np\n",
    "import pandas as pd\n",
    "import plotly.graph_objects as go\n",
    "import json\n",
    "import matplotlib.pyplot as plt\n",
    "\n",
    "# Get environment variables\n",
    "import sys\n",
    "\n",
    "sys.path.append(\"..\")  # Add the parent directory of notebooks to sys.path\n",
    "\n",
    "from lac.plotting import pose_traces\n",
    "\n",
    "%load_ext autoreload\n",
    "%autoreload 2"
   ]
  },
  {
   "cell_type": "markdown",
   "metadata": {},
   "source": [
    "# IMU reverse engineering\n",
    "\n",
    "Reference: `Leaderboard/leaderboard/agents/imu.py`\n"
   ]
  },
  {
   "cell_type": "code",
   "execution_count": 2,
   "metadata": {},
   "outputs": [],
   "source": [
    "from scipy.spatial.transform import Rotation\n",
    "\n",
    "from lac.util import skew_symmetric, normalize_rotation_matrix"
   ]
  },
  {
   "cell_type": "code",
   "execution_count": null,
   "metadata": {},
   "outputs": [],
   "source": [
    "# casename = \"20hz_seed4\"\n",
    "# data_path = \"../../output/imu/\" + casename + \".json\"\n",
    "data_path = \"../../output/imu_20hz/data_log.json\"\n",
    "json_data = json.load(open(f\"{data_path}\"))\n",
    "\n",
    "poses = []\n",
    "imu_data = []\n",
    "\n",
    "for frame in json_data[\"frames\"]:\n",
    "    poses.append(np.array(frame[\"pose\"]))\n",
    "    imu_data.append(np.array(frame[\"imu\"]))\n",
    "\n",
    "imu_data = np.array(imu_data)"
   ]
  },
  {
   "cell_type": "markdown",
   "metadata": {},
   "source": [
    "## Backing out rotations from gyro\n"
   ]
  },
  {
   "cell_type": "code",
   "execution_count": null,
   "metadata": {},
   "outputs": [],
   "source": [
    "i = 1000\n",
    "\n",
    "R_0 = poses[i - 1][:3, :3]\n",
    "\n",
    "w_hat = skew_symmetric(imu_data[i, 3:])\n",
    "dt = 0.05\n",
    "R_1 = (np.eye(3) - w_hat * dt).T @ R_0\n",
    "# R_1 = normalize_rotation_matrix(R_1)\n",
    "print(\"estimated: \\n\", R_1)\n",
    "print(\"actual: \\n\", poses[i][:3, :3])\n",
    "print(\"diff: \\n\", R_1 - poses[i][:3, :3])"
   ]
  },
  {
   "cell_type": "code",
   "execution_count": null,
   "metadata": {},
   "outputs": [],
   "source": [
    "from scipy.optimize import fsolve\n",
    "\n",
    "i = 1\n",
    "R_0 = poses[i - 1][:3, :3]\n",
    "omega = imu_data[i, 3:]\n",
    "dt = 0.05\n",
    "\n",
    "\n",
    "def equations(vars):\n",
    "    qr, qi, qj, qk = vars\n",
    "    return [\n",
    "        (\n",
    "            -2 * (qi * qk - qj * qr) * R_0[0, 0]\n",
    "            - 2 * (qj * qk + qi * qr) * R_0[0, 1]\n",
    "            - (1 - 2 * (qi**2 + qj**2)) * R_0[0, 2]\n",
    "        )\n",
    "        / dt\n",
    "        - omega[2],\n",
    "        (\n",
    "            -((1 - 2 * (qj**2 + qk**2)) * R_0[1, 0])\n",
    "            - 2 * (qi * qj - qk * qr) * R_0[1, 1]\n",
    "            - 2 * (qi * qk + qj * qr) * R_0[1, 2]\n",
    "        )\n",
    "        / dt\n",
    "        - omega[0],\n",
    "        (\n",
    "            -2 * (qi * qj + qk * qr) * R_0[2, 0]\n",
    "            - (1 - 2 * (qi**2 + qk**2)) * R_0[2, 1]\n",
    "            - 2 * (qj * qk - qi * qr) * R_0[2, 2]\n",
    "        )\n",
    "        / dt\n",
    "        - omega[1],\n",
    "        qr**2 + qi**2 + qj**2 + qk**2 - 1,\n",
    "    ]\n",
    "\n",
    "\n",
    "initial_guess = Rotation.from_matrix(poses[i][:3, :3]).as_quat(scalar_first=True)\n",
    "qr, qi, qj, qk = fsolve(equations, initial_guess, xtol=1e-20)\n",
    "R_1 = Rotation.from_quat([qi, qj, qk, qr]).as_matrix()\n",
    "print(\"estimated: \\n\", R_1)\n",
    "print(\"actual: \\n\", poses[i][:3, :3])\n",
    "# print(\"actual: \\n\", R_1_true)\n",
    "print(\"error: \\n\", R_1 - poses[i][:3, :3])\n",
    "# print(\"error: \\n\", R_1 - R_1_true)"
   ]
  },
  {
   "cell_type": "code",
   "execution_count": null,
   "metadata": {},
   "outputs": [],
   "source": [
    "poses[i - 1][:3, :3]"
   ]
  },
  {
   "cell_type": "code",
   "execution_count": null,
   "metadata": {},
   "outputs": [],
   "source": [
    "imu_data[i, 3:]"
   ]
  },
  {
   "cell_type": "code",
   "execution_count": null,
   "metadata": {},
   "outputs": [],
   "source": [
    "(np.eye(3) - skew_symmetric(omega) * dt).T @ R_0"
   ]
  },
  {
   "cell_type": "code",
   "execution_count": null,
   "metadata": {},
   "outputs": [],
   "source": [
    "Omega = ((poses[i][:3, :3] - poses[i - 1][:3, :3]) / dt) @ poses[i][:3, :3].T\n",
    "print(Omega)\n",
    "print(Omega[2, 1], Omega[0, 2], Omega[1, 0])\n",
    "print(imu_data[i, 3:])"
   ]
  },
  {
   "cell_type": "code",
   "execution_count": null,
   "metadata": {},
   "outputs": [],
   "source": [
    "imu_data[i, 3]"
   ]
  },
  {
   "cell_type": "code",
   "execution_count": 23,
   "metadata": {},
   "outputs": [],
   "source": [
    "R_0 = poses[0][:3, :3]\n",
    "\n",
    "imu_rotations = []\n",
    "imu_rotations.append(R_0)\n",
    "\n",
    "for i in range(1, len(poses)):\n",
    "    w_hat = skew_symmetric(imu_data[i, 3:])\n",
    "    dt = json_data[\"frames\"][i][\"mission_time\"] - json_data[\"frames\"][i - 1][\"mission_time\"]\n",
    "    R_1 = (np.eye(3) - w_hat * dt).T @ R_0\n",
    "    R_1 = normalize_rotation_matrix(R_1)\n",
    "    imu_rotations.append(R_1)\n",
    "    R_0 = R_1"
   ]
  },
  {
   "cell_type": "code",
   "execution_count": null,
   "metadata": {},
   "outputs": [],
   "source": [
    "gt_rotations_euler = np.zeros((len(poses), 3))\n",
    "imu_rotations_euler = np.zeros((len(poses), 3))\n",
    "\n",
    "for i in range(len(poses)):\n",
    "    gt_rotations_euler[i] = Rotation.from_matrix(poses[i][:3, :3]).as_euler(\"xyz\", degrees=True)\n",
    "    imu_rotations_euler[i] = Rotation.from_matrix(imu_rotations[i]).as_euler(\"xyz\", degrees=True)\n",
    "\n",
    "fig, axes = plt.subplots(3, 1, figsize=(12, 8))\n",
    "pos_labels = [\"Roll (deg)\", \"Pitch (deg)\", \"Yaw (deg)\"]\n",
    "for i in range(3):\n",
    "    ax = axes[i]\n",
    "    ax.plot(gt_rotations_euler[:, i], label=\"True\")\n",
    "    ax.plot(imu_rotations_euler[:, i], label=\"IMU\", alpha=0.5)\n",
    "    ax.legend()\n",
    "    ax.grid()\n",
    "    ax.set_xlabel(\"Timestep (0.1 s)\")\n",
    "    ax.set_ylabel(f\"{pos_labels[i]}\")\n",
    "plt.subplots_adjust(wspace=0.0, hspace=0.3)"
   ]
  },
  {
   "cell_type": "code",
   "execution_count": null,
   "metadata": {},
   "outputs": [],
   "source": [
    "# Error plots\n",
    "fig, axes = plt.subplots(3, 1, figsize=(12, 8))\n",
    "pos_labels = [\"Roll\", \"Pitch\", \"Yaw\"]\n",
    "for i in range(3):\n",
    "    ax = axes[i]\n",
    "    ax.plot(gt_rotations_euler[:, i] - imu_rotations_euler[:, i])\n",
    "    ax.grid()\n",
    "    ax.set_xlabel(\"Timestep (0.1 s)\")\n",
    "    ax.set_ylabel(f\"{pos_labels[i]} Error (deg)\")\n",
    "plt.subplots_adjust(wspace=0.0, hspace=0.3)"
   ]
  },
  {
   "cell_type": "code",
   "execution_count": null,
   "metadata": {},
   "outputs": [],
   "source": [
    "print(\"Average error in degrees\")\n",
    "print(np.mean(np.abs(gt_rotations_euler - imu_rotations_euler), axis=0))"
   ]
  },
  {
   "cell_type": "markdown",
   "metadata": {},
   "source": [
    "## Translations from accelerometer\n"
   ]
  },
  {
   "cell_type": "code",
   "execution_count": 31,
   "metadata": {},
   "outputs": [],
   "source": [
    "gravity = np.array([0.0, 0.0, 1.6220])  # m/s^2\n",
    "\n",
    "use_true_rot = False\n",
    "\n",
    "t_0 = poses[0][:3, 3]\n",
    "t_1 = poses[1][:3, 3]\n",
    "v_1 = (t_1 - t_0) / (\n",
    "    json_data[\"frames\"][1][\"mission_time\"] - json_data[\"frames\"][0][\"mission_time\"]\n",
    ")\n",
    "\n",
    "imu_translations = []\n",
    "imu_translations.append(t_0)\n",
    "imu_translations.append(t_1)\n",
    "\n",
    "for i in range(2, len(poses)):\n",
    "    dt = json_data[\"frames\"][i][\"mission_time\"] - json_data[\"frames\"][i - 1][\"mission_time\"]\n",
    "    a = imu_data[i, :3]\n",
    "\n",
    "    if use_true_rot:\n",
    "        R_i = poses[i][:3, :3]\n",
    "    else:\n",
    "        R_i = imu_rotations[i]\n",
    "\n",
    "    v_2 = v_1 + (R_i @ a - gravity) * dt\n",
    "    t_2 = t_1 + v_1 * dt\n",
    "\n",
    "    imu_translations.append(t_2)\n",
    "    t_0 = t_1\n",
    "    t_1 = t_2\n",
    "    v_1 = v_2\n",
    "\n",
    "imu_translations = np.array(imu_translations)\n",
    "\n",
    "gt_translations = np.zeros((len(poses), 3))\n",
    "for i in range(len(poses)):\n",
    "    gt_translations[i] = poses[i][:3, 3]"
   ]
  },
  {
   "cell_type": "code",
   "execution_count": null,
   "metadata": {},
   "outputs": [],
   "source": [
    "fig, axes = plt.subplots(3, 1, figsize=(12, 8))\n",
    "pos_labels = [\"X\", \"Y\", \"Z\"]\n",
    "\n",
    "N = -1\n",
    "\n",
    "for i in range(3):\n",
    "    ax = axes[i]\n",
    "    ax.plot(gt_translations[:N, i], label=\"True\")\n",
    "    ax.plot(imu_translations[:N, i], label=\"IMU\", alpha=0.5)\n",
    "    ax.legend()\n",
    "    ax.grid()\n",
    "    ax.set_xlabel(\"Timestep (0.1 s)\")\n",
    "    ax.set_ylabel(f\"{pos_labels[i]}\")\n",
    "plt.subplots_adjust(wspace=0.0, hspace=0.3)"
   ]
  },
  {
   "cell_type": "code",
   "execution_count": null,
   "metadata": {},
   "outputs": [],
   "source": [
    "gt_translations - imu_translations"
   ]
  },
  {
   "cell_type": "code",
   "execution_count": null,
   "metadata": {},
   "outputs": [],
   "source": []
  }
 ],
 "metadata": {
  "kernelspec": {
   "display_name": "lac",
   "language": "python",
   "name": "python3"
  },
  "language_info": {
   "codemirror_mode": {
    "name": "ipython",
    "version": 3
   },
   "file_extension": ".py",
   "mimetype": "text/x-python",
   "name": "python",
   "nbconvert_exporter": "python",
   "pygments_lexer": "ipython3",
   "version": "3.10.16"
  }
 },
 "nbformat": 4,
 "nbformat_minor": 2
}
