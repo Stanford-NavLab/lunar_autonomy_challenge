{
 "cells": [
  {
   "cell_type": "code",
   "execution_count": null,
   "metadata": {},
   "outputs": [],
   "source": [
    "import os\n",
    "import numpy as np\n",
    "import cv2\n",
    "from pathlib import Path\n",
    "import matplotlib.pyplot as plt\n",
    "from tqdm import tqdm\n",
    "\n",
    "import gtsam\n",
    "from gtsam import imuBias, noiseModel, PriorFactorConstantBias\n",
    "from gtsam.symbol_shorthand import B, V, X, L\n",
    "\n",
    "from lac.perception.depth import project_pixel_to_rover\n",
    "from lac.utils.frames import apply_transform\n",
    "from lac.utils.plotting import plot_3d_points, plot_surface, plot_poses, plot_path_3d\n",
    "from lac.util import load_data\n",
    "from lac.params import LAC_BASE_PATH, DT\n",
    "\n",
    "%load_ext autoreload\n",
    "%autoreload 2"
   ]
  },
  {
   "cell_type": "code",
   "execution_count": null,
   "metadata": {},
   "outputs": [],
   "source": [
    "data_path = Path(LAC_BASE_PATH) / \"output/DataCollectionAgent/stereo_lights1.0_map1_preset0\"\n",
    "initial_pose, lander_pose, poses, imu_data, cam_config = load_data(data_path)\n",
    "print(f\"Num poses: {len(poses)}\")"
   ]
  },
  {
   "cell_type": "code",
   "execution_count": null,
   "metadata": {},
   "outputs": [],
   "source": [
    "g = 1.622\n",
    "IMU_PARAMS = gtsam.PreintegrationParams.MakeSharedU(-g)\n",
    "gyro_sigma = 1e-3\n",
    "accel_sigma = 1e-3\n",
    "I_3x3 = np.eye(3)\n",
    "IMU_PARAMS.setGyroscopeCovariance(gyro_sigma**2 * I_3x3)\n",
    "IMU_PARAMS.setAccelerometerCovariance(accel_sigma**2 * I_3x3)\n",
    "IMU_PARAMS.setIntegrationCovariance(1e-7**2 * I_3x3)"
   ]
  },
  {
   "cell_type": "code",
   "execution_count": null,
   "metadata": {},
   "outputs": [],
   "source": [
    "graph = gtsam.NonlinearFactorGraph()\n",
    "initial_estimate = gtsam.Values()\n",
    "\n",
    "# Fix first pose\n",
    "graph.add(gtsam.NonlinearEqualityPose3(X(0), gtsam.Pose3(poses[0])))\n",
    "initial_estimate.insert(X(0), gtsam.Pose3(poses[0]))\n",
    "\n",
    "# Zero bias\n",
    "BIAS_KEY = B(0)\n",
    "zero_bias = imuBias.ConstantBias(np.zeros(3), np.zeros(3))\n",
    "# graph.add(PriorFactorConstantBias(BIAS_KEY, zero_bias, noiseModel.Constrained.All(6)))\n",
    "BIAS_NOISE = gtsam.noiseModel.Isotropic.Sigma(6, 1e-2)\n",
    "graph.add(PriorFactorConstantBias(BIAS_KEY, zero_bias, BIAS_NOISE))\n",
    "initial_estimate.insert(BIAS_KEY, zero_bias)\n",
    "\n",
    "# Zero initial velocity prior\n",
    "VELOCITY_NOISE = gtsam.noiseModel.Isotropic.Sigma(3, 1e-2)\n",
    "graph.push_back(gtsam.PriorFactorVector(V(0), np.zeros(3), VELOCITY_NOISE))\n",
    "initial_estimate.insert(V(0), np.zeros(3))\n",
    "\n",
    "# Preintegrator\n",
    "accum = gtsam.PreintegratedImuMeasurements(IMU_PARAMS)\n",
    "\n",
    "N_FRAMES = 1000\n",
    "RATE = 10\n",
    "\n",
    "i = 0\n",
    "\n",
    "for k in range(1, N_FRAMES):\n",
    "    accel = imu_data[k, :3]\n",
    "    gyro = imu_data[k, 3:]\n",
    "    accum.integrateMeasurement(accel, gyro, DT)\n",
    "\n",
    "    if k % RATE == 0:\n",
    "        i += 1\n",
    "        initial_estimate.insert(X(i), gtsam.Pose3(poses[k]))\n",
    "\n",
    "        initial_estimate.insert(V(i), np.array([0.0, 0.0, 0]))\n",
    "        # initial_velocity = (poses[i][:3,3] - poses[i-1][:3,3]) / DT\n",
    "        # initial_estimate.insert(V(i), initial_velocity)\n",
    "\n",
    "        graph.add(gtsam.ImuFactor(X(i - 1), V(i - 1), X(i), V(i), BIAS_KEY, accum))\n",
    "\n",
    "        accum.resetIntegration()"
   ]
  },
  {
   "cell_type": "code",
   "execution_count": null,
   "metadata": {},
   "outputs": [],
   "source": [
    "params = gtsam.LevenbergMarquardtParams()\n",
    "\n",
    "optimizer = gtsam.LevenbergMarquardtOptimizer(graph, initial_estimate, params)\n",
    "result = optimizer.optimize()"
   ]
  },
  {
   "cell_type": "code",
   "execution_count": null,
   "metadata": {},
   "outputs": [],
   "source": [
    "# Get bias\n",
    "bias = result.atConstantBias(BIAS_KEY)\n",
    "print(f\"Bias: {bias}\")"
   ]
  },
  {
   "cell_type": "code",
   "execution_count": null,
   "metadata": {},
   "outputs": [],
   "source": [
    "est_traj = np.array([result.atPose3(X(k)).translation() for k in range(i)])\n",
    "\n",
    "fig = plot_poses(poses[:N_FRAMES], no_axes=True, color=\"black\", name=\"Ground Truth\")\n",
    "fig = plot_path_3d(est_traj, fig=fig, color=\"red\", name=\"GTSAM IMU\")\n",
    "fig.show()"
   ]
  },
  {
   "cell_type": "code",
   "execution_count": null,
   "metadata": {},
   "outputs": [],
   "source": []
  }
 ],
 "metadata": {
  "kernelspec": {
   "display_name": "lac",
   "language": "python",
   "name": "python3"
  },
  "language_info": {
   "codemirror_mode": {
    "name": "ipython",
    "version": 3
   },
   "file_extension": ".py",
   "mimetype": "text/x-python",
   "name": "python",
   "nbconvert_exporter": "python",
   "pygments_lexer": "ipython3",
   "version": "3.10.16"
  }
 },
 "nbformat": 4,
 "nbformat_minor": 2
}
