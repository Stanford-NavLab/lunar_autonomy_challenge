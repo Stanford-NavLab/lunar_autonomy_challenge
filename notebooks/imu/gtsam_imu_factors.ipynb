{
 "cells": [
  {
   "cell_type": "code",
   "execution_count": null,
   "metadata": {},
   "outputs": [],
   "source": [
    "import os\n",
    "import numpy as np\n",
    "import cv2\n",
    "from pathlib import Path\n",
    "import matplotlib.pyplot as plt\n",
    "from tqdm import tqdm\n",
    "\n",
    "import gtsam\n",
    "from gtsam import imuBias, noiseModel, PriorFactorConstantBias\n",
    "from gtsam.symbol_shorthand import B, V, X, L\n",
    "\n",
    "from lac.perception.depth import project_pixel_to_rover\n",
    "from lac.utils.frames import apply_transform\n",
    "from lac.utils.plotting import plot_3d_points, plot_surface, plot_poses, plot_path_3d\n",
    "from lac.util import load_data\n",
    "from lac.params import LAC_BASE_PATH, DT\n",
    "\n",
    "%load_ext autoreload\n",
    "%autoreload 2"
   ]
  },
  {
   "cell_type": "code",
   "execution_count": null,
   "metadata": {},
   "outputs": [],
   "source": [
    "data_path = Path(LAC_BASE_PATH) / \"output/DataCollectionAgent/stereo_lights1.0_map1_preset0\"\n",
    "initial_pose, lander_pose, poses, imu_data, cam_config = load_data(data_path)\n",
    "print(f\"Num poses: {len(poses)}\")"
   ]
  },
  {
   "cell_type": "code",
   "execution_count": null,
   "metadata": {},
   "outputs": [],
   "source": [
    "g = 1.622\n",
    "IMU_PARAMS = gtsam.PreintegrationParams.MakeSharedU(g)\n",
    "# I = np.eye(3)\n",
    "# IMU_PARAMS.setAccelerometerCovariance(I * 0.2)\n",
    "# IMU_PARAMS.setGyroscopeCovariance(I * 0.2)\n",
    "# IMU_PARAMS.setIntegrationCovariance(I * 0.2)\n",
    "gyro_sigma = 1e-3\n",
    "accel_sigma = 1e-3\n",
    "I_3x3 = np.eye(3)\n",
    "IMU_PARAMS.setGyroscopeCovariance(gyro_sigma**2 * I_3x3)\n",
    "IMU_PARAMS.setAccelerometerCovariance(accel_sigma**2 * I_3x3)\n",
    "IMU_PARAMS.setIntegrationCovariance(1e-7**2 * I_3x3)"
   ]
  },
  {
   "cell_type": "code",
   "execution_count": null,
   "metadata": {},
   "outputs": [],
   "source": [
    "graph = gtsam.NonlinearFactorGraph()\n",
    "initial_estimate = gtsam.Values()\n",
    "\n",
    "pose_noise = gtsam.noiseModel.Diagonal.Sigmas(0.2 * np.ones(6))\n",
    "# graph.push_back(gtsam.PriorFactorPose3((X(0), gtsam.Pose3(poses[0])), pose_noise))\n",
    "# Fix first pose\n",
    "graph.add(gtsam.NonlinearEqualityPose3(X(0), gtsam.Pose3(poses[0])))\n",
    "initial_estimate.insert(X(0), gtsam.Pose3(poses[0]))\n",
    "\n",
    "# IMU prior\n",
    "BIAS_KEY = B(0)\n",
    "zero_bias = imuBias.ConstantBias(np.zeros(3), np.zeros(3))\n",
    "graph.add(PriorFactorConstantBias(BIAS_KEY, zero_bias, noiseModel.Constrained.All(6)))\n",
    "initial_estimate.insert(BIAS_KEY, zero_bias)\n",
    "\n",
    "velocity_key = V(0)\n",
    "velocity_noise = gtsam.noiseModel.Isotropic.Sigma(3, 0.2)\n",
    "velocity_0 = np.array([0.0, 0.0, 0])\n",
    "graph.push_back(gtsam.PriorFactorVector(velocity_key, velocity_0, velocity_noise))\n",
    "initial_estimate.insert(velocity_key, velocity_0)\n",
    "\n",
    "# Preintegrator\n",
    "accum = gtsam.PreintegratedImuMeasurements(IMU_PARAMS)\n",
    "\n",
    "n_frames = 1000\n",
    "\n",
    "for i in range(1, n_frames):\n",
    "    accum.integrateMeasurement(imu_data[i, :3], imu_data[i, 3:], DT)\n",
    "\n",
    "    # Initialize with noisy ground truth poses\n",
    "    # initial_estimate.insert(pose_key, gtsam.Pose3(poses[i]).compose(DELTA))\n",
    "    initial_estimate.insert(X(i), gtsam.Pose3(poses[i]))\n",
    "    initial_estimate.insert(V(i), np.array([0.0, 0.0, 0]))\n",
    "\n",
    "    graph.add(gtsam.ImuFactor(X(i - 1), V(i - 1), X(i), V(i), BIAS_KEY, accum))\n",
    "\n",
    "    accum.resetIntegration()"
   ]
  },
  {
   "cell_type": "code",
   "execution_count": null,
   "metadata": {},
   "outputs": [],
   "source": [
    "params = gtsam.LevenbergMarquardtParams()\n",
    "\n",
    "optimizer = gtsam.LevenbergMarquardtOptimizer(graph, initial_estimate, params)\n",
    "result = optimizer.optimize()"
   ]
  },
  {
   "cell_type": "code",
   "execution_count": null,
   "metadata": {},
   "outputs": [],
   "source": [
    "est_traj = np.array([result.atPose3(X(k)).translation() for k in range(n_frames)])\n",
    "\n",
    "fig = plot_poses(poses[:n_frames], no_axes=True, color=\"black\", name=\"Ground Truth\")\n",
    "fig = plot_path_3d(est_traj, fig=fig, color=\"red\", name=\"GTSAM IMU\")\n",
    "fig.show()"
   ]
  }
 ],
 "metadata": {
  "kernelspec": {
   "display_name": "lac",
   "language": "python",
   "name": "python3"
  },
  "language_info": {
   "codemirror_mode": {
    "name": "ipython",
    "version": 3
   },
   "file_extension": ".py",
   "mimetype": "text/x-python",
   "name": "python",
   "nbconvert_exporter": "python",
   "pygments_lexer": "ipython3",
   "version": "3.10.16"
  }
 },
 "nbformat": 4,
 "nbformat_minor": 2
}
