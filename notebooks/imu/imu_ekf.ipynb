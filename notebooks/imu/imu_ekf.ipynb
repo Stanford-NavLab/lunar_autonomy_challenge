{
 "cells": [
  {
   "cell_type": "markdown",
   "metadata": {},
   "source": [
    "## A Simple EKF with IMU Data"
   ]
  },
  {
   "cell_type": "markdown",
   "metadata": {},
   "source": [
    "## Load data"
   ]
  },
  {
   "cell_type": "code",
   "execution_count": null,
   "metadata": {},
   "outputs": [],
   "source": [
    "import numpy as np\n",
    "import pandas as pd\n",
    "import plotly.graph_objects as go\n",
    "import json\n",
    "import matplotlib.pyplot as plt\n",
    "\n",
    "# Get environment variables\n",
    "import sys\n",
    "\n",
    "sys.path.append(\"..\")  # Add the parent directory of notebooks to sys.path\n",
    "\n",
    "from lac.plotting import pose_traces\n",
    "from lac.localization.ekf import EKF\n",
    "from lac.localization.imu_dynamics import *\n",
    "\n",
    "%load_ext autoreload\n",
    "%autoreload 2"
   ]
  },
  {
   "cell_type": "code",
   "execution_count": null,
   "metadata": {},
   "outputs": [],
   "source": [
    "casename = \"20hz_seed4\"\n",
    "data_path = \"../../output/imu/\" + casename + \".json\"\n",
    "json_data = json.load(open(f\"{data_path}\"))\n",
    "\n",
    "poses = []\n",
    "imu_data = []\n",
    "\n",
    "for frame in json_data[\"frames\"]:\n",
    "    poses.append(np.array(frame[\"pose\"]))\n",
    "    imu_data.append(np.array(frame[\"imu\"]))\n",
    "\n",
    "imu_data = np.array(imu_data)"
   ]
  },
  {
   "cell_type": "code",
   "execution_count": null,
   "metadata": {},
   "outputs": [],
   "source": [
    "from scipy.spatial.transform import Rotation\n",
    "from lac.util import skew_symmetric, normalize_rotation_matrix\n",
    "\n",
    "gt_rotations_euler = np.zeros((len(poses), 3))\n",
    "imu_rotations_euler = np.zeros((len(poses), 3))\n",
    "\n",
    "for i in range(len(poses)):\n",
    "    gt_rotations_euler[i] = Rotation.from_matrix(poses[i][:3, :3]).as_euler(\"xyz\", degrees=False)\n",
    "\n",
    "gt_translations = np.zeros((len(poses), 6))\n",
    "for i in range(len(poses)):\n",
    "    gt_translations[i, :3] = poses[i][:3, 3]\n",
    "    if i > 0:\n",
    "        dt = json_data[\"frames\"][i][\"mission_time\"] - json_data[\"frames\"][i - 1][\"mission_time\"]\n",
    "        gt_translations[i, 3:] = (gt_translations[i, :3] - gt_translations[i - 1, :3]) / dt"
   ]
  },
  {
   "cell_type": "code",
   "execution_count": null,
   "metadata": {},
   "outputs": [],
   "source": [
    "def rot_from_rpy(roll, pitch, yaw):\n",
    "    return np.array(\n",
    "        [\n",
    "            [np.cos(yaw) * np.cos(pitch), np.cos(pitch) * np.sin(yaw), -np.sin(pitch)],\n",
    "            [\n",
    "                np.cos(yaw) * np.sin(roll) * np.sin(pitch) - np.cos(roll) * np.sin(yaw),\n",
    "                np.cos(roll) * np.cos(yaw) + np.sin(roll) * np.sin(yaw) * np.sin(pitch),\n",
    "                np.cos(pitch) * np.sin(roll),\n",
    "            ],\n",
    "            [\n",
    "                np.sin(roll) * np.sin(yaw) + np.cos(roll) * np.cos(yaw) * np.sin(pitch),\n",
    "                np.cos(roll) * np.sin(yaw) * np.sin(pitch) - np.cos(yaw) * np.sin(roll),\n",
    "                np.cos(roll) * np.cos(pitch),\n",
    "            ],\n",
    "        ]\n",
    "    )"
   ]
  },
  {
   "cell_type": "code",
   "execution_count": null,
   "metadata": {},
   "outputs": [],
   "source": [
    "# Get Initial states\n",
    "R_0 = poses[0][:3, :3]\n",
    "\n",
    "imu_rotations = []\n",
    "imu_rotations.append(R_0)\n",
    "\n",
    "v0 = np.zeros(3)\n",
    "# v0 = (gt_translations[1, :3] - gt_translations[0, :3]) / (json_data[\"frames\"][1][\"mission_time\"] - json_data[\"frames\"][0][\"mission_time\"])\n",
    "\n",
    "x0 = np.hstack((gt_translations[0, :3], v0, gt_rotations_euler[0])).T\n",
    "\n",
    "print(\"r0 :\", gt_translations[0, :3])\n",
    "print(\"v0 :\", v0)\n",
    "print(\"angle0 :\", gt_rotations_euler[0])\n",
    "\n",
    "init_r = 0.001\n",
    "init_v = 0.01\n",
    "init_angle = 0.001\n",
    "P0 = np.diag(\n",
    "    np.hstack((np.ones(3) * init_r * init_r, np.ones(3) * init_v * init_v, np.ones(3) * init_angle * init_angle))\n",
    ")\n",
    "\n",
    "# Process noise\n",
    "Q_r = 0.00**2\n",
    "Q_v = 0.00**2\n",
    "Q_angle = 0.00005**2\n",
    "Q = np.diag(np.hstack((np.ones(3) * Q_r, np.ones(3) * Q_v, np.ones(3) * Q_angle)))\n",
    "\n",
    "ekf = EKF(x0, P0)\n",
    "\n",
    "x_store = np.zeros((len(poses), 9))\n",
    "P_store = np.zeros((len(poses), 9, 9))\n",
    "\n",
    "x_store[0] = ekf.x\n",
    "P_store[0] = ekf.P\n",
    "for i in range(1, len(poses)):\n",
    "    dt = json_data[\"frames\"][i][\"mission_time\"] - json_data[\"frames\"][i - 1][\"mission_time\"]\n",
    "    a_k = imu_data[i][:3]\n",
    "    omega_k = imu_data[i][3:]\n",
    "\n",
    "    dyn_func = lambda x: propagate_state(x, a_k, omega_k, dt, with_stm=True, use_numdiff=False)\n",
    "    ekf.predict(dyn_func, Q)\n",
    "\n",
    "    x_store[i] = ekf.x\n",
    "    P_store[i] = ekf.P"
   ]
  },
  {
   "cell_type": "code",
   "execution_count": null,
   "metadata": {},
   "outputs": [],
   "source": [
    "fig, axes = plt.subplots(3, 1, figsize=(12, 8))\n",
    "RAD2DEG = 180 / np.pi\n",
    "pos_labels = [\"Err Roll (deg)\", \"Err Pitch (deg)\", \"Err Yaw (deg)\"]\n",
    "for i in range(3):\n",
    "    ax = axes[i]\n",
    "    ax.plot((gt_rotations_euler[:, i] - x_store[:, 6 + i]) * RAD2DEG, label=\"True\")\n",
    "    # plot 3-sigma bounds\n",
    "    ax.fill_between(\n",
    "        np.arange(len(poses)),\n",
    "        -2 * np.sqrt(P_store[:, 6 + i, 6 + i]) * RAD2DEG,\n",
    "        +2 * np.sqrt(P_store[:, 6 + i, 6 + i]) * RAD2DEG,\n",
    "        alpha=0.2,\n",
    "        label=\"2-sigma bounds\",\n",
    "    )\n",
    "    ax.legend()\n",
    "    ax.grid()\n",
    "    ax.set_xlabel(\"Timestep (0.1 s)\")\n",
    "    ax.set_ylabel(f\"{pos_labels[i]}\")\n",
    "plt.subplots_adjust(wspace=0.0, hspace=0.3)"
   ]
  },
  {
   "cell_type": "code",
   "execution_count": null,
   "metadata": {},
   "outputs": [],
   "source": [
    "fig, axes = plt.subplots(2, 3, figsize=(15, 8))\n",
    "pos_labels = [\"X\", \"Y\", \"Z\", \"Vx\", \"Vy\", \"Vz\"]\n",
    "\n",
    "N = -1\n",
    "\n",
    "for i in range(6):\n",
    "    ax = axes.flatten()[i]\n",
    "    ax.plot(gt_translations[:N, i], label=\"True\")\n",
    "    ax.plot(x_store[:, i], label=\"IMU\", alpha=0.5)\n",
    "    # plot 3-sigma bounds\n",
    "    ax.fill_between(\n",
    "        np.arange(len(poses)),\n",
    "        x_store[:, i] - 2 * np.sqrt(P_store[:, i, i]),\n",
    "        x_store[:, i] + 2 * np.sqrt(P_store[:, i, i]),\n",
    "        alpha=0.2,\n",
    "        label=\"2-sigma bounds\",\n",
    "    )\n",
    "    ax.legend()\n",
    "    ax.grid()\n",
    "    ax.set_xlabel(\"Timestep (0.1 s)\")\n",
    "    ax.set_ylabel(f\"{pos_labels[i]}\")\n",
    "\n",
    "plt.tight_layout()\n",
    "plt.show()"
   ]
  },
  {
   "cell_type": "code",
   "execution_count": null,
   "metadata": {},
   "outputs": [],
   "source": []
  }
 ],
 "metadata": {
  "kernelspec": {
   "display_name": "lupntenv",
   "language": "python",
   "name": "python3"
  },
  "language_info": {
   "codemirror_mode": {
    "name": "ipython",
    "version": 3
   },
   "file_extension": ".py",
   "mimetype": "text/x-python",
   "name": "python",
   "nbconvert_exporter": "python",
   "pygments_lexer": "ipython3",
   "version": "3.12.1"
  }
 },
 "nbformat": 4,
 "nbformat_minor": 2
}
