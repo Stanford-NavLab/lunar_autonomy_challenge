{
 "cells": [
  {
   "cell_type": "code",
   "execution_count": null,
   "id": "0",
   "metadata": {},
   "outputs": [],
   "source": [
    "import numpy as np\n",
    "import json\n",
    "from pathlib import Path\n",
    "import matplotlib.pyplot as plt\n",
    "import plotly.graph_objects as go\n",
    "\n",
    "from lac.localization.imu_recovery import estimate_imu_odometry\n",
    "from lac.utils.frames import invert_transform_mat\n",
    "from lac.utils.plotting import plot_poses\n",
    "from lac.util import load_data, compute_odometry_sigmas\n",
    "from lac.params import DT\n",
    "\n",
    "%load_ext autoreload\n",
    "%autoreload 2"
   ]
  },
  {
   "cell_type": "code",
   "execution_count": null,
   "id": "1",
   "metadata": {},
   "outputs": [],
   "source": [
    "# data_path = \"../../output/DataCollectionAgent/double_loop_preset1\"\n",
    "data_path = \"/home/shared/data_raw/LAC/runs/triangles_preset6\"\n",
    "initial_pose, lander_pose, poses, imu_data, cam_config = load_data(data_path)\n",
    "print(f\"Loaded {len(poses)} poses\")"
   ]
  },
  {
   "cell_type": "code",
   "execution_count": null,
   "id": "2",
   "metadata": {},
   "outputs": [],
   "source": [
    "gt_odometry = []\n",
    "for i in range(len(poses) - 1):\n",
    "    gt_odometry.append(np.linalg.inv(poses[i]) @ poses[i + 1])"
   ]
  },
  {
   "cell_type": "code",
   "execution_count": null,
   "id": "3",
   "metadata": {},
   "outputs": [],
   "source": [
    "len(imu_data), len(poses)"
   ]
  },
  {
   "cell_type": "markdown",
   "id": "4",
   "metadata": {},
   "source": [
    "## Direct odometry estimation\n"
   ]
  },
  {
   "cell_type": "code",
   "execution_count": null,
   "id": "5",
   "metadata": {},
   "outputs": [],
   "source": [
    "# imu_data[k] is measurement for time window between pose[k] to pose[k+1]\n",
    "\n",
    "imu_odometry = []\n",
    "\n",
    "for k in range(len(imu_data)):\n",
    "    a = imu_data[k][:3]\n",
    "    omega = imu_data[k][3:]\n",
    "    R_curr = poses[k + 1][:3, :3]\n",
    "    if k == 0:\n",
    "        v_prev = np.zeros(3)\n",
    "    else:\n",
    "        v_prev = (poses[k][:3, 3] - poses[k - 1][:3, 3]) / DT\n",
    "    odom = estimate_imu_odometry(a, omega, R_curr, v_prev)\n",
    "    imu_odometry.append(odom)"
   ]
  },
  {
   "cell_type": "code",
   "execution_count": null,
   "id": "6",
   "metadata": {},
   "outputs": [],
   "source": [
    "est_pose = initial_pose\n",
    "est_poses = [est_pose]\n",
    "\n",
    "for k in range(len(imu_odometry)):\n",
    "    est_pose = est_pose @ imu_odometry[k]\n",
    "    est_poses.append(est_pose)"
   ]
  },
  {
   "cell_type": "code",
   "execution_count": null,
   "id": "7",
   "metadata": {},
   "outputs": [],
   "source": [
    "fig = plot_poses(poses[:1000], color=\"black\", no_axes=True, name=\"Ground Truth\")\n",
    "fig = plot_poses(est_poses[:1000], fig=fig, color=\"orange\", no_axes=True, name=\"SLAM\")\n",
    "fig.show()"
   ]
  },
  {
   "cell_type": "markdown",
   "id": "8",
   "metadata": {},
   "source": [
    "## Integration and differencing\n"
   ]
  },
  {
   "cell_type": "code",
   "execution_count": null,
   "id": "9",
   "metadata": {},
   "outputs": [],
   "source": [
    "from lac.localization.imu_recovery import ImuEstimator"
   ]
  },
  {
   "cell_type": "code",
   "execution_count": null,
   "id": "10",
   "metadata": {},
   "outputs": [],
   "source": [
    "# imu_data[k] is measurement for time window between pose[k] to pose[k+1]\n",
    "\n",
    "imu_estimator = ImuEstimator(initial_pose)\n",
    "\n",
    "est_pose = initial_pose\n",
    "est_poses = [est_pose]\n",
    "imu_odometry = []\n",
    "\n",
    "for k in range(2000):\n",
    "    # Ground truth for first 1000 steps\n",
    "    if k < 1000:\n",
    "        odom = gt_odometry[k].copy()\n",
    "        est_pose = est_pose @ odom\n",
    "        imu_estimator.update_pose(est_pose)\n",
    "    elif k < 1001:\n",
    "        odom = gt_odometry[k].copy()\n",
    "        odom[:3, 3] += np.array([0, 0, 1e-5])\n",
    "        est_pose = est_pose @ odom\n",
    "        imu_estimator.update_pose(est_pose)\n",
    "    # Switch to IMU for 1000\n",
    "    else:\n",
    "        imu_estimator.update(imu_data[k])\n",
    "        odom = imu_estimator.get_pose_delta()\n",
    "        est_pose = est_pose @ odom\n",
    "\n",
    "    est_poses.append(est_pose)"
   ]
  },
  {
   "cell_type": "code",
   "execution_count": null,
   "id": "11",
   "metadata": {},
   "outputs": [],
   "source": [
    "fig = plot_poses(poses[:2000], color=\"black\", no_axes=True, name=\"Ground Truth\")\n",
    "fig = plot_poses(est_poses, fig=fig, color=\"orange\", no_axes=True, name=\"SLAM\")\n",
    "fig.show()"
   ]
  },
  {
   "cell_type": "markdown",
   "id": "12",
   "metadata": {},
   "source": [
    "## Every image frame\n"
   ]
  },
  {
   "cell_type": "code",
   "execution_count": null,
   "id": "13",
   "metadata": {},
   "outputs": [],
   "source": [
    "# imu_data[k] is measurement for time window between pose[k] to pose[k+1]\n",
    "\n",
    "imu_estimator = ImuEstimator(initial_pose)\n",
    "\n",
    "imu_measurements = []\n",
    "est_pose = initial_pose\n",
    "est_poses = [est_pose]\n",
    "eval_odoms = []\n",
    "imu_odoms = []\n",
    "\n",
    "for k in range(len(imu_data)):\n",
    "    imu_measurements.append(imu_data[k])\n",
    "    if k % 2 == 0 and k != 0:  # image available\n",
    "        for measurement in imu_measurements:\n",
    "            imu_estimator.update(measurement)\n",
    "        imu_measurements.clear()\n",
    "\n",
    "        gt_odom = np.linalg.inv(poses[k - 2]) @ poses[k]\n",
    "\n",
    "        odom = np.linalg.inv(est_pose) @ imu_estimator.get_pose()\n",
    "        est_pose = est_pose @ odom\n",
    "        est_poses.append(est_pose)\n",
    "\n",
    "        imu_odoms.append(odom)\n",
    "        eval_odoms.append(gt_odom)"
   ]
  },
  {
   "cell_type": "code",
   "execution_count": null,
   "id": "14",
   "metadata": {},
   "outputs": [],
   "source": [
    "sigma_rotation, sigma_translation = compute_odometry_sigmas(imu_odoms, eval_odoms)\n",
    "print(f\"Rotation sigma (rad): {sigma_rotation}\")\n",
    "print(f\"Translation sigma (m): {sigma_translation}\")"
   ]
  },
  {
   "cell_type": "code",
   "execution_count": null,
   "id": "15",
   "metadata": {},
   "outputs": [],
   "source": [
    "fig = plot_poses(poses[:2000], color=\"black\", no_axes=True, name=\"Ground Truth\")\n",
    "fig = plot_poses(est_poses, fig=fig, color=\"orange\", no_axes=True, name=\"SLAM\")\n",
    "fig.show()"
   ]
  },
  {
   "cell_type": "markdown",
   "id": "16",
   "metadata": {},
   "source": [
    "### Mixing\n"
   ]
  },
  {
   "cell_type": "code",
   "execution_count": null,
   "id": "17",
   "metadata": {},
   "outputs": [],
   "source": [
    "# imu_data[k] is measurement for time window between pose[k] to pose[k+1]\n",
    "\n",
    "imu_estimator = ImuEstimator(initial_pose)\n",
    "\n",
    "imu_measurements = []\n",
    "est_pose = initial_pose\n",
    "est_poses = [est_pose]\n",
    "\n",
    "eval_odoms = []\n",
    "imu_odoms = []\n",
    "\n",
    "for k in range(2000):\n",
    "    imu_measurements.append(imu_data[k])\n",
    "    if k % 2 == 0 and k != 0:  # image available\n",
    "        gt_odom = np.linalg.inv(poses[k - 2]) @ poses[k]\n",
    "        # Use VO (ground truth)\n",
    "        if k < 1000:\n",
    "            est_pose = est_pose @ gt_odom\n",
    "            est_poses.append(est_pose)\n",
    "            imu_estimator.update_pose_from_vo(est_pose)\n",
    "        # Use IMU\n",
    "        else:\n",
    "            for measurement in imu_measurements:\n",
    "                imu_estimator.update(measurement)\n",
    "            odom = np.linalg.inv(est_pose) @ imu_estimator.get_pose()\n",
    "            est_pose = est_pose @ odom\n",
    "            est_poses.append(est_pose)\n",
    "\n",
    "            eval_odoms.append(gt_odom)\n",
    "            imu_odoms.append(odom)\n",
    "\n",
    "        est_poses.append(est_pose)\n",
    "        imu_measurements.clear()"
   ]
  },
  {
   "cell_type": "code",
   "execution_count": null,
   "id": "18",
   "metadata": {},
   "outputs": [],
   "source": [
    "fig = plot_poses(poses[:2000], color=\"black\", no_axes=True, name=\"Ground Truth\")\n",
    "fig = plot_poses(est_poses, fig=fig, color=\"orange\", no_axes=True, name=\"SLAM\")\n",
    "fig.show()"
   ]
  },
  {
   "cell_type": "code",
   "execution_count": null,
   "id": "19",
   "metadata": {},
   "outputs": [],
   "source": [
    "sigma_rotation, sigma_translation = compute_odometry_sigmas(imu_odoms, eval_odoms)\n",
    "print(f\"Rotation sigma (rad): {sigma_rotation}\")\n",
    "print(f\"Translation sigma (m): {sigma_translation}\")"
   ]
  },
  {
   "cell_type": "code",
   "execution_count": null,
   "id": "20",
   "metadata": {},
   "outputs": [],
   "source": []
  }
 ],
 "metadata": {
  "kernelspec": {
   "display_name": "lac",
   "language": "python",
   "name": "python3"
  },
  "language_info": {
   "codemirror_mode": {
    "name": "ipython",
    "version": 3
   },
   "file_extension": ".py",
   "mimetype": "text/x-python",
   "name": "python",
   "nbconvert_exporter": "python",
   "pygments_lexer": "ipython3",
   "version": "3.10.15"
  }
 },
 "nbformat": 4,
 "nbformat_minor": 5
}
