{
 "cells": [
  {
   "cell_type": "code",
   "execution_count": null,
   "metadata": {},
   "outputs": [],
   "source": [
    "import numpy as np\n",
    "import json\n",
    "import time\n",
    "from tqdm import tqdm\n",
    "import matplotlib.pyplot as plt\n",
    "from scipy.spatial.transform import Rotation\n",
    "\n",
    "from lac.localization.imu_recovery import (\n",
    "    recover_rotation,\n",
    "    recover_rotation_exact,\n",
    "    recover_rotation_delta,\n",
    "    recover_translation,\n",
    ")\n",
    "\n",
    "%load_ext autoreload\n",
    "%autoreload 2"
   ]
  },
  {
   "cell_type": "markdown",
   "metadata": {},
   "source": [
    "### Load the data\n"
   ]
  },
  {
   "cell_type": "code",
   "execution_count": null,
   "metadata": {},
   "outputs": [],
   "source": [
    "# data_path = \"../../output/static_seed0/data_log.json\"\n",
    "data_path = \"../../results/runs/map1_seed4_spiral_4.5_2.0_run2/data_log.json\"\n",
    "json_data = json.load(open(f\"{data_path}\"))\n",
    "\n",
    "poses = []\n",
    "imu_data = []\n",
    "\n",
    "for frame in json_data[\"frames\"]:\n",
    "    poses.append(np.array(frame[\"pose\"]))\n",
    "    imu_data.append(np.array(frame[\"imu\"]))\n",
    "\n",
    "imu_data = np.array(imu_data)\n",
    "initial_pose = np.array(json_data[\"initial_pose\"])\n",
    "\n",
    "gt_translations = np.zeros((len(poses), 3))\n",
    "for i in range(len(poses)):\n",
    "    gt_translations[i] = poses[i][:3, 3]\n",
    "\n",
    "dt = 0.05\n",
    "times = np.arange(0, len(imu_data) * dt, dt)"
   ]
  },
  {
   "cell_type": "markdown",
   "metadata": {},
   "source": [
    "### Initialization\n"
   ]
  },
  {
   "cell_type": "code",
   "execution_count": null,
   "metadata": {},
   "outputs": [],
   "source": [
    "\"\"\"True initialization\"\"\"\n",
    "# start_idx = 1\n",
    "# poses_crop = poses[start_idx:]\n",
    "# R_prev = poses[start_idx][:3, :3]\n",
    "# # t_prev_prev = poses[start_idx - 1][:3, 3]\n",
    "# t_prev_prev = poses[start_idx][:3, 3]\n",
    "# t_prev = poses[start_idx][:3, 3]\n",
    "\n",
    "\"\"\"Provided initialization\"\"\"\n",
    "start_idx = 0\n",
    "poses_crop = poses[start_idx:]\n",
    "R_prev = initial_pose[:3, :3]\n",
    "t_prev_prev = initial_pose[:3, 3]\n",
    "t_prev = initial_pose[:3, 3]"
   ]
  },
  {
   "cell_type": "code",
   "execution_count": null,
   "metadata": {},
   "outputs": [],
   "source": [
    "imu_rotations = []\n",
    "imu_rotations.append(R_prev)\n",
    "\n",
    "imu_translations = []\n",
    "imu_translations.append(t_prev)\n",
    "\n",
    "for i in tqdm(range(start_idx + 1, len(poses))):\n",
    "    # Rotation recovery\n",
    "    omega = imu_data[i, 3:]\n",
    "    # R_curr = recover_rotation_exact(R_prev, omega, dt)\n",
    "    R_curr = recover_rotation(R_prev, omega, dt)\n",
    "    imu_rotations.append(R_curr)\n",
    "    R_prev = R_curr\n",
    "\n",
    "    # Translation recovery\n",
    "    a = imu_data[i, :3]\n",
    "    t_curr = recover_translation(t_prev_prev, t_prev, R_curr, a, dt)\n",
    "    imu_translations.append(t_curr)\n",
    "    t_prev_prev = t_prev\n",
    "    t_prev = t_curr"
   ]
  },
  {
   "cell_type": "code",
   "execution_count": null,
   "metadata": {},
   "outputs": [],
   "source": [
    "from lac.localization.imu_recovery import ImuEstimator\n",
    "\n",
    "imu_estimator = ImuEstimator(initial_pose)\n",
    "\n",
    "for i in tqdm(range(start_idx + 1, len(poses))):\n",
    "    imu_estimator.update(imu_data[i])"
   ]
  },
  {
   "cell_type": "code",
   "execution_count": null,
   "metadata": {},
   "outputs": [],
   "source": [
    "gt_rotations_euler = np.zeros((len(poses_crop), 3))\n",
    "imu_rotations_euler = np.zeros((len(poses_crop), 3))\n",
    "\n",
    "for i in range(len(poses_crop)):\n",
    "    gt_rotations_euler[i] = Rotation.from_matrix(poses_crop[i][:3, :3]).as_euler(\n",
    "        \"xyz\", degrees=True\n",
    "    )\n",
    "    imu_rotations_euler[i] = Rotation.from_matrix(imu_rotations[i]).as_euler(\"xyz\", degrees=True)\n",
    "\n",
    "fig, axes = plt.subplots(3, 1, figsize=(12, 8))\n",
    "pos_labels = [\"Roll (deg)\", \"Pitch (deg)\", \"Yaw (deg)\"]\n",
    "for i in range(3):\n",
    "    ax = axes[i]\n",
    "    ax.plot(times[start_idx:], gt_rotations_euler[:, i], label=\"True\")\n",
    "    ax.plot(times[start_idx:], imu_rotations_euler[:, i], label=\"IMU\", alpha=0.5)\n",
    "    ax.legend()\n",
    "    ax.grid()\n",
    "    ax.set_xlabel(\"Time (s)\")\n",
    "    ax.set_ylabel(f\"{pos_labels[i]}\")\n",
    "plt.subplots_adjust(wspace=0.0, hspace=0.3)\n",
    "\n",
    "print(\"Average error in degrees\")\n",
    "print(np.mean(np.abs(gt_rotations_euler - imu_rotations_euler), axis=0))"
   ]
  },
  {
   "cell_type": "code",
   "execution_count": null,
   "metadata": {},
   "outputs": [],
   "source": [
    "fig, axes = plt.subplots(3, 1, figsize=(12, 8))\n",
    "pos_labels = [\"X\", \"Y\", \"Z\"]\n",
    "\n",
    "imu_translations = np.array(imu_translations)\n",
    "\n",
    "gt_translations = np.zeros((len(poses_crop), 3))\n",
    "for i in range(len(poses_crop)):\n",
    "    gt_translations[i] = poses_crop[i][:3, 3]\n",
    "\n",
    "for i in range(3):\n",
    "    ax = axes[i]\n",
    "    ax.plot(times[start_idx:], gt_translations[:, i], label=\"True\")\n",
    "    ax.plot(times[start_idx:], imu_translations[:, i], label=\"IMU\", alpha=0.5)\n",
    "    ax.legend()\n",
    "    ax.grid()\n",
    "    ax.set_xlabel(\"Time (s)\")\n",
    "    ax.set_ylabel(f\"{pos_labels[i]}\")\n",
    "plt.subplots_adjust(wspace=0.0, hspace=0.3)\n",
    "\n",
    "print(\"Average error in meters\")\n",
    "print(np.mean(np.abs(gt_translations - imu_translations), axis=0))"
   ]
  },
  {
   "cell_type": "code",
   "execution_count": null,
   "metadata": {},
   "outputs": [],
   "source": [
    "delta_rotations_imu = []\n",
    "delta_translations_imu = []\n",
    "delta_rotations_gt = []\n",
    "delta_translations_gt = []\n",
    "\n",
    "for i in range(1, len(poses)):\n",
    "    delta_rotations_imu.append(imu_rotations[i] @ imu_rotations[i - 1].T)\n",
    "    delta_translations_imu.append(imu_translations[i] - imu_translations[i - 1])\n",
    "    delta_rotations_gt.append(poses[i][:3, :3] @ poses[i - 1][:3, :3].T)\n",
    "    delta_translations_gt.append(poses[i][:3, 3] - poses[i - 1][:3, 3])\n",
    "\n",
    "delta_rotations_imu = np.array(delta_rotations_imu)\n",
    "delta_translations_imu = np.array(delta_translations_imu)\n",
    "delta_rotations_gt = np.array(delta_rotations_gt)\n",
    "delta_translations_gt = np.array(delta_translations_gt)"
   ]
  },
  {
   "cell_type": "code",
   "execution_count": null,
   "metadata": {},
   "outputs": [],
   "source": [
    "from lac.util import rmse, rotation_matrix_error, rotations_rmse\n",
    "\n",
    "rmse(delta_translations_gt, delta_translations_imu)"
   ]
  },
  {
   "cell_type": "code",
   "execution_count": null,
   "metadata": {},
   "outputs": [],
   "source": [
    "rotation_errors = [\n",
    "    rotation_matrix_error(R1, R2) for R1, R2 in zip(delta_rotations_gt, delta_rotations_imu)\n",
    "]\n",
    "np.sqrt(np.mean(np.array(rotation_errors) ** 2))"
   ]
  },
  {
   "cell_type": "code",
   "execution_count": null,
   "metadata": {},
   "outputs": [],
   "source": [
    "rotations_rmse(delta_rotations_imu, delta_rotations_gt)"
   ]
  },
  {
   "cell_type": "markdown",
   "metadata": {},
   "source": [
    "Recover deltas\n"
   ]
  },
  {
   "cell_type": "code",
   "execution_count": null,
   "metadata": {},
   "outputs": [],
   "source": [
    "len(poses), len(delta_rotations_gt)"
   ]
  },
  {
   "cell_type": "code",
   "execution_count": null,
   "metadata": {},
   "outputs": [],
   "source": [
    "rotation_deltas = [recover_rotation_delta(omega, dt) for omega in imu_data[1:, 3:]]\n",
    "rotations_rmse(delta_rotations_gt, rotation_deltas)"
   ]
  },
  {
   "cell_type": "code",
   "execution_count": null,
   "metadata": {},
   "outputs": [],
   "source": [
    "from lac.localization.imu_recovery import ImuEstimator\n"
   ]
  }
 ],
 "metadata": {
  "kernelspec": {
   "display_name": "lac",
   "language": "python",
   "name": "python3"
  },
  "language_info": {
   "codemirror_mode": {
    "name": "ipython",
    "version": 3
   },
   "file_extension": ".py",
   "mimetype": "text/x-python",
   "name": "python",
   "nbconvert_exporter": "python",
   "pygments_lexer": "ipython3",
   "version": "3.10.16"
  }
 },
 "nbformat": 4,
 "nbformat_minor": 2
}
