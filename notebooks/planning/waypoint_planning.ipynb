{
 "cells": [
  {
   "cell_type": "code",
   "execution_count": null,
   "id": "0",
   "metadata": {},
   "outputs": [],
   "source": [
    "import numpy as np\n",
    "\n",
    "from lac.planning.waypoint_planner import gen_spiral\n",
    "from lac.utils.plotting import plot_waypoints\n",
    "from lac.util import load_data\n",
    "\n",
    "%load_ext autoreload\n",
    "%autoreload 2"
   ]
  },
  {
   "cell_type": "code",
   "execution_count": null,
   "id": "1",
   "metadata": {},
   "outputs": [],
   "source": [
    "data_path = \"/home/shared/data_raw/LAC/runs/full_spiral_map1_preset1_recovery_agent\"\n",
    "initial_pose, lander_pose, poses, imu_data, cam_config = load_data(data_path)"
   ]
  },
  {
   "cell_type": "code",
   "execution_count": null,
   "id": "2",
   "metadata": {},
   "outputs": [],
   "source": [
    "waypoints = gen_spiral(initial_pose, repeat=2)"
   ]
  },
  {
   "cell_type": "code",
   "execution_count": null,
   "id": "3",
   "metadata": {},
   "outputs": [],
   "source": [
    "plot_waypoints(waypoints)"
   ]
  },
  {
   "cell_type": "code",
   "execution_count": null,
   "id": "4",
   "metadata": {},
   "outputs": [],
   "source": [
    "initial_pose = np.eye(4)\n",
    "initial_pose[:3, 3] = np.array([1, 1, 0])"
   ]
  },
  {
   "cell_type": "code",
   "execution_count": null,
   "id": "5",
   "metadata": {},
   "outputs": [],
   "source": [
    "from lac.planning.waypoint_planner import (\n",
    "    get_starting_direction_order,\n",
    "    gen_loops,\n",
    "    gen_triangle_loops,\n",
    ")\n",
    "\n",
    "waypoints1 = gen_loops(initial_pose, loop_width=7.0, extra_closure=True)\n",
    "waypoints2 = gen_loops(initial_pose, loop_width=5.0, extra_closure=True)\n",
    "plot_waypoints(np.vstack((waypoints1, waypoints2)))"
   ]
  },
  {
   "cell_type": "code",
   "execution_count": null,
   "id": "6",
   "metadata": {},
   "outputs": [],
   "source": [
    "initial_pose = np.eye(4)\n",
    "initial_pose[:3, 3] = np.array([-1, -1, 0])\n",
    "\n",
    "waypoints = gen_triangle_loops(initial_pose, loop_width=7.0)\n",
    "plot_waypoints(waypoints)"
   ]
  },
  {
   "cell_type": "code",
   "execution_count": null,
   "id": "7",
   "metadata": {},
   "outputs": [],
   "source": [
    "plot_waypoints(waypoints[:4])"
   ]
  },
  {
   "cell_type": "code",
   "execution_count": null,
   "id": "8",
   "metadata": {},
   "outputs": [],
   "source": [
    "# Clockwise rotation\n",
    "R = np.array([[0, 1], [-1, 0]])\n",
    "\n",
    "i = 1\n",
    "\n",
    "center_points = 0.5 * np.array([[-1, 1], [1, 1], [1, -1], [-1, -1], [-1, 1], [1, 1]])\n",
    "side_points = np.array([[0, -1], [1, -1], [1, 0], [0, -1]], dtype=float)\n",
    "\n",
    "# Rotate the points\n",
    "for j in range(i):\n",
    "    side_points = side_points @ R.T\n",
    "# rotated_points = np.dot(side_points, R)\n",
    "\n",
    "side_points += center_points[(i + 1) % 4]\n",
    "\n",
    "plot_waypoints(np.vstack((center_points, center_points[(i + 1) % 4], side_points)))"
   ]
  },
  {
   "cell_type": "code",
   "execution_count": null,
   "id": "9",
   "metadata": {},
   "outputs": [],
   "source": [
    "center_points[i + 2]"
   ]
  },
  {
   "cell_type": "code",
   "execution_count": null,
   "id": "10",
   "metadata": {},
   "outputs": [],
   "source": [
    "side_points"
   ]
  },
  {
   "cell_type": "code",
   "execution_count": null,
   "id": "11",
   "metadata": {},
   "outputs": [],
   "source": []
  }
 ],
 "metadata": {
  "kernelspec": {
   "display_name": "lac",
   "language": "python",
   "name": "python3"
  },
  "language_info": {
   "codemirror_mode": {
    "name": "ipython",
    "version": 3
   },
   "file_extension": ".py",
   "mimetype": "text/x-python",
   "name": "python",
   "nbconvert_exporter": "python",
   "pygments_lexer": "ipython3",
   "version": "3.10.15"
  }
 },
 "nbformat": 4,
 "nbformat_minor": 5
}
