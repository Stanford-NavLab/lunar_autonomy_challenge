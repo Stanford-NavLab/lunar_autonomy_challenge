{
 "cells": [
  {
   "cell_type": "code",
   "execution_count": null,
   "id": "0",
   "metadata": {},
   "outputs": [],
   "source": [
    "import numpy as np\n",
    "\n",
    "from lac.planning.waypoint_generation import gen_spiral, gen_triangle_loops, gen_nine_loops\n",
    "from lac.utils.plotting import plot_waypoints, save_waypoints_gif\n",
    "from lac.util import load_data\n",
    "\n",
    "%load_ext autoreload\n",
    "%autoreload 2"
   ]
  },
  {
   "cell_type": "code",
   "execution_count": null,
   "id": "1",
   "metadata": {},
   "outputs": [],
   "source": [
    "initial_pose = np.eye(4)\n",
    "initial_pose[:3, 3] = np.array([-1, -1, 0])\n",
    "\n",
    "waypoints = gen_triangle_loops(initial_pose, loop_width=7.0, additional_loops=True)\n",
    "# waypoints = gen_nine_loops(initial_pose, loop_width=7.0)\n",
    "plot_waypoints(waypoints, show_endpoint=True)"
   ]
  },
  {
   "cell_type": "code",
   "execution_count": null,
   "id": "2",
   "metadata": {},
   "outputs": [],
   "source": [
    "save_waypoints_gif(waypoints, name=\"triangle_loops\", path=\"../../../results/waypoints\")"
   ]
  },
  {
   "cell_type": "code",
   "execution_count": null,
   "id": "3",
   "metadata": {},
   "outputs": [],
   "source": [
    "for i in range(len(waypoints)):\n",
    "    fig = plot_waypoints(waypoints[: i + 1], show_endpoint=True)\n",
    "    fig.write_image(f\"../../../results/waypoints/nine_loops/{i:03}.png\")"
   ]
  },
  {
   "cell_type": "code",
   "execution_count": null,
   "id": "4",
   "metadata": {},
   "outputs": [],
   "source": [
    "import imageio.v2 as imageio\n",
    "import os\n",
    "\n",
    "image_folder = \"../../../results/waypoints/nine_loops\"\n",
    "output_gif = \"../../../results/waypoints/nine_loops.gif\"\n",
    "\n",
    "# Sort filenames to ensure correct order\n",
    "image_files = sorted([f for f in os.listdir(image_folder) if f.endswith((\".png\", \".jpg\", \".jpeg\"))])\n",
    "\n",
    "# Read and write images into a GIF\n",
    "with imageio.get_writer(output_gif, mode=\"I\", duration=0.5) as writer:\n",
    "    for filename in image_files:\n",
    "        image_path = os.path.join(image_folder, filename)\n",
    "        image = imageio.imread(image_path)\n",
    "        writer.append_data(image)"
   ]
  },
  {
   "cell_type": "code",
   "execution_count": null,
   "id": "5",
   "metadata": {},
   "outputs": [],
   "source": [
    "plot_waypoints(waypoints[:4])"
   ]
  },
  {
   "cell_type": "code",
   "execution_count": null,
   "id": "6",
   "metadata": {},
   "outputs": [],
   "source": [
    "# Clockwise rotation\n",
    "R = np.array([[0, 1], [-1, 0]])\n",
    "\n",
    "i = 1\n",
    "\n",
    "center_points = 0.5 * np.array([[-1, 1], [1, 1], [1, -1], [-1, -1], [-1, 1], [1, 1]])\n",
    "side_points = np.array([[0, -1], [1, -1], [1, 0], [0, -1]], dtype=float)\n",
    "\n",
    "# Rotate the points\n",
    "for j in range(i):\n",
    "    side_points = side_points @ R.T\n",
    "# rotated_points = np.dot(side_points, R)\n",
    "\n",
    "side_points += center_points[(i + 1) % 4]\n",
    "\n",
    "plot_waypoints(np.vstack((center_points, center_points[(i + 1) % 4], side_points)))"
   ]
  },
  {
   "cell_type": "code",
   "execution_count": null,
   "id": "7",
   "metadata": {},
   "outputs": [],
   "source": [
    "center_points[i + 2]"
   ]
  },
  {
   "cell_type": "code",
   "execution_count": null,
   "id": "8",
   "metadata": {},
   "outputs": [],
   "source": [
    "side_points"
   ]
  },
  {
   "cell_type": "code",
   "execution_count": null,
   "id": "9",
   "metadata": {},
   "outputs": [],
   "source": []
  }
 ],
 "metadata": {
  "kernelspec": {
   "display_name": "lac",
   "language": "python",
   "name": "python3"
  },
  "language_info": {
   "codemirror_mode": {
    "name": "ipython",
    "version": 3
   },
   "file_extension": ".py",
   "mimetype": "text/x-python",
   "name": "python",
   "nbconvert_exporter": "python",
   "pygments_lexer": "ipython3",
   "version": "3.10.15"
  }
 },
 "nbformat": 4,
 "nbformat_minor": 5
}
