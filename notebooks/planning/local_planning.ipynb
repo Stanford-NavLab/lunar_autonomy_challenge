{
 "cells": [
  {
   "cell_type": "code",
   "execution_count": null,
   "id": "0",
   "metadata": {},
   "outputs": [],
   "source": [
    "import numpy as np\n",
    "from tqdm import tqdm\n",
    "from pathlib import Path\n",
    "import matplotlib.pyplot as plt\n",
    "import plotly.graph_objects as go\n",
    "\n",
    "from lac.slam.semantic_feature_tracker import SemanticFeatureTracker\n",
    "from lac.perception.segmentation import SemanticClasses\n",
    "from lac.slam.frontend import Frontend\n",
    "from lac.slam.backend import Backend\n",
    "from lac.utils.plotting import plot_poses, plot_loop_closures, plot_3d_points, plot_semantic_points\n",
    "from lac.util import load_data, load_stereo_images, load_images, positions_rmse_from_poses\n",
    "from lac.utils.geometry import crop_points\n",
    "from lac.params import SCENE_BBOX\n",
    "\n",
    "%load_ext autoreload\n",
    "%autoreload 2"
   ]
  },
  {
   "cell_type": "markdown",
   "id": "1",
   "metadata": {},
   "source": [
    "# Load data\n"
   ]
  },
  {
   "cell_type": "code",
   "execution_count": null,
   "id": "2",
   "metadata": {},
   "outputs": [],
   "source": [
    "# Load the data logs\n",
    "data_path = \"/home/shared/data_raw/LAC/runs/double_loop_preset1\"\n",
    "initial_pose, lander_pose, poses, imu_data, cam_config = load_data(data_path)\n",
    "print(f\"Loaded {len(poses)} poses\")"
   ]
  },
  {
   "cell_type": "code",
   "execution_count": null,
   "id": "3",
   "metadata": {},
   "outputs": [],
   "source": [
    "# images = load_images(data_path, cameras=[\"FrontLeft\", \"FrontRight\"], start_frame=0, end_frame=10000)\n",
    "left_imgs, right_imgs = load_stereo_images(data_path, start_frame=0)\n",
    "images = {\"FrontLeft\": left_imgs, \"FrontRight\": right_imgs}"
   ]
  },
  {
   "cell_type": "markdown",
   "id": "4",
   "metadata": {},
   "source": [
    "# Run slam for local map\n"
   ]
  },
  {
   "cell_type": "code",
   "execution_count": null,
   "id": "5",
   "metadata": {},
   "outputs": [],
   "source": [
    "START_FRAME = 80\n",
    "END_FRAME = 200\n",
    "\n",
    "# TODO: we should probably keyframe the first frame (give it to the backend)\n",
    "\n",
    "feature_tracker = SemanticFeatureTracker(cam_config)\n",
    "frontend = Frontend(feature_tracker)\n",
    "backend = Backend(poses[START_FRAME], feature_tracker)\n",
    "\n",
    "frontend.initialize(left_imgs[START_FRAME], right_imgs[START_FRAME])"
   ]
  },
  {
   "cell_type": "code",
   "execution_count": null,
   "id": "6",
   "metadata": {},
   "outputs": [],
   "source": [
    "for frame in tqdm(range(START_FRAME + 2, END_FRAME, 2)):\n",
    "    data = {\n",
    "        \"step\": frame,\n",
    "        \"FrontLeft\": left_imgs[frame],\n",
    "        \"FrontRight\": right_imgs[frame],\n",
    "        \"imu\": imu_data[frame],\n",
    "    }\n",
    "    data = frontend.process_frame(data)\n",
    "    backend.update(data)"
   ]
  },
  {
   "cell_type": "code",
   "execution_count": null,
   "id": "7",
   "metadata": {},
   "outputs": [],
   "source": [
    "points = frontend.feature_tracker.tracked_points.points_local\n",
    "labels = frontend.feature_tracker.tracked_points.labels\n",
    "plot_semantic_points(\n",
    "    points, labels, names=[member.name for member in SemanticClasses], markersize=2\n",
    ")"
   ]
  },
  {
   "cell_type": "code",
   "execution_count": null,
   "id": "8",
   "metadata": {},
   "outputs": [],
   "source": []
  }
 ],
 "metadata": {
  "kernelspec": {
   "display_name": "lac",
   "language": "python",
   "name": "python3"
  },
  "language_info": {
   "codemirror_mode": {
    "name": "ipython",
    "version": 3
   },
   "file_extension": ".py",
   "mimetype": "text/x-python",
   "name": "python",
   "nbconvert_exporter": "python",
   "pygments_lexer": "ipython3",
   "version": "3.10.16"
  }
 },
 "nbformat": 4,
 "nbformat_minor": 5
}
