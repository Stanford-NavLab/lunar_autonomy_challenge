{
 "cells": [
  {
   "cell_type": "code",
   "execution_count": null,
   "metadata": {},
   "outputs": [],
   "source": [
    "import numpy as np\n",
    "import cv2 as cv\n",
    "import os\n",
    "import json\n",
    "from PIL import Image\n",
    "import matplotlib.pyplot as plt\n",
    "import plotly.graph_objects as go\n",
    "import time\n",
    "import torch\n",
    "from pathlib import Path\n",
    "\n",
    "from lac.perception.segmentation import UnetSegmentation\n",
    "from lac.perception.depth import (\n",
    "    stereo_depth_from_segmentation,\n",
    "    project_pixel_to_rover,\n",
    "    compute_rock_coords_rover_frame,\n",
    "    compute_rock_radii,\n",
    ")\n",
    "from lac.control.controller import ArcPlanner\n",
    "from lac.utils.visualization import overlay_mask, overlay_stereo_rock_depths\n",
    "from lac.utils.plotting import (\n",
    "    plot_points_rover_frame,\n",
    "    plot_path_rover_frame,\n",
    "    plot_rocks_rover_frame,\n",
    ")\n",
    "from lac.utils.frames import invert_transform_mat, apply_transform\n",
    "from lac.util import load_data, get_positions_from_poses\n",
    "import lac.params as params\n",
    "\n",
    "%load_ext autoreload\n",
    "%autoreload 2"
   ]
  },
  {
   "cell_type": "markdown",
   "metadata": {},
   "source": [
    "## Obstacle detection\n"
   ]
  },
  {
   "cell_type": "code",
   "execution_count": null,
   "metadata": {},
   "outputs": [],
   "source": [
    "segmentation = UnetSegmentation()"
   ]
  },
  {
   "cell_type": "code",
   "execution_count": null,
   "metadata": {},
   "outputs": [],
   "source": [
    "data_path = Path(\"../../output/AutoAgent/arc_planner_test\")\n",
    "data_path = Path(\"/home/shared/data_raw/LAC/runs/double_loop_preset1\")\n",
    "data_path = Path(\"../../../output/RecoveryAgent/default_run\")\n",
    "initial_pose, lander_pose, poses, imu_data, cam_config, waypoints = load_data(data_path)"
   ]
  },
  {
   "cell_type": "code",
   "execution_count": null,
   "metadata": {},
   "outputs": [],
   "source": [
    "prev_index = 490\n",
    "prev_left_image = cv.imread(data_path / \"FrontLeft\" / f\"{prev_index:06}.png\", cv.IMREAD_GRAYSCALE)\n",
    "prev_right_image = cv.imread(data_path / \"FrontRight\" / f\"{prev_index:06}.png\", cv.IMREAD_GRAYSCALE)\n",
    "prev_left_masks, prev_left_labels = segmentation.segment_rocks(prev_left_image)\n",
    "prev_right_masks, prev_right_labels = segmentation.segment_rocks(prev_right_image)\n",
    "prev_left_seg_full_mask = np.clip(prev_left_labels, 0, 1).astype(np.uint8)\n",
    "prev_right_seg_full_mask = np.clip(prev_right_labels, 0, 1).astype(np.uint8)\n",
    "\n",
    "prev_results = stereo_depth_from_segmentation(\n",
    "    prev_left_masks, prev_right_masks, params.STEREO_BASELINE, params.FL_X\n",
    ")\n",
    "left_overlay = overlay_mask(np.array(prev_left_image), prev_left_seg_full_mask)\n",
    "left_overlay = overlay_stereo_rock_depths(left_overlay, prev_results)\n",
    "fig = plt.figure(figsize=(10, 5), dpi=100)\n",
    "plt.imshow(left_overlay)\n",
    "plt.axis(\"off\")"
   ]
  },
  {
   "cell_type": "code",
   "execution_count": null,
   "metadata": {},
   "outputs": [],
   "source": [
    "index = 500\n",
    "left_image = cv.imread(data_path / \"FrontLeft\" / f\"{index:06}.png\", cv.IMREAD_GRAYSCALE)\n",
    "right_image = cv.imread(data_path / \"FrontRight\" / f\"{index:06}.png\", cv.IMREAD_GRAYSCALE)\n",
    "left_masks, left_labels = segmentation.segment_rocks(left_image)\n",
    "right_masks, right_labels = segmentation.segment_rocks(right_image)\n",
    "left_seg_full_mask = np.clip(left_labels, 0, 1).astype(np.uint8)\n",
    "right_seg_full_mask = np.clip(right_labels, 0, 1).astype(np.uint8)\n",
    "\n",
    "results = stereo_depth_from_segmentation(\n",
    "    left_masks, right_masks, params.STEREO_BASELINE, params.FL_X\n",
    ")\n",
    "left_overlay = overlay_mask(np.array(left_image), left_seg_full_mask)\n",
    "left_overlay = overlay_stereo_rock_depths(left_overlay, results)\n",
    "fig = plt.figure(figsize=(10, 5), dpi=100)\n",
    "plt.imshow(left_overlay)\n",
    "plt.axis(\"off\")"
   ]
  },
  {
   "cell_type": "code",
   "execution_count": null,
   "metadata": {},
   "outputs": [],
   "source": [
    "# TODO: use compute_rock_points and compute_rock_radii"
   ]
  },
  {
   "cell_type": "code",
   "execution_count": null,
   "metadata": {},
   "outputs": [],
   "source": [
    "rock_index = 4\n",
    "print(results[rock_index][\"depth\"])\n",
    "x, _, w, _ = cv.boundingRect(results[rock_index][\"left_mask\"].astype(np.uint8))\n",
    "width_x = w * results[rock_index][\"depth\"] / params.FL_X\n",
    "print(f\"Width: {width_x/2} m\")\n",
    "\n",
    "# big rock at 11000 time step: 0.55 m"
   ]
  },
  {
   "cell_type": "code",
   "execution_count": null,
   "metadata": {},
   "outputs": [],
   "source": [
    "lander_local = apply_transform(invert_transform_mat(poses[index]), params.LANDER_GLOBAL)\n",
    "lander_local"
   ]
  },
  {
   "cell_type": "code",
   "execution_count": null,
   "metadata": {},
   "outputs": [],
   "source": [
    "prev_rock_data = []\n",
    "prev_rock_points_rover_frame = []\n",
    "prev_rock_data = compute_rock_radii(prev_results)\n",
    "print(prev_rock_data)\n",
    "\n",
    "for rock in prev_results:\n",
    "    prev_rock_points_rover_frame.append(\n",
    "        project_pixel_to_rover(rock[\"left_centroid\"], rock[\"depth\"], \"FrontLeft\", cam_config)\n",
    "    )\n",
    "\n",
    "prev_rock_points_rover_frame = np.array(prev_rock_points_rover_frame)\n",
    "# print(rock_points_rover_frame)\n",
    "fig = go.Figure()\n",
    "fig.add_trace(go.Scatter(x=lander_local[:, 1], y=lander_local[:, 0], fill=\"toself\", name=\"lander\"))\n",
    "print(prev_rock_points_rover_frame)\n",
    "print(prev_rock_data)\n",
    "fig = plot_rocks_rover_frame(prev_rock_points_rover_frame, prev_rock_data, fig=fig, color=\"red\")\n",
    "fig.show()"
   ]
  },
  {
   "cell_type": "code",
   "execution_count": null,
   "metadata": {},
   "outputs": [],
   "source": [
    "rock_points_rover_frame = []\n",
    "rock_data = compute_rock_radii(results)\n",
    "print(rock_data)\n",
    "\n",
    "for rock in results:\n",
    "    rock_points_rover_frame.append(\n",
    "        project_pixel_to_rover(rock[\"left_centroid\"], rock[\"depth\"], \"FrontLeft\", cam_config)\n",
    "    )\n",
    "\n",
    "rock_points_rover_frame = np.array(rock_points_rover_frame)\n",
    "# print(rock_points_rover_frame)\n",
    "fig = go.Figure()\n",
    "fig.add_trace(go.Scatter(x=lander_local[:, 1], y=lander_local[:, 0], fill=\"toself\", name=\"lander\"))\n",
    "fig = plot_rocks_rover_frame(rock_points_rover_frame, rock_data, fig=fig, color=\"red\")\n",
    "fig.show()"
   ]
  },
  {
   "cell_type": "code",
   "execution_count": null,
   "metadata": {},
   "outputs": [],
   "source": [
    "print(rock_data)"
   ]
  },
  {
   "cell_type": "code",
   "execution_count": null,
   "metadata": {},
   "outputs": [],
   "source": [
    "pose_difference = poses[index] - poses[prev_index]\n",
    "pose_difference"
   ]
  },
  {
   "cell_type": "markdown",
   "metadata": {},
   "source": [
    "## Arc path planning\n"
   ]
  },
  {
   "cell_type": "code",
   "execution_count": null,
   "metadata": {},
   "outputs": [],
   "source": [
    "planner = ArcPlanner(21, 12.0, 0.6)\n",
    "\n",
    "\n",
    "arcs = planner.np_candidate_arcs"
   ]
  },
  {
   "cell_type": "code",
   "execution_count": null,
   "metadata": {},
   "outputs": [],
   "source": [
    "print(rock_points_rover_frame)\n",
    "test_rock_points_rover_frame = np.array([[0.5, 0.5], [0.4, -0.4], [0.2, 0.3]])"
   ]
  },
  {
   "cell_type": "code",
   "execution_count": null,
   "metadata": {},
   "outputs": [],
   "source": [
    "test_rock_data = [0.07, 0.06, 0.05]"
   ]
  },
  {
   "cell_type": "code",
   "execution_count": null,
   "metadata": {},
   "outputs": [],
   "source": [
    "# print(f\"candidate arcs shape: {planner.np_candidate_arcs.shape}\")\n",
    "waypoint = waypoints[index]  # would prefer a way to automate this\n",
    "\n",
    "\n",
    "current_pose = poses[index]\n",
    "\n",
    "test_rock_points_rover_frame = np.array([[]])\n",
    "test_rock_data = []\n",
    "control, best_arc, waypoint_local = planner.plan_arc(\n",
    "    waypoint, current_pose, rock_points_rover_frame, rock_data\n",
    ")\n",
    "# (v,w), waypoint_local = planner.plan_arc(waypoint, current_pose, test_rock_points_rover_frame, test_rock_data)\n",
    "# print(waypoint_local)\n",
    "fig = plot_rocks_rover_frame(rock_points_rover_frame, rock_data, color=\"red\")\n",
    "print(f\"waypoint_local{waypoint_local}\")\n",
    "# fig = go.Figure()\n",
    "for arc in arcs:\n",
    "    fig = plot_path_rover_frame(arc, fig=fig)\n",
    "fig = plot_path_rover_frame(best_arc, color=\"green\", fig=fig)\n",
    "\n",
    "fig.show()\n",
    "print(control)"
   ]
  },
  {
   "cell_type": "code",
   "execution_count": null,
   "metadata": {},
   "outputs": [],
   "source": [
    "planner = ArcPlanner(11, 6.0)\n",
    "arcs = planner.np_candidate_arcs\n",
    "vw_poses_dict = {}\n",
    "data_path = Path(\"../../../results/dynamics/v0.2_w0.0.json\")\n",
    "data_path = Path(\"../../../results/dynamics/v0.2_w0.0_scaled2.json\")\n",
    "\n",
    "vals = np.linspace(-0.4, 0.4, num=5)\n",
    "vals = np.round(vals, 2)\n",
    "\n",
    "\n",
    "for i in vals:\n",
    "    path = f\"../../../results/dynamics/v0.2_w{i:.1f}_scaled2.json\"\n",
    "\n",
    "    initial_pose, lander_pose, poses, imu_data, cam_config = load_data(path, dynamics=True)\n",
    "    poses = np.array(poses)\n",
    "    inverse_matrix = np.linalg.inv(initial_pose)\n",
    "\n",
    "    rotated_poses = inverse_matrix @ poses\n",
    "    vw_poses_dict[(0.2, i)] = rotated_poses[100:400, :2, 3]\n",
    "\n",
    "    if i == -0.4:\n",
    "        fig = plot_path_rover_frame(vw_poses_dict[(0.2, -0.4)])\n",
    "\n",
    "    plot_path_rover_frame(vw_poses_dict[(0.2, i)], fig=fig)\n",
    "\n",
    "for arc in arcs:\n",
    "    fig = plot_path_rover_frame(arc, fig=fig, color=\"red\")\n",
    "fig.show()\n",
    "# testing 0.5"
   ]
  },
  {
   "cell_type": "code",
   "execution_count": null,
   "metadata": {},
   "outputs": [],
   "source": [
    "import pickle\n",
    "\n",
    "with open(\n",
    "    \"../../../results/planner_stats/path_planner_stats_arc20_12.0s_scale2_rad0.75_replan20.pkl\",\n",
    "    \"rb\",\n",
    ") as f:\n",
    "    data = pickle.load(f)\n",
    "print(len(data[\"collision detections\"]))\n",
    "print(data)"
   ]
  },
  {
   "cell_type": "markdown",
   "metadata": {},
   "source": [
    "# Arc overlay visualization\n"
   ]
  },
  {
   "cell_type": "code",
   "execution_count": null,
   "metadata": {},
   "outputs": [],
   "source": [
    "from lac.utils.camera import Camera\n",
    "from lac.utils.frames import get_cam_pose_rover, CAMERA_TO_OPENCV_PASSIVE\n",
    "from lac.utils.plotting import plot_poses"
   ]
  },
  {
   "cell_type": "code",
   "execution_count": null,
   "metadata": {},
   "outputs": [],
   "source": [
    "def rover_pose_to_cam_pose(rover_pose, cam_name=\"FrontLeft\"):\n",
    "    camera_pose = get_cam_pose_rover(cam_name)\n",
    "    camera_pose[:3, :3] = CAMERA_TO_OPENCV_PASSIVE\n",
    "    return rover_pose @ camera_pose"
   ]
  },
  {
   "cell_type": "code",
   "execution_count": null,
   "metadata": {},
   "outputs": [],
   "source": [
    "# data_path = Path(\"../../output/AutoAgent/arc_planner_test\")\n",
    "data_path = Path(\"../../output/NavAgent/map1_preset4_eval\")\n",
    "initial_pose, lander_pose, poses, imu_data, cam_config = load_data(data_path)"
   ]
  },
  {
   "cell_type": "code",
   "execution_count": null,
   "metadata": {},
   "outputs": [],
   "source": [
    "cam_poses = []\n",
    "for pose in poses:\n",
    "    cam_poses.append(rover_pose_to_cam_pose(pose))"
   ]
  },
  {
   "cell_type": "code",
   "execution_count": null,
   "metadata": {},
   "outputs": [],
   "source": [
    "plot_poses(cam_poses[::100])"
   ]
  },
  {
   "cell_type": "code",
   "execution_count": null,
   "metadata": {},
   "outputs": [],
   "source": [
    "cam = Camera(cam_poses[0])\n",
    "\n",
    "# TODO: define arc points\n",
    "arc_points = None\n",
    "\n",
    "uv, depths = cam.project_world_points_to_uv(arc_points)"
   ]
  },
  {
   "cell_type": "code",
   "execution_count": null,
   "metadata": {},
   "outputs": [],
   "source": [
    "plt.scatter(uv[:, 0], uv[:, 1], cmap=\"plasma\")\n",
    "# Set x and y limits\n",
    "plt.xlim(0, 1280)\n",
    "plt.ylim(0, 720)\n",
    "plt.gca().invert_yaxis()\n",
    "plt.show()"
   ]
  },
  {
   "cell_type": "code",
   "execution_count": null,
   "metadata": {},
   "outputs": [],
   "source": []
  },
  {
   "cell_type": "code",
   "execution_count": null,
   "metadata": {},
   "outputs": [],
   "source": []
  },
  {
   "cell_type": "code",
   "execution_count": null,
   "metadata": {},
   "outputs": [],
   "source": []
  },
  {
   "cell_type": "code",
   "execution_count": null,
   "metadata": {},
   "outputs": [],
   "source": []
  },
  {
   "cell_type": "code",
   "execution_count": null,
   "metadata": {},
   "outputs": [],
   "source": []
  }
 ],
 "metadata": {
  "kernelspec": {
   "display_name": "lac",
   "language": "python",
   "name": "python3"
  },
  "language_info": {
   "codemirror_mode": {
    "name": "ipython",
    "version": 3
   },
   "file_extension": ".py",
   "mimetype": "text/x-python",
   "name": "python",
   "nbconvert_exporter": "python",
   "pygments_lexer": "ipython3",
   "version": "3.10.16"
  }
 },
 "nbformat": 4,
 "nbformat_minor": 2
}
