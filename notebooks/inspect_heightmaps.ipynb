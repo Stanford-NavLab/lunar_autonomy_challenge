{
 "cells": [
  {
   "cell_type": "code",
   "execution_count": null,
   "metadata": {},
   "outputs": [],
   "source": [
    "import numpy as np\n",
    "import plotly.graph_objects as go\n",
    "\n",
    "from lac.plotting import plot_3d_points\n",
    "\n",
    "%load_ext autoreload\n",
    "%autoreload 2"
   ]
  },
  {
   "cell_type": "markdown",
   "metadata": {},
   "source": [
    "# Load a ground truth heightmap\n",
    "\n",
    "From https://lunar-autonomy-challenge.jhuapl.edu/Challenge-Documentation/index.php#introduction:\n",
    "\n",
    "- Environments are 40m x 40m in size, with a mapping area of 27m x 27m\n",
    "- The mapping area is divided up into cells of 15cm x 15cm, hence 180 x 180 cells, so total 32,400 cells\n",
    "- For qualifying, the mapping area is 9m x 9m, so a 60 x 60 grid with 3,600 total cells\n"
   ]
  },
  {
   "cell_type": "code",
   "execution_count": null,
   "metadata": {},
   "outputs": [],
   "source": [
    "# heightmap_path = \"../../results/runs/map0_seed4_spiral_4.5_2.0/Moon_Map_01_0_rep0_agent.dat\"\n",
    "heightmap_path = \"../../results/Moon_Map_01_0_rep0_agent.dat\"\n",
    "heightmap_array = np.load(heightmap_path, allow_pickle=True)\n",
    "heightmap_array.shape"
   ]
  },
  {
   "cell_type": "markdown",
   "metadata": {},
   "source": [
    "The heightmap is of shape 180 x 180 x 4, where the 4 channels are (x, y, z, and rock presence (0 or 1))\n"
   ]
  },
  {
   "cell_type": "code",
   "execution_count": null,
   "metadata": {},
   "outputs": [],
   "source": [
    "fig = go.Figure(\n",
    "    data=[\n",
    "        go.Surface(\n",
    "            x=heightmap_array[:, :, 0], y=heightmap_array[:, :, 1], z=heightmap_array[:, :, 2]\n",
    "        )\n",
    "    ]\n",
    ")\n",
    "fig.update_layout(height=900, width=1600, scene_aspectmode=\"data\")\n",
    "fig.show()"
   ]
  },
  {
   "cell_type": "code",
   "execution_count": 67,
   "metadata": {},
   "outputs": [],
   "source": [
    "heightmap_points = heightmap_array[:, :, :3].reshape(-1, 3)\n",
    "heightmap_points = heightmap_points[heightmap_points[:, 2] != -np.inf]"
   ]
  },
  {
   "cell_type": "code",
   "execution_count": null,
   "metadata": {},
   "outputs": [],
   "source": [
    "(len(heightmap_points) / 60**2) * 300"
   ]
  },
  {
   "cell_type": "code",
   "execution_count": null,
   "metadata": {},
   "outputs": [],
   "source": [
    "fig = plot_3d_points(heightmap_points)\n",
    "fig.update_layout(height=700, width=1200, scene_aspectmode=\"data\")\n",
    "fig.show()"
   ]
  },
  {
   "cell_type": "markdown",
   "metadata": {},
   "source": [
    "# Wheel contact height mapping\n"
   ]
  },
  {
   "cell_type": "code",
   "execution_count": 5,
   "metadata": {},
   "outputs": [],
   "source": [
    "import json\n",
    "\n",
    "from lac.plotting import pose_traces, plot_3d_points\n",
    "from lac.util import rmse"
   ]
  },
  {
   "cell_type": "code",
   "execution_count": 6,
   "metadata": {},
   "outputs": [],
   "source": [
    "geometry_data = json.load(open(\"../../docs/geometry.json\"))\n",
    "rig = geometry_data[\"rover\"][\"wheels\"]"
   ]
  },
  {
   "cell_type": "code",
   "execution_count": 7,
   "metadata": {},
   "outputs": [],
   "source": [
    "# Wheel centers (x,y,z) in the body frame\n",
    "wheel_centers = np.array(\n",
    "    [\n",
    "        [0.222, 0.203, 0.041],  # Front left\n",
    "        [0.222, -0.203, 0.041],  # Front right\n",
    "        [-0.222, 0.203, 0.041],  # Rear left\n",
    "        [-0.222, 0.203, 0.041],\n",
    "    ]\n",
    ")  # Rear right\n",
    "wheel_diameter = 0.32\n",
    "rover_height = 0.134  # Z offset from robot center to lowest part of wheels\n",
    "\n",
    "# Wheel contact points (x,y,z) in the body frame\n",
    "wheel_rig = np.array(\n",
    "    [\n",
    "        [0.222, 0.203, -0.134],\n",
    "        [0.222, -0.203, -0.134],\n",
    "        [-0.222, 0.203, -0.134],\n",
    "        [-0.222, 0.203, -0.134],\n",
    "    ]\n",
    ")\n",
    "\n",
    "# Concatenate 1's as the last row to wheel_rig.T\n",
    "wheel_rig_coords = np.concatenate((wheel_rig.T, np.ones((1, 4))), axis=0)"
   ]
  },
  {
   "cell_type": "code",
   "execution_count": 10,
   "metadata": {},
   "outputs": [],
   "source": [
    "data_path = \"../../output/nav_agent\"\n",
    "json_data = json.load(open(f\"{data_path}/data_log.json\"))\n",
    "\n",
    "poses = []\n",
    "contact_points = []\n",
    "\n",
    "for frame in json_data[\"frames\"]:\n",
    "    poses.append(np.array(frame[\"pose\"]))\n",
    "    points = np.array(frame[\"pose\"]) @ wheel_rig_coords\n",
    "    points = points[:3, :].T\n",
    "    contact_points.append(points)"
   ]
  },
  {
   "cell_type": "code",
   "execution_count": null,
   "metadata": {},
   "outputs": [],
   "source": [
    "fig = go.Figure(\n",
    "    data=[\n",
    "        go.Surface(\n",
    "            x=heightmap_array[:, :, 0], y=heightmap_array[:, :, 1], z=heightmap_array[:, :, 2]\n",
    "        )\n",
    "    ]\n",
    "    + pose_traces(poses[::10])\n",
    ")\n",
    "fig.update_layout(height=900, width=1600, scene_aspectmode=\"data\")\n",
    "fig.show()"
   ]
  },
  {
   "cell_type": "code",
   "execution_count": 32,
   "metadata": {},
   "outputs": [],
   "source": [
    "# Stack the contact points into a single array\n",
    "contact_points_array = np.vstack(contact_points)"
   ]
  },
  {
   "cell_type": "code",
   "execution_count": null,
   "metadata": {},
   "outputs": [],
   "source": [
    "fig = go.Figure(\n",
    "    data=[\n",
    "        go.Surface(\n",
    "            x=heightmap_array[:, :, 0], y=heightmap_array[:, :, 1], z=heightmap_array[:, :, 2]\n",
    "        )\n",
    "    ]\n",
    ")\n",
    "fig = plot_3d_points(contact_points_array, fig=fig, color=\"blue\", markersize=3)\n",
    "fig.update_layout(height=900, width=1600, scene_aspectmode=\"data\")\n",
    "fig.show()"
   ]
  },
  {
   "cell_type": "code",
   "execution_count": 36,
   "metadata": {},
   "outputs": [],
   "source": [
    "fig.write_html(\"wheel_contact.html\")"
   ]
  },
  {
   "cell_type": "code",
   "execution_count": null,
   "metadata": {},
   "outputs": [],
   "source": [
    "contact_points_array"
   ]
  },
  {
   "cell_type": "code",
   "execution_count": null,
   "metadata": {},
   "outputs": [],
   "source": [
    "cell_range = np.linspace(-13.5, 13.5, 181)\n"
   ]
  },
  {
   "cell_type": "code",
   "execution_count": 12,
   "metadata": {},
   "outputs": [],
   "source": [
    "class HeightMap:\n",
    "    def __init__(self, heightmap_path):\n",
    "        self.heightmap = np.load(heightmap_path, allow_pickle=True)\n",
    "        self.cell_range = np.linspace(-13.5, 13.5, 181)\n",
    "\n",
    "    def get_height(self, x, y):\n",
    "        x_idx = np.argmin(np.abs(self.cell_range - x))\n",
    "        y_idx = np.argmin(np.abs(self.cell_range - y))\n",
    "        return self.heightmap[x_idx, y_idx, 2]\n",
    "\n",
    "    def get_heights(self, points):\n",
    "        return np.array([self.get_height(x, y) for x, y in points])"
   ]
  },
  {
   "cell_type": "code",
   "execution_count": 23,
   "metadata": {},
   "outputs": [],
   "source": [
    "heightmap = HeightMap(heightmap_path)"
   ]
  },
  {
   "cell_type": "code",
   "execution_count": null,
   "metadata": {},
   "outputs": [],
   "source": [
    "heightmap.get_height(-13.4, -13.4)"
   ]
  },
  {
   "cell_type": "code",
   "execution_count": null,
   "metadata": {},
   "outputs": [],
   "source": [
    "rmse(contact_points_array[:, 2], heightmap.get_heights(contact_points_array[:, :2]))"
   ]
  },
  {
   "cell_type": "code",
   "execution_count": null,
   "metadata": {},
   "outputs": [],
   "source": []
  }
 ],
 "metadata": {
  "kernelspec": {
   "display_name": "lac",
   "language": "python",
   "name": "python3"
  },
  "language_info": {
   "codemirror_mode": {
    "name": "ipython",
    "version": 3
   },
   "file_extension": ".py",
   "mimetype": "text/x-python",
   "name": "python",
   "nbconvert_exporter": "python",
   "pygments_lexer": "ipython3",
   "version": "3.10.16"
  }
 },
 "nbformat": 4,
 "nbformat_minor": 2
}
