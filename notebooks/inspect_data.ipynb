{
 "cells": [
  {
   "cell_type": "markdown",
   "metadata": {},
   "source": [
    "# Inspect data\n"
   ]
  },
  {
   "cell_type": "code",
   "execution_count": null,
   "metadata": {},
   "outputs": [],
   "source": [
    "import sys\n",
    "import os\n",
    "import numpy as np\n",
    "import plotly.graph_objects as go\n",
    "import json\n",
    "import matplotlib.pyplot as plt\n",
    "from pathlib import Path\n",
    "\n",
    "sys.path.append(os.path.abspath(\"../../Leaderboard/\"))\n",
    "\n",
    "from leaderboard.agents.geometric_map import GeometricMap\n",
    "from leaderboard.utils.constants import Constants\n",
    "\n",
    "from lac.mapping.mapper import Mapper, interpolate_heights, grid_to_points\n",
    "from lac.mapping.map_utils import get_geometric_score\n",
    "from lac.utils.plotting import (\n",
    "    plot_poses,\n",
    "    plot_3d_points,\n",
    "    plot_surface,\n",
    "    plot_heightmaps,\n",
    "    plot_rock_map,\n",
    "    plot_rock_maps,\n",
    ")\n",
    "from lac.util import load_data, pos_rpy_to_pose\n",
    "\n",
    "%load_ext autoreload\n",
    "%autoreload 2"
   ]
  },
  {
   "cell_type": "markdown",
   "metadata": {},
   "source": [
    "### Load data\n"
   ]
  },
  {
   "cell_type": "code",
   "execution_count": null,
   "metadata": {},
   "outputs": [],
   "source": [
    "data_path = \"../../output/NavAgent/spiral_2.5_3.5\"\n",
    "initial_pose, lander_pose, poses, imu_data, cam_config = load_data(data_path)\n",
    "print(f\"Loaded {len(poses)} poses\")"
   ]
  },
  {
   "cell_type": "markdown",
   "metadata": {},
   "source": [
    "### Inspect poses\n"
   ]
  },
  {
   "cell_type": "code",
   "execution_count": null,
   "metadata": {},
   "outputs": [],
   "source": [
    "json_data = json.load(open(f\"{data_path}/data_log.json\"))\n",
    "vo_poses = []\n",
    "for frame in json_data[\"frames\"]:\n",
    "    vo_poses.append(np.array(frame[\"est_pose\"]))"
   ]
  },
  {
   "cell_type": "code",
   "execution_count": null,
   "metadata": {},
   "outputs": [],
   "source": [
    "fig = plot_poses(poses, color=\"black\", no_axes=True, name=\"Ground Truth\")\n",
    "fig = plot_poses(vo_poses, fig=fig, color=\"orange\", no_axes=True, name=\"VO\")\n",
    "fig.show()"
   ]
  },
  {
   "cell_type": "markdown",
   "metadata": {},
   "source": [
    "### Inspect maps\n"
   ]
  },
  {
   "cell_type": "code",
   "execution_count": null,
   "metadata": {},
   "outputs": [],
   "source": [
    "ground_truth_map = np.load(Path(data_path) / \"Moon_Map_01_4_rep0.dat\", allow_pickle=True)\n",
    "agent_map = np.load(Path(data_path) / \"Moon_Map_01_4_rep0_agent.dat\", allow_pickle=True)"
   ]
  },
  {
   "cell_type": "code",
   "execution_count": null,
   "metadata": {},
   "outputs": [],
   "source": [
    "get_geometric_score(ground_truth_map, agent_map)"
   ]
  },
  {
   "cell_type": "code",
   "execution_count": null,
   "metadata": {},
   "outputs": [],
   "source": [
    "plot_heightmaps(ground_truth_map, agent_map)"
   ]
  },
  {
   "cell_type": "code",
   "execution_count": null,
   "metadata": {},
   "outputs": [],
   "source": [
    "plot_rock_maps(ground_truth_map, agent_map)"
   ]
  },
  {
   "cell_type": "code",
   "execution_count": null,
   "metadata": {},
   "outputs": [],
   "source": [
    "plot_rock_map(ground_truth_map)"
   ]
  },
  {
   "cell_type": "code",
   "execution_count": null,
   "metadata": {},
   "outputs": [],
   "source": [
    "plot_rock_map(agent_map)"
   ]
  },
  {
   "cell_type": "code",
   "execution_count": null,
   "metadata": {},
   "outputs": [],
   "source": [
    "ground_truth_map_points = ground_truth_map[:, :, :3].reshape(-1, 3)\n",
    "agent_map_points = agent_map[:, :, :3].reshape(-1, 3)\n",
    "\n",
    "fig = plot_3d_points(ground_truth_map_points, color=\"blue\", name=\"Ground Truth\")\n",
    "fig = plot_3d_points(agent_map_points, fig=fig, color=\"red\", name=\"Agent Map\")\n",
    "fig.update_layout(height=900, width=1600, scene_aspectmode=\"data\")\n",
    "fig.show()"
   ]
  },
  {
   "cell_type": "markdown",
   "metadata": {},
   "source": [
    "# Inspect rock points\n"
   ]
  },
  {
   "cell_type": "code",
   "execution_count": null,
   "metadata": {},
   "outputs": [],
   "source": [
    "data_path = \"../../output/nav_agent\"\n",
    "rock_points = np.load(f\"{data_path}/rock_points.npy\")"
   ]
  },
  {
   "cell_type": "code",
   "execution_count": null,
   "metadata": {},
   "outputs": [],
   "source": [
    "fig = plot_3d_points(rock_points)\n",
    "fig.update_layout(height=700, width=1200, scene_aspectmode=\"data\")\n",
    "fig.show()"
   ]
  },
  {
   "cell_type": "code",
   "execution_count": null,
   "metadata": {},
   "outputs": [],
   "source": [
    "import os\n",
    "\n",
    "cams_geoms = json.load(open(os.path.expanduser(\"~/LunarAutonomyChallenge/docs/geometry.json\")))[\n",
    "    \"rover\"\n",
    "][\"cameras\"]\n",
    "cams_geoms[\"FrontLeft\"]"
   ]
  },
  {
   "cell_type": "code",
   "execution_count": null,
   "metadata": {},
   "outputs": [],
   "source": []
  }
 ],
 "metadata": {
  "kernelspec": {
   "display_name": "lac",
   "language": "python",
   "name": "python3"
  },
  "language_info": {
   "codemirror_mode": {
    "name": "ipython",
    "version": 3
   },
   "file_extension": ".py",
   "mimetype": "text/x-python",
   "name": "python",
   "nbconvert_exporter": "python",
   "pygments_lexer": "ipython3",
   "version": "3.10.15"
  }
 },
 "nbformat": 4,
 "nbformat_minor": 2
}
