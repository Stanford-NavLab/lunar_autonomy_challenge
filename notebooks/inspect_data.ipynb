{
 "cells": [
  {
   "cell_type": "markdown",
   "metadata": {},
   "source": [
    "# Inspect data\n"
   ]
  },
  {
   "cell_type": "code",
   "execution_count": null,
   "metadata": {},
   "outputs": [],
   "source": [
    "import numpy as np\n",
    "import json\n",
    "from pathlib import Path\n",
    "import matplotlib.pyplot as plt\n",
    "import plotly.graph_objects as go\n",
    "\n",
    "from lac.mapping.map_utils import get_geometric_score, get_rocks_score\n",
    "from lac.utils.plotting import (\n",
    "    plot_poses,\n",
    "    plot_3d_points,\n",
    "    plot_surface,\n",
    "    plot_heightmaps,\n",
    "    plot_rock_map,\n",
    "    plot_rock_maps,\n",
    "    plot_rock_results,\n",
    "    plot_height_error,\n",
    "    plot_loop_closures,\n",
    ")\n",
    "from lac.util import load_data\n",
    "from lac.params import DT\n",
    "\n",
    "%load_ext autoreload\n",
    "%autoreload 2"
   ]
  },
  {
   "cell_type": "markdown",
   "metadata": {},
   "source": [
    "### Load data\n"
   ]
  },
  {
   "cell_type": "code",
   "execution_count": null,
   "metadata": {},
   "outputs": [],
   "source": [
    "# data_path = \"../../output/DataCollectionAgent/double_loop_preset1\"\n",
    "# data_path = \"/home/shared/data_raw/LAC/runs/triangles_preset6\"\n",
    "data_path = \"../../output/NavAgent/default_run\"\n",
    "initial_pose, lander_pose, poses, imu_data, cam_config = load_data(data_path)\n",
    "print(f\"Loaded {len(poses)} poses\")"
   ]
  },
  {
   "cell_type": "markdown",
   "metadata": {},
   "source": [
    "### Inspect poses\n"
   ]
  },
  {
   "cell_type": "code",
   "execution_count": null,
   "metadata": {},
   "outputs": [],
   "source": [
    "slam_poses = np.load(f\"{data_path}/slam_poses.npy\")"
   ]
  },
  {
   "cell_type": "code",
   "execution_count": null,
   "metadata": {},
   "outputs": [],
   "source": [
    "fig = plot_poses(poses, color=\"black\", no_axes=True, name=\"Ground Truth\")\n",
    "fig = plot_poses(slam_poses, fig=fig, color=\"orange\", no_axes=True, name=\"SLAM\")\n",
    "fig.show()"
   ]
  },
  {
   "cell_type": "code",
   "execution_count": null,
   "metadata": {},
   "outputs": [],
   "source": [
    "backend_state = np.load(f\"{data_path}/backend_state.npz\")"
   ]
  },
  {
   "cell_type": "code",
   "execution_count": null,
   "metadata": {},
   "outputs": [],
   "source": [
    "fig = plot_poses(poses, color=\"black\", no_axes=True, name=\"Ground Truth\")\n",
    "fig = plot_poses(slam_poses, fig=fig, color=\"orange\", no_axes=True, name=\"SLAM\")\n",
    "fig = plot_loop_closures(slam_poses, backend_state[\"loop_closures\"], fig=fig, showlegend=False)\n",
    "fig.update_layout(height=900, width=1600, scene_aspectmode=\"data\")\n",
    "fig.show()"
   ]
  },
  {
   "cell_type": "code",
   "execution_count": null,
   "metadata": {},
   "outputs": [],
   "source": [
    "slam_velocities = np.linalg.norm(np.diff(slam_poses[:, :3, 3], axis=0) / DT, axis=1)"
   ]
  },
  {
   "cell_type": "code",
   "execution_count": null,
   "metadata": {},
   "outputs": [],
   "source": [
    "poses = np.array(poses)\n",
    "gt_velocities = np.linalg.norm(np.diff(poses[:, :3, 3], axis=0) / DT, axis=1)"
   ]
  },
  {
   "cell_type": "code",
   "execution_count": null,
   "metadata": {},
   "outputs": [],
   "source": [
    "fig = go.Figure()\n",
    "fig.add_trace(\n",
    "    go.Scatter(\n",
    "        x=2 * np.arange(len(slam_velocities)) + 80,\n",
    "        y=slam_velocities / 2,\n",
    "        mode=\"lines\",\n",
    "        name=\"SLAM Velocities\",\n",
    "        line=dict(color=\"orange\"),\n",
    "    )\n",
    ")\n",
    "fig.add_trace(\n",
    "    go.Scatter(\n",
    "        x=np.arange(len(gt_velocities)),\n",
    "        y=gt_velocities,\n",
    "        mode=\"lines\",\n",
    "        name=\"GT Velocities\",\n",
    "        line=dict(color=\"black\"),\n",
    "    )\n",
    ")\n",
    "fig.update_layout(\n",
    "    title=\"SLAM vs GT Velocities\",\n",
    "    xaxis_title=\"Time Step\",\n",
    "    yaxis_title=\"Velocity (m/s)\",\n",
    ")\n",
    "fig.show()"
   ]
  },
  {
   "cell_type": "code",
   "execution_count": null,
   "metadata": {},
   "outputs": [],
   "source": [
    "json_data = json.load(open(f\"{data_path}/data_log.json\"))\n",
    "\n",
    "commanded_vs = []\n",
    "\n",
    "for frame in json_data[\"frames\"]:\n",
    "    commanded_vs.append(frame[\"control\"][\"v\"])"
   ]
  },
  {
   "cell_type": "code",
   "execution_count": null,
   "metadata": {},
   "outputs": [],
   "source": [
    "fig = go.Figure()\n",
    "fig.add_trace(\n",
    "    go.Scatter(\n",
    "        x=np.arange(len(commanded_vs)),\n",
    "        y=commanded_vs,\n",
    "        mode=\"lines\",\n",
    "        name=\"commanded Velocities\",\n",
    "        line=dict(color=\"black\"),\n",
    "    )\n",
    ")\n",
    "fig.show()"
   ]
  },
  {
   "cell_type": "markdown",
   "metadata": {},
   "source": [
    "### Inspect maps\n"
   ]
  },
  {
   "cell_type": "code",
   "execution_count": null,
   "metadata": {},
   "outputs": [],
   "source": [
    "ground_truth_map = np.load(Path(data_path) / \"Moon_Map_01_6_rep0.dat\", allow_pickle=True)\n",
    "agent_map = np.load(Path(data_path) / \"Moon_Map_01_6_rep0_agent.dat\", allow_pickle=True)"
   ]
  },
  {
   "cell_type": "code",
   "execution_count": null,
   "metadata": {},
   "outputs": [],
   "source": [
    "plot_height_error(ground_truth_map, agent_map)"
   ]
  },
  {
   "cell_type": "code",
   "execution_count": null,
   "metadata": {},
   "outputs": [],
   "source": [
    "plot_heightmaps(ground_truth_map, agent_map)"
   ]
  },
  {
   "cell_type": "code",
   "execution_count": null,
   "metadata": {},
   "outputs": [],
   "source": [
    "plot_surface(agent_map)"
   ]
  },
  {
   "cell_type": "code",
   "execution_count": null,
   "metadata": {},
   "outputs": [],
   "source": [
    "plot_rock_maps(ground_truth_map, agent_map)"
   ]
  },
  {
   "cell_type": "code",
   "execution_count": null,
   "metadata": {},
   "outputs": [],
   "source": [
    "plot_rock_results(ground_truth_map, agent_map)"
   ]
  },
  {
   "cell_type": "code",
   "execution_count": null,
   "metadata": {},
   "outputs": [],
   "source": [
    "print(f\"Geometric score: {get_geometric_score(ground_truth_map, agent_map)}\")\n",
    "print(f\"Rocks score: {get_rocks_score(ground_truth_map, agent_map)}\")"
   ]
  },
  {
   "cell_type": "code",
   "execution_count": null,
   "metadata": {},
   "outputs": [],
   "source": [
    "plot_rock_map(ground_truth_map)"
   ]
  },
  {
   "cell_type": "code",
   "execution_count": null,
   "metadata": {},
   "outputs": [],
   "source": [
    "plot_rock_map(agent_map)"
   ]
  },
  {
   "cell_type": "code",
   "execution_count": null,
   "metadata": {},
   "outputs": [],
   "source": [
    "ground_truth_map_points = ground_truth_map[:, :, :3].reshape(-1, 3)\n",
    "agent_map_points = agent_map[:, :, :3].reshape(-1, 3)\n",
    "\n",
    "fig = plot_3d_points(ground_truth_map_points, color=\"blue\", name=\"Ground Truth\")\n",
    "fig = plot_3d_points(agent_map_points, fig=fig, color=\"red\", name=\"Agent Map\")\n",
    "fig.update_layout(height=900, width=1600, scene_aspectmode=\"data\")\n",
    "fig.show()"
   ]
  },
  {
   "cell_type": "markdown",
   "metadata": {},
   "source": [
    "# Inspect rock points\n"
   ]
  },
  {
   "cell_type": "code",
   "execution_count": null,
   "metadata": {},
   "outputs": [],
   "source": [
    "data_path = \"../../output/nav_agent\"\n",
    "rock_points = np.load(f\"{data_path}/rock_points.npy\")"
   ]
  },
  {
   "cell_type": "code",
   "execution_count": null,
   "metadata": {},
   "outputs": [],
   "source": [
    "fig = plot_3d_points(rock_points)\n",
    "fig.update_layout(height=700, width=1200, scene_aspectmode=\"data\")\n",
    "fig.show()"
   ]
  },
  {
   "cell_type": "code",
   "execution_count": null,
   "metadata": {},
   "outputs": [],
   "source": [
    "import os\n",
    "\n",
    "cams_geoms = json.load(open(os.path.expanduser(\"~/LunarAutonomyChallenge/docs/geometry.json\")))[\n",
    "    \"rover\"\n",
    "][\"cameras\"]\n",
    "cams_geoms[\"FrontLeft\"]"
   ]
  },
  {
   "cell_type": "code",
   "execution_count": null,
   "metadata": {},
   "outputs": [],
   "source": []
  }
 ],
 "metadata": {
  "kernelspec": {
   "display_name": "lac",
   "language": "python",
   "name": "python3"
  },
  "language_info": {
   "codemirror_mode": {
    "name": "ipython",
    "version": 3
   },
   "file_extension": ".py",
   "mimetype": "text/x-python",
   "name": "python",
   "nbconvert_exporter": "python",
   "pygments_lexer": "ipython3",
   "version": "3.10.15"
  }
 },
 "nbformat": 4,
 "nbformat_minor": 2
}
