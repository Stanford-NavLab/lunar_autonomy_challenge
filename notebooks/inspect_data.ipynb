{
 "cells": [
  {
   "cell_type": "markdown",
   "metadata": {},
   "source": [
    "# Inspect data\n"
   ]
  },
  {
   "cell_type": "code",
   "execution_count": null,
   "metadata": {},
   "outputs": [],
   "source": [
    "import sys\n",
    "import os\n",
    "import numpy as np\n",
    "import plotly.graph_objects as go\n",
    "import json\n",
    "import matplotlib.pyplot as plt\n",
    "\n",
    "sys.path.append(os.path.abspath(\"../../Leaderboard/\"))\n",
    "\n",
    "from leaderboard.autoagents.autonomous_agent import AutonomousAgent\n",
    "from leaderboard.agents.geometric_map import GeometricMap\n",
    "from leaderboard.utils.constants import Constants\n",
    "\n",
    "from lac.mapping.mapper import Mapper, interpolate_heights, grid_to_points\n",
    "from lac.mapping.map_utils import get_geometric_score\n",
    "from lac.utils.plotting import plot_poses, plot_3d_points, plot_surface\n",
    "from lac.util import load_data, pos_rpy_to_pose\n",
    "\n",
    "%load_ext autoreload\n",
    "%autoreload 2"
   ]
  },
  {
   "cell_type": "markdown",
   "metadata": {},
   "source": [
    "### Load data\n"
   ]
  },
  {
   "cell_type": "code",
   "execution_count": null,
   "metadata": {},
   "outputs": [],
   "source": [
    "data_path = \"../../output/LocalizationAgent/map1_preset0_4m_spiral\"\n",
    "# data_path = \"../../output/NavAgent/map1_preset9_seed2_nofid\"\n",
    "# data_path = \"../../output/Old/LocalizationAgent_spiral_norocks\"\n",
    "initial_pose, lander_pose, poses, imu_data, cam_config = load_data(data_path)\n",
    "print(f\"Loaded {len(poses)} poses\")\n",
    "ekf_result = np.load(f\"{data_path}/ekf_result.npz\")"
   ]
  },
  {
   "cell_type": "markdown",
   "metadata": {},
   "source": [
    "### Inspect poses\n"
   ]
  },
  {
   "cell_type": "code",
   "execution_count": null,
   "metadata": {},
   "outputs": [],
   "source": [
    "ekf_poses = []\n",
    "for state in ekf_result[\"xhat_smooth\"]:\n",
    "    ekf_poses.append(pos_rpy_to_pose(state[0:3], state[6:9]))"
   ]
  },
  {
   "cell_type": "code",
   "execution_count": null,
   "metadata": {},
   "outputs": [],
   "source": [
    "fig = plot_poses(poses[::10], color=\"blue\", no_axes=True, name=\"Ground Truth\")\n",
    "fig = plot_poses(ekf_poses[::10], fig=fig, color=\"orange\", no_axes=True, name=\"EKF\")\n",
    "fig.show()"
   ]
  },
  {
   "cell_type": "markdown",
   "metadata": {},
   "source": [
    "### Inspect odometry\n"
   ]
  },
  {
   "cell_type": "code",
   "execution_count": null,
   "metadata": {},
   "outputs": [],
   "source": [
    "json_data = json.load(open(f\"{data_path}/data_log.json\"))\n",
    "N = len(json_data[\"frames\"])\n",
    "wheel_odoms = np.zeros((N, 2))\n",
    "for i, frame in enumerate(json_data[\"frames\"]):\n",
    "    wheel_odoms[i] = [frame[\"linear_speed\"], frame[\"angular_speed\"]]"
   ]
  },
  {
   "cell_type": "markdown",
   "metadata": {},
   "source": [
    "### Inspect maps\n"
   ]
  },
  {
   "cell_type": "code",
   "execution_count": null,
   "metadata": {},
   "outputs": [],
   "source": [
    "# mapper = Mapper()\n",
    "constants = Constants(qualifier=True, testing=False)\n",
    "g_map = GeometricMap(constants)\n",
    "mapper = Mapper(g_map)\n",
    "mapper.wheel_contact_update(ekf_poses)\n",
    "m1 = g_map.get_map_array()\n",
    "mapper.finalize_heights()\n",
    "m2 = g_map.get_map_array()"
   ]
  },
  {
   "cell_type": "code",
   "execution_count": null,
   "metadata": {},
   "outputs": [],
   "source": [
    "height_array = g_map.get_map_array()\n",
    "height_array_interpolated = interpolate_heights(height_array)"
   ]
  },
  {
   "cell_type": "code",
   "execution_count": null,
   "metadata": {},
   "outputs": [],
   "source": [
    "fig = plot_3d_points(grid_to_points(height_array_interpolated), color=\"blue\")\n",
    "fig = plot_3d_points(grid_to_points(height_array), fig=fig, color=\"red\")\n",
    "fig.update_layout(height=700, width=1200, scene_aspectmode=\"data\")\n",
    "fig.show()"
   ]
  },
  {
   "cell_type": "code",
   "execution_count": null,
   "metadata": {},
   "outputs": [],
   "source": [
    "get_geometric_score(height_array, height_array_interpolated)"
   ]
  },
  {
   "cell_type": "code",
   "execution_count": null,
   "metadata": {},
   "outputs": [],
   "source": [
    "ground_truth_map = np.load(f\"{data_path}/Moon_Map_02_11_rep0.dat\", allow_pickle=True)\n",
    "agent_map = np.load(f\"{data_path}/Moon_Map_02_11_rep0_agent.dat\", allow_pickle=True)"
   ]
  },
  {
   "cell_type": "code",
   "execution_count": null,
   "metadata": {},
   "outputs": [],
   "source": [
    "plot_surface(ground_truth_map)"
   ]
  },
  {
   "cell_type": "code",
   "execution_count": null,
   "metadata": {},
   "outputs": [],
   "source": [
    "plot_surface(agent_map)"
   ]
  },
  {
   "cell_type": "code",
   "execution_count": null,
   "metadata": {},
   "outputs": [],
   "source": [
    "get_geometric_score(ground_truth_map, agent_map)"
   ]
  },
  {
   "cell_type": "code",
   "execution_count": null,
   "metadata": {},
   "outputs": [],
   "source": [
    "get_geometric_score(ground_truth_map, height_array)"
   ]
  },
  {
   "cell_type": "code",
   "execution_count": null,
   "metadata": {},
   "outputs": [],
   "source": [
    "get_geometric_score(ground_truth_map, height_array_interpolated)"
   ]
  },
  {
   "cell_type": "code",
   "execution_count": null,
   "metadata": {},
   "outputs": [],
   "source": [
    "ground_truth_map_points = ground_truth_map[:, :, :3].reshape(-1, 3)\n",
    "agent_map_points = agent_map[:, :, :3].reshape(-1, 3)\n",
    "\n",
    "fig = plot_3d_points(ground_truth_map_points, color=\"blue\", name=\"Ground Truth\")\n",
    "fig = plot_3d_points(agent_map_points, fig=fig, color=\"red\", name=\"Agent Map\")\n",
    "fig.update_layout(height=900, width=1600, scene_aspectmode=\"data\")\n",
    "fig.show()"
   ]
  },
  {
   "cell_type": "markdown",
   "metadata": {},
   "source": [
    "# Inspect rock points\n"
   ]
  },
  {
   "cell_type": "code",
   "execution_count": null,
   "metadata": {},
   "outputs": [],
   "source": [
    "data_path = \"../../output/nav_agent\"\n",
    "rock_points = np.load(f\"{data_path}/rock_points.npy\")"
   ]
  },
  {
   "cell_type": "code",
   "execution_count": null,
   "metadata": {},
   "outputs": [],
   "source": [
    "fig = plot_3d_points(rock_points)\n",
    "fig.update_layout(height=700, width=1200, scene_aspectmode=\"data\")\n",
    "fig.show()"
   ]
  },
  {
   "cell_type": "code",
   "execution_count": null,
   "metadata": {},
   "outputs": [],
   "source": [
    "import os\n",
    "\n",
    "cams_geoms = json.load(open(os.path.expanduser(\"~/LunarAutonomyChallenge/docs/geometry.json\")))[\n",
    "    \"rover\"\n",
    "][\"cameras\"]\n",
    "cams_geoms[\"FrontLeft\"]"
   ]
  },
  {
   "cell_type": "code",
   "execution_count": null,
   "metadata": {},
   "outputs": [],
   "source": []
  }
 ],
 "metadata": {
  "kernelspec": {
   "display_name": "lac",
   "language": "python",
   "name": "python3"
  },
  "language_info": {
   "codemirror_mode": {
    "name": "ipython",
    "version": 3
   },
   "file_extension": ".py",
   "mimetype": "text/x-python",
   "name": "python",
   "nbconvert_exporter": "python",
   "pygments_lexer": "ipython3",
   "version": "3.10.16"
  }
 },
 "nbformat": 4,
 "nbformat_minor": 2
}
